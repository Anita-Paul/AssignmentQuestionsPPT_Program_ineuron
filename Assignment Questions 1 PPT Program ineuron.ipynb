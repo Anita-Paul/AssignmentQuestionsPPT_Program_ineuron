{
 "cells": [
  {
   "cell_type": "markdown",
   "id": "8a3534ce",
   "metadata": {},
   "source": [
    "# Question1 "
   ]
  },
  {
   "cell_type": "markdown",
   "id": "778366a2",
   "metadata": {},
   "source": [
    "# Given an array of integers nums and an integer target, return indices of the two numbers such that they add up to target.\n",
    "\n",
    "You may assume that each input would have exactly one solution, and you may not use the same element twice.\n",
    "\n",
    "You can return the answer in any order.\n",
    "\n",
    "**Example:**\n",
    "Input: nums = [2,7,11,15], target = 9\n",
    "Output0 [0,1]"
   ]
  },
  {
   "cell_type": "markdown",
   "id": "ca048605",
   "metadata": {},
   "source": [
    "# Algorithm\n",
    "1. Initialize two pointers, left and right, pointing to the start and end of the array, respectively.\n",
    "2. While left is less than right, do the following:\n",
    "    Calculate the sum of the elements at indices left and right: sum = nums[left] + nums[right].\n",
    "    If sum is equal to the target, return the indices [left, right].\n",
    "    If sum is less than the target, increment left by 1.\n",
    "    If sum is greater than the target, decrement right by 1.\n",
    "3. If no solution is found, return an empty array or an appropriate indicator.\n"
   ]
  },
  {
   "cell_type": "code",
   "execution_count": 3,
   "id": "67677a84",
   "metadata": {},
   "outputs": [],
   "source": [
    "def twoSum(nums, target):\n",
    "    complement_map = {}\n",
    "    \n",
    "    \n",
    "    for i, num in enumerate(nums):\n",
    "        complement = target - num\n",
    "        \n",
    "        if complement in complement_map:\n",
    "            return [complement_map[complement], i]\n",
    "        \n",
    "        complement_map[num] = i\n",
    "    \n",
    "    return []\n"
   ]
  },
  {
   "cell_type": "code",
   "execution_count": 4,
   "id": "1eabcde0",
   "metadata": {},
   "outputs": [
    {
     "name": "stdout",
     "output_type": "stream",
     "text": [
      "[0, 1]\n"
     ]
    }
   ],
   "source": [
    "nums = [2, 7, 11, 15]\n",
    "target = 9\n",
    "result = twoSum(nums, target)\n",
    "print(result)"
   ]
  },
  {
   "cell_type": "markdown",
   "id": "1a335348",
   "metadata": {},
   "source": [
    "# Question2"
   ]
  },
  {
   "cell_type": "markdown",
   "id": "d71302d8",
   "metadata": {},
   "source": [
    "# Given an integer array nums and an integer val, remove all occurrences of val in nums in-place. The order of the elements may be changed. Then return the number of elements in nums which are not equal to val.\n",
    "\n",
    "Consider the number of elements in nums which are not equal to val be k, to get accepted, you need to do the following things:\n",
    "- Change the array nums such that the first k elements of nums contain the elements which are not equal to val. The remaining elements of nums are not important as well as the size of nums.\n",
    "-Return k.\n",
    "\n",
    "Example :\n",
    "Input: nums = [3,2,2,3], val = 3\n",
    "Output: 2, nums = [2,2,_,_]"
   ]
  },
  {
   "cell_type": "markdown",
   "id": "cd61d207",
   "metadata": {},
   "source": [
    "# Algorithm\n",
    "1. Initialize two pointers, slow and fast, both pointing to the start of the array.\n",
    "2. While fast is less than the length of the array, do the following:\n",
    "\n",
    "    If the value at nums[fast] is not equal to val, set nums[slow] to the value at nums[fast] and increment slow by 1.\n",
    "    Increment fast by 1.\n",
    "\n",
    "3. The value of slow represents the count of elements that are not equal to val.\n",
    "4. Modify the remaining elements after slow to val "
   ]
  },
  {
   "cell_type": "code",
   "execution_count": 5,
   "id": "e88e13bc",
   "metadata": {},
   "outputs": [],
   "source": [
    "def removeElement(nums, val):\n",
    "    i = 0\n",
    "    for j in range(len(nums)):\n",
    "        if nums[j] != val:\n",
    "            nums[i] = nums[j]\n",
    "            i += 1\n",
    "    \n",
    "    return i\n"
   ]
  },
  {
   "cell_type": "code",
   "execution_count": 6,
   "id": "932358ac",
   "metadata": {},
   "outputs": [
    {
     "name": "stdout",
     "output_type": "stream",
     "text": [
      "2\n",
      "[2, 2, '_', '_']\n"
     ]
    }
   ],
   "source": [
    "nums = [3, 2, 2, 3]\n",
    "val = 3\n",
    "k = removeElement(nums, val)\n",
    "print(k)\n",
    "print(nums[:k] + ['_'] * (len(nums) - k))"
   ]
  },
  {
   "cell_type": "markdown",
   "id": "7e1422df",
   "metadata": {},
   "source": [
    "# Question 3"
   ]
  },
  {
   "cell_type": "markdown",
   "id": "fc2ea41e",
   "metadata": {},
   "source": [
    "# Given a sorted array of distinct integers and a target value, return the index if the target is found. If not, return the index where it would be if it were inserted in order.\n",
    "You must write an algorithm with O(log n) runtime complexity.\n",
    "Example 1:\n",
    "Input: nums = [1,3,5,6], target = 5\n",
    "output: 2"
   ]
  },
  {
   "cell_type": "markdown",
   "id": "2e4a3b0a",
   "metadata": {},
   "source": [
    "# Algorithm\n",
    "    1.Initialize two pointers, left and right, pointing to the start and end of the array, respectively.\n",
    "    2.While left is less than or equal to right, do the following:\n",
    "        Calculate the middle index as mid using the formula: mid = (left + right) // 2.\n",
    "        If the value at nums[mid] is equal to the target, return mid.\n",
    "        If the value at nums[mid] is less than the target, update left = mid + 1.\n",
    "        If the value at nums[mid] is greater than the target, update right = mid - 1.\n",
    "    3.If the target is not found in the array, return the left index. This index represents the position where the target would be inserted in order.\n",
    "    4.The above steps cover both cases of finding the index of the target or the index where it would be inserted."
   ]
  },
  {
   "cell_type": "code",
   "execution_count": 8,
   "id": "0fc2a828",
   "metadata": {},
   "outputs": [],
   "source": [
    "def searchInsert(nums, target):\n",
    "    left = 0\n",
    "    right = len(nums) - 1\n",
    "    index = len(nums)     \n",
    "    while left <= right:\n",
    "        mid = left + (right - left) // 2        \n",
    "        if nums[mid] == target:\n",
    "            return mid \n",
    "        if nums[mid] < target:\n",
    "            left = mid + 1\n",
    "        else:\n",
    "            index = mid  \n",
    "            right = mid - 1\n",
    "    return index  "
   ]
  },
  {
   "cell_type": "code",
   "execution_count": 9,
   "id": "924f0bf9",
   "metadata": {},
   "outputs": [
    {
     "name": "stdout",
     "output_type": "stream",
     "text": [
      "2\n"
     ]
    }
   ],
   "source": [
    "nums = [1, 3, 5, 6]\n",
    "target = 5\n",
    "index = searchInsert(nums, target)\n",
    "print(index)"
   ]
  },
  {
   "cell_type": "markdown",
   "id": "968eecf8",
   "metadata": {},
   "source": [
    "# Question 4"
   ]
  },
  {
   "cell_type": "markdown",
   "id": "9373d3f8",
   "metadata": {},
   "source": [
    "# You are given a large integer represented as an integer array digits, where each digits[i] is the ith digit of the integer. The digits are ordered from most significant to least significant in left-to-right order. The large integer does not contain any leading 0's.\n",
    "Increment the large integer by one and return the resulting array of digits.\n",
    "Example 1:\n",
    "Input: digits = [1,2,3]\n",
    "Output: [1,2,4]"
   ]
  },
  {
   "cell_type": "markdown",
   "id": "406d1a97",
   "metadata": {},
   "source": [
    "# Algorithm\n",
    "   1. Initialize a carry variable to 1.\n",
    "   2. Traverse the digits array from right to left:\n",
    "        Add the carry value to the current digit.\n",
    "        Update the digit with the result of the addition modulo 10 (to get the new digit value).\n",
    "        Update the carry by taking the integer division of the sum by 10 (to get the carry value for the next iteration).\n",
    "   3. After the traversal, if there is still a carry value remaining, append it to the front of the digits array.\n",
    "   4. Return the modified digits array."
   ]
  },
  {
   "cell_type": "code",
   "execution_count": 11,
   "id": "1f13d355",
   "metadata": {},
   "outputs": [],
   "source": [
    "def plusOne(digits):\n",
    "    n = len(digits)# Start from the rightmost digit\n",
    "    carry = 1  # Initialize carry to 1 since we want to increment the number\n",
    "    \n",
    "    for i in range(n - 1, -1, -1): \n",
    "        total = digits[i] + carry # Add the carry to the current digit\n",
    "        digits[i] = total % 10 # Update the digit and reset the carry\n",
    "        carry = total // 10  # If there is no more carry, we can stop the iteration\n",
    "        if carry == 0:\n",
    "            break\n",
    "    if carry > 0: # If there is still a carry, insert it at the beginning of the digits array\n",
    "        digits.insert(0, carry)\n",
    "    \n",
    "    return digits\n"
   ]
  },
  {
   "cell_type": "code",
   "execution_count": 12,
   "id": "d7d4492d",
   "metadata": {},
   "outputs": [
    {
     "name": "stdout",
     "output_type": "stream",
     "text": [
      "[1, 2, 4]\n"
     ]
    }
   ],
   "source": [
    "digits = [1, 2, 3]\n",
    "result = plusOne(digits)\n",
    "print(result)"
   ]
  },
  {
   "cell_type": "markdown",
   "id": "c7e83e20",
   "metadata": {},
   "source": [
    "# Question 5"
   ]
  },
  {
   "cell_type": "markdown",
   "id": "d4cfd667",
   "metadata": {},
   "source": [
    "# You are given two integer arrays nums1 and nums2, sorted in non-decreasing order, and two integers m and n, representing the number of elements in nums1 and nums2 respectively.\n",
    "Merge nums1 and nums2 into a single array sorted in non-decreasing order.\n",
    "The final sorted array should not be returned by the function, but instead be stored inside the array nums1. To accommodate this, nums1 has a length of m + n, where the first m elements denote the elements that should be merged, and the last n elements are set to 0 and should be ignored. nums2 has a length of n.\n",
    "Example 1:\n",
    "Input: nums1 = [1,2,3,0,0,0], m = 3, nums2 = [2,5,6], n = 3\n",
    "Output: [1,2,2,3,5,6]"
   ]
  },
  {
   "cell_type": "markdown",
   "id": "27e1feaa",
   "metadata": {},
   "source": [
    "# Algorithm\n",
    "   1. Initialize three pointers: p1 pointing to the last non-zero element in nums1, p2 pointing to the last element in nums2, and p pointing to the last position in nums1.\n",
    "   2. While p2 is greater than or equal to 0, do the following:\n",
    "        If p1 is greater than or equal to 0 and nums1[p1] is greater than nums2[p2], assign nums1[p] with nums1[p1] and decrement p1 by 1.\n",
    "        Otherwise, assign nums1[p] with nums2[p2] and decrement p2 by 1.\n",
    "        Decrement p by 1.\n",
    "   3. If there are remaining elements in nums2 after the above step, copy them to the start of nums1 from p2 to 0.\n",
    "   4. Return nums1."
   ]
  },
  {
   "cell_type": "code",
   "execution_count": 13,
   "id": "025de097",
   "metadata": {},
   "outputs": [],
   "source": [
    "def merge(nums1, m, nums2, n):\n",
    "    # Initialize two pointers for nums1, nums2, and the merged array\n",
    "    p1 = m - 1\n",
    "    p2 = n - 1\n",
    "    p = m + n - 1\n",
    "\n",
    "    # Merge the arrays from the end\n",
    "    while p1 >= 0 and p2 >= 0:\n",
    "        if nums1[p1] <= nums2[p2]:\n",
    "            nums1[p] = nums2[p2]\n",
    "            p2 -= 1\n",
    "        else:\n",
    "            nums1[p] = nums1[p1]\n",
    "            p1 -= 1\n",
    "        p -= 1\n",
    "\n",
    "    # If there are remaining elements in nums2, place them in nums1\n",
    "    while p2 >= 0:\n",
    "        nums1[p] = nums2[p2]\n",
    "        p2 -= 1\n",
    "        p -= 1\n",
    "\n",
    "    # nums1 is updated in place with the merged sorted array\n",
    "    return nums1\n"
   ]
  },
  {
   "cell_type": "code",
   "execution_count": 14,
   "id": "5218de1c",
   "metadata": {},
   "outputs": [
    {
     "name": "stdout",
     "output_type": "stream",
     "text": [
      "[1, 2, 2, 3, 5, 6]\n"
     ]
    }
   ],
   "source": [
    "nums1 = [1, 2, 3, 0, 0, 0]\n",
    "m = 3\n",
    "nums2 = [2, 5, 6]\n",
    "n = 3\n",
    "\n",
    "result = merge(nums1, m, nums2, n)\n",
    "print(result)"
   ]
  },
  {
   "cell_type": "markdown",
   "id": "f9a15c52",
   "metadata": {},
   "source": [
    "# Question 6"
   ]
  },
  {
   "cell_type": "markdown",
   "id": "47e018e2",
   "metadata": {},
   "source": [
    "# Given an integer array nums, return true if any value appears at least twice in the array, and return false if every element is distinct.\n",
    "**Example 1:**\n",
    "Input: nums = [1,2,3,1]\n",
    "Output: true"
   ]
  },
  {
   "cell_type": "markdown",
   "id": "c4cdf459",
   "metadata": {},
   "source": [
    "# Algorithm\n",
    "    1.Initialize an empty set.\n",
    "    2.Iterate through each element num in nums:\n",
    "        If num is already in the set, return True as it appears at least twice.\n",
    "        Otherwise, add num to the set.\n",
    "    3.Return False if the loop completes without finding any duplicates."
   ]
  },
  {
   "cell_type": "code",
   "execution_count": 15,
   "id": "c352e7f3",
   "metadata": {},
   "outputs": [],
   "source": [
    "def containsDuplicate(nums):\n",
    "    seen = set()\n",
    "    \n",
    "    for num in nums:\n",
    "        if num in seen:\n",
    "            return True\n",
    "        seen.add(num)\n",
    "    \n",
    "    return False\n"
   ]
  },
  {
   "cell_type": "code",
   "execution_count": 16,
   "id": "9ce1e312",
   "metadata": {},
   "outputs": [
    {
     "name": "stdout",
     "output_type": "stream",
     "text": [
      "True\n"
     ]
    }
   ],
   "source": [
    "nums = [1, 2, 3, 1]\n",
    "result = containsDuplicate(nums)\n",
    "print(result)"
   ]
  },
  {
   "cell_type": "markdown",
   "id": "a454ed80",
   "metadata": {},
   "source": [
    "# Question 7"
   ]
  },
  {
   "cell_type": "markdown",
   "id": "ac912793",
   "metadata": {},
   "source": [
    "# Given an integer array nums, move all 0's to the end of it while maintaining the relative order of the nonzero elements.\n",
    "Note that you must do this in-place without making a copy of the array.\n",
    "Example 1:\n",
    "Input: nums = [0,1,0,3,12]\n",
    "Output: [1,3,12,0,0]"
   ]
  },
  {
   "cell_type": "markdown",
   "id": "8769c176",
   "metadata": {},
   "source": [
    "# Algorithm\n",
    "   1. Initialize a variable nextNonZero to 0.\n",
    "   2. Iterate through each element num in nums:\n",
    "        If num is not equal to 0, assign nums[nextNonZero] with num and increment nextNonZero by 1.\n",
    "   3. After the iteration, from the current value of nextNonZero to the end of the array, assign each element with 0.\n",
    "        This step ensures that all remaining elements after nextNonZero are set to 0.\n",
    "   4. Return the modified nums array."
   ]
  },
  {
   "cell_type": "code",
   "execution_count": 17,
   "id": "e6e90cd9",
   "metadata": {},
   "outputs": [],
   "source": [
    "def moveZeroes(nums):\n",
    "    n = len(nums)\n",
    "    nextNonZeroIndex = 0\n",
    "    \n",
    "    # Traverse the array and place non-zero elements at their appropriate positions\n",
    "    for i in range(n):\n",
    "        if nums[i] != 0:\n",
    "            nums[nextNonZeroIndex] = nums[i]\n",
    "            nextNonZeroIndex += 1\n",
    "    \n",
    "    # Fill the remaining positions with zeros\n",
    "    for i in range(nextNonZeroIndex, n):\n",
    "        nums[i] = 0\n",
    "    \n",
    "    return nums\n"
   ]
  },
  {
   "cell_type": "code",
   "execution_count": 18,
   "id": "b9d3b5e4",
   "metadata": {},
   "outputs": [
    {
     "name": "stdout",
     "output_type": "stream",
     "text": [
      "[1, 3, 12, 0, 0]\n"
     ]
    }
   ],
   "source": [
    "nums = [0, 1, 0, 3, 12]\n",
    "result = moveZeroes(nums)\n",
    "print(result)"
   ]
  },
  {
   "cell_type": "markdown",
   "id": "8260e5a7",
   "metadata": {},
   "source": [
    "# Question 8"
   ]
  },
  {
   "cell_type": "markdown",
   "id": "0e2506cb",
   "metadata": {},
   "source": [
    "# You have a set of integers s, which originally contains all the numbers from 1 to n. Unfortunately, due to some error, one of the numbers in s got duplicated to another number in the set, which results in repetition of one number and loss of another number.\n",
    "\n",
    "You are given an integer array nums representing the data status of this set after the error.\n",
    "Find the number that occurs twice and the number that is missing and return them in the form of an array.\n",
    "Example 1:\n",
    "Input: nums = [1,2,2,4]\n",
    "Output: [2,3]"
   ]
  },
  {
   "cell_type": "markdown",
   "id": "9d8d21f6",
   "metadata": {},
   "source": [
    "# Algorithm\n",
    "   1. Initialize a variable xor_result to 0.\n",
    "   2. Iterate through each element num in nums:\n",
    "        XOR num with its corresponding index (i.e., num - 1).\n",
    "        Assign the result to xor_result.\n",
    "   3. Set a variable diff_bit to the rightmost set bit in xor_result using the expression diff_bit = xor_result & -xor_result.\n",
    "        This step finds the rightmost bit where the missing number and duplicate number differ.\n",
    "   4. Initialize two variables missing and duplicate to 0.\n",
    "   5. Iterate through each element num in nums:\n",
    "        If (num & diff_bit) == 0, XOR num with missing.\n",
    "        Otherwise, XOR num with duplicate.\n",
    "   6. Iterate through each number i from 1 to n:\n",
    "        If (i & diff_bit) == 0, XOR i with missing.\n",
    "        Otherwise, XOR i with duplicate.\n",
    "   7. Iterate through each element num in nums:\n",
    "        If num is equal to missing, return [missing, duplicate].\n",
    "    8. Return [duplicate, missing]."
   ]
  },
  {
   "cell_type": "code",
   "execution_count": 19,
   "id": "84a028d8",
   "metadata": {},
   "outputs": [],
   "source": [
    "def findErrorNums(nums):\n",
    "    n = len(nums)\n",
    "    num_set = set()\n",
    "    duplicate = -1\n",
    "    total_sum = (n * (n + 1)) // 2\n",
    "    actual_sum = 0\n",
    "    \n",
    "    for num in nums:\n",
    "        actual_sum += num\n",
    "        if num in num_set:\n",
    "            duplicate = num\n",
    "        else:\n",
    "            num_set.add(num)\n",
    "    \n",
    "    missing = total_sum - (actual_sum - duplicate)\n",
    "    \n",
    "    return [duplicate, missing]"
   ]
  },
  {
   "cell_type": "code",
   "execution_count": 20,
   "id": "4b02ff20",
   "metadata": {},
   "outputs": [
    {
     "name": "stdout",
     "output_type": "stream",
     "text": [
      "[2, 3]\n"
     ]
    }
   ],
   "source": [
    "nums = [1, 2, 2, 4]\n",
    "result = findErrorNums(nums)\n",
    "print(result)"
   ]
  },
  {
   "cell_type": "code",
   "execution_count": null,
   "id": "6df3b188",
   "metadata": {},
   "outputs": [],
   "source": []
  }
 ],
 "metadata": {
  "kernelspec": {
   "display_name": "Python 3 (ipykernel)",
   "language": "python",
   "name": "python3"
  },
  "language_info": {
   "codemirror_mode": {
    "name": "ipython",
    "version": 3
   },
   "file_extension": ".py",
   "mimetype": "text/x-python",
   "name": "python",
   "nbconvert_exporter": "python",
   "pygments_lexer": "ipython3",
   "version": "3.9.7"
  }
 },
 "nbformat": 4,
 "nbformat_minor": 5
}
