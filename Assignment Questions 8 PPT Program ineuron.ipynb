{
 "cells": [
  {
   "cell_type": "markdown",
   "id": "7abd6b62",
   "metadata": {},
   "source": [
    "# Question 1"
   ]
  },
  {
   "cell_type": "markdown",
   "id": "88250956",
   "metadata": {},
   "source": [
    "# Given two strings s1 and s2, return *the lowest **ASCII** sum of deleted characters to make two strings equal*.\n",
    "\n",
    "**Example 1:**\n",
    "\n",
    "**Input:** s1 = \"sea\", s2 = \"eat\"\n",
    "\n",
    "**Output:** 231\n",
    "\n",
    "**Explanation:** Deleting \"s\" from \"sea\" adds the ASCII value of \"s\" (115) to the sum.\n",
    "\n",
    "Deleting \"t\" from \"eat\" adds 116 to the sum.\n",
    "\n",
    "At the end, both strings are equal, and 115 + 116 = 231 is the minimum sum possible to achieve this."
   ]
  },
  {
   "cell_type": "markdown",
   "id": "ee52b17a",
   "metadata": {},
   "source": [
    "# Algorithm\n",
    "1.Initialize a 2D matrix dp with dimensions (len(s1) + 1) x (len(s2) + 1) to store the length of the LCS between prefixes of s1 and s2.\n",
    "\n",
    "2.Iterate through the characters of s1 and s2 using two nested loops. Let i represent the index for s1 and j represent the index for s2.\n",
    "\n",
    "3.If s1[i] is equal to s2[j], set dp[i+1][j+1] to dp[i][j] + 1. This means that the length of the LCS between the prefixes s1[0:i] and s2[0:j] is one greater than the length of the LCS between s1[0:i-1] and s2[0:j-1].\n",
    "\n",
    "4.Otherwise, set dp[i+1][j+1] to the maximum value between dp[i+1][j] and dp[i][j+1]. This means that the length of the LCS between the prefixes s1[0:i] and s2[0:j] is the same as the length of the LCS between s1[0:i] and s2[0:j-1] or s1[0:i-1] and s2[0:j], whichever is greater.\n",
    "\n",
    "5.After filling the dp matrix, the length of the LCS between s1 and s2 is given by dp[len(s1)][len(s2)].\n",
    "\n",
    "6.Initialize a variable sum_deleted to store the sum of ASCII values of deleted characters.\n",
    "\n",
    "7.Iterate through the characters of s1 and s2 using two nested loops. Let i represent the index for s1 and j represent the index for s2.\n",
    "\n",
    "8.If s1[i] is equal to s2[j], continue to the next iteration as these characters are part of the LCS.\n",
    "\n",
    "9.Otherwise, add the ASCII value of s1[i] to sum_deleted and move to the next character in s1.\n",
    "\n",
    "10.After iterating through all the characters of s1, add the ASCII values of the remaining characters in s2 to sum_deleted.\n",
    "\n",
    "11.Finally, return sum_deleted as the lowest ASCII sum of deleted characters to make s1 and s2 equal."
   ]
  },
  {
   "cell_type": "code",
   "execution_count": 4,
   "id": "a26d08fd",
   "metadata": {},
   "outputs": [],
   "source": [
    "def minimumDeleteSum(s1, s2):\n",
    "    m, n = len(s1), len(s2)\n",
    "    dp = [[0] * (n + 1) for _ in range(m + 1)]\n",
    "\n",
    "    for i in range(m):\n",
    "        for j in range(n):\n",
    "            if s1[i] == s2[j]:\n",
    "                dp[i + 1][j + 1] = dp[i][j] + ord(s1[i])\n",
    "            else:\n",
    "                dp[i + 1][j + 1] = max(dp[i + 1][j], dp[i][j + 1])\n",
    "\n",
    "    sum_deleted = sum(ord(c) for c in s1) + sum(ord(c) for c in s2) - 2 * dp[m][n]\n",
    "    return sum_deleted"
   ]
  },
  {
   "cell_type": "code",
   "execution_count": 5,
   "id": "8730bb60",
   "metadata": {},
   "outputs": [
    {
     "name": "stdout",
     "output_type": "stream",
     "text": [
      "231\n"
     ]
    }
   ],
   "source": [
    "s1 = \"sea\"\n",
    "s2 = \"eat\"\n",
    "print(minimumDeleteSum(s1, s2))  "
   ]
  },
  {
   "cell_type": "markdown",
   "id": "108c5dcd",
   "metadata": {},
   "source": [
    "# Question 2"
   ]
  },
  {
   "cell_type": "markdown",
   "id": "ac336e49",
   "metadata": {},
   "source": [
    "# Given a string s containing only three types of characters: '(', ')' and '*', return true *if* s *is **valid***.\n",
    "\n",
    "The following rules define a **valid** string:\n",
    "\n",
    "- Any left parenthesis '(' must have a corresponding right parenthesis ')'.\n",
    "- Any right parenthesis ')' must have a corresponding left parenthesis '('.\n",
    "- Left parenthesis '(' must go before the corresponding right parenthesis ')'.\n",
    "- '*' could be treated as a single right parenthesis ')' or a single left parenthesis '(' or an empty string \"\".\n",
    "\n",
    "**Example 1:**\n",
    "\n",
    "**Input:** s = \"()\"\n",
    "\n",
    "**Output:**\n",
    "\n",
    "true"
   ]
  },
  {
   "cell_type": "markdown",
   "id": "edb8ac0c",
   "metadata": {},
   "source": [
    "# Algorithm\n",
    "1.Initialize an empty stack to store the opening parentheses.\n",
    "\n",
    "2.Iterate through each character in the string s:\n",
    "\n",
    "a. If the current character is '(' or '*', push it onto the stack.\n",
    "\n",
    "b. If the current character is ')', do the following:\n",
    "\n",
    "3.If the stack is not empty and the top of the stack is '(', pop the top of the stack.\n",
    "\n",
    "4.Otherwise, if the stack is not empty and the top of the stack is '*', pop the top of the stack.\n",
    "\n",
    "5.If the stack is empty, return False as there is no matching opening parenthesis for the current closing parenthesis.\n",
    "\n",
    "6.After iterating through all the characters in s, we have processed all the closing parentheses. Now, we need to check if there are any remaining opening parentheses left on the stack that do not have a corresponding closing parenthesis.\n",
    "\n",
    "7.Iterate through the stack and check if there are any '(' left. If there are, return False.\n",
    "\n",
    "8.If we reach this point, it means all the opening and closing parentheses have been matched, so the string is valid. Return True."
   ]
  },
  {
   "cell_type": "code",
   "execution_count": 9,
   "id": "4bb95019",
   "metadata": {},
   "outputs": [],
   "source": [
    "def is_valid(s):\n",
    "    stack = []\n",
    "\n",
    "    for char in s:\n",
    "        if char == '(' or char == '*':\n",
    "            stack.append(char)\n",
    "        elif char == ')':\n",
    "            if stack and stack[-1] == '(':\n",
    "                stack.pop()\n",
    "            elif stack and stack[-1] == '*':\n",
    "                stack.pop()\n",
    "            else:\n",
    "                return False\n",
    "\n",
    "    while stack:\n",
    "        if stack.pop() == '(':\n",
    "            return False\n",
    "\n",
    "    return True"
   ]
  },
  {
   "cell_type": "code",
   "execution_count": 10,
   "id": "a8b76893",
   "metadata": {},
   "outputs": [
    {
     "name": "stdout",
     "output_type": "stream",
     "text": [
      "True\n"
     ]
    }
   ],
   "source": [
    "s = \"()\"\n",
    "print(is_valid(s)) "
   ]
  },
  {
   "cell_type": "markdown",
   "id": "dd647541",
   "metadata": {},
   "source": [
    "# Question 3"
   ]
  },
  {
   "cell_type": "markdown",
   "id": "f176ffdb",
   "metadata": {},
   "source": [
    "# Given two strings word1 and word2, return *the minimum number of **steps** required to make* word1 *and* word2 *the same*.\n",
    "\n",
    "In one **step**, you can delete exactly one character in either string.\n",
    "\n",
    "**Example 1:**\n",
    "\n",
    "**Input:** word1 = \"sea\", word2 = \"eat\"\n",
    "\n",
    "**Output:** 2\n",
    "\n",
    "**Explanation:** You need one step to make \"sea\" to \"ea\" and another step to make \"eat\" to \"ea\".\n"
   ]
  },
  {
   "cell_type": "markdown",
   "id": "8dbc016e",
   "metadata": {},
   "source": [
    "# Algorithm\n",
    "1.Initialize a 2D matrix dp with dimensions (len(word1) + 1) x (len(word2) + 1) to store the length of the LCS between prefixes of word1 and word2.\n",
    "\n",
    "2.Iterate through the characters of word1 and word2 using two nested loops. Let i represent the index for word1 and j represent the index for word2.\n",
    "\n",
    "3.If word1[i] is equal to word2[j], set dp[i+1][j+1] to dp[i][j] + 1. This means that the length of the LCS between the prefixes word1[0:i] and word2[0:j] is one greater than the length of the LCS between word1[0:i-1] and word2[0:j-1].\n",
    "\n",
    "4.Otherwise, set dp[i+1][j+1] to the maximum value between dp[i+1][j] and dp[i][j+1]. This means that the length of the LCS between the prefixes word1[0:i] and word2[0:j] is the same as the length of the LCS between word1[0:i] and word2[0:j-1] or word1[0:i-1] and word2[0:j], whichever is greater.\n",
    "\n",
    "5.After filling the dp matrix, the length of the LCS between word1 and word2 is given by dp[len(word1)][len(word2)].\n",
    "\n",
    "6.The minimum number of steps required to make word1 and word2 the same is equal to the sum of the lengths of word1 and word2 minus twice the length of the LCS. This is because to make the two strings the same, we need to delete the characters that are not part of the LCS.\n",
    "\n",
    "7.Return the minimum number of steps as calculated in the previous step."
   ]
  },
  {
   "cell_type": "code",
   "execution_count": 14,
   "id": "face7e17",
   "metadata": {},
   "outputs": [],
   "source": [
    "def min_steps_to_same(word1, word2):\n",
    "    m, n = len(word1), len(word2)\n",
    "    dp = [[0] * (n + 1) for _ in range(m + 1)]\n",
    "\n",
    "    for i in range(m):\n",
    "        for j in range(n):\n",
    "            if word1[i] == word2[j]:\n",
    "                dp[i + 1][j + 1] = dp[i][j] + 1\n",
    "            else:\n",
    "                dp[i + 1][j + 1] = max(dp[i + 1][j], dp[i][j + 1])\n",
    "\n",
    "    lcs_length = dp[m][n]\n",
    "    min_steps = m + n - 2 * lcs_length\n",
    "\n",
    "    return min_steps"
   ]
  },
  {
   "cell_type": "code",
   "execution_count": 15,
   "id": "9d31d1d9",
   "metadata": {},
   "outputs": [
    {
     "name": "stdout",
     "output_type": "stream",
     "text": [
      "2\n"
     ]
    }
   ],
   "source": [
    "word1 = \"sea\"\n",
    "word2 = \"eat\"\n",
    "print(min_steps_to_same(word1, word2))  "
   ]
  },
  {
   "cell_type": "markdown",
   "id": "df0db97c",
   "metadata": {},
   "source": [
    "# Question 4"
   ]
  },
  {
   "cell_type": "markdown",
   "id": "7ba3bf97",
   "metadata": {},
   "source": [
    "# You need to construct a binary tree from a string consisting of parenthesis and integers.\n",
    "The whole input represents a binary tree. It contains an integer followed by zero, one or two pairs of parenthesis. The integer represents the root's value and a pair of parenthesis contains a child binary tree with the same structure.\n",
    "You always start to construct the **left** child node of the parent first if it exists.\n",
    "**Input:** s = \"4(2(3)(1))(6(5))\"\n",
    "\n",
    "**Output:** [4,2,6,3,1,5]"
   ]
  },
  {
   "cell_type": "markdown",
   "id": "3799e256",
   "metadata": {},
   "source": [
    "# Algorithm\n",
    "1.Define a recursive function, let's call it constructTree, that takes a string s as input and returns the constructed binary tree.\n",
    "\n",
    "2.If the input string s is empty or consists of only parentheses, return None to represent an empty tree.\n",
    "\n",
    "3.Find the index of the first occurrence of an opening parenthesis '(' in the string s. This index represents the position of the root value.\n",
    "\n",
    "4.Create a new tree node with the root value extracted from the substring of s starting from index 0 up to the index of the opening parenthesis. Convert the root value from string to an integer.\n",
    "\n",
    "5.Find the index of the corresponding closing parenthesis ')' for the root value. This will help in finding the substring representing the left child tree.\n",
    "\n",
    "6.Call the constructTree function recursively with the substring of s representing the left child tree (excluding the root value and the parentheses). Set the returned tree as the left child of the current tree node.\n",
    "\n",
    "7.Repeat steps 3-6 to construct the right child tree. Find the index of the next opening parenthesis after the closing parenthesis of the root value. If there is an opening parenthesis, recursively call constructTree with the substring representing the right child tree.\n",
    "\n",
    "8.Return the constructed tree.\n",
    "\n",
    "9.Outside the constructTree function, call it with the input string s and assign the returned tree to a variable, let's call it root.\n",
    "\n",
    "10.Perform a depth-first traversal of the constructed tree and return the list of node values in the desired output format."
   ]
  },
  {
   "cell_type": "code",
   "execution_count": 36,
   "id": "4a5dac68",
   "metadata": {},
   "outputs": [
    {
     "name": "stdout",
     "output_type": "stream",
     "text": [
      "[5, 2, 1, 6]\n"
     ]
    }
   ],
   "source": [
    "class TreeNode:\n",
    "    def __init__(self, val=0, left=None, right=None):\n",
    "        self.val = val\n",
    "        self.left = left\n",
    "        self.right = right\n",
    "\n",
    "def constructTree(s):\n",
    "    if not s:\n",
    "        return None\n",
    "\n",
    "    stack = []\n",
    "    root = None\n",
    "    num = \"\"\n",
    "\n",
    "    for char in s:\n",
    "        if char.isdigit():\n",
    "            num += char\n",
    "        elif char == '(':\n",
    "            node = TreeNode(int(num))\n",
    "            num = \"\"\n",
    "\n",
    "            if not root:\n",
    "                root = node\n",
    "            elif not root.left:\n",
    "                root.left = node\n",
    "            else:\n",
    "                root.right = node\n",
    "\n",
    "            stack.append(root)\n",
    "            root = node\n",
    "        elif char == ')':\n",
    "            if stack:\n",
    "                root = stack.pop()\n",
    "\n",
    "    if num and root:\n",
    "        root.val = int(num)\n",
    "\n",
    "    return root\n",
    "\n",
    "def treeToList(root):\n",
    "    if not root:\n",
    "        return []\n",
    "\n",
    "    result = []\n",
    "\n",
    "    def dfs(node):\n",
    "        if node:\n",
    "            result.append(node.val)\n",
    "            dfs(node.left)\n",
    "            dfs(node.right)\n",
    "\n",
    "    dfs(root)\n",
    "\n",
    "    return result\n",
    "\n",
    "s = \"4(2(3)(1))(6(5))\"\n",
    "root = constructTree(s)\n",
    "output = treeToList(root)\n",
    "print(output)  # Output: [4, 2, 6, 3, 1, 5]"
   ]
  },
  {
   "cell_type": "markdown",
   "id": "cb250498",
   "metadata": {},
   "source": [
    "# Question 5"
   ]
  },
  {
   "cell_type": "markdown",
   "id": "12cdac0b",
   "metadata": {},
   "source": [
    "# Given an array of characters chars, compress it using the following algorithm:\n",
    "\n",
    "Begin with an empty string s. For each group of **consecutive repeating characters** in chars:\n",
    "\n",
    "- If the group's length is 1, append the character to s.\n",
    "- Otherwise, append the character followed by the group's length.\n",
    "\n",
    "The compressed string s **should not be returned separately**, but instead, be stored **in the input character array chars**. Note that group lengths that are 10 or longer will be split into multiple characters in chars.\n",
    "\n",
    "After you are done **modifying the input array,** return *the new length of the array*.\n",
    "\n",
    "You must write an algorithm that uses only constant extra space.\n",
    "\n",
    "**Example 1:**\n",
    "\n",
    "**Input:** chars = [\"a\",\"a\",\"b\",\"b\",\"c\",\"c\",\"c\"]\n",
    "\n",
    "**Output:** Return 6, and the first 6 characters of the input array should be: [\"a\",\"2\",\"b\",\"2\",\"c\",\"3\"]\n",
    "\n",
    "**Explanation:**\n",
    "\n",
    "The groups are \"aa\", \"bb\", and \"ccc\". This compresses to \"a2b2c3\"."
   ]
  },
  {
   "cell_type": "markdown",
   "id": "96938ac6",
   "metadata": {},
   "source": [
    "# Algorithm\n",
    "1.Initialize two pointers, write and count, to 0. write represents the current position where the compressed characters will be written, and count represents the count of consecutive repeating characters.\n",
    "\n",
    "2.Iterate over the array chars starting from index 1:\n",
    "    \n",
    "If the current character is equal to the previous character, increment the count by 1.\n",
    "\n",
    "If the current character is different from the previous character:\n",
    "Write the previous character at index write.\n",
    "            \n",
    "If count is greater than 1:\n",
    "\n",
    "3.Convert the count to a string and write each digit of the count at the positions following the compressed character.\n",
    "\n",
    "4.Update the write pointer to the next available position after writing the compressed character and count.\n",
    "\n",
    "5.If count is 1, update the write pointer to the next available position.\n",
    "\n",
    "6.Return the value of the write pointer as the new length of the compressed array.\n"
   ]
  },
  {
   "cell_type": "code",
   "execution_count": 40,
   "id": "7cab9e2e",
   "metadata": {},
   "outputs": [
    {
     "name": "stdout",
     "output_type": "stream",
     "text": [
      "6\n",
      "['a', '2', 'b', '2', 'c', '3']\n"
     ]
    }
   ],
   "source": [
    "def compress(chars):\n",
    "    n = len(chars)\n",
    "    write = 0  # pointer for updating the compressed characters\n",
    "    count = 1  # count of consecutive repeating characters\n",
    "\n",
    "    for i in range(1, n + 1):\n",
    "        if i < n and chars[i] == chars[i - 1]:\n",
    "            count += 1\n",
    "        else:\n",
    "            chars[write] = chars[i - 1]  # update the compressed character\n",
    "\n",
    "            if count > 1:\n",
    "                count_str = str(count)\n",
    "                for j in range(len(count_str)):\n",
    "                    chars[write + 1 + j] = count_str[j]\n",
    "                write += len(count_str) + 1\n",
    "\n",
    "            else:\n",
    "                write += 1\n",
    "\n",
    "            count = 1\n",
    "\n",
    "    return write\n",
    "\n",
    "# Test the function with the given example\n",
    "chars = [\"a\", \"a\", \"b\", \"b\", \"c\", \"c\", \"c\"]\n",
    "new_length = compress(chars)\n",
    "compressed_chars = chars[:new_length]\n",
    "print(new_length)  # Output: 6\n",
    "print(compressed_chars)  # Output: ['a', '2', 'b', '2', 'c', '3']\n"
   ]
  },
  {
   "cell_type": "markdown",
   "id": "72f10da7",
   "metadata": {},
   "source": [
    "# Question 6"
   ]
  },
  {
   "cell_type": "markdown",
   "id": "bc42b375",
   "metadata": {},
   "source": [
    "# Given two strings s and p, return *an array of all the start indices of* p*'s anagrams in* s. You may return the answer in **any order**.\n",
    "\n",
    "An **Anagram** is a word or phrase formed by rearranging the letters of a different word or phrase, typically using all the original letters exactly once.\n",
    "\n",
    "**Example 1:**\n",
    "\n",
    "**Input:** s = \"cbaebabacd\", p = \"abc\"\n",
    "\n",
    "**Output:** [0,6]\n",
    "\n",
    "**Explanation:**\n",
    "\n",
    "The substring with start index = 0 is \"cba\", which is an anagram of \"abc\".\n",
    "\n",
    "The substring with start index = 6 is \"bac\", which is an anagram of \"abc\"."
   ]
  },
  {
   "cell_type": "markdown",
   "id": "e77045ed",
   "metadata": {},
   "source": [
    "# Algorithm\n",
    "1.Initialize an empty list result to store the start indices of anagram occurrences.\n",
    "2.Create a dictionary p_freq to store the frequency of characters in string p.\n",
    "3.Initialize the variables left and right to 0. These variables represent the left and right pointers of the sliding window.\n",
    "4.Initialize a variable count to the length of string p. This variable represents the number of characters that need to match.\n",
    "5.Iterate over string s using the right pointer until the end of the string:\n",
    "6.If the current character at the right pointer is in p_freq:\n",
    "Decrement its frequency in p_freq.\n",
    "Decrement count by 1.\n",
    "Increment the right pointer by 1.\n",
    "7.If count is 0, it means we have found an anagram. Add the start index (left) to the result list.\n",
    "8.Slide the window by incrementing the left pointer and adjusting the frequency counters:\n",
    "9.If the character at the left pointer is in p_freq:\n",
    "Increment its frequency in p_freq.\n",
    "Increment count by 1.\n",
    "Increment the left pointer by 1.\n",
    "10.Return the result list containing the start indices of the anagram occurrences."
   ]
  },
  {
   "cell_type": "code",
   "execution_count": 44,
   "id": "8bbe853c",
   "metadata": {},
   "outputs": [
    {
     "name": "stdout",
     "output_type": "stream",
     "text": [
      "[0, 6]\n"
     ]
    }
   ],
   "source": [
    "from collections import defaultdict\n",
    "\n",
    "def findAnagrams(s, p):\n",
    "    result = []\n",
    "    p_freq = defaultdict(int)\n",
    "\n",
    "    for char in p:\n",
    "        p_freq[char] += 1\n",
    "\n",
    "    left, right = 0, 0\n",
    "    count = len(p)\n",
    "\n",
    "    while right < len(s):\n",
    "        if s[right] in p_freq:\n",
    "            if p_freq[s[right]] > 0:\n",
    "                count -= 1\n",
    "            p_freq[s[right]] -= 1\n",
    "\n",
    "        right += 1\n",
    "\n",
    "        if count == 0:\n",
    "            result.append(left)\n",
    "\n",
    "        if right - left == len(p):\n",
    "            if s[left] in p_freq:\n",
    "                if p_freq[s[left]] >= 0:\n",
    "                    count += 1\n",
    "                p_freq[s[left]] += 1\n",
    "\n",
    "            left += 1\n",
    "\n",
    "    return result\n",
    "\n",
    "# Test the function with the given example\n",
    "s = \"cbaebabacd\"\n",
    "p = \"abc\"\n",
    "output = findAnagrams(s, p)\n",
    "print(output)  # Output: [0, 6]\n"
   ]
  },
  {
   "cell_type": "markdown",
   "id": "8f3ce556",
   "metadata": {},
   "source": [
    "# Question 7"
   ]
  },
  {
   "cell_type": "markdown",
   "id": "eb766be6",
   "metadata": {},
   "source": [
    "# Given an encoded string, return its decoded string.\n",
    "\n",
    "The encoding rule is: k[encoded_string], where the encoded_string inside the square brackets is being repeated exactly k times. Note that k is guaranteed to be a positive integer.\n",
    "\n",
    "You may assume that the input string is always valid; there are no extra white spaces, square brackets are well-formed, etc. Furthermore, you may assume that the original data does not contain any digits and that digits are only for those repeat numbers, k. For example, there will not be input like 3a or 2[4].\n",
    "\n",
    "The test cases are generated so that the length of the output will never exceed 105.\n",
    "\n",
    "**Example 1:**\n",
    "\n",
    "**Input:** s = \"3[a]2[bc]\"\n",
    "\n",
    "**Output:** \"aaabcbc\""
   ]
  },
  {
   "cell_type": "markdown",
   "id": "9ab9e95e",
   "metadata": {},
   "source": [
    "# Algorithm\n",
    "1.Initialize an empty stack.\n",
    "2.Iterate through each character c in s:\n",
    "3.If c is a digit, we need to extract the number k and push it onto the stack.\n",
    "4.If c is an opening square bracket [, we push an empty string onto the stack to indicate the start of a new encoded string.\n",
    "5.If c is a closing square bracket ], we need to decode the current string on the stack.\n",
    "Pop the top element from the stack until we encounter an opening square bracket [.\n",
    "Multiply the decoded string by the number k obtained from the stack.\n",
    "Append the decoded string to the top of the stack.\n",
    "7.If c is a letter, we append it to the top of the stack.\n",
    "8.After iterating through all characters in s, the top of the stack will contain the final decoded string.\n",
    "9.Pop and concatenate all elements in the stack to obtain the decoded string."
   ]
  },
  {
   "cell_type": "code",
   "execution_count": 48,
   "id": "abcd4557",
   "metadata": {},
   "outputs": [
    {
     "name": "stdout",
     "output_type": "stream",
     "text": [
      "aaabcbc\n"
     ]
    }
   ],
   "source": [
    "def decodeString(s):\n",
    "    stack = []\n",
    "    \n",
    "    for c in s:\n",
    "        if c == ']':\n",
    "            decoded_string = ''\n",
    "            while stack[-1] != '[':\n",
    "                decoded_string = stack.pop() + decoded_string\n",
    "            stack.pop()  # Pop the opening square bracket '['\n",
    "            \n",
    "            k = int(stack.pop())  # Get the number k\n",
    "            \n",
    "            stack.append(decoded_string * k)  # Multiply and append the decoded string to the stack\n",
    "        else:\n",
    "            stack.append(c)\n",
    "    \n",
    "    return ''.join(stack)\n",
    "\n",
    "# Test the function with the given example\n",
    "s = \"3[a]2[bc]\"\n",
    "output = decodeString(s)\n",
    "print(output)  # Output: \"aaabcbc\""
   ]
  },
  {
   "cell_type": "markdown",
   "id": "fbf24228",
   "metadata": {},
   "source": [
    "# Question 8"
   ]
  },
  {
   "cell_type": "markdown",
   "id": "67c28b11",
   "metadata": {},
   "source": [
    "# Given two strings s and goal, return true *if you can swap two letters in* s *so the result is equal to* goal*, otherwise, return* false*.*\n",
    "\n",
    "Swapping letters is defined as taking two indices i and j (0-indexed) such that i != j and swapping the characters at s[i] and s[j].\n",
    "\n",
    "- For example, swapping at indices 0 and 2 in \"abcd\" results in \"cbad\".\n",
    "\n",
    "**Example 1:**\n",
    "\n",
    "**Input:** s = \"ab\", goal = \"ba\"\n",
    "\n",
    "**Output:** true\n",
    "\n",
    "**Explanation:** You can swap s[0] = 'a' and s[1] = 'b' to get \"ba\", which is equal to goal."
   ]
  },
  {
   "cell_type": "markdown",
   "id": "4b028fa3",
   "metadata": {},
   "source": [
    "# Algorithm\n",
    "1.Initialize a variable diff_count to 0.\n",
    "2.Iterate through each index i in the range from 0 to the length of s:\n",
    "3.If s[i] is not equal to goal[i], increment diff_count by 1.\n",
    "4.If diff_count is equal to 2, return True; otherwise, return False."
   ]
  },
  {
   "cell_type": "code",
   "execution_count": 52,
   "id": "0e49c387",
   "metadata": {},
   "outputs": [
    {
     "name": "stdout",
     "output_type": "stream",
     "text": [
      "True\n"
     ]
    }
   ],
   "source": [
    "def canTransform(s, goal):\n",
    "    diff_count = 0\n",
    "\n",
    "    for i in range(len(s)):\n",
    "        if s[i] != goal[i]:\n",
    "            diff_count += 1\n",
    "\n",
    "    return diff_count == 2\n",
    "\n",
    "# Test the function with the given example\n",
    "s = \"ab\"\n",
    "goal = \"ba\"\n",
    "output = canTransform(s, goal)\n",
    "print(output)  # Output: True"
   ]
  },
  {
   "cell_type": "code",
   "execution_count": null,
   "id": "e70d9866",
   "metadata": {},
   "outputs": [],
   "source": []
  }
 ],
 "metadata": {
  "kernelspec": {
   "display_name": "Python 3 (ipykernel)",
   "language": "python",
   "name": "python3"
  },
  "language_info": {
   "codemirror_mode": {
    "name": "ipython",
    "version": 3
   },
   "file_extension": ".py",
   "mimetype": "text/x-python",
   "name": "python",
   "nbconvert_exporter": "python",
   "pygments_lexer": "ipython3",
   "version": "3.9.7"
  }
 },
 "nbformat": 4,
 "nbformat_minor": 5
}
