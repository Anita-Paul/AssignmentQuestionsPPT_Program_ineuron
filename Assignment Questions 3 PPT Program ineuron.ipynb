{
 "cells": [
  {
   "cell_type": "markdown",
   "id": "fe5ab81c",
   "metadata": {},
   "source": [
    "# Question 1"
   ]
  },
  {
   "cell_type": "markdown",
   "id": "1a4ae5b7",
   "metadata": {},
   "source": [
    "# Given an integer array nums of length n and an integer target, find three integers\n",
    "in nums such that the sum is closest to the target.\n",
    "Return the sum of the three integers.\n",
    "\n",
    "You may assume that each input would have exactly one solution.\n",
    "\n",
    "Example 1:\n",
    "Input: nums = [-1,2,1,-4], target = 1\n",
    "Output: 2"
   ]
  },
  {
   "cell_type": "markdown",
   "id": "e26718fa",
   "metadata": {},
   "source": [
    "# Algorithm\n",
    "    1. Sort the array nums in ascending order. This will allow us to easily manipulate the elements to find the closest sum.\n",
    "    2. Initialize a variable closestSum to keep track of the closest sum encountered so far. Set it to a large value initially.\n",
    "    3. Iterate over the array nums from the beginning to the third-to-last element:\n",
    "    4. Within this iteration, initialize two pointers, left and right, which will point to elements on the right side of the current element.\n",
    "    5. While the left pointer is smaller than the right pointer:\n",
    "        Calculate the current sum by adding the values at indices i, left, and right: currentSum = nums[i] + nums[left] + nums[right].\n",
    "        Check if the absolute difference between the currentSum and the target is smaller than the absolute difference between the closestSum and the target. If so, update closestSum to currentSum.\n",
    "        If the currentSum is greater than the target, decrement the right pointer to explore smaller values.\n",
    "        If the currentSum is smaller than the target, increment the left pointer to explore larger values.\n",
    "        If the currentSum is equal to the target, return target as the closest sum since it cannot be improved upon.\n",
    "    6.After the iteration, return closestSum as the sum of the three integers closest to the target."
   ]
  },
  {
   "cell_type": "code",
   "execution_count": 1,
   "id": "6e8726fb",
   "metadata": {},
   "outputs": [],
   "source": [
    "def threeSumClosest(nums, target):\n",
    "    nums.sort()\n",
    "    n = len(nums)\n",
    "    closestSum = float('inf')\n",
    "\n",
    "    for i in range(n - 2):\n",
    "        left = i + 1\n",
    "        right = n - 1\n",
    "\n",
    "        while left < right:\n",
    "            currentSum = nums[i] + nums[left] + nums[right]\n",
    "            if currentSum == target:\n",
    "                return target\n",
    "\n",
    "            if abs(currentSum - target) < abs(closestSum - target):\n",
    "                closestSum = currentSum\n",
    "\n",
    "            if currentSum > target:\n",
    "                right -= 1\n",
    "            else:\n",
    "                left += 1\n",
    "\n",
    "    return closestSum\n"
   ]
  },
  {
   "cell_type": "code",
   "execution_count": 2,
   "id": "f4ba8494",
   "metadata": {},
   "outputs": [
    {
     "name": "stdout",
     "output_type": "stream",
     "text": [
      "2\n"
     ]
    }
   ],
   "source": [
    "nums = [-1, 2, 1, -4]\n",
    "target = 1\n",
    "\n",
    "print(threeSumClosest(nums, target))"
   ]
  },
  {
   "cell_type": "markdown",
   "id": "ecca908f",
   "metadata": {},
   "source": [
    "# Question 2"
   ]
  },
  {
   "cell_type": "markdown",
   "id": "dcfff23f",
   "metadata": {},
   "source": [
    "# Given an array nums of n integers, return an array of all the unique quadruplets\n",
    "[nums[a], nums[b], nums[c], nums[d]] such that:\n",
    "           ● 0 <= a, b, c, d < n\n",
    "           ● a, b, c, and d are distinct.\n",
    "           ● nums[a] + nums[b] + nums[c] + nums[d] == target\n",
    "\n",
    "You may return the answer in any order.\n",
    "\n",
    "Example 1:\n",
    "Input: nums = [1,0,-1,0,-2,2], target = 0\n",
    "Output: [[-2,-1,1,2],[-2,0,0,2],[-1,0,0,1]]"
   ]
  },
  {
   "cell_type": "markdown",
   "id": "793c25f5",
   "metadata": {},
   "source": [
    "# Algorithm\n",
    "    1.Sort the array nums in ascending order. This will help us avoid duplicates and simplify the process.\n",
    "    2.Initialize an empty list result to store the unique quadruplets.\n",
    "    3.Iterate over the array nums from the beginning to the fourth-to-last element:\n",
    "    4.. Check if the current element is equal to the previous element. If so, skip the current iteration to avoid duplicates.\n",
    "    5.. Within this iteration, iterate over the array nums starting from the element following the first iteration to the fifth-to-last element:\n",
    "        Check if the current element is equal to the previous element. If so, skip the current iteration to avoid duplicates.\n",
    "        Initialize two pointers, left and right, which will point to elements on the right side of the current two elements.\n",
    "        While the left pointer is smaller than the right pointer:\n",
    "            Calculate the current sum by adding the values at indices i, j, left, and right: currentSum = nums[i] + nums[j] + nums[left] + nums[right].\n",
    "            If the currentSum is equal to the target, add the quadruplet [nums[i], nums[j], nums[left], nums[right]] to the result list.\n",
    "            If the currentSum is greater than the target, decrement the right pointer to explore smaller values.\n",
    "            If the currentSum is smaller than the target, increment the left pointer to explore larger values.\n",
    "    6.After the iterations, return the result list containing all the unique quadruplets."
   ]
  },
  {
   "cell_type": "code",
   "execution_count": 3,
   "id": "b3134422",
   "metadata": {},
   "outputs": [],
   "source": [
    "def fourSum(nums, target):\n",
    "    nums.sort() #Sort the array nums in ascending order.\n",
    "    n = len(nums)\n",
    "    result = [] #Initialize an empty list result\n",
    "\n",
    "    for i in range(n - 3):\n",
    "        if i > 0 and nums[i] == nums[i - 1]:\n",
    "            continue\n",
    "\n",
    "        for j in range(i + 1, n - 2):\n",
    "            if j > i + 1 and nums[j] == nums[j - 1]:\n",
    "                continue\n",
    "\n",
    "            left = j + 1\n",
    "            right = n - 1\n",
    "\n",
    "            while left < right:\n",
    "                currentSum = nums[i] + nums[j] + nums[left] + nums[right]\n",
    "                if currentSum == target:\n",
    "                    result.append([nums[i], nums[j], nums[left], nums[right]])\n",
    "\n",
    "                    while left < right and nums[left] == nums[left + 1]:\n",
    "                        left += 1\n",
    "                    while left < right and nums[right] == nums[right - 1]:\n",
    "                        right -= 1\n",
    "\n",
    "                    left += 1\n",
    "                    right -= 1\n",
    "                elif currentSum < target:\n",
    "                    left += 1\n",
    "                else:\n",
    "                    right -= 1\n",
    "\n",
    "    return result"
   ]
  },
  {
   "cell_type": "code",
   "execution_count": 4,
   "id": "9c4a0ed6",
   "metadata": {},
   "outputs": [
    {
     "name": "stdout",
     "output_type": "stream",
     "text": [
      "[[-2, -1, 1, 2], [-2, 0, 0, 2], [-1, 0, 0, 1]]\n"
     ]
    }
   ],
   "source": [
    "nums = [1, 0, -1, 0, -2, 2]\n",
    "target = 0\n",
    "\n",
    "print(fourSum(nums, target))"
   ]
  },
  {
   "cell_type": "markdown",
   "id": "454b8590",
   "metadata": {},
   "source": [
    "# Question 3"
   ]
  },
  {
   "cell_type": "markdown",
   "id": "13cdb946",
   "metadata": {},
   "source": [
    "# A permutation of an array of integers is an arrangement of its members into a sequence or linear order.\n",
    "\n",
    "For example, for arr = [1,2,3], the following are all the permutations of arr:\n",
    "[1,2,3], [1,3,2], [2, 1, 3], [2, 3, 1], [3,1,2], [3,2,1].\n",
    "\n",
    "The next permutation of an array of integers is the next lexicographically greater\n",
    "permutation of its integer. More formally, if all the permutations of the array are\n",
    "sorted in one container according to their lexicographical order, then the next\n",
    "permutation of that array is the permutation that follows it in the sorted container.\n",
    "If such an arrangement is not possible, the array must be rearranged as the\n",
    "lowest possible order (i.e., sorted in ascending order).\n",
    "\n",
    "● For example, the next permutation of arr = [1,2,3] is [1,3,2].\n",
    "● Similarly, the next permutation of arr = [2,3,1] is [3,1,2].\n",
    "● While the next permutation of arr = [3,2,1] is [1,2,3] because [3,2,1] does not\n",
    "have a lexicographical larger rearrangement.\n",
    "\n",
    "Given an array of integers nums, find the next permutation of nums.\n",
    "The replacement must be in place and use only constant extra memory.\n",
    "\n",
    "Example 1:\n",
    "Input: nums = [1,2,3]\n",
    "Output: [1,3,2]"
   ]
  },
  {
   "cell_type": "markdown",
   "id": "d84bcd36",
   "metadata": {},
   "source": [
    "# Algorithm\n",
    "   1. Start from the rightmost element of the array and move towards the left until we find a pair of adjacent elements where the left element is smaller than the right element. Let's call the index of the left element i.\n",
    "   2.If no such pair is found, it means the given permutation is the highest possible order. In this case, we need to rearrange the array to its lowest possible order, which is the sorted array in ascending order. We can achieve this by reversing the entire array.\n",
    "    3.If a pair is found in step 1, we need to find the next lexicographically greater permutation.\n",
    "        Starting from the right end of the array, find the first element that is greater than the element at index i. Let's call this index j.\n",
    "        Swap the elements at indices i and j.\n",
    "        Reverse the subarray from index i+1 to the end of the array.\n",
    "   4. After performing steps 2 or 3, the array nums will represent the next permutation."
   ]
  },
  {
   "cell_type": "code",
   "execution_count": 5,
   "id": "6e4cd998",
   "metadata": {},
   "outputs": [],
   "source": [
    "def nextPermutation(nums):\n",
    "    n = len(nums)\n",
    "    i = n - 2\n",
    "\n",
    "    while i >= 0 and nums[i] >= nums[i + 1]:\n",
    "        i -= 1\n",
    "\n",
    "    if i >= 0:\n",
    "        j = n - 1\n",
    "        while j > i and nums[j] <= nums[i]:\n",
    "            j -= 1\n",
    "        nums[i], nums[j] = nums[j], nums[i]\n",
    "\n",
    "    left = i + 1\n",
    "    right = n - 1\n",
    "    while left < right:\n",
    "        nums[left], nums[right] = nums[right], nums[left]\n",
    "        left += 1\n",
    "        right -= 1"
   ]
  },
  {
   "cell_type": "code",
   "execution_count": 6,
   "id": "2884f8b6",
   "metadata": {},
   "outputs": [
    {
     "name": "stdout",
     "output_type": "stream",
     "text": [
      "[1, 3, 2]\n"
     ]
    }
   ],
   "source": [
    "nums = [1, 2, 3]\n",
    "nextPermutation(nums)\n",
    "print(nums)"
   ]
  },
  {
   "cell_type": "markdown",
   "id": "48c6e708",
   "metadata": {},
   "source": [
    "# Question 4"
   ]
  },
  {
   "cell_type": "markdown",
   "id": "b406a41a",
   "metadata": {},
   "source": [
    "# Given a sorted array of distinct integers and a target value, return the index if the target is found. If not, return the index where it would be if it were inserted in order.\n",
    "\n",
    "You must write an algorithm with O(log n) runtime complexity.\n",
    "\n",
    "Example 1:\n",
    "Input: nums = [1,3,5,6], target = 5\n",
    "Output: 2"
   ]
  },
  {
   "cell_type": "markdown",
   "id": "edc7a55b",
   "metadata": {},
   "source": [
    "# Alglorithm\n",
    "    1.Initialize two pointers, left and right, pointing to the start and end of the array respectively.\n",
    "    2.While left is less than or equal to right:\n",
    "     Calculate the middle index as mid = (left + right) // 2.\n",
    "    3.Compare the value at index mid with the target value:\n",
    "        If nums[mid] is equal to the target, return mid as the index where the target is found.\n",
    "        If nums[mid] is greater than the target, update right to mid - 1 to search in the left half of the array.\n",
    "        If nums[mid] is less than the target, update left to mid + 1 to search in the right half of the array.\n",
    "    4. If the target is not found in the array, return left as the index where it would be inserted."
   ]
  },
  {
   "cell_type": "code",
   "execution_count": 8,
   "id": "63e0a53e",
   "metadata": {},
   "outputs": [],
   "source": [
    "def searchInsert(nums, target):\n",
    "    left = 0\n",
    "    right = len(nums) - 1\n",
    "\n",
    "    while left <= right:\n",
    "        mid = (left + right) // 2\n",
    "        if nums[mid] == target:\n",
    "            return mid\n",
    "        elif nums[mid] < target:\n",
    "            left = mid + 1\n",
    "        else:\n",
    "            right = mid - 1\n",
    "\n",
    "    return left"
   ]
  },
  {
   "cell_type": "code",
   "execution_count": 9,
   "id": "e691a91c",
   "metadata": {},
   "outputs": [
    {
     "name": "stdout",
     "output_type": "stream",
     "text": [
      "2\n"
     ]
    }
   ],
   "source": [
    "nums = [1, 3, 5, 6]\n",
    "target = 5\n",
    "print(searchInsert(nums, target))"
   ]
  },
  {
   "cell_type": "markdown",
   "id": "ed8a4fdd",
   "metadata": {},
   "source": [
    "# Question 5"
   ]
  },
  {
   "cell_type": "markdown",
   "id": "c100f3f2",
   "metadata": {},
   "source": [
    "# You are given a large integer represented as an integer array digits, where each digits[i] is the ith digit of the integer. The digits are ordered from most significant to least significant in left-to-right order. The large integer does not contain any leading 0's.\n",
    "\n",
    "Increment the large integer by one and return the resulting array of digits.\n",
    "\n",
    "Example 1:\n",
    "Input: digits = [1,2,3]\n",
    "Output: [1,2,4]"
   ]
  },
  {
   "cell_type": "markdown",
   "id": "3bfe7b71",
   "metadata": {},
   "source": [
    "# Algorithm\n",
    "    1.Start from the least significant digit (rightmost digit) and move towards the most significant digit (leftmost digit).\n",
    "    2.Initialize a carry variable as 1, representing the carry when incrementing the least significant digit.\n",
    "    3.Iterate over the digits array from right to left:\n",
    "        Add the current digit with the carry.\n",
    "        Calculate the new digit by taking the sum modulo 10.\n",
    "        Update the carry by taking the sum divided by 10.\n",
    "        Update the current digit in the array with the new digit.\n",
    "        If the carry becomes zero, we can stop iterating since there is no need to carry over to the next digit.\n",
    "    4.After the iteration, if the carry is still non-zero, it means we need to add an additional digit at the most significant position. Append the carry to the beginning of the digits array.\n",
    "    5.Return the modified digits array."
   ]
  },
  {
   "cell_type": "code",
   "execution_count": 10,
   "id": "8220bcb0",
   "metadata": {},
   "outputs": [],
   "source": [
    "def plusOne(digits):\n",
    "    n = len(digits)\n",
    "    carry = 1\n",
    "\n",
    "    for i in range(n - 1, -1, -1):\n",
    "        digits[i] += carry\n",
    "        carry = digits[i] // 10\n",
    "        digits[i] %= 10\n",
    "\n",
    "        if carry == 0:\n",
    "            break\n",
    "\n",
    "    if carry != 0:\n",
    "        digits.insert(0, carry)\n",
    "\n",
    "    return digits"
   ]
  },
  {
   "cell_type": "code",
   "execution_count": 11,
   "id": "89a8026e",
   "metadata": {},
   "outputs": [
    {
     "name": "stdout",
     "output_type": "stream",
     "text": [
      "[1, 2, 4]\n"
     ]
    }
   ],
   "source": [
    "digits = [1, 2, 3]\n",
    "print(plusOne(digits))"
   ]
  },
  {
   "cell_type": "markdown",
   "id": "d70d87d1",
   "metadata": {},
   "source": [
    "# Question 6"
   ]
  },
  {
   "cell_type": "markdown",
   "id": "e44993ee",
   "metadata": {},
   "source": [
    "# Given a non-empty array of integers nums, every element appears twice except for one. Find that single one.\n",
    "You must implement a solution with a linear runtime complexity and use only\n",
    "constant extra space.\n",
    "\n",
    "Example 1:\n",
    "Input: nums = [2,2,1]\n",
    "Output: 1"
   ]
  },
  {
   "cell_type": "markdown",
   "id": "5a02476f",
   "metadata": {},
   "source": []
  },
  {
   "cell_type": "code",
   "execution_count": 13,
   "id": "54281196",
   "metadata": {},
   "outputs": [],
   "source": [
    "def singleNumber(nums):\n",
    "    result = 0\n",
    "    for num in nums:\n",
    "        result ^= num #^ XOR operation\n",
    "    return result"
   ]
  },
  {
   "cell_type": "code",
   "execution_count": 14,
   "id": "75d79187",
   "metadata": {},
   "outputs": [
    {
     "name": "stdout",
     "output_type": "stream",
     "text": [
      "1\n"
     ]
    }
   ],
   "source": [
    "nums = [2, 2, 1]\n",
    "print(singleNumber(nums))"
   ]
  },
  {
   "cell_type": "markdown",
   "id": "651db29f",
   "metadata": {},
   "source": [
    "# Question 7"
   ]
  },
  {
   "cell_type": "markdown",
   "id": "fda6e314",
   "metadata": {},
   "source": [
    "# You are given an inclusive range [lower, upper] and a sorted unique integer array\n",
    "nums, where all elements are within the inclusive range.\n",
    "A number x is considered missing if x is in the range [lower, upper] and x is not in\n",
    "nums.\n",
    "Return the shortest sorted list of ranges that exactly covers all the missing\n",
    "numbers. That is, no element of nums is included in any of the ranges, and each\n",
    "missing number is covered by one of the ranges.\n",
    "\n",
    "Example 1:\n",
    "Input: nums = [0,1,3,50,75], lower = 0, upper = 99\n",
    "Output: [[2,2],[4,49],[51,74],[76,99]]\n"
   ]
  },
  {
   "cell_type": "markdown",
   "id": "b8bd27bc",
   "metadata": {},
   "source": [
    "# Algorithm\n",
    "    1.Initialize an empty list result to store the ranges.\n",
    "    2.Initialize a variable start to lower, representing the start of the current range.\n",
    "    3.Iterate over the elements in nums:\n",
    "        If the current element is equal to or greater than start, update start to the next number after the current element.\n",
    "        If the current element is greater than start, there is a missing number in the range [start, current element - 1]. Append this range to the result list.\n",
    "   4. After the iteration, if start is less than or equal to upper, there is a missing number from start to upper. Append this range to the result list.\n",
    "   5. Return the result list."
   ]
  },
  {
   "cell_type": "code",
   "execution_count": 15,
   "id": "b556bc6e",
   "metadata": {},
   "outputs": [],
   "source": [
    "def findMissingRanges(nums, lower, upper):\n",
    "    result = []\n",
    "    start = lower\n",
    "\n",
    "    for num in nums:\n",
    "        if num > start:\n",
    "            result.append([start, num - 1])\n",
    "        start = num + 1\n",
    "\n",
    "    if start <= upper:\n",
    "        result.append([start, upper])\n",
    "\n",
    "    return result"
   ]
  },
  {
   "cell_type": "code",
   "execution_count": 16,
   "id": "2ba44c95",
   "metadata": {},
   "outputs": [
    {
     "name": "stdout",
     "output_type": "stream",
     "text": [
      "[[2, 2], [4, 49], [51, 74], [76, 99]]\n"
     ]
    }
   ],
   "source": [
    "nums = [0, 1, 3, 50, 75]\n",
    "lower = 0\n",
    "upper = 99\n",
    "print(findMissingRanges(nums, lower, upper))"
   ]
  },
  {
   "cell_type": "markdown",
   "id": "54958256",
   "metadata": {},
   "source": [
    "# Question 8"
   ]
  },
  {
   "cell_type": "markdown",
   "id": "196b2582",
   "metadata": {},
   "source": [
    "# Given an array of meeting time intervals where intervals[i] = [starti, endi],\n",
    "determine if a person could attend all meetings.\n",
    "\n",
    "Example 1:\n",
    "Input: intervals = [[0,30],[5,10],[15,20]]\n",
    "Output: false"
   ]
  },
  {
   "cell_type": "markdown",
   "id": "c6615ec0",
   "metadata": {},
   "source": [
    "# Algorithm\n",
    "   1. Sort the intervals based on the start time.\n",
    "   2. Iterate over the sorted intervals starting from the second interval.\n",
    "        If the start time of the current interval is less than or equal to the end time of the previous interval, there is an overlap. Return False.\n",
    "   3.If the iteration completes without finding any overlaps, return True."
   ]
  },
  {
   "cell_type": "code",
   "execution_count": 18,
   "id": "089702dd",
   "metadata": {},
   "outputs": [],
   "source": [
    "def canAttendMeetings(intervals):\n",
    "    intervals.sort(key=lambda x: x[0])\n",
    "\n",
    "    for i in range(1, len(intervals)):\n",
    "        if intervals[i][0] < intervals[i-1][1]:\n",
    "            return False\n",
    "\n",
    "    return True"
   ]
  },
  {
   "cell_type": "code",
   "execution_count": 19,
   "id": "43880f94",
   "metadata": {},
   "outputs": [
    {
     "name": "stdout",
     "output_type": "stream",
     "text": [
      "False\n"
     ]
    }
   ],
   "source": [
    "intervals = [[0, 30], [5, 10], [15, 20]]\n",
    "print(canAttendMeetings(intervals))"
   ]
  },
  {
   "cell_type": "code",
   "execution_count": null,
   "id": "33effa01",
   "metadata": {},
   "outputs": [],
   "source": []
  },
  {
   "cell_type": "code",
   "execution_count": null,
   "id": "73998e6c",
   "metadata": {},
   "outputs": [],
   "source": []
  },
  {
   "cell_type": "code",
   "execution_count": null,
   "id": "c0d91d60",
   "metadata": {},
   "outputs": [],
   "source": []
  }
 ],
 "metadata": {
  "kernelspec": {
   "display_name": "Python 3 (ipykernel)",
   "language": "python",
   "name": "python3"
  },
  "language_info": {
   "codemirror_mode": {
    "name": "ipython",
    "version": 3
   },
   "file_extension": ".py",
   "mimetype": "text/x-python",
   "name": "python",
   "nbconvert_exporter": "python",
   "pygments_lexer": "ipython3",
   "version": "3.9.7"
  }
 },
 "nbformat": 4,
 "nbformat_minor": 5
}
