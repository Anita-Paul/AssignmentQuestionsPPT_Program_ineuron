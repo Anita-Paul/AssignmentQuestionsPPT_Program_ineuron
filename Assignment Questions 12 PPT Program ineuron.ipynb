{
 "cells": [
  {
   "cell_type": "markdown",
   "id": "ce7cfecb",
   "metadata": {},
   "source": [
    "# Question 1"
   ]
  },
  {
   "cell_type": "markdown",
   "id": "52544fe0",
   "metadata": {},
   "source": [
    "# Given a singly linked list, delete **middle** of the linked list. \n",
    "For example, if given linked list is 1->2->**3**->4->5 then linked list should be modified to 1->2->4->5.If there are **even** nodes, then there would be **two middle** nodes, we need to delete the second middle element. \n",
    "For example, if given linked list is 1->2->3->4->5->6 then it should be modified to 1->2->3->5->6.If the input linked list is NULL or has 1 node, then it should return NULL\n",
    "\n",
    "**Example 1:**\n",
    "\n",
    "Input:\n",
    "LinkedList: 1->2->3->4->5\n",
    "Output:1 2 4 5\n",
    "\n",
    "**Example 2:**\n",
    "\n",
    "Input:\n",
    "LinkedList: 2->4->6->7->5->1\n",
    "Output:2 4 6 5 1"
   ]
  },
  {
   "cell_type": "markdown",
   "id": "778e1228",
   "metadata": {},
   "source": [
    "# Algorithm\n",
    "1.If the linked list is empty or has only one node, return None.\n",
    "\n",
    "2.Initialize two pointers, slow and fast, to the head of the linked list.\n",
    "\n",
    "3.Initialize a variable called prev to keep track of the node before the middle node(s). Initialize it to None.\n",
    "\n",
    "4.Traverse the linked list with the fast pointer:\n",
    "\n",
    "5.Move the fast pointer two nodes ahead.\n",
    "    \n",
    "6.If the fast pointer reaches the end of the list, set the next pointer of prev to the next node of slow and update slow to the next node.\n",
    "\n",
    "7.If the fast pointer is not at the end of the list, update prev to the current slow node and move both slow and fast pointers one node ahead."
   ]
  },
  {
   "cell_type": "code",
   "execution_count": 3,
   "id": "4e151bf6",
   "metadata": {},
   "outputs": [],
   "source": [
    "class ListNode:\n",
    "    def __init__(self, val=0, next=None):\n",
    "        self.val = val\n",
    "        self.next = next\n",
    "\n",
    "def deleteMiddleNode(head):\n",
    "    if head is None or head.next is None:\n",
    "        return None\n",
    "    \n",
    "    slow = head\n",
    "    fast = head\n",
    "    prev = None\n",
    "    \n",
    "    while fast is not None and fast.next is not None:\n",
    "        fast = fast.next.next\n",
    "        prev = slow\n",
    "        slow = slow.next\n",
    "    \n",
    "    prev.next = slow.next\n",
    "    \n",
    "    return head"
   ]
  },
  {
   "cell_type": "code",
   "execution_count": 4,
   "id": "75e7650a",
   "metadata": {},
   "outputs": [
    {
     "name": "stdout",
     "output_type": "stream",
     "text": [
      "1 2 4 5 \n",
      "2 4 6 5 1 "
     ]
    }
   ],
   "source": [
    "head1 = ListNode(1)\n",
    "head1.next = ListNode(2)\n",
    "head1.next.next = ListNode(3)\n",
    "head1.next.next.next = ListNode(4)\n",
    "head1.next.next.next.next = ListNode(5)\n",
    "\n",
    "new_head1 = deleteMiddleNode(head1)\n",
    "while new_head1 is not None:\n",
    "    print(new_head1.val, end=\" \")\n",
    "    new_head1 = new_head1.next\n",
    "print()\n",
    "\n",
    "head2 = ListNode(2)\n",
    "head2.next = ListNode(4)\n",
    "head2.next.next = ListNode(6)\n",
    "head2.next.next.next = ListNode(7)\n",
    "head2.next.next.next.next = ListNode(5)\n",
    "head2.next.next.next.next.next = ListNode(1)\n",
    "\n",
    "new_head2 = deleteMiddleNode(head2)\n",
    "while new_head2 is not None:\n",
    "    print(new_head2.val, end=\" \")\n",
    "    new_head2 = new_head2.next"
   ]
  },
  {
   "cell_type": "markdown",
   "id": "ea102907",
   "metadata": {},
   "source": [
    "# Question 2"
   ]
  },
  {
   "cell_type": "markdown",
   "id": "690e4556",
   "metadata": {},
   "source": [
    "# Given a linked list of **N** nodes. The task is to check if the linked list has a loop. Linked list can contain self loop.\n",
    "\n",
    "**Example 1:**\n",
    "\n",
    "Input:\n",
    "N = 3\n",
    "value[] = {1,3,4}\n",
    "x(position at which tail is connected) = 2\n",
    "Output:True\n",
    "Explanation:In above test case N = 3.\n",
    "The linked list with nodes N = 3 is\n",
    "given. Then value of x=2 is given which\n",
    "means last node is connected with xth\n",
    "node of linked list. Therefore, there\n",
    "exists a loop.\n",
    "\n",
    "**Example 2:**\n",
    "\n",
    "Input:\n",
    "N = 4\n",
    "value[] = {1,8,3,4}\n",
    "x = 0\n",
    "Output:False\n",
    "Explanation:For N = 4 ,x = 0 means\n",
    "then lastNode->next = NULL, then\n",
    "the Linked list does not contains\n",
    "any loop."
   ]
  },
  {
   "cell_type": "markdown",
   "id": "79a38fd9",
   "metadata": {},
   "source": [
    "# Algorithm\n",
    "    \n",
    "1.Initialize two pointers, slow and fast, to the head of the linked list.\n",
    "    \n",
    "2.Move the slow pointer one node at a time and the fast pointer two nodes at a time.\n",
    "    \n",
    "3.If the fast pointer encounters a None value or reaches the end of the list, return False as there is no loop in the linked list.\n",
    "    \n",
    "4.If the slow and fast pointers meet at any point during traversal, it indicates the presence of a loop. Return True."
   ]
  },
  {
   "cell_type": "code",
   "execution_count": 6,
   "id": "72f1366d",
   "metadata": {},
   "outputs": [],
   "source": [
    "class ListNode:\n",
    "    def __init__(self, val=0, next=None):\n",
    "        self.val = val\n",
    "        self.next = next\n",
    "\n",
    "def hasCycle(head):\n",
    "    if head is None or head.next is None:\n",
    "        return False\n",
    "    \n",
    "    slow = head\n",
    "    fast = head\n",
    "    \n",
    "    while fast is not None and fast.next is not None:\n",
    "        slow = slow.next\n",
    "        fast = fast.next.next\n",
    "        \n",
    "        if slow == fast:\n",
    "            return True\n",
    "    \n",
    "    return False"
   ]
  },
  {
   "cell_type": "code",
   "execution_count": 7,
   "id": "b8c26759",
   "metadata": {},
   "outputs": [
    {
     "name": "stdout",
     "output_type": "stream",
     "text": [
      "True\n",
      "False\n"
     ]
    }
   ],
   "source": [
    "head1 = ListNode(1)\n",
    "head1.next = ListNode(3)\n",
    "head1.next.next = ListNode(4)\n",
    "head1.next.next.next = head1.next\n",
    "\n",
    "print(hasCycle(head1))\n",
    "head2 = ListNode(1)\n",
    "head2.next = ListNode(8)\n",
    "head2.next.next = ListNode(3)\n",
    "head2.next.next.next = ListNode(4)\n",
    "\n",
    "print(hasCycle(head2))"
   ]
  },
  {
   "cell_type": "markdown",
   "id": "b50adab0",
   "metadata": {},
   "source": [
    "# Question 3"
   ]
  },
  {
   "cell_type": "markdown",
   "id": "a9561e83",
   "metadata": {},
   "source": [
    "# Given a linked list consisting of **L** nodes and given a number **N**. The task is to find the **N**th node from the end of the linked list.\n",
    "\n",
    "**Example 1:**\n",
    "\n",
    "Input:\n",
    "N = 2\n",
    "LinkedList: 1->2->3->4->5->6->7->8->9\n",
    "Output:8\n",
    "Explanation:In the first example, there\n",
    "are 9 nodes in linked list and we need\n",
    "to find 2nd node from end. 2nd node\n",
    "from end is 8.\n",
    "\n",
    "**Example 2:**\n",
    "\n",
    "Input:\n",
    "N = 5\n",
    "LinkedList: 10->5->100->5\n",
    "Output:-1\n",
    "Explanation:In the second example, there\n",
    "are 4 nodes in the linked list and we\n",
    "need to find 5th from the end. Since 'n'\n",
    "is more than the number of nodes in the\n",
    "linked list, the output is -1."
   ]
  },
  {
   "cell_type": "markdown",
   "id": "5ce117a5",
   "metadata": {},
   "source": [
    "# Algorithm\n",
    "1.Initialize two pointers, first and second, to the head of the linked list.\n",
    "    \n",
    "2.Move the first pointer N nodes ahead of the second pointer.\n",
    "    \n",
    "3.If the first pointer reaches the end of the list (i.e., becomes None), it means N is greater than the number of nodes in the linked list. Return -1.\n",
    "    \n",
    "4.Move both the first and second pointers simultaneously until the first pointer reaches the end of the list.\n",
    "    \n",
    "5.When the first pointer reaches the end, the second pointer will be pointing to the Nth node from the end.\n",
    "    \n",
    "6.Return the value of the node pointed to by the second pointer."
   ]
  },
  {
   "cell_type": "code",
   "execution_count": 9,
   "id": "dfba04de",
   "metadata": {},
   "outputs": [],
   "source": [
    "class ListNode:\n",
    "    def __init__(self, val=0, next=None):\n",
    "        self.val = val\n",
    "        self.next = next\n",
    "\n",
    "def nthFromEnd(head, n):\n",
    "    first = head\n",
    "    second = head\n",
    "    \n",
    "    # Move the first pointer n nodes ahead\n",
    "    for _ in range(n):\n",
    "        if first is None:\n",
    "            return -1\n",
    "        first = first.next\n",
    "    \n",
    "    # Move both pointers simultaneously\n",
    "    while first is not None:\n",
    "        first = first.next\n",
    "        second = second.next\n",
    "    \n",
    "    return second.val"
   ]
  },
  {
   "cell_type": "code",
   "execution_count": 10,
   "id": "ed7b46fd",
   "metadata": {},
   "outputs": [
    {
     "name": "stdout",
     "output_type": "stream",
     "text": [
      "8\n",
      "-1\n"
     ]
    }
   ],
   "source": [
    "head1 = ListNode(1)\n",
    "head1.next = ListNode(2)\n",
    "head1.next.next = ListNode(3)\n",
    "head1.next.next.next = ListNode(4)\n",
    "head1.next.next.next.next = ListNode(5)\n",
    "head1.next.next.next.next.next = ListNode(6)\n",
    "head1.next.next.next.next.next.next = ListNode(7)\n",
    "head1.next.next.next.next.next.next.next = ListNode(8)\n",
    "head1.next.next.next.next.next.next.next.next = ListNode(9)\n",
    "\n",
    "print(nthFromEnd(head1, 2))\n",
    "head2 = ListNode(10)\n",
    "head2.next = ListNode(5)\n",
    "head2.next.next = ListNode(100)\n",
    "head2.next.next.next = ListNode(5)\n",
    "\n",
    "print(nthFromEnd(head2, 5))"
   ]
  },
  {
   "cell_type": "code",
   "execution_count": null,
   "id": "c73e9427",
   "metadata": {},
   "outputs": [],
   "source": [
    "Question 4"
   ]
  },
  {
   "cell_type": "code",
   "execution_count": null,
   "id": "9c26f7b8",
   "metadata": {},
   "outputs": [],
   "source": [
    "Given a singly linked list of characters, write a function that returns true if the given list is a palindrome, else false.\n",
    "\n",
    "**Examples:**\n",
    "\n",
    "> Input: R->A->D->A->R->NULL\n",
    "> **Output:** Yes\n",
    "> **Input:** C->O->D->E->NULL\n",
    "> **Output:** No"
   ]
  },
  {
   "cell_type": "markdown",
   "id": "4246daf7",
   "metadata": {},
   "source": [
    "# Algorithm\n",
    "    \n",
    "1.Find the middle of the linked list using the two-pointer technique. Initialize two pointers, slow and fast, both pointing to the head of the list. Move slow one step at a time, and fast two steps at a time. By the time fast reaches the end of the list, slow will be at the middle.\n",
    "\n",
    "2.Reverse the second half of the linked list starting from the node pointed by slow. This can be done by reversing the pointers of the nodes.\n",
    "    \n",
    "3.Compare the first half of the original linked list with the reversed second half. Move one pointer from the head of the list and the other pointer from the middle of the reversed list simultaneously, and compare the values of the nodes. If any pair of nodes has different values, the list is not a palindrome. If all pairs have the same values, the list is a palindrome.\n",
    "    \n",
    "4.Restore the original list by reversing the second half of the linked list again.\n",
    "    \n",
    "5.Return true if the list is a palindrome, otherwise false."
   ]
  },
  {
   "cell_type": "code",
   "execution_count": 11,
   "id": "f84ca623",
   "metadata": {},
   "outputs": [],
   "source": [
    "class ListNode:\n",
    "    def __init__(self, val=0, next=None):\n",
    "        self.val = val\n",
    "        self.next = next\n",
    "\n",
    "def isPalindrome(head):\n",
    "    # Helper function to reverse a linked list\n",
    "    def reverseList(node):\n",
    "        prev = None\n",
    "        curr = node\n",
    "\n",
    "        while curr is not None:\n",
    "            next_node = curr.next\n",
    "            curr.next = prev\n",
    "            prev = curr\n",
    "            curr = next_node\n",
    "\n",
    "        return prev\n",
    "\n",
    "    # Base case: an empty list or a list with only one node is a palindrome\n",
    "    if head is None or head.next is None:\n",
    "        return True\n",
    "\n",
    "    slow = head\n",
    "    fast = head\n",
    "\n",
    "    # Move slow to the middle and fast to the end of the list\n",
    "    while fast.next is not None and fast.next.next is not None:\n",
    "        slow = slow.next\n",
    "        fast = fast.next.next\n",
    "\n",
    "    # Reverse the second half of the list\n",
    "    second_half = reverseList(slow.next)\n",
    "    slow.next = None  # Disconnect the first half from the second half\n",
    "\n",
    "    # Compare the first half with the reversed second half\n",
    "    first_half = head\n",
    "    while first_half is not None and second_half is not None:\n",
    "        if first_half.val != second_half.val:\n",
    "            return False\n",
    "        first_half = first_half.next\n",
    "        second_half = second_half.next\n",
    "\n",
    "    # Restore the original list by reversing the second half again\n",
    "    second_half = reverseList(reverseList(slow.next))\n",
    "    slow.next = second_half\n",
    "\n",
    "    return True"
   ]
  },
  {
   "cell_type": "code",
   "execution_count": 12,
   "id": "e4f31c4a",
   "metadata": {},
   "outputs": [
    {
     "name": "stdout",
     "output_type": "stream",
     "text": [
      "True\n",
      "False\n"
     ]
    }
   ],
   "source": [
    "head1 = ListNode('R')\n",
    "head1.next = ListNode('A')\n",
    "head1.next.next = ListNode('D')\n",
    "head1.next.next.next = ListNode('A')\n",
    "head1.next.next.next.next = ListNode('R')\n",
    "\n",
    "print(isPalindrome(head1))\n",
    "head2 = ListNode('C')\n",
    "head2.next = ListNode('O')\n",
    "head2.next.next = ListNode('D')\n",
    "head2.next.next.next = ListNode('E')\n",
    "\n",
    "print(isPalindrome(head2))"
   ]
  },
  {
   "cell_type": "markdown",
   "id": "a61c084c",
   "metadata": {},
   "source": [
    "# Question 5"
   ]
  },
  {
   "cell_type": "markdown",
   "id": "4f7c10df",
   "metadata": {},
   "source": [
    "# Given a linked list of **N** nodes such that it may contain a loop.\n",
    "\n",
    "A loop here means that the last node of the link list is connected to the node at position X(1-based index). If the link list does not have any loop, X=0.\n",
    "\n",
    "Remove the loop from the linked list, if it is present, i.e. unlink the last node which is forming the loop.\n",
    "\n",
    "**Example 1:**\n",
    "\n",
    "Input:\n",
    "N = 3\n",
    "value[] = {1,3,4}\n",
    "X = 2\n",
    "Output:1\n",
    "Explanation:The link list looks like\n",
    "1 -> 3 -> 4\n",
    "     ^    |\n",
    "     |____|\n",
    "A loop is present. If you remove it\n",
    "successfully, the answer will be 1.\n",
    "\n",
    "**Example 2:**\n",
    "\n",
    "Input:\n",
    "N = 4\n",
    "value[] = {1,8,3,4}\n",
    "X = 0\n",
    "Output:1\n",
    "Explanation:The Linked list does not\n",
    "contains any loop.\n",
    "\n",
    "**Example 3:**\n",
    "Input:\n",
    "N = 4\n",
    "value[] = {1,2,3,4}\n",
    "X = 1\n",
    "Output:1\n",
    "Explanation:The link list looks like\n",
    "1 -> 2 -> 3 -> 4\n",
    "^              |\n",
    "|______________|\n",
    "A loop is present.\n",
    "If you remove it successfully,\n",
    "the answer will be 1."
   ]
  },
  {
   "cell_type": "markdown",
   "id": "39031215",
   "metadata": {},
   "source": [
    "# Algorithm\n",
    "1.Initialize two pointers, slow and fast, both pointing to the head of the linked list.\n",
    "\n",
    "2.Move slow one step at a time and fast two steps at a time.\n",
    "    \n",
    "3.If the two pointers meet at some point, it indicates the presence of a loop in the linked list. Break the loop by setting the next pointer of the node where the two pointers meet to None.\n",
    "    \n",
    "4.If the two pointers do not meet and fast reaches the end of the list (i.e., fast or fast.next is None), there is no loop in the linked list.\n",
    "    \n",
    "5.Return the head of the modified linked list."
   ]
  },
  {
   "cell_type": "code",
   "execution_count": 16,
   "id": "2faaf4f4",
   "metadata": {},
   "outputs": [],
   "source": [
    "class ListNode:\n",
    "    def __init__(self, val=0, next=None):\n",
    "        self.val = val\n",
    "        self.next = next\n",
    "\n",
    "def detectAndRemoveLoop(head):\n",
    "    if head is None or head.next is None:\n",
    "        return head\n",
    "\n",
    "    slow = head\n",
    "    fast = head\n",
    "\n",
    "    # Detect loop\n",
    "    while fast is not None and fast.next is not None:\n",
    "        slow = slow.next\n",
    "        fast = fast.next.next\n",
    "        if slow == fast:\n",
    "            break\n",
    "\n",
    "    # No loop found\n",
    "    if fast is None or fast.next is None:\n",
    "        return head\n",
    "\n",
    "    # Move slow to the head and advance slow and fast one step at a time\n",
    "    slow = head\n",
    "    while slow.next != fast.next:\n",
    "        slow = slow.next\n",
    "        fast = fast.next\n",
    "\n",
    "    # Remove the loop\n",
    "    fast.next = None\n",
    "\n",
    "    return head"
   ]
  },
  {
   "cell_type": "code",
   "execution_count": 20,
   "id": "6a7eb8f4",
   "metadata": {},
   "outputs": [
    {
     "name": "stdout",
     "output_type": "stream",
     "text": [
      "1 3 4 \n",
      "1 8 3 4 \n",
      "1 "
     ]
    }
   ],
   "source": [
    "head1 = ListNode(1)\n",
    "head1.next = ListNode(3)\n",
    "head1.next.next = ListNode(4)\n",
    "head1.next.next.next = head1.next\n",
    "\n",
    "head1 = detectAndRemoveLoop(head1)\n",
    "current = head1\n",
    "while current is not None:\n",
    "    print(current.val, end=\" \")\n",
    "    current = current.next\n",
    "print()\n",
    "\n",
    "head2 = ListNode(1)\n",
    "head2.next = ListNode(8)\n",
    "head2.next.next = ListNode(3)\n",
    "head2.next.next.next = ListNode(4)\n",
    "\n",
    "head2 = detectAndRemoveLoop(head2)\n",
    "current = head2\n",
    "while current is not None:\n",
    "    print(current.val, end=\" \")\n",
    "    current = current.next\n",
    "print()\n",
    "\n",
    "head3 = ListNode(1)\n",
    "head3.next = ListNode(2)\n",
    "head3.next.next = ListNode(3)\n",
    "head3.next.next.next = ListNode(4)\n",
    "head3.next.next.next.next = head3\n",
    "\n",
    "head3 = detectAndRemoveLoop(head3)\n",
    "current = head3\n",
    "while current is not None:\n",
    "    print(current.val, end=\" \")\n",
    "    current = current.next"
   ]
  },
  {
   "cell_type": "markdown",
   "id": "9ed37364",
   "metadata": {},
   "source": [
    "# Question 6"
   ]
  },
  {
   "cell_type": "markdown",
   "id": "1d551498",
   "metadata": {},
   "source": [
    "# Given a linked list and two integers M and N. Traverse the linked list such that you retain M nodes then delete next N nodes, continue the same till end of the linked list.\n",
    "\n",
    "Difficulty Level: Rookie\n",
    "\n",
    "**Examples**:\n",
    "\n",
    "Input:\n",
    "M = 2, N = 2\n",
    "Linked List: 1->2->3->4->5->6->7->8\n",
    "Output:\n",
    "Linked List: 1->2->5->6\n",
    "\n",
    "Input:\n",
    "M = 3, N = 2\n",
    "Linked List: 1->2->3->4->5->6->7->8->9->10\n",
    "Output:\n",
    "Linked List: 1->2->3->6->7->8\n",
    "\n",
    "Input:\n",
    "M = 1, N = 1\n",
    "Linked List: 1->2->3->4->5->6->7->8->9->10\n",
    "Output:\n",
    "Linked List: 1->3->5->7->9"
   ]
  },
  {
   "cell_type": "markdown",
   "id": "2e2a6764",
   "metadata": {},
   "source": [
    "# Algorithm\n",
    "1.We start by initializing current to the head of the linked list and previous to None.\n",
    "    \n",
    "2.We iterate through the linked list using a while loop until current becomes None.\n",
    "    \n",
    "3.In each iteration, we move current by M nodes and then delete N nodes after current.\n",
    "    \n",
    "4.To move current by M nodes, we use a for loop that iterates M times and moves current to the next node.\n",
    "    \n",
    "5.After moving current by M nodes, we check if current is None. If it is, we break the loop since there are no more nodes to process.\n",
    "    \n",
    "6.If current is not None, we set previous to current and move current by N nodes using a for loop.\n",
    "    \n",
    "7.After moving current by N nodes, we check if current is None. If it is, we set the next of previous to None, indicating the end of the list.\n",
    "    \n",
    "8.If current is not None, we set the next of previous to the next of current, effectively skipping the N nodes.\n",
    "    \n",
    "9.Finally, we update current to the next node of previous."
   ]
  },
  {
   "cell_type": "code",
   "execution_count": 22,
   "id": "040a3c45",
   "metadata": {},
   "outputs": [],
   "source": [
    "class ListNode:\n",
    "    def __init__(self, val=0, next=None):\n",
    "        self.val = val\n",
    "        self.next = next\n",
    "\n",
    "def skipAndDelete(head, M, N):\n",
    "    if not head or M <= 0 or N <= 0:\n",
    "        return head\n",
    "\n",
    "    current = head\n",
    "    previous = None\n",
    "\n",
    "    while current:\n",
    "        # Move current by M nodes\n",
    "        for _ in range(M):\n",
    "            if current is None:\n",
    "                return head\n",
    "            previous = current\n",
    "            current = current.next\n",
    "\n",
    "        # Delete N nodes after current\n",
    "        for _ in range(N):\n",
    "            if current is None:\n",
    "                break\n",
    "            current = current.next\n",
    "\n",
    "        # Skip N nodes\n",
    "        previous.next = current\n",
    "\n",
    "    return head"
   ]
  },
  {
   "cell_type": "code",
   "execution_count": 23,
   "id": "c5f27251",
   "metadata": {},
   "outputs": [
    {
     "name": "stdout",
     "output_type": "stream",
     "text": [
      "1 2 5 6 \n",
      "1 2 3 6 7 8 \n",
      "1 3 5 7 9 "
     ]
    }
   ],
   "source": [
    "head1 = ListNode(1)\n",
    "head1.next = ListNode(2)\n",
    "head1.next.next = ListNode(3)\n",
    "head1.next.next.next = ListNode(4)\n",
    "head1.next.next.next.next = ListNode(5)\n",
    "head1.next.next.next.next.next = ListNode(6)\n",
    "head1.next.next.next.next.next.next = ListNode(7)\n",
    "head1.next.next.next.next.next.next.next = ListNode(8)\n",
    "\n",
    "head1 = skipAndDelete(head1, 2, 2)\n",
    "current = head1\n",
    "while current is not None:\n",
    "    print(current.val, end=\" \")\n",
    "    current = current.next\n",
    "print()\n",
    "\n",
    "head2 = ListNode(1)\n",
    "head2.next = ListNode(2)\n",
    "head2.next.next = ListNode(3)\n",
    "head2.next.next.next = ListNode(4)\n",
    "head2.next.next.next.next = ListNode(5)\n",
    "head2.next.next.next.next.next = ListNode(6)\n",
    "head2.next.next.next.next.next.next = ListNode(7)\n",
    "head2.next.next.next.next.next.next.next = ListNode(8)\n",
    "head2.next.next.next.next.next.next.next.next = ListNode(9)\n",
    "head2.next.next.next.next.next.next.next.next.next = ListNode(10)\n",
    "\n",
    "head2 = skipAndDelete(head2, 3, 2)\n",
    "current = head2\n",
    "while current is not None:\n",
    "    print(current.val, end=\" \")\n",
    "    current = current.next\n",
    "print()\n",
    "head3 = ListNode(1)\n",
    "head3.next = ListNode(2)\n",
    "head3.next.next = ListNode(3)\n",
    "head3.next.next.next = ListNode(4)\n",
    "head3.next.next.next.next = ListNode(5)\n",
    "head3.next.next.next.next.next = ListNode(6)\n",
    "head3.next.next.next.next.next.next = ListNode(7)\n",
    "head3.next.next.next.next.next.next.next = ListNode(8)\n",
    "head3.next.next.next.next.next.next.next.next = ListNode(9)\n",
    "head3.next.next.next.next.next.next.next.next.next = ListNode(10)\n",
    "\n",
    "head3 = skipAndDelete(head3, 1, 1)\n",
    "current = head3\n",
    "while current is not None:\n",
    "    print(current.val, end=\" \")\n",
    "    current = current.next"
   ]
  },
  {
   "cell_type": "markdown",
   "id": "9c76b9ee",
   "metadata": {},
   "source": [
    "# Question 7"
   ]
  },
  {
   "cell_type": "markdown",
   "id": "3fe799ad",
   "metadata": {},
   "source": [
    "# Given two linked lists, insert nodes of second list into first list at alternate positions of first list.\n",
    "For example, if first list is 5->7->17->13->11 and second is 12->10->2->4->6, the first list should become 5->12->7->10->17->2->13->4->11->6 and second list should become empty. The nodes of second list should only be inserted when there are positions available. For example, if the first list is 1->2->3 and second list is 4->5->6->7->8, then first list should become 1->4->2->5->3->6 and second list to 7->8.\n",
    "\n",
    "Use of extra space is not allowed (Not allowed to create additional nodes), i.e., insertion must be done in-place. Expected time complexity is O(n) where n is number of nodes in first list."
   ]
  },
  {
   "cell_type": "markdown",
   "id": "0da1679c",
   "metadata": {},
   "source": [
    "# Algorithm\n",
    "1.Initialize current1 to the head of the first list and current2 to the head of the second list.\n",
    "    \n",
    "2.Traverse both lists simultaneously until current1 and current2 both become None.\n",
    "    \n",
    "3.Store the next node of current1 in next1 and the next node of current2 in next2.\n",
    "    \n",
    "4.Set the next of current2 to the next of current1.\n",
    "    \n",
    "5.Set the next of current1 to current2.\n",
    "    \n",
    "6.Move current1 to next1 and current2 to next2.\n",
    "    \n",
    "7.Repeat steps 3-6 until either current1 becomes None or current2 becomes None.\n",
    "    \n",
    "8.If there are remaining nodes in the second list after the first list is exhausted, append the remaining nodes to the end of the first list.\n",
    "    \n",
    "9.Set the head of the second list to None to make it empty."
   ]
  },
  {
   "cell_type": "code",
   "execution_count": 25,
   "id": "165cdeac",
   "metadata": {},
   "outputs": [],
   "source": [
    "class ListNode:\n",
    "    def __init__(self, val=0, next=None):\n",
    "        self.val = val\n",
    "        self.next = next\n",
    "\n",
    "def mergeLists(first, second):\n",
    "    if not first:\n",
    "        return second\n",
    "\n",
    "    if not second:\n",
    "        return first\n",
    "\n",
    "    current1 = first\n",
    "    current2 = second\n",
    "\n",
    "    while current1 and current2:\n",
    "        next1 = current1.next\n",
    "        next2 = current2.next\n",
    "\n",
    "        current2.next = next1\n",
    "        current1.next = current2\n",
    "\n",
    "        current1 = next1\n",
    "        current2 = next2\n",
    "\n",
    "    if current2:\n",
    "        current1.next = current2\n",
    "\n",
    "    second = None\n",
    "\n",
    "    return first"
   ]
  },
  {
   "cell_type": "code",
   "execution_count": 26,
   "id": "e194940d",
   "metadata": {},
   "outputs": [
    {
     "name": "stdout",
     "output_type": "stream",
     "text": [
      "5 12 7 10 17 2 13 4 11 6 \n",
      "12 7 10 17 2 13 4 11 6 "
     ]
    }
   ],
   "source": [
    "head1 = ListNode(5)\n",
    "head1.next = ListNode(7)\n",
    "head1.next.next = ListNode(17)\n",
    "head1.next.next.next = ListNode(13)\n",
    "head1.next.next.next.next = ListNode(11)\n",
    "\n",
    "head2 = ListNode(12)\n",
    "head2.next = ListNode(10)\n",
    "head2.next.next = ListNode(2)\n",
    "head2.next.next.next = ListNode(4)\n",
    "head2.next.next.next.next = ListNode(6)\n",
    "\n",
    "head1 = mergeLists(head1, head2)\n",
    "\n",
    "current = head1\n",
    "while current is not None:\n",
    "    print(current.val, end=\" \")\n",
    "    current = current.next\n",
    "\n",
    "print()\n",
    "\n",
    "current = head2\n",
    "while current is not None:\n",
    "    print(current.val, end=\" \")\n",
    "    current = current.next"
   ]
  },
  {
   "cell_type": "markdown",
   "id": "2de66104",
   "metadata": {},
   "source": [
    "# Question 8"
   ]
  },
  {
   "cell_type": "markdown",
   "id": "5b499f56",
   "metadata": {},
   "source": [
    "# Given a singly linked list, find if the linked list is [circular]\n",
    "(https://www.geeksforgeeks.org/circular-linked-list/amp/) or not.\n",
    "\n",
    "A linked list is called circular if it is not NULL-terminated and all nodes are connected in the form of a cycle. \n",
    "Below is an example of a circular linked list.\n"
   ]
  },
  {
   "cell_type": "markdown",
   "id": "c53cbc3d",
   "metadata": {},
   "source": [
    "# Algorithm\n",
    "1.Initialize both the \"slow\" and \"fast\" pointers to the head of the linked list.\n",
    "    \n",
    "2.Move the \"slow\" pointer one step at a time and the \"fast\" pointer two steps at a time.\n",
    "    \n",
    "3.If the linked list is circular, the \"fast\" pointer will eventually catch up to the \"slow\" pointer and they will meet at the same node.\n",
    "    \n",
    "4.If the linked list is not circular, the \"fast\" pointer will reach the end of the list (i.e., become NULL) before catching up to the \"slow\" pointer."
   ]
  },
  {
   "cell_type": "code",
   "execution_count": 27,
   "id": "c6d4488c",
   "metadata": {},
   "outputs": [],
   "source": [
    "class ListNode:\n",
    "    def __init__(self, val=0, next=None):\n",
    "        self.val = val\n",
    "        self.next = next\n",
    "\n",
    "def isCircular(head):\n",
    "    if not head:\n",
    "        return False\n",
    "\n",
    "    slow = head\n",
    "    fast = head.next\n",
    "\n",
    "    while fast and fast.next:\n",
    "        if slow == fast:\n",
    "            return True\n",
    "\n",
    "        slow = slow.next\n",
    "        fast = fast.next.next\n",
    "\n",
    "    return False"
   ]
  },
  {
   "cell_type": "code",
   "execution_count": 28,
   "id": "4accc78d",
   "metadata": {},
   "outputs": [
    {
     "name": "stdout",
     "output_type": "stream",
     "text": [
      "True\n"
     ]
    }
   ],
   "source": [
    "head = ListNode(1)\n",
    "head.next = ListNode(2)\n",
    "head.next.next = ListNode(3)\n",
    "head.next.next.next = ListNode(4)\n",
    "head.next.next.next.next = ListNode(5)\n",
    "\n",
    "# Make it circular\n",
    "head.next.next.next.next.next = head\n",
    "\n",
    "print(isCircular(head))"
   ]
  },
  {
   "cell_type": "code",
   "execution_count": 29,
   "id": "250ef2a6",
   "metadata": {},
   "outputs": [
    {
     "name": "stdout",
     "output_type": "stream",
     "text": [
      "True\n"
     ]
    }
   ],
   "source": [
    "print(isCircular(head))"
   ]
  },
  {
   "cell_type": "code",
   "execution_count": null,
   "id": "6200a9b9",
   "metadata": {},
   "outputs": [],
   "source": []
  }
 ],
 "metadata": {
  "kernelspec": {
   "display_name": "Python 3 (ipykernel)",
   "language": "python",
   "name": "python3"
  },
  "language_info": {
   "codemirror_mode": {
    "name": "ipython",
    "version": 3
   },
   "file_extension": ".py",
   "mimetype": "text/x-python",
   "name": "python",
   "nbconvert_exporter": "python",
   "pygments_lexer": "ipython3",
   "version": "3.9.7"
  }
 },
 "nbformat": 4,
 "nbformat_minor": 5
}
