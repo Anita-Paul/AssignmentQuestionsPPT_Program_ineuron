{
 "cells": [
  {
   "cell_type": "markdown",
   "id": "ed1710f6",
   "metadata": {},
   "source": [
    "# Question 1"
   ]
  },
  {
   "cell_type": "markdown",
   "id": "7f79b9c1",
   "metadata": {},
   "source": [
    "# 1. **Merge Intervals**\n",
    "\n",
    "Given an array of `intervals` where `intervals[i] = [starti, endi]`, merge all overlapping intervals, and return *an array of the non-overlapping intervals that cover all the intervals in the input*.\n",
    "\n",
    "**Example 1:**\n",
    "\n",
    "Input: intervals = [[1,3],[2,6],[8,10],[15,18]]\n",
    "Output: [[1,6],[8,10],[15,18]]\n",
    "Explanation: Since intervals [1,3] and [2,6] overlap, merge them into [1,6].\n",
    "\n",
    "**Example 2:**\n",
    "\n",
    "Input: intervals = [[1,4],[4,5]]\n",
    "Output: [[1,5]]\n",
    "Explanation: Intervals [1,4] and [4,5] are considered overlapping.\n",
    "\n",
    "**Constraints:**\n",
    "\n",
    "- `1 <= intervals.length <= 10000`\n",
    "- `intervals[i].length == 2`\n",
    "- `0 <= starti <= endi <= 10000`"
   ]
  },
  {
   "cell_type": "markdown",
   "id": "5c44797f",
   "metadata": {},
   "source": [
    "# Algorithm\n",
    "1.Sort the intervals based on the start time in ascending order.\n",
    "\n",
    "2.Initialize an empty result list to store the merged intervals.\n",
    "\n",
    "3.Iterate through the sorted intervals:\n",
    "        \n",
    "4.If the result list is empty or the current interval does not overlap with the previous interval in the result list, add the current interval to the result list.\n",
    "        \n",
    "5.If the current interval overlaps with the previous interval, merge them by updating the end time of the previous interval to the maximum of the two end times.\n",
    "\n",
    "6.Return the result list."
   ]
  },
  {
   "cell_type": "code",
   "execution_count": 1,
   "id": "b826ad33",
   "metadata": {},
   "outputs": [],
   "source": [
    "def merge_intervals(intervals):\n",
    "    # Sort intervals based on start time\n",
    "    intervals.sort(key=lambda x: x[0])\n",
    "    \n",
    "    # Initialize result list\n",
    "    merged = []\n",
    "    \n",
    "    # Iterate through intervals\n",
    "    for interval in intervals:\n",
    "        # If merged list is empty or current interval does not overlap with previous interval\n",
    "        if not merged or interval[0] > merged[-1][1]:\n",
    "            merged.append(interval)\n",
    "        else:\n",
    "            # Merge the intervals by updating the end time\n",
    "            merged[-1][1] = max(merged[-1][1], interval[1])\n",
    "    \n",
    "    return merged"
   ]
  },
  {
   "cell_type": "code",
   "execution_count": 2,
   "id": "7ffe3544",
   "metadata": {},
   "outputs": [
    {
     "name": "stdout",
     "output_type": "stream",
     "text": [
      "[[1, 6], [8, 10], [15, 18]]\n",
      "[[1, 5]]\n"
     ]
    }
   ],
   "source": [
    "intervals1 = [[1,3],[2,6],[8,10],[15,18]]\n",
    "print(merge_intervals(intervals1))\n",
    "intervals2 = [[1,4],[4,5]]\n",
    "print(merge_intervals(intervals2)) "
   ]
  },
  {
   "cell_type": "markdown",
   "id": "ef25b14b",
   "metadata": {},
   "source": [
    "# Question 2"
   ]
  },
  {
   "cell_type": "markdown",
   "id": "4fd804c5",
   "metadata": {},
   "source": [
    "# 2. **Sort Colors**\n",
    "\n",
    "Given an array `nums` with `n` objects colored red, white, or blue, sort them **[in-place](https://en.wikipedia.org/wiki/In-place_algorithm)** so that objects of the same color are adjacent, with the colors in the order red, white, and blue.\n",
    "\n",
    "We will use the integers `0`, `1`, and `2` to represent the color red, white, and blue, respectively.\n",
    "\n",
    "You must solve this problem without using the library's sort function.\n",
    "\n",
    "**Example 1:**\n",
    "\n",
    "Input: nums = [2,0,2,1,1,0]\n",
    "Output: [0,0,1,1,2,2]\n",
    "\n",
    "**Example 2:**\n",
    "\n",
    "Input: nums = [2,0,1]\n",
    "Output: [0,1,2]\n",
    "\n",
    "**Constraints:**\n",
    "\n",
    "- `n == nums.length`\n",
    "- `1 <= n <= 300`\n",
    "- `nums[i]` is either `0`, `1`, or `2`."
   ]
  },
  {
   "cell_type": "markdown",
   "id": "3b9d0176",
   "metadata": {},
   "source": [
    "# Algorithm\n",
    "1.Initialize three pointers: low, mid, and high. low and mid point to the start of the array, and high points to the end of the array.\n",
    "\n",
    "2.Iterate through the array using the mid pointer:\n",
    "        \n",
    "If nums[mid] is 0, swap it with nums[low], increment both low and mid pointers.\n",
    "        \n",
    "If nums[mid] is 1, increment only the mid pointer.\n",
    "        \n",
    "If nums[mid] is 2, swap it with nums[high], decrement the high pointer.\n",
    "\n",
    "3.Continue the iteration until mid becomes greater than high."
   ]
  },
  {
   "cell_type": "code",
   "execution_count": 3,
   "id": "101025c3",
   "metadata": {},
   "outputs": [],
   "source": [
    "def sortColors(nums):\n",
    "    low = mid = 0\n",
    "    high = len(nums) - 1\n",
    "    \n",
    "    while mid <= high:\n",
    "        if nums[mid] == 0:\n",
    "            nums[mid], nums[low] = nums[low], nums[mid]\n",
    "            low += 1\n",
    "            mid += 1\n",
    "        elif nums[mid] == 1:\n",
    "            mid += 1\n",
    "        else:\n",
    "            nums[mid], nums[high] = nums[high], nums[mid]\n",
    "            high -= 1\n"
   ]
  },
  {
   "cell_type": "code",
   "execution_count": 4,
   "id": "ad1c0ef5",
   "metadata": {},
   "outputs": [
    {
     "name": "stdout",
     "output_type": "stream",
     "text": [
      "[0, 0, 1, 1, 2, 2]\n",
      "[0, 1, 2]\n"
     ]
    }
   ],
   "source": [
    "nums1 = [2,0,2,1,1,0]\n",
    "sortColors(nums1)\n",
    "print(nums1)\n",
    "nums2 = [2,0,1]\n",
    "sortColors(nums2)\n",
    "print(nums2) "
   ]
  },
  {
   "cell_type": "markdown",
   "id": "15b5ebae",
   "metadata": {},
   "source": [
    "# Question 3"
   ]
  },
  {
   "cell_type": "markdown",
   "id": "82d3b039",
   "metadata": {},
   "source": [
    "# 3. **First Bad Version Solution**\n",
    "\n",
    "You are a product manager and currently leading a team to develop a new product. Unfortunately, the latest version of your product fails the quality check. Since each version is developed based on the previous version, all the versions after a bad version are also bad.\n",
    "\n",
    "Suppose you have `n` versions `[1, 2, ..., n]` and you want to find out the first bad one, which causes all the following ones to be bad.\n",
    "\n",
    "You are given an API `bool isBadVersion(version)` which returns whether `version` is bad. Implement a function to find the first bad version. You should minimize the number of calls to the API.\n",
    "\n",
    "**Example 1:**\n",
    "\n",
    "Input: n = 5, bad = 4\n",
    "Output: 4\n",
    "Explanation:\n",
    "call isBadVersion(3) -> false\n",
    "call isBadVersion(5) -> true\n",
    "call isBadVersion(4) -> true\n",
    "Then 4 is the first bad version.\n",
    "\n",
    "**Example 2:**\n",
    "\n",
    "Input: n = 1, bad = 1\n",
    "Output: 1\n",
    "\n",
    "**Constraints:**\n",
    "\n",
    "- `1 <= bad <= n <= 2^31 - 1`"
   ]
  },
  {
   "cell_type": "markdown",
   "id": "ef8d947c",
   "metadata": {},
   "source": [
    "# Algorithm\n",
    "1.Initialize two pointers, left and right, where left is initially set to 1, and right is set to n.\n",
    "\n",
    "2.While left is less than right, do the following:\n",
    "        \n",
    "3.Compute the middle version by taking the average of left and right: mid = left + (right - left) // 2.\n",
    "        \n",
    "4.Call the isBadVersion API for the middle version.\n",
    "            \n",
    "5.If the middle version is bad, update right to mid because all versions after mid will also be bad.\n",
    "            \n",
    "6.If the middle version is not bad, update left to mid + 1 because the middle version and all versions before it are good.\n",
    "\n",
    "7.Once the loop terminates, left will be pointing to the first bad version."
   ]
  },
  {
   "cell_type": "code",
   "execution_count": 22,
   "id": "afce6377",
   "metadata": {},
   "outputs": [
    {
     "name": "stdout",
     "output_type": "stream",
     "text": [
      "5\n"
     ]
    }
   ],
   "source": [
    "def isBadVersion(version):\n",
    "    pass\n",
    "\n",
    "def firstBadVersion(n):\n",
    "    left = 1\n",
    "    right = n\n",
    "\n",
    "    while left < right:\n",
    "        mid = left + (right - left) // 2\n",
    "        if isBadVersion(mid):\n",
    "            right = mid\n",
    "        else:\n",
    "            left = mid + 1\n",
    "\n",
    "    return left\n",
    "\n",
    "n = 5\n",
    "bad = 4\n",
    "first_bad = firstBadVersion(n)\n",
    "print(first_bad)"
   ]
  },
  {
   "cell_type": "code",
   "execution_count": 23,
   "id": "d5ecd8ed",
   "metadata": {},
   "outputs": [
    {
     "name": "stdout",
     "output_type": "stream",
     "text": [
      "5\n",
      "1\n"
     ]
    }
   ],
   "source": [
    "\n",
    "n1 = 5\n",
    "bad1 = 4\n",
    "print(firstBadVersion(n1))\n",
    "\n",
    "n2 = 1\n",
    "bad2 = 1\n",
    "print(firstBadVersion(n2))"
   ]
  },
  {
   "cell_type": "markdown",
   "id": "22773c21",
   "metadata": {},
   "source": [
    "# Question 4"
   ]
  },
  {
   "cell_type": "markdown",
   "id": "cdcb5151",
   "metadata": {},
   "source": [
    "# 4. **Maximum Gap**\n",
    "\n",
    "Given an integer array `nums`, return *the maximum difference between two successive elements in its sorted form*. If the array contains less than two elements, return `0`.\n",
    "\n",
    "You must write an algorithm that runs in linear time and uses linear extra space.\n",
    "\n",
    "**Example 1:**\n",
    "\n",
    "Input: nums = [3,6,9,1]\n",
    "Output: 3\n",
    "Explanation: The sorted form of the array is [1,3,6,9], either (3,6) or (6,9) has the maximum difference 3.\n",
    "\n",
    "**Example 2:**\n",
    "\n",
    "Input: nums = [10]\n",
    "Output: 0\n",
    "Explanation: The array contains less than 2 elements, therefore return 0.\n",
    "\n",
    "**Constraints:**\n",
    "\n",
    "- `1 <= nums.length <= 10^5`\n",
    "- `0 <= nums[i] <= 10^9`"
   ]
  },
  {
   "cell_type": "markdown",
   "id": "31967e34",
   "metadata": {},
   "source": [
    "# Algorithm\n",
    "1.Find the maximum element in the input array nums and store it in the variable max_num.\n",
    "\n",
    "2.Initialize a variable exp to 1, which represents the current digit being sorted. Set up a loop that will run until max_num // exp is greater than 0.\n",
    "\n",
    "3.Inside the loop, create a counting array of size 10, where each index represents a digit from 0 to 9. Initialize all counts to 0.\n",
    "\n",
    "4.Traverse the input array nums and count the occurrence of each digit at the current digit position exp. Increment the corresponding count in the counting array.\n",
    "\n",
    "5.Compute the cumulative sum of the counting array. This step determines the position of each element in the sorted order.\n",
    "\n",
    "6.Create a temporary array output of the same size as nums.\n",
    "\n",
    "7.Traverse the input array nums from right to left. For each element, find its digit at the current position exp. Use the counting array to determine the position of the element in the output array. Decrement the count of the corresponding digit in the counting array.\n",
    "\n",
    "8.Copy the elements from the output array back to the input array nums.\n",
    "\n",
    "9.Multiply exp by 10 to move to the next digit position.\n",
    "\n",
    "10.After the loop finishes, the input array nums will be sorted in ascending order.\n",
    "\n",
    "11.Initialize a variable max_gap to 0, which represents the maximum gap between two successive elements.\n",
    "\n",
    "12.Traverse the sorted array nums and compute the difference between each pair of successive elements. Update max_gap with the maximum difference.\n",
    "\n",
    "13.Return max_gap."
   ]
  },
  {
   "cell_type": "code",
   "execution_count": 8,
   "id": "9b0e5daf",
   "metadata": {},
   "outputs": [],
   "source": [
    "def maximumGap(nums):\n",
    "    if len(nums) < 2:\n",
    "        return 0\n",
    "    \n",
    "    max_num = max(nums)\n",
    "    exp = 1\n",
    "    \n",
    "    while max_num // exp > 0:\n",
    "        counting_array = [0] * 10\n",
    "        \n",
    "        for num in nums:\n",
    "            digit = (num // exp) % 10\n",
    "            counting_array[digit] += 1\n",
    "        \n",
    "        for i in range(1, 10):\n",
    "            counting_array[i] += counting_array[i - 1]\n",
    "        \n",
    "        output = [0] * len(nums)\n",
    "        \n",
    "        for i in range(len(nums) - 1, -1, -1):\n",
    "            num = nums[i]\n",
    "            digit = (num // exp) % 10\n",
    "            position = counting_array[digit] - 1\n",
    "            output[position] = num\n",
    "            counting_array[digit] -= 1\n",
    "        \n",
    "        nums = output\n",
    "        exp *= 10\n",
    "    \n",
    "    max_gap = 0\n",
    "    \n",
    "    for i in range(1, len(nums)):\n",
    "        max_gap = max(max_gap, nums[i] - nums[i - 1])\n",
    "    \n",
    "    return max_gap\n"
   ]
  },
  {
   "cell_type": "code",
   "execution_count": 9,
   "id": "abf63189",
   "metadata": {},
   "outputs": [
    {
     "name": "stdout",
     "output_type": "stream",
     "text": [
      "3\n",
      "0\n"
     ]
    }
   ],
   "source": [
    "nums1 = [3, 6, 9, 1]\n",
    "print(maximumGap(nums1)) \n",
    "\n",
    "nums2 = [10]\n",
    "print(maximumGap(nums2)) "
   ]
  },
  {
   "cell_type": "markdown",
   "id": "c0f1c046",
   "metadata": {},
   "source": [
    "# Question 5"
   ]
  },
  {
   "cell_type": "markdown",
   "id": "50468de0",
   "metadata": {},
   "source": [
    "# 5. **Contains Duplicate**\n",
    "\n",
    "Given an integer array `nums`, return `true` if any value appears **at least twice** in the array, and return `false` if every element is distinct.\n",
    "\n",
    "**Example 1:**\n",
    "\n",
    "Input: nums = [1,2,3,1]\n",
    "Output: true\n",
    "\n",
    "**Example 2:**\n",
    "\n",
    "Input: nums = [1,2,3,4]\n",
    "Output: false\n",
    "\n",
    "**Example 3:**\n",
    "\n",
    "Input: nums = [1,1,1,3,3,4,3,2,4,2]\n",
    "Output: true\n",
    "\n",
    "**Constraints:**\n",
    "\n",
    "- `1 <= nums.length <= 10^5`\n",
    "- `109 <= nums[i] <= 10^9`"
   ]
  },
  {
   "cell_type": "markdown",
   "id": "188ce88d",
   "metadata": {},
   "source": [
    "# Algorithm\n",
    "Initialize an empty hash set.\n",
    "\n",
    "Iterate through each element num in the input array nums.\n",
    "\n",
    "If num is already in the hash set, return true as it indicates a duplicate value.\n",
    "\n",
    "If num is not in the hash set, add it to the hash set.\n",
    "\n",
    "If the loop completes without finding any duplicates, return false"
   ]
  },
  {
   "cell_type": "code",
   "execution_count": 10,
   "id": "c590fe62",
   "metadata": {},
   "outputs": [],
   "source": [
    "def containsDuplicate(nums):\n",
    "    seen = set()\n",
    "    for num in nums:\n",
    "        if num in seen:\n",
    "            return True\n",
    "        seen.add(num)\n",
    "    return False\n"
   ]
  },
  {
   "cell_type": "code",
   "execution_count": 11,
   "id": "9e58e6e9",
   "metadata": {},
   "outputs": [
    {
     "name": "stdout",
     "output_type": "stream",
     "text": [
      "True\n",
      "False\n",
      "True\n"
     ]
    }
   ],
   "source": [
    "nums1 = [1, 2, 3, 1]\n",
    "print(containsDuplicate(nums1)) \n",
    "\n",
    "nums2 = [1, 2, 3, 4]\n",
    "print(containsDuplicate(nums2)) \n",
    "\n",
    "nums3 = [1, 1, 1, 3, 3, 4, 3, 2, 4, 2]\n",
    "print(containsDuplicate(nums3))"
   ]
  },
  {
   "cell_type": "markdown",
   "id": "cc12745a",
   "metadata": {},
   "source": [
    "# Question 6"
   ]
  },
  {
   "cell_type": "markdown",
   "id": "658112a2",
   "metadata": {},
   "source": [
    "# 6. **Minimum Number of Arrows to Burst Balloons**\n",
    "\n",
    "There are some spherical balloons taped onto a flat wall that represents the XY-plane. The balloons are represented as a 2D integer array `points` where `points[i] = [xstart, xend]` denotes a balloon whose **horizontal diameter** stretches between `xstart` and `xend`. You do not know the exact y-coordinates of the balloons.\n",
    "\n",
    "Arrows can be shot up **directly vertically** (in the positive y-direction) from different points along the x-axis. A balloon with `xstart` and `xend` is **burst** by an arrow shot at `x` if `xstart <= x <= xend`. There is **no limit** to the number of arrows that can be shot. A shot arrow keeps traveling up infinitely, bursting any balloons in its path.\n",
    "\n",
    "Given the array `points`, return *the **minimum** number of arrows that must be shot to burst all balloons*.\n",
    "\n",
    "**Example 1:**\n",
    "\n",
    "Input: points = [[10,16],[2,8],[1,6],[7,12]]\n",
    "Output: 2\n",
    "Explanation: The balloons can be burst by 2 arrows:\n",
    "- Shoot an arrow at x = 6, bursting the balloons [2,8] and [1,6].\n",
    "- Shoot an arrow at x = 11, bursting the balloons [10,16] and [7,12].\n",
    "\n",
    "**Example 2:**\n",
    "    \n",
    "Input: points = [[1,2],[3,4],[5,6],[7,8]]\n",
    "Output: 4\n",
    "Explanation: One arrow needs to be shot for each balloon for a total of 4 arrows.\n",
    "\n",
    "**Example 3:**\n",
    "\n",
    "Input: points = [[1,2],[2,3],[3,4],[4,5]]\n",
    "Output: 2\n",
    "Explanation: The balloons can be burst by 2 arrows:\n",
    "- Shoot an arrow at x = 2, bursting the balloons [1,2] and [2,3].\n",
    "- Shoot an arrow at x = 4, bursting the balloons [3,4] and [4,5].\n",
    "\n",
    "**Constraints:**\n",
    "\n",
    "- `1 <= points.length <= 10^5`\n",
    "- `points[i].length == 2`\n",
    "- `231 <= xstart < xend <= 2^31 - 1`"
   ]
  },
  {
   "cell_type": "markdown",
   "id": "10a9f8cb",
   "metadata": {},
   "source": [
    "# Algorithm\n",
    "Sort the input array points based on the end points of the balloons in ascending order.\n",
    "\n",
    "Initialize a variable count to 1 to represent the minimum number of arrows needed. This variable will be incremented each time a new arrow is required.\n",
    "\n",
    "Iterate through the sorted points array starting from the second balloon.\n",
    "\n",
    "For each balloon, compare its start point with the previous balloon's end point.\n",
    "\n",
    "If the start point of the current balloon is greater than the previous balloon's end point, it means a new arrow is required to burst this balloon. Increment count by 1.\n",
    "\n",
    "If the start point of the current balloon is less than or equal to the previous balloon's end point, it means the current balloon can be burst by the same arrow that was used for the previous balloon. No need to increment count.\n",
    "\n",
    "After iterating through all the balloons, return the value of count as the minimum number of arrows required."
   ]
  },
  {
   "cell_type": "code",
   "execution_count": 12,
   "id": "85d8e6b3",
   "metadata": {},
   "outputs": [],
   "source": [
    "def findMinArrowShots(points):\n",
    "    if not points:\n",
    "        return 0\n",
    "\n",
    "    points.sort(key=lambda x: x[1])\n",
    "    count = 1\n",
    "    end = points[0][1]\n",
    "\n",
    "    for i in range(1, len(points)):\n",
    "        if points[i][0] > end:\n",
    "            count += 1\n",
    "            end = points[i][1]\n",
    "\n",
    "    return count\n"
   ]
  },
  {
   "cell_type": "code",
   "execution_count": 13,
   "id": "32867f82",
   "metadata": {},
   "outputs": [
    {
     "name": "stdout",
     "output_type": "stream",
     "text": [
      "2\n",
      "4\n",
      "2\n"
     ]
    }
   ],
   "source": [
    "points1 = [[10, 16], [2, 8], [1, 6], [7, 12]]\n",
    "print(findMinArrowShots(points1))  \n",
    "points2 = [[1, 2], [3, 4], [5, 6], [7, 8]]\n",
    "print(findMinArrowShots(points2))  \n",
    "\n",
    "points3 = [[1, 2], [2, 3], [3, 4], [4, 5]]\n",
    "print(findMinArrowShots(points3))"
   ]
  },
  {
   "cell_type": "markdown",
   "id": "dc7fc2c3",
   "metadata": {},
   "source": [
    "# Question 7"
   ]
  },
  {
   "cell_type": "markdown",
   "id": "4b212116",
   "metadata": {},
   "source": [
    "# 7. **Longest Increasing Subsequence**\n",
    "\n",
    "Given an integer array `nums`, return *the length of the longest **strictly increasing***\n",
    "\n",
    "***subsequence***\n",
    "\n",
    "**Example 1:**\n",
    "\n",
    "Input: nums = [10,9,2,5,3,7,101,18]\n",
    "Output: 4\n",
    "Explanation: The longest increasing subsequence is [2,3,7,101], therefore the length is 4.\n",
    "\n",
    "\n",
    "**Example 2:**\n",
    "\n",
    "Input: nums = [0,1,0,3,2,3]\n",
    "Output: 4\n",
    "\n",
    "\n",
    "**Example 3:**\n",
    "\n",
    "Input: nums = [7,7,7,7,7,7,7]\n",
    "Output: 1\n",
    "\n",
    "**Constraints:**\n",
    "\n",
    "- `1 <= nums.length <= 2500`\n",
    "- `-10^4 <= nums[i] <= 10^4`"
   ]
  },
  {
   "cell_type": "markdown",
   "id": "9847aad1",
   "metadata": {},
   "source": [
    "# Algorithm\n",
    "1.Initialize an array dp of length n (where n is the length of nums) with all values set to 1. This array will store the length of the longest increasing subsequence ending at each index.\n",
    "\n",
    "2.Iterate through the array nums starting from the second element.\n",
    "\n",
    "3.For each element nums[i], iterate through all the previous elements nums[j] (where 0 <= j < i).\n",
    "\n",
    "4.If nums[i] is greater than nums[j], update dp[i] to the maximum value between dp[i] and dp[j] + 1. This means that the longest increasing subsequence ending at index i can be extended by including the current element.\n",
    "\n",
    "5.After iterating through all the elements, find the maximum value in the dp array, which represents the length of the longest increasing subsequence in nums.\n",
    "\n",
    "6.Return the maximum value found."
   ]
  },
  {
   "cell_type": "code",
   "execution_count": 14,
   "id": "39caca3d",
   "metadata": {},
   "outputs": [],
   "source": [
    "def lengthOfLIS(nums):\n",
    "    n = len(nums)\n",
    "    if n == 0:\n",
    "        return 0\n",
    "\n",
    "    dp = [1] * n\n",
    "\n",
    "    for i in range(1, n):\n",
    "        for j in range(i):\n",
    "            if nums[i] > nums[j]:\n",
    "                dp[i] = max(dp[i], dp[j] + 1)\n",
    "\n",
    "    return max(dp)\n"
   ]
  },
  {
   "cell_type": "code",
   "execution_count": 15,
   "id": "9ce44c66",
   "metadata": {},
   "outputs": [
    {
     "name": "stdout",
     "output_type": "stream",
     "text": [
      "4\n",
      "4\n",
      "1\n"
     ]
    }
   ],
   "source": [
    "nums1 = [10, 9, 2, 5, 3, 7, 101, 18]\n",
    "print(lengthOfLIS(nums1))  \n",
    "nums2 = [0, 1, 0, 3, 2, 3]\n",
    "print(lengthOfLIS(nums2)) \n",
    "nums3 = [7, 7, 7, 7, 7, 7, 7]\n",
    "print(lengthOfLIS(nums3))"
   ]
  },
  {
   "cell_type": "markdown",
   "id": "d315070e",
   "metadata": {},
   "source": [
    "# Question 8"
   ]
  },
  {
   "cell_type": "markdown",
   "id": "f5932d52",
   "metadata": {},
   "source": [
    "# 8. **132 Pattern**\n",
    "\n",
    "Given an array of `n` integers `nums`, a **132 pattern** is a subsequence of three integers `nums[i]`, `nums[j]` and `nums[k]` such that `i < j < k` and `nums[i] < nums[k] < nums[j]`.\n",
    "\n",
    "Return `true` *if there is a **132 pattern** in* `nums`*, otherwise, return* `false`*.*\n",
    "\n",
    "**Example 1:**\n",
    "\n",
    "Input: nums = [1,2,3,4]\n",
    "Output: false\n",
    "Explanation: There is no 132 pattern in the sequence.\n",
    "\n",
    "**Example 2:**\n",
    "\n",
    "Input: nums = [3,1,4,2]\n",
    "Output: true\n",
    "Explanation: There is a 132 pattern in the sequence: [1, 4, 2].\n",
    "\n",
    "**Example 3:**\n",
    "\n",
    "Input: nums = [-1,3,2,0]\n",
    "Output: true\n",
    "Explanation: There are three 132 patterns in the sequence: [-1, 3, 2], [-1, 3, 0] and [-1, 2, 0].\n",
    "\n",
    "**Constraints:**\n",
    "\n",
    "- `n == nums.length`\n",
    "- `1 <= n <= 2 * 10^5`\n",
    "- `-10^9 <= nums[i] <= 10^9`"
   ]
  },
  {
   "cell_type": "markdown",
   "id": "7aab34e3",
   "metadata": {},
   "source": [
    "# Algorithm\n",
    "1.Initialize an empty stack.\n",
    "\n",
    "2.Iterate through the array nums from right to left.\n",
    "\n",
    "3.Keep track of the maximum value encountered so far. Initialize a variable max_val to negative infinity.\n",
    "\n",
    "4.While the stack is not empty and the top element of the stack is less than the current element of nums, pop elements from the stack and update max_val to the maximum value between max_val and the popped element.\n",
    "\n",
    "5.If the current element of nums is greater than max_val, it means we have found a \"132 pattern\". Return True.\n",
    "\n",
    "6.Push the current element of nums onto the stack.\n",
    "\n",
    "7.If the loop completes without finding a \"132 pattern\", return False."
   ]
  },
  {
   "cell_type": "code",
   "execution_count": 16,
   "id": "c6737305",
   "metadata": {},
   "outputs": [],
   "source": [
    "def find132pattern(nums):\n",
    "    stack = []\n",
    "    max_val = float('-inf')\n",
    "\n",
    "    for i in range(len(nums) - 1, -1, -1):\n",
    "        if nums[i] < max_val:\n",
    "            return True\n",
    "\n",
    "        while stack and nums[i] > stack[-1]:\n",
    "            max_val = max(max_val, stack.pop())\n",
    "\n",
    "        stack.append(nums[i])\n",
    "\n",
    "    return False\n"
   ]
  },
  {
   "cell_type": "code",
   "execution_count": 17,
   "id": "da083911",
   "metadata": {},
   "outputs": [
    {
     "name": "stdout",
     "output_type": "stream",
     "text": [
      "False\n",
      "True\n",
      "True\n"
     ]
    }
   ],
   "source": [
    "nums1 = [1, 2, 3, 4]\n",
    "print(find132pattern(nums1))\n",
    "\n",
    "nums2 = [3, 1, 4, 2]\n",
    "print(find132pattern(nums2)) \n",
    "nums3 = [-1, 3, 2, 0]\n",
    "print(find132pattern(nums3))  "
   ]
  },
  {
   "cell_type": "code",
   "execution_count": null,
   "id": "ab0d45d9",
   "metadata": {},
   "outputs": [],
   "source": []
  }
 ],
 "metadata": {
  "kernelspec": {
   "display_name": "Python 3 (ipykernel)",
   "language": "python",
   "name": "python3"
  },
  "language_info": {
   "codemirror_mode": {
    "name": "ipython",
    "version": 3
   },
   "file_extension": ".py",
   "mimetype": "text/x-python",
   "name": "python",
   "nbconvert_exporter": "python",
   "pygments_lexer": "ipython3",
   "version": "3.9.7"
  }
 },
 "nbformat": 4,
 "nbformat_minor": 5
}
