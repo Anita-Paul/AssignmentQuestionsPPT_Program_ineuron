{
 "cells": [
  {
   "cell_type": "markdown",
   "id": "4f125b06",
   "metadata": {},
   "source": [
    "# Question 1"
   ]
  },
  {
   "cell_type": "markdown",
   "id": "ca1f7c11",
   "metadata": {},
   "source": [
    "# Given a non-negative integer `x`, return *the square root of* `x` *rounded down to the nearest integer*. The returned integer should be **non-negative** as well.\n",
    "\n",
    "You **must not use** any built-in exponent function or operator.\n",
    "\n",
    "- For example, do not use `pow(x, 0.5)` in c++ or `x ** 0.5` in python.\n",
    "\n",
    "**Example 1:**\n",
    "Input: x = 4\n",
    "Output: 2\n",
    "Explanation: The square root of 4 is 2, so we return 2.\n",
    "**Example 2:**\n",
    "Input: x = 8\n",
    "Output: 2\n",
    "Explanation: The square root of 8 is 2.82842..., and since we round it down to the nearest integer, 2 is returned."
   ]
  },
  {
   "cell_type": "markdown",
   "id": "3d62b7ce",
   "metadata": {},
   "source": [
    "# Algorithm\n",
    "1.If x is 0 or 1, the square root is equal to x, so return x.\n",
    "\n",
    "2.Initialize two variables, left and right, where left is set to 1 and right is set to x/2 (since the square root of x cannot be greater than x/2 for x > 1).\n",
    "\n",
    "3.Perform a binary search while left <= right:\n",
    "\n",
    "a. Calculate the middle value mid as (left + right) / 2.\n",
    "\n",
    "b. If the square of mid is equal to x, return mid.\n",
    "\n",
    "c. If the square of mid is greater than x, update right = mid - 1.\n",
    "\n",
    "d. If the square of mid is less than x, update left = mid + 1.\n",
    "\n",
    "4.After the binary search, the square root of x will be between left and right. Since we need to return the square root rounded down, return right as the result."
   ]
  },
  {
   "cell_type": "code",
   "execution_count": 20,
   "id": "4e551d08",
   "metadata": {},
   "outputs": [],
   "source": [
    "def mySqrt(x):\n",
    "    if x == 0 or x == 1:\n",
    "        return x\n",
    "\n",
    "    left = 1\n",
    "    right = x // 2\n",
    "\n",
    "    while left <= right:\n",
    "        mid = (left + right) // 2\n",
    "        square = mid * mid\n",
    "\n",
    "        if square == x:\n",
    "            return mid\n",
    "        elif square > x:\n",
    "            right = mid - 1\n",
    "        else:\n",
    "            left = mid + 1\n",
    "\n",
    "    return right"
   ]
  },
  {
   "cell_type": "code",
   "execution_count": 21,
   "id": "1a78bdc6",
   "metadata": {},
   "outputs": [
    {
     "name": "stdout",
     "output_type": "stream",
     "text": [
      "2\n",
      "2\n"
     ]
    }
   ],
   "source": [
    "print(mySqrt(4))  \n",
    "print(mySqrt(8))  "
   ]
  },
  {
   "cell_type": "markdown",
   "id": "21607d39",
   "metadata": {},
   "source": [
    "# Question 2"
   ]
  },
  {
   "cell_type": "markdown",
   "id": "9c28a505",
   "metadata": {},
   "source": [
    "# A peak element is an element that is strictly greater than its neighbors.\n",
    "\n",
    "Given a **0-indexed** integer array `nums`, find a peak element, and return its index. If the array contains multiple peaks, return the index to **any of the peaks**.\n",
    "\n",
    "You may imagine that `nums[-1] = nums[n] = -∞`. In other words, an element is always considered to be strictly greater than a neighbor that is outside the array.\n",
    "\n",
    "You must write an algorithm that runs in `O(log n)` time.\n",
    "\n",
    "**Example 1:**\n",
    "Input: nums = [1,2,3,1]\n",
    "Output: 2\n",
    "Explanation: 3 is a peak element and your function should return the index number 2.\n",
    "**Example 2:**\n",
    "Input: nums = [1,2,1,3,5,6,4]\n",
    "Output: 5\n",
    "Explanation: Your function can return either index number 1 where the peak element is 2, or index number 5 where the peak element is 6."
   ]
  },
  {
   "cell_type": "markdown",
   "id": "2c492b2e",
   "metadata": {},
   "source": [
    "# Algorithm\n",
    "1.Initialize two pointers, left and right, where left is set to 0 and right is set to len(nums) - 1.\n",
    "\n",
    "2.Perform a binary search while left < right:\n",
    "\n",
    "a. Calculate the middle index mid as (left + right) // 2.\n",
    "\n",
    "b. Compare nums[mid] with its neighboring elements, nums[mid-1] and nums[mid+1], if they exist.\n",
    "\n",
    "c. If nums[mid] is greater than both of its neighbors, return mid as the peak element index.\n",
    "\n",
    "d. If nums[mid] is less than nums[mid+1], update left = mid + 1.\n",
    "\n",
    "e. If nums[mid] is less than nums[mid-1], update right = mid - 1.\n",
    "\n",
    "3.If the binary search ends without finding a peak element, return left"
   ]
  },
  {
   "cell_type": "code",
   "execution_count": 3,
   "id": "c4c293a2",
   "metadata": {},
   "outputs": [],
   "source": [
    "def findPeakElement(nums):\n",
    "    left = 0\n",
    "    right = len(nums) - 1\n",
    "\n",
    "    while left < right:\n",
    "        mid = (left + right) // 2\n",
    "\n",
    "        if nums[mid] > nums[mid+1] and nums[mid] > nums[mid-1]:\n",
    "            return mid\n",
    "        elif nums[mid] < nums[mid+1]:\n",
    "            left = mid + 1\n",
    "        else:\n",
    "            right = mid - 1\n",
    "\n",
    "    return left"
   ]
  },
  {
   "cell_type": "code",
   "execution_count": 4,
   "id": "74ca7207",
   "metadata": {},
   "outputs": [
    {
     "name": "stdout",
     "output_type": "stream",
     "text": [
      "2\n",
      "5\n"
     ]
    }
   ],
   "source": [
    "print(findPeakElement([1, 2, 3, 1]))           \n",
    "print(findPeakElement([1, 2, 1, 3, 5, 6, 4]))  "
   ]
  },
  {
   "cell_type": "markdown",
   "id": "3bc5aab3",
   "metadata": {},
   "source": [
    "# Question 3"
   ]
  },
  {
   "cell_type": "markdown",
   "id": "63f88361",
   "metadata": {},
   "source": [
    "# Given an array `nums` containing `n` distinct numbers in the range `[0, n]`, return *the only number in the range that is missing from the array.*\n",
    "\n",
    "**Example 1:**\n",
    "Input: nums = [3,0,1]\n",
    "Output: 2\n",
    "Explanation: n = 3 since there are 3 numbers, so all numbers are in the range [0,3]. 2 is the missing number in the range since it does not appear in nums.\n",
    "**Example 2:**\n",
    "Input: nums = [0,1]\n",
    "Output: 2\n",
    "Explanation: n = 2 since there are 2 numbers, so all numbers are in the range [0,2]. 2 is the missing number in the range since it does not appear in nums.\n",
    "**Example 3:**\n",
    "Input: nums = [9,6,4,2,3,5,7,0,1]\n",
    "Output: 8\n",
    "Explanation: n = 9 since there are 9 numbers, so all numbers are in the range [0,9]. 8 is the missing number in the range since it does not appear in nums."
   ]
  },
  {
   "cell_type": "markdown",
   "id": "934413b6",
   "metadata": {},
   "source": [
    "# Algorithm\n",
    "1.Initialize a variable missing to n, which represents the upper bound of the range.\n",
    "\n",
    "2.Iterate through the elements num in nums and update missing using the XOR operation as follows: missing ^= num ^ index, where index is the current index.\n",
    "\n",
    "3.After the iteration, the missing variable will hold the XOR result of all the numbers in the range [0, n] and the elements in nums. Since all numbers in the range except for the missing number appear twice in nums (once as the element itself and once as the index in the XOR operation), the missing number will be canceled out, leaving only the missing number in missing.\n",
    "\n",
    "4.Return the value of missing, which is the missing number."
   ]
  },
  {
   "cell_type": "code",
   "execution_count": 22,
   "id": "0891349c",
   "metadata": {},
   "outputs": [],
   "source": [
    "def missingNumber(nums):\n",
    "    n = len(nums)\n",
    "    missing = n\n",
    "\n",
    "    for i, num in enumerate(nums):\n",
    "        missing ^= num ^ i\n",
    "\n",
    "    return missing"
   ]
  },
  {
   "cell_type": "markdown",
   "id": "d5daa148",
   "metadata": {},
   "source": [
    "# Question 4"
   ]
  },
  {
   "cell_type": "markdown",
   "id": "6c76485a",
   "metadata": {},
   "source": [
    "# Given an array of integers `nums` containing `n + 1` integers where each integer is in the range `[1, n]` inclusive.\n",
    "\n",
    "There is only **one repeated number** in `nums`, return *this repeated number*.\n",
    "\n",
    "You must solve the problem **without** modifying the array `nums` and uses only constant extra space.\n",
    "\n",
    "**Example 1:**\n",
    "Input: nums = [1,3,4,2,2]\n",
    "Output: 2\n",
    "**Example 2:**\n",
    "Input: nums = [3,1,3,4,2]\n",
    "Output: 3"
   ]
  },
  {
   "cell_type": "markdown",
   "id": "36b42322",
   "metadata": {},
   "source": [
    "# Algorithm\n",
    "1.Start by initializing two pointers, slow and fast, to the first element of nums.\n",
    "\n",
    "2.Move slow one step forward and fast two steps forward in each iteration until they meet.\n",
    "\n",
    "3.Once slow and fast meet, reset fast to the first element of nums.\n",
    "\n",
    "4.Move both slow and fast one step forward in each iteration until they meet again. The point at which they meet is the starting point of the cycle.\n",
    "\n",
    "5.Return the value of either slow or fast as the repeated number."
   ]
  },
  {
   "cell_type": "code",
   "execution_count": 23,
   "id": "20a7284d",
   "metadata": {},
   "outputs": [],
   "source": [
    "def findDuplicate(nums):\n",
    "    slow = nums[0]\n",
    "    fast = nums[0]\n",
    "\n",
    "    while True:\n",
    "        slow = nums[slow]\n",
    "        fast = nums[nums[fast]]\n",
    "        if slow == fast:\n",
    "            break\n",
    "\n",
    "    fast = nums[0]\n",
    "\n",
    "    while slow != fast:\n",
    "        slow = nums[slow]\n",
    "        fast = nums[fast]\n",
    "\n",
    "    return slow"
   ]
  },
  {
   "cell_type": "code",
   "execution_count": 24,
   "id": "14771df4",
   "metadata": {},
   "outputs": [
    {
     "name": "stdout",
     "output_type": "stream",
     "text": [
      "2\n",
      "3\n"
     ]
    }
   ],
   "source": [
    "print(findDuplicate([1, 3, 4, 2, 2]))  \n",
    "print(findDuplicate([3, 1, 3, 4, 2]))  "
   ]
  },
  {
   "cell_type": "markdown",
   "id": "618730d1",
   "metadata": {},
   "source": [
    "# Question 5"
   ]
  },
  {
   "cell_type": "markdown",
   "id": "030812cf",
   "metadata": {},
   "source": [
    "# Given two integer arrays `nums1` and `nums2`, return *an array of their intersection*. Each element in the result must be **unique** and you may return the result in **any order**.\n",
    "\n",
    "**Example 1:**\n",
    "Input: nums1 = [1,2,2,1], nums2 = [2,2]\n",
    "Output: [2]\n",
    "**Example 2:**\n",
    "Input: nums1 = [4,9,5], nums2 = [9,4,9,8,4]\n",
    "Output: [9,4]\n",
    "Explanation: [4,9] is also accepted."
   ]
  },
  {
   "cell_type": "markdown",
   "id": "3eb79ce2",
   "metadata": {},
   "source": [
    "# Algorithm\n",
    "1.Initialize an empty set, nums1_set, and a result list, intersection, to store the unique elements and the intersection, respectively.\n",
    "\n",
    "2.Iterate through each element num in nums1 and add it to nums1_set.\n",
    "\n",
    "3.Iterate through each element num in nums2:\n",
    "\n",
    "4.If num is present in nums1_set and not already in the intersection list, add it to the intersection list.\n",
    "\n",
    "5.Return the intersection list as the result."
   ]
  },
  {
   "cell_type": "code",
   "execution_count": 25,
   "id": "cfbd950c",
   "metadata": {},
   "outputs": [],
   "source": [
    "def intersection(nums1, nums2):\n",
    "    nums1_set = set(nums1)\n",
    "    intersection = []\n",
    "\n",
    "    for num in nums2:\n",
    "        if num in nums1_set and num not in intersection:\n",
    "            intersection.append(num)\n",
    "\n",
    "    return intersection"
   ]
  },
  {
   "cell_type": "code",
   "execution_count": 26,
   "id": "06188e11",
   "metadata": {},
   "outputs": [
    {
     "name": "stdout",
     "output_type": "stream",
     "text": [
      "[2]\n",
      "[9, 4]\n"
     ]
    }
   ],
   "source": [
    "print(intersection([1, 2, 2, 1], [2, 2]))                      \n",
    "print(intersection([4, 9, 5], [9, 4, 9, 8, 4]))               "
   ]
  },
  {
   "cell_type": "markdown",
   "id": "fc7492a6",
   "metadata": {},
   "source": [
    "# Question 6"
   ]
  },
  {
   "cell_type": "markdown",
   "id": "37865713",
   "metadata": {},
   "source": [
    "# Suppose an array of length `n` sorted in ascending order is **rotated** between `1` and `n` times. For example, the array `nums = [0,1,2,4,5,6,7]` might become:\n",
    "\n",
    "- `[4,5,6,7,0,1,2]` if it was rotated `4` times.\n",
    "- `[0,1,2,4,5,6,7]` if it was rotated `7` times.\n",
    "\n",
    "Notice that **rotating** an array `[a[0], a[1], a[2], ..., a[n-1]]` 1 time results in the array `[a[n-1], a[0], a[1], a[2], ..., a[n-2]]`.\n",
    "\n",
    "Given the sorted rotated array `nums` of **unique** elements, return *the minimum element of this array*.\n",
    "\n",
    "You must write an algorithm that runs in `O(log n) time.`\n",
    "\n",
    "**Example 1:**\n",
    "Input: nums = [3,4,5,1,2]\n",
    "Output: 1\n",
    "Explanation: The original array was [1,2,3,4,5] rotated 3 times.\n",
    "**Example 2:**\n",
    "Input: nums = [4,5,6,7,0,1,2]\n",
    "Output: 0\n",
    "Explanation: The original array was [0,1,2,4,5,6,7] and it was rotated 4 times.\n",
    "**Example 3:**\n",
    "Input: nums = [11,13,15,17]\n",
    "Output: 11\n",
    "Explanation: The original array was [11,13,15,17] and it was rotated 4 times."
   ]
  },
  {
   "cell_type": "markdown",
   "id": "63376aea",
   "metadata": {},
   "source": [
    "# Algorithm\n",
    "1.Initialize two pointers, left and right, where left is set to 0 and right is set to len(nums) - 1.\n",
    "\n",
    "2.Perform a binary search while left < right:\n",
    "\n",
    "a. Calculate the middle index mid as (left + right) // 2.\n",
    "\n",
    "b. Check if nums[mid] is greater than nums[right]. If it is, it means the minimum element lies in the right half of the array, so update left = mid + 1.\n",
    "\n",
    "c. Otherwise, the minimum element lies in the left half of the array or could be the middle element itself, so update right = mid.\n",
    "\n",
    "3.When the binary search ends, the value at nums[left] (or nums[right]) will be the minimum element.\n",
    "\n",
    "4.Return the value at nums[left] (or nums[right]) as the result."
   ]
  },
  {
   "cell_type": "code",
   "execution_count": 27,
   "id": "db93b90d",
   "metadata": {},
   "outputs": [],
   "source": [
    "def findMin(nums):\n",
    "    left = 0\n",
    "    right = len(nums) - 1\n",
    "\n",
    "    while left < right:\n",
    "        mid = (left + right) // 2\n",
    "\n",
    "        if nums[mid] > nums[right]:\n",
    "            left = mid + 1\n",
    "        else:\n",
    "            right = mid\n",
    "\n",
    "    return nums[left]"
   ]
  },
  {
   "cell_type": "code",
   "execution_count": 28,
   "id": "3303d8da",
   "metadata": {},
   "outputs": [
    {
     "name": "stdout",
     "output_type": "stream",
     "text": [
      "1\n",
      "0\n",
      "11\n"
     ]
    }
   ],
   "source": [
    "print(findMin([3, 4, 5, 1, 2]))       \n",
    "print(findMin([4, 5, 6, 7, 0, 1, 2]))   \n",
    "print(findMin([11, 13, 15, 17]))        "
   ]
  },
  {
   "cell_type": "markdown",
   "id": "2ddae54a",
   "metadata": {},
   "source": [
    "# Question 7"
   ]
  },
  {
   "cell_type": "markdown",
   "id": "2718b4bf",
   "metadata": {},
   "source": [
    "# Given an array of integers `nums` sorted in non-decreasing order, find the starting and ending position of a given `target` value.\n",
    "\n",
    "If `target` is not found in the array, return `[-1, -1]`.\n",
    "\n",
    "You must write an algorithm with `O(log n)` runtime complexity.\n",
    "\n",
    "**Example 1:**\n",
    "Input: nums = [5,7,7,8,8,10], target = 8\n",
    "Output: [3,4]\n",
    "**Example 2:**\n",
    "Input: nums = [5,7,7,8,8,10], target = 6\n",
    "Output: [-1,-1]\n",
    "**Example 3:**\n",
    "Input: nums = [], target = 0\n",
    "Output: [-1,-1]"
   ]
  },
  {
   "cell_type": "markdown",
   "id": "b0e66614",
   "metadata": {},
   "source": [
    "# Algorithm\n",
    "1.Initialize two variables, left and right, to store the leftmost and rightmost occurrences of the target, respectively. Set left to the index of the first element in nums and right to the index of the last element in nums.\n",
    "\n",
    "2.Perform the first binary search to find the leftmost occurrence:\n",
    "\n",
    "a. While left < right, calculate the middle index mid as (left + right) // 2.\n",
    "\n",
    "b. If nums[mid] is less than the target, update left = mid + 1.\n",
    "\n",
    "c. If nums[mid] is greater than or equal to the target, update right = mid.\n",
    "\n",
    "3.After the first binary search, the left variable will contain the index of the leftmost occurrence of the target. If nums[left] is not equal to the target, return [-1, -1].\n",
    "\n",
    "4.Reset the right variable to the index of the last element in nums.\n",
    "\n",
    "5.Perform the second binary search to find the rightmost occurrence:\n",
    "\n",
    "a. While left < right, calculate the middle index mid as (left + right + 1) // 2.\n",
    "\n",
    "b. If nums[mid] is greater than the target, update right = mid - 1.\n",
    "\n",
    "c. If nums[mid] is less than or equal to the target, update left = mid.\n",
    "\n",
    "6.After the second binary search, the right variable will contain the index of the rightmost occurrence of the target.\n",
    "\n",
    "7.Return [left, right] as the result."
   ]
  },
  {
   "cell_type": "code",
   "execution_count": 16,
   "id": "d73fc4d5",
   "metadata": {},
   "outputs": [],
   "source": [
    "def searchRange(nums, target):\n",
    "    if not nums:\n",
    "        return [-1, -1]\n",
    "\n",
    "    left = 0\n",
    "    right = len(nums) - 1\n",
    "\n",
    "    while left < right:\n",
    "        mid = (left + right) // 2\n",
    "\n",
    "        if nums[mid] < target:\n",
    "            left = mid + 1\n",
    "        else:\n",
    "            right = mid\n",
    "\n",
    "    if nums[left] != target:\n",
    "        return [-1, -1]\n",
    "\n",
    "    right = len(nums) - 1\n",
    "\n",
    "    while left < right:\n",
    "        mid = (left + right + 1) // 2\n",
    "\n",
    "        if nums[mid] > target:\n",
    "            right = mid - 1\n",
    "        else:\n",
    "            left = mid\n",
    "\n",
    "    return [left, right]"
   ]
  },
  {
   "cell_type": "code",
   "execution_count": 17,
   "id": "2197a587",
   "metadata": {},
   "outputs": [
    {
     "name": "stdout",
     "output_type": "stream",
     "text": [
      "[4, 4]\n",
      "[-1, -1]\n",
      "[-1, -1]\n"
     ]
    }
   ],
   "source": [
    "print(searchRange([5, 7, 7, 8, 8, 10], 8))   \n",
    "print(searchRange([5, 7, 7, 8, 8, 10], 6))   \n",
    "print(searchRange([], 0))                  "
   ]
  },
  {
   "cell_type": "markdown",
   "id": "6f1a0b8b",
   "metadata": {},
   "source": [
    "# Question 8"
   ]
  },
  {
   "cell_type": "markdown",
   "id": "c072a290",
   "metadata": {},
   "source": [
    "# Given two integer arrays `nums1` and `nums2`, return *an array of their intersection*. Each element in the result must appear as many times as it shows in both arrays and you may return the result in **any order**.\n",
    "\n",
    "**Example 1:**\n",
    "Input: nums1 = [1,2,2,1], nums2 = [2,2]\n",
    "Output: [2,2]\n",
    "**Example 2:**\n",
    "Input: nums1 = [4,9,5], nums2 = [9,4,9,8,4]\n",
    "Output: [4,9]\n",
    "Explanation: [9,4] is also accepted."
   ]
  },
  {
   "cell_type": "markdown",
   "id": "280a4d49",
   "metadata": {},
   "source": [
    "# Algorithm\n",
    "1.Initialize an empty hash map freq_map to store the frequency of elements in nums1.\n",
    "\n",
    "2.Iterate through each element num in nums1 and update its frequency in freq_map. If num is not present in freq_map, set its frequency to 1. Otherwise, increment its frequency by 1.\n",
    "\n",
    "3.Initialize an empty list result to store the intersection elements.\n",
    "\n",
    "4.Iterate through each element num in nums2:\n",
    "\n",
    "a. If num is present in freq_map and its frequency is greater than 0, append it to result and decrement its frequency in freq_map.\n",
    "\n",
    "5.Return result as the output."
   ]
  },
  {
   "cell_type": "code",
   "execution_count": 18,
   "id": "a08c8dce",
   "metadata": {},
   "outputs": [],
   "source": [
    "from collections import defaultdict\n",
    "\n",
    "def intersect(nums1, nums2):\n",
    "    freq_map = defaultdict(int)\n",
    "\n",
    "    for num in nums1:\n",
    "        freq_map[num] += 1\n",
    "\n",
    "    result = []\n",
    "\n",
    "    for num in nums2:\n",
    "        if freq_map[num] > 0:\n",
    "            result.append(num)\n",
    "            freq_map[num] -= 1\n",
    "\n",
    "    return result"
   ]
  },
  {
   "cell_type": "code",
   "execution_count": 19,
   "id": "bf552ee6",
   "metadata": {},
   "outputs": [
    {
     "name": "stdout",
     "output_type": "stream",
     "text": [
      "[2, 2]\n",
      "[9, 4]\n"
     ]
    }
   ],
   "source": [
    "print(intersect([1, 2, 2, 1], [2, 2]))            \n",
    "print(intersect([4, 9, 5], [9, 4, 9, 8, 4]))     "
   ]
  },
  {
   "cell_type": "code",
   "execution_count": null,
   "id": "8a630541",
   "metadata": {},
   "outputs": [],
   "source": []
  }
 ],
 "metadata": {
  "kernelspec": {
   "display_name": "Python 3 (ipykernel)",
   "language": "python",
   "name": "python3"
  },
  "language_info": {
   "codemirror_mode": {
    "name": "ipython",
    "version": 3
   },
   "file_extension": ".py",
   "mimetype": "text/x-python",
   "name": "python",
   "nbconvert_exporter": "python",
   "pygments_lexer": "ipython3",
   "version": "3.9.7"
  }
 },
 "nbformat": 4,
 "nbformat_minor": 5
}
