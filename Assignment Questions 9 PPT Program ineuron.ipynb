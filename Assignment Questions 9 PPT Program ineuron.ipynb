{
 "cells": [
  {
   "cell_type": "markdown",
   "id": "553d666e",
   "metadata": {},
   "source": [
    "# Question 1"
   ]
  },
  {
   "cell_type": "markdown",
   "id": "14209744",
   "metadata": {},
   "source": [
    "# Given an integer `n`, return *`true` if it is a power of two. Otherwise, return `false`*.\n",
    "\n",
    "An integer `n` is a power of two, if there exists an integer `x` such that `n == 2x`.\n",
    "\n",
    "**Example 1:**\n",
    "Input: n = 1 \n",
    "\n",
    "Output: true\n",
    "\n",
    "**Example 2:**\n",
    "Input: n = 16 \n",
    "\n",
    "Output: true\n",
    "\n",
    "**Example 3:**\n",
    "Input: n = 3 \n",
    "\n",
    "Output: false"
   ]
  },
  {
   "cell_type": "markdown",
   "id": "3db59b5c",
   "metadata": {},
   "source": [
    "# Algorithm\n",
    "1.Check if n is greater than 0.\n",
    "\n",
    "2.If n is not greater than 0, return False.\n",
    "\n",
    "3.Use the bitwise AND operation between n and (n - 1) to unset the rightmost set bit in n.\n",
    "\n",
    "4.If the result of the bitwise AND operation is 0, return True; otherwise, return False."
   ]
  },
  {
   "cell_type": "code",
   "execution_count": 4,
   "id": "552f4cea",
   "metadata": {},
   "outputs": [
    {
     "name": "stdout",
     "output_type": "stream",
     "text": [
      "True\n",
      "True\n",
      "False\n"
     ]
    }
   ],
   "source": [
    "def isPowerOfTwo(n):\n",
    "    return n > 0 and (n & (n - 1)) == 0\n",
    "\n",
    "n = 1\n",
    "output = isPowerOfTwo(n)\n",
    "print(output)  # Output: True\n",
    "n = 16\n",
    "output = isPowerOfTwo(n)\n",
    "print(output)  # Output: True\n",
    "n = 3\n",
    "output = isPowerOfTwo(n)\n",
    "print(output)  # Output: False"
   ]
  },
  {
   "cell_type": "markdown",
   "id": "1c0ef993",
   "metadata": {},
   "source": [
    "# Question 2"
   ]
  },
  {
   "cell_type": "markdown",
   "id": "b87bac2e",
   "metadata": {},
   "source": [
    "# Given a number n, find the sum of the first natural numbers.\n",
    "\n",
    "**Example 1:**\n",
    "\n",
    "Input: n = 3 \n",
    "\n",
    "Output: 6\n",
    "\n",
    "**Example 2:**\n",
    "\n",
    "Input  : 5 \n",
    "\n",
    "Output : 15"
   ]
  },
  {
   "cell_type": "markdown",
   "id": "b4eccc3f",
   "metadata": {},
   "source": [
    "# Algorithm\n",
    "1.Calculate the sum using the formula sum = (n * (n + 1)) / 2.\n",
    "\n",
    "2.Return the calculated sum."
   ]
  },
  {
   "cell_type": "code",
   "execution_count": 8,
   "id": "dde39d2a",
   "metadata": {},
   "outputs": [
    {
     "name": "stdout",
     "output_type": "stream",
     "text": [
      "6\n",
      "15\n"
     ]
    }
   ],
   "source": [
    "def sumOfNaturalNumbers(n):\n",
    "    sum = (n * (n + 1)) // 2\n",
    "    return sum\n",
    "n = 3\n",
    "output = sumOfNaturalNumbers(n)\n",
    "print(output)  \n",
    "\n",
    "n = 5\n",
    "output = sumOfNaturalNumbers(n)\n",
    "print(output) "
   ]
  },
  {
   "cell_type": "markdown",
   "id": "e4f7829b",
   "metadata": {},
   "source": [
    "# Question 3"
   ]
  },
  {
   "cell_type": "markdown",
   "id": "49766b77",
   "metadata": {},
   "source": [
    "# Given a positive integer, N. Find the factorial of N. \n",
    "\n",
    "**Example 1:**\n",
    "\n",
    "Input: N = 5 \n",
    "\n",
    "Output: 120\n",
    "\n",
    "**Example 2:**\n",
    "\n",
    "Input: N = 4\n",
    "\n",
    "Output: 24"
   ]
  },
  {
   "cell_type": "markdown",
   "id": "ce93ed38",
   "metadata": {},
   "source": [
    "# Algorithm\n",
    "1.Initialize a variable factorial with a value of 1.\n",
    "\n",
    "2.Iterate from 1 to N (inclusive) using a loop.\n",
    "\n",
    "3.Multiply factorial by the current number in each iteration.\n",
    "\n",
    "4.After the loop, factorial will hold the factorial of N.\n",
    "\n",
    "5.Return the value of factorial."
   ]
  },
  {
   "cell_type": "code",
   "execution_count": 12,
   "id": "057bc115",
   "metadata": {},
   "outputs": [
    {
     "name": "stdout",
     "output_type": "stream",
     "text": [
      "120\n",
      "24\n"
     ]
    }
   ],
   "source": [
    "def factorial(N):\n",
    "    factorial = 1\n",
    "    for i in range(1, N+1):\n",
    "        factorial *= i\n",
    "    return factorial\n",
    "N = 5\n",
    "output = factorial(N)\n",
    "print(output) \n",
    "\n",
    "N = 4\n",
    "output = factorial(N)\n",
    "print(output)  "
   ]
  },
  {
   "cell_type": "markdown",
   "id": "9bc7409a",
   "metadata": {},
   "source": [
    "# Question 4"
   ]
  },
  {
   "cell_type": "markdown",
   "id": "ae97217c",
   "metadata": {},
   "source": [
    "# Given a number N and a power P, the task is to find the exponent of this number raised to the given power, i.e. N^P.\n",
    "\n",
    "**Example 1 :** \n",
    "\n",
    "Input: N = 5, P = 2\n",
    "\n",
    "Output: 25\n",
    "\n",
    "**Example 2 :**\n",
    "Input: N = 2, P = 5\n",
    "\n",
    "Output: 32"
   ]
  },
  {
   "cell_type": "markdown",
   "id": "58ebcc50",
   "metadata": {},
   "source": [
    "# Algorithm\n",
    "1.Use the ** operator or the pow() function to calculate N raised to the power P.\n",
    "\n",
    "2.Return the calculated value."
   ]
  },
  {
   "cell_type": "code",
   "execution_count": 16,
   "id": "fd9e4b6e",
   "metadata": {},
   "outputs": [
    {
     "name": "stdout",
     "output_type": "stream",
     "text": [
      "25\n",
      "32\n"
     ]
    }
   ],
   "source": [
    "def exponent(N, P):\n",
    "    result = N ** P\n",
    "    return result\n",
    "N = 5\n",
    "P = 2\n",
    "output = exponent(N, P)\n",
    "print(output) \n",
    "\n",
    "N = 2\n",
    "P = 5\n",
    "output = exponent(N, P)\n",
    "print(output)  "
   ]
  },
  {
   "cell_type": "markdown",
   "id": "6c39d391",
   "metadata": {},
   "source": [
    "# Question 5"
   ]
  },
  {
   "cell_type": "markdown",
   "id": "e0b4bf2a",
   "metadata": {},
   "source": [
    "# Given an array of integers **arr**, the task is to find maximum element of that array using recursion.\n",
    "\n",
    "**Example 1:**\n",
    "\n",
    "Input: arr = {1, 4, 3, -5, -4, 8, 6};\n",
    "Output: 8\n",
    "\n",
    "**Example 2:**\n",
    "\n",
    "Input: arr = {1, 4, 45, 6, 10, -8};\n",
    "Output: 45"
   ]
  },
  {
   "cell_type": "markdown",
   "id": "ed364658",
   "metadata": {},
   "source": [
    "# Algorithm\n",
    "1.If the length of the array arr is 1, return the single element as the maximum.\n",
    "\n",
    "2.Otherwise, compare the first element of the array with the maximum element of the rest of the array obtained by a recursive call.\n",
    "\n",
    "3.Return the larger value as the maximum."
   ]
  },
  {
   "cell_type": "code",
   "execution_count": 20,
   "id": "a5e4effa",
   "metadata": {},
   "outputs": [
    {
     "name": "stdout",
     "output_type": "stream",
     "text": [
      "8\n",
      "45\n"
     ]
    }
   ],
   "source": [
    "def find_max(arr):\n",
    "    if len(arr) == 1:\n",
    "        return arr[0]\n",
    "    else:\n",
    "        return max(arr[0], find_max(arr[1:]))\n",
    "arr = [1, 4, 3, -5, -4, 8, 6]\n",
    "output = find_max(arr)\n",
    "print(output)  \n",
    "\n",
    "arr = [1, 4, 45, 6, 10, -8]\n",
    "output = find_max(arr)\n",
    "print(output)  "
   ]
  },
  {
   "cell_type": "markdown",
   "id": "01574b56",
   "metadata": {},
   "source": [
    "# Question 6"
   ]
  },
  {
   "cell_type": "markdown",
   "id": "47fa1caf",
   "metadata": {},
   "source": [
    "# Given first term (a), common difference (d) and a integer N of the Arithmetic Progression series, the task is to find Nth term of the series.\n",
    "\n",
    "**Example 1:**\n",
    "\n",
    "Input : a = 2 d = 1 N = 5\n",
    "Output : 6\n",
    "The 5th term of the series is : 6\n",
    "\n",
    "**Example 2:**\n",
    "\n",
    "Input : a = 5 d = 2 N = 10\n",
    "Output : 23\n",
    "The 10th term of the series is : 23"
   ]
  },
  {
   "cell_type": "markdown",
   "id": "4d84dcdc",
   "metadata": {},
   "source": [
    "# Algorithm\n",
    "The Nth term of an arithmetic progression series given the first term (a), common difference (d), and the value of N, we can use the formula:\n",
    "Nth term = a + (N - 1) * d"
   ]
  },
  {
   "cell_type": "code",
   "execution_count": 24,
   "id": "f0aaf914",
   "metadata": {},
   "outputs": [
    {
     "name": "stdout",
     "output_type": "stream",
     "text": [
      "6\n",
      "23\n"
     ]
    }
   ],
   "source": [
    "def find_nth_term(a, d, N):\n",
    "    return a + (N - 1) * d\n",
    "a = 2\n",
    "d = 1\n",
    "N = 5\n",
    "output = find_nth_term(a, d, N)\n",
    "print(output)  \n",
    "\n",
    "a = 5\n",
    "d = 2\n",
    "N = 10\n",
    "output = find_nth_term(a, d, N)\n",
    "print(output)  "
   ]
  },
  {
   "cell_type": "markdown",
   "id": "574000ac",
   "metadata": {},
   "source": [
    "# Question 7"
   ]
  },
  {
   "cell_type": "markdown",
   "id": "7ba29fe6",
   "metadata": {},
   "source": [
    "# Given a string S, the task is to write a program to print all permutations of a given string.\n",
    "\n",
    "**Example 1:**\n",
    "\n",
    "***Input:***\n",
    "\n",
    "*S = “ABC”*\n",
    "\n",
    "***Output:***\n",
    "\n",
    "*“ABC”, “ACB”, “BAC”, “BCA”, “CBA”, “CAB”*\n",
    "\n",
    "**Example 2:**\n",
    "\n",
    "***Input:***\n",
    "\n",
    "*S = “XY”*\n",
    "***Output:***\n",
    "\n",
    "*“XY”, “YX”*"
   ]
  },
  {
   "cell_type": "markdown",
   "id": "641f9413",
   "metadata": {},
   "source": [
    "# Algorithm\n",
    "1.Initialize an empty list to store the permutations.\n",
    "\n",
    "2.Define a recursive function permute that takes the current permutation, remaining characters, and the length of the string as parameters.\n",
    "\n",
    "3.If the length of the current permutation is equal to the length of the string, add it to the list of permutations.\n",
    "    \n",
    "4.Iterate through the remaining characters:\n",
    "        \n",
    "5.Remove the current character from the remaining characters.\n",
    "    \n",
    "6.Add the current character to the current permutation.\n",
    "        \n",
    "7.Recursively call permute with the updated permutation and remaining characters.\n",
    "        \n",
    "8.Restore the current character to the remaining characters.\n",
    "    \n",
    "9.Call the permute function with an empty current permutation, the original string, and its length.\n",
    "    \n",
    "10.Print the list of permutations."
   ]
  },
  {
   "cell_type": "code",
   "execution_count": 28,
   "id": "b156ad62",
   "metadata": {},
   "outputs": [
    {
     "name": "stdout",
     "output_type": "stream",
     "text": [
      "['ABC', 'ACB', 'BAC', 'BCA', 'CAB', 'CBA']\n",
      "['XY', 'YX']\n"
     ]
    }
   ],
   "source": [
    "def permute(current_permutation, remaining_chars, length):\n",
    "    if len(current_permutation) == length:\n",
    "        permutations.append(current_permutation)\n",
    "    else:\n",
    "        for i in range(len(remaining_chars)):\n",
    "            char = remaining_chars[i]\n",
    "            permute(current_permutation + char, remaining_chars[:i] + remaining_chars[i+1:], length)\n",
    "string = \"ABC\"\n",
    "permutations = []\n",
    "permute(\"\", string, len(string))\n",
    "print(permutations)\n",
    "\n",
    "string = \"XY\"\n",
    "permutations = []\n",
    "permute(\"\", string, len(string))\n",
    "print(permutations)"
   ]
  },
  {
   "cell_type": "markdown",
   "id": "6f447994",
   "metadata": {},
   "source": [
    "# Question 8"
   ]
  },
  {
   "cell_type": "markdown",
   "id": "346cc2f3",
   "metadata": {},
   "source": [
    "# Given an array, find a product of all array elements.\n",
    "\n",
    "**Example 1:**\n",
    "\n",
    "Input  : arr[] = {1, 2, 3, 4, 5}\n",
    "Output : 120\n",
    "**Example 2:**\n",
    "\n",
    "Input  : arr[] = {1, 6, 3}\n",
    "Output : 18"
   ]
  },
  {
   "cell_type": "markdown",
   "id": "e75962c4",
   "metadata": {},
   "source": [
    "# Algorithm\n",
    "1.Initialize a variable product to 1.\n",
    "    \n",
    "2.Iterate through each element in the array:\n",
    "\n",
    "3.Multiply the product by the current element.\n",
    "    \n",
    "4.Return the product."
   ]
  },
  {
   "cell_type": "code",
   "execution_count": 32,
   "id": "06bab003",
   "metadata": {},
   "outputs": [
    {
     "name": "stdout",
     "output_type": "stream",
     "text": [
      "120\n",
      "18\n"
     ]
    }
   ],
   "source": [
    "def product_of_array(arr):\n",
    "    product = 1\n",
    "    for num in arr:\n",
    "        product *= num\n",
    "    return product\n",
    "arr = [1, 2, 3, 4, 5]\n",
    "print(product_of_array(arr))\n",
    "\n",
    "arr = [1, 6, 3]\n",
    "print(product_of_array(arr))"
   ]
  },
  {
   "cell_type": "markdown",
   "id": "67ae5287",
   "metadata": {},
   "source": []
  }
 ],
 "metadata": {
  "kernelspec": {
   "display_name": "Python 3 (ipykernel)",
   "language": "python",
   "name": "python3"
  },
  "language_info": {
   "codemirror_mode": {
    "name": "ipython",
    "version": 3
   },
   "file_extension": ".py",
   "mimetype": "text/x-python",
   "name": "python",
   "nbconvert_exporter": "python",
   "pygments_lexer": "ipython3",
   "version": "3.9.7"
  }
 },
 "nbformat": 4,
 "nbformat_minor": 5
}
