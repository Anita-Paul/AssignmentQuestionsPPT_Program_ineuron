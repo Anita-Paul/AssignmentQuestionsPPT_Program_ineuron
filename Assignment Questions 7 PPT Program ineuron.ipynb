{
 "cells": [
  {
   "cell_type": "markdown",
   "id": "4b26d7da",
   "metadata": {},
   "source": [
    "# Question 1"
   ]
  },
  {
   "cell_type": "markdown",
   "id": "9007deb7",
   "metadata": {},
   "source": [
    "# Given two strings s and t, *determine if they are isomorphic*.\n",
    "\n",
    "Two strings s and t are isomorphic if the characters in s can be replaced to get t.\n",
    "\n",
    "All occurrences of a character must be replaced with another character while preserving the order of characters. No two characters may map to the same character, but a character may map to itself.\n",
    "\n",
    "**Example 1:**\n",
    "\n",
    "**Input:** s = \"egg\", t = \"add\"\n",
    "\n",
    "**Output:** true"
   ]
  },
  {
   "cell_type": "markdown",
   "id": "0cbca00f",
   "metadata": {},
   "source": [
    "#    Algorithm\n",
    "1.First, we check if the lengths of s and t are equal. If they are not equal, they cannot be isomorphic, so we return false.\n",
    "2.We create two dictionaries, s_map and t_map, to store the mappings of characters from s to t, and vice versa, respectively.\n",
    "3.We iterate through the characters of s and t simultaneously, comparing the characters at the same position:\n",
    "a. If the current characters are already in the mappings dictionaries and their mappings do not match, we return false. This ensures that no two characters in s can map to the same character in t.\n",
    "b. If the current characters are not in the mappings dictionaries, we add them to the dictionaries with their corresponding mappings.\n",
    "4.If we have iterated through all the characters and haven't encountered any mismatches, we return true, indicating that s and t are isomorphic."
   ]
  },
  {
   "cell_type": "code",
   "execution_count": 41,
   "id": "cfc974ba",
   "metadata": {},
   "outputs": [],
   "source": [
    "def isomorphic_strings(s, t):\n",
    "    if len(s) != len(t):\n",
    "        return False\n",
    "\n",
    "    s_map = {}\n",
    "    t_map = {}\n",
    "\n",
    "    for i in range(len(s)):\n",
    "        s_char = s[i]\n",
    "        t_char = t[i]\n",
    "\n",
    "        if s_char in s_map and s_map[s_char] != t_char:\n",
    "            return False\n",
    "\n",
    "        if t_char in t_map and t_map[t_char] != s_char:\n",
    "            return False\n",
    "\n",
    "        s_map[s_char] = t_char\n",
    "        t_map[t_char] = s_char\n",
    "\n",
    "    return True"
   ]
  },
  {
   "cell_type": "code",
   "execution_count": 5,
   "id": "dd3abad9",
   "metadata": {},
   "outputs": [
    {
     "name": "stdout",
     "output_type": "stream",
     "text": [
      "True\n"
     ]
    }
   ],
   "source": [
    "s = \"egg\"\n",
    "t = \"add\"\n",
    "print(isomorphic_strings(s, t)) "
   ]
  },
  {
   "cell_type": "markdown",
   "id": "48a6c7da",
   "metadata": {},
   "source": [
    "# Question 2"
   ]
  },
  {
   "cell_type": "markdown",
   "id": "0345194f",
   "metadata": {},
   "source": [
    "# Given a string num which represents an integer, return true *if* num *is a **strobogrammatic number***.\n",
    "\n",
    "A **strobogrammatic number** is a number that looks the same when rotated 180 degrees (looked at upside down).\n",
    "\n",
    "**Example 1:**\n",
    "\n",
    "**Input:** num = \"69\"\n",
    "\n",
    "**Output:**\n",
    "\n",
    "true\n"
   ]
  },
  {
   "cell_type": "markdown",
   "id": "aaf37e93",
   "metadata": {},
   "source": [
    "# Algorithm\n",
    "   1.Create a dictionary, mapping, to store the mappings of valid strobogrammatic digits.\n",
    "\n",
    "   2.Initialize two pointers, left and right, pointing to the start and end of the string num, respectively.\n",
    "\n",
    "   3.Iterate until left is less than or equal to right:\n",
    "\n",
    "   a. Check if the characters at positions left and right are valid strobogrammatic digits according to the mapping dictionary. If not, return False.\n",
    "\n",
    "   b. Check if the characters at positions left and right are mirror images of each other. If not, return False.\n",
    "\n",
    "   c. Increment left and decrement right to move towards the center of the string.\n",
    "\n",
    "   4.If we have iterated through the entire string without encountering any mismatches, return True, indicating that the number is a strobogrammatic number."
   ]
  },
  {
   "cell_type": "code",
   "execution_count": 9,
   "id": "fb8a9724",
   "metadata": {},
   "outputs": [],
   "source": [
    "def is_strobogrammatic(num):\n",
    "    mapping = {\n",
    "        '0': '0',\n",
    "        '1': '1',\n",
    "        '6': '9',\n",
    "        '8': '8',\n",
    "        '9': '6'\n",
    "    }\n",
    "\n",
    "    left = 0\n",
    "    right = len(num) - 1\n",
    "\n",
    "    while left <= right:\n",
    "        if num[left] not in mapping or num[right] not in mapping:\n",
    "            return False\n",
    "\n",
    "        if mapping[num[left]] != num[right]:\n",
    "            return False\n",
    "\n",
    "        left += 1\n",
    "        right -= 1\n",
    "\n",
    "    return True"
   ]
  },
  {
   "cell_type": "code",
   "execution_count": 10,
   "id": "48031544",
   "metadata": {},
   "outputs": [
    {
     "name": "stdout",
     "output_type": "stream",
     "text": [
      "True\n"
     ]
    }
   ],
   "source": [
    "num = \"69\"\n",
    "print(is_strobogrammatic(num))  "
   ]
  },
  {
   "cell_type": "markdown",
   "id": "bcc7110e",
   "metadata": {},
   "source": [
    "# Question 3"
   ]
  },
  {
   "cell_type": "markdown",
   "id": "8f699dbd",
   "metadata": {},
   "source": [
    "# Given two non-negative integers, num1 and num2 represented as string, return *the sum of* num1 *and* num2 *as a string*.\n",
    "\n",
    "You must solve the problem without using any built-in library for handling large integers (such as BigInteger). You must also not convert the inputs to integers directly.\n",
    "\n",
    "**Example 1:**\n",
    "\n",
    "**Input:** num1 = \"11\", num2 = \"123\"\n",
    "\n",
    "**Output:**\n",
    "\n",
    "\"134\""
   ]
  },
  {
   "cell_type": "markdown",
   "id": "31cc9665",
   "metadata": {},
   "source": [
    "#  Algorithm  \n",
    "1.Initialize an empty string, result, to store the sum of the two numbers.\n",
    "\n",
    "2.Initialize two pointers, i and j, pointing to the last characters of num1 and num2, respectively.\n",
    "\n",
    "3.Initialize a carry variable, carry, to 0.\n",
    "\n",
    "4.Iterate until both i and j are greater than or equal to 0:\n",
    "\n",
    "a. Convert the characters at positions i and j to integers, digit1 and digit2, respectively.\n",
    "\n",
    "b. Add digit1, digit2, and carry to get the sum, sum_digits.\n",
    "\n",
    "c. Append the last digit of sum_digits (obtained using sum_digits % 10) to the beginning of result.\n",
    "\n",
    "d. Update the carry to sum_digits // 10.\n",
    "\n",
    "e. Decrement i and j to move to the next digits of num1 and num2, respectively.\n",
    "\n",
    "5.If there are any remaining digits in num1, append them to the beginning of result.\n",
    "\n",
    "6.If there are any remaining digits in num2, append them to the beginning of result.\n",
    "\n",
    "7.If the carry is greater than 0, append it to the beginning of result.\n",
    "\n",
    "8.Return the final result string."
   ]
  },
  {
   "cell_type": "code",
   "execution_count": 14,
   "id": "3472a6c3",
   "metadata": {},
   "outputs": [],
   "source": [
    "def add_strings(num1, num2):\n",
    "    i = len(num1) - 1\n",
    "    j = len(num2) - 1\n",
    "    carry = 0\n",
    "    result = \"\"\n",
    "\n",
    "    while i >= 0 or j >= 0:\n",
    "        digit1 = int(num1[i]) if i >= 0 else 0\n",
    "        digit2 = int(num2[j]) if j >= 0 else 0\n",
    "\n",
    "        sum_digits = digit1 + digit2 + carry\n",
    "        result = str(sum_digits % 10) + result\n",
    "        carry = sum_digits // 10\n",
    "\n",
    "        i -= 1\n",
    "        j -= 1\n",
    "\n",
    "    if carry > 0:\n",
    "        result = str(carry) + result\n",
    "\n",
    "    return result"
   ]
  },
  {
   "cell_type": "code",
   "execution_count": 15,
   "id": "0987f5ec",
   "metadata": {},
   "outputs": [
    {
     "name": "stdout",
     "output_type": "stream",
     "text": [
      "134\n"
     ]
    }
   ],
   "source": [
    "num1 = \"11\"\n",
    "num2 = \"123\"\n",
    "print(add_strings(num1, num2))  "
   ]
  },
  {
   "cell_type": "markdown",
   "id": "de7d904d",
   "metadata": {},
   "source": [
    "# Question 4"
   ]
  },
  {
   "cell_type": "markdown",
   "id": "e4fc1e48",
   "metadata": {},
   "source": [
    "# Given a string s, reverse the order of characters in each word within a sentence while still preserving whitespace and initial word order.\n",
    "\n",
    "**Example 1:**\n",
    "\n",
    "**Input:** s = \"Let's take LeetCode contest\"\n",
    "\n",
    "**Output:** \"s'teL ekat edoCteeL tsetnoc\""
   ]
  },
  {
   "cell_type": "markdown",
   "id": "17158339",
   "metadata": {},
   "source": [
    "# Algorithm\n",
    "1.Split the string s into a list of words using whitespace as the delimiter. We can use the split() method in Python to achieve this.\n",
    "\n",
    "2.Initialize an empty list, reversed_words, to store the reversed words.\n",
    "\n",
    "3.Iterate through each word in the list of words:\n",
    "\n",
    "a. Reverse the characters in the word using string slicing with a step of -1.\n",
    "\n",
    "b. Append the reversed word to the reversed_words list.\n",
    "\n",
    "4.Join the words in the reversed_words list using a whitespace separator to obtain the final reversed string."
   ]
  },
  {
   "cell_type": "code",
   "execution_count": 19,
   "id": "ba8e6214",
   "metadata": {},
   "outputs": [],
   "source": [
    "def reverse_words(s):\n",
    "    words = s.split()\n",
    "    reversed_words = []\n",
    "\n",
    "    for word in words:\n",
    "        reversed_word = word[::-1]\n",
    "        reversed_words.append(reversed_word)\n",
    "\n",
    "    return ' '.join(reversed_words)"
   ]
  },
  {
   "cell_type": "code",
   "execution_count": 20,
   "id": "d0d4a08d",
   "metadata": {},
   "outputs": [
    {
     "name": "stdout",
     "output_type": "stream",
     "text": [
      "s'teL ekat edoCteeL tsetnoc\n"
     ]
    }
   ],
   "source": [
    "s = \"Let's take LeetCode contest\"\n",
    "print(reverse_words(s))  "
   ]
  },
  {
   "cell_type": "markdown",
   "id": "08632262",
   "metadata": {},
   "source": [
    "# Question 5"
   ]
  },
  {
   "cell_type": "markdown",
   "id": "6614e3e1",
   "metadata": {},
   "source": [
    "# Given a string s and an integer k, reverse the first k characters for every 2k characters counting from the start of the string.\n",
    "\n",
    "If there are fewer than k characters left, reverse all of them. If there are less than 2k but greater than or equal to k characters, then reverse the first k characters and leave the other as original.\n",
    "\n",
    "**Example 1:**\n",
    "\n",
    "**Input:** s = \"abcdefg\", k = 2\n",
    "\n",
    "**Output:**\n",
    "\n",
    "\"bacdfeg\""
   ]
  },
  {
   "cell_type": "markdown",
   "id": "b87d4ed5",
   "metadata": {},
   "source": [
    "# Algorithm\n",
    "1.Convert the string s into a list of characters so that we can modify it. Strings in Python are immutable, so converting it to a list allows us to make changes.\n",
    "\n",
    "2.Initialize a variable n to store the length of the string.\n",
    "\n",
    "3.Iterate through the string with a step size of 2k:\n",
    "\n",
    "a. Check if there are at least k characters remaining from the current index i. If not, break the loop.\n",
    "\n",
    "b. Reverse the first k characters in the sublist from index i to i + k using the slice assignment s[i:i+k] = s[i:i+k][::-1].\n",
    "\n",
    "4.Convert the list of characters back to a string using the join() method, and return the final reversed string."
   ]
  },
  {
   "cell_type": "code",
   "execution_count": 24,
   "id": "e82fccae",
   "metadata": {},
   "outputs": [],
   "source": [
    "def reverse_string(s, k):\n",
    "    s = list(s)\n",
    "    n = len(s)\n",
    "\n",
    "    for i in range(0, n, 2*k):\n",
    "        if i + k <= n:\n",
    "            s[i:i+k] = s[i:i+k][::-1]\n",
    "        else:\n",
    "            s[i:] = s[i:][::-1]\n",
    "\n",
    "    return ''.join(s)"
   ]
  },
  {
   "cell_type": "code",
   "execution_count": 25,
   "id": "b35d0eda",
   "metadata": {},
   "outputs": [
    {
     "name": "stdout",
     "output_type": "stream",
     "text": [
      "bacdfeg\n"
     ]
    }
   ],
   "source": [
    "s = \"abcdefg\"\n",
    "k = 2\n",
    "print(reverse_string(s, k))  "
   ]
  },
  {
   "cell_type": "markdown",
   "id": "bcc1de7b",
   "metadata": {},
   "source": [
    "# Question 6"
   ]
  },
  {
   "cell_type": "markdown",
   "id": "1e99f958",
   "metadata": {},
   "source": [
    "# Given two strings s and goal, return true *if and only if* s *can become* goal *after some number of **shifts** on* s.\n",
    "\n",
    "A **shift** on s consists of moving the leftmost character of s to the rightmost position.\n",
    "\n",
    "- For example, if s = \"abcde\", then it will be \"bcdea\" after one shift.\n",
    "\n",
    "**Example 1:**\n",
    "\n",
    "**Input:** s = \"abcde\", goal = \"cdeab\"\n",
    "\n",
    "**Output:**\n",
    "\n",
    "true"
   ]
  },
  {
   "cell_type": "markdown",
   "id": "f6472269",
   "metadata": {},
   "source": [
    "# Algorithm\n",
    "1.Check if the lengths of s and goal are equal. If they are not equal, s cannot become goal after any number of shifts, so we return False.\n",
    "\n",
    "2.Concatenate s with itself to create a new string s_concat. This ensures that all possible shifts of s are considered.\n",
    "\n",
    "3.Check if goal is a substring of s_concat. If it is, s can become goal after some number of shifts, so we return True. Otherwise, we return False."
   ]
  },
  {
   "cell_type": "code",
   "execution_count": 29,
   "id": "359a65e9",
   "metadata": {},
   "outputs": [],
   "source": [
    "def can_shift(s, goal):\n",
    "    if len(s) != len(goal):\n",
    "        return False\n",
    "\n",
    "    s_concat = s + s\n",
    "\n",
    "    if goal in s_concat:\n",
    "        return True\n",
    "    else:\n",
    "        return False"
   ]
  },
  {
   "cell_type": "code",
   "execution_count": 30,
   "id": "c0b6a5d9",
   "metadata": {},
   "outputs": [
    {
     "name": "stdout",
     "output_type": "stream",
     "text": [
      "True\n"
     ]
    }
   ],
   "source": [
    "s = \"abcde\"\n",
    "goal = \"cdeab\"\n",
    "print(can_shift(s, goal))  "
   ]
  },
  {
   "cell_type": "markdown",
   "id": "5ff1575e",
   "metadata": {},
   "source": [
    "# Question 7"
   ]
  },
  {
   "cell_type": "markdown",
   "id": "b31ca641",
   "metadata": {},
   "source": [
    "# Given two strings s and t, return true *if they are equal when both are typed into empty text editors*. '#' means a backspace character.\n",
    "\n",
    "Note that after backspacing an empty text, the text will continue empty.\n",
    "\n",
    "**Example 1:**\n",
    "\n",
    "**Input:** s = \"ab#c\", t = \"ad#c\"\n",
    "\n",
    "**Output:** true\n",
    "\n",
    "**Explanation:**\n",
    "\n",
    "Both s and t become \"ac\"."
   ]
  },
  {
   "cell_type": "markdown",
   "id": "3cafab63",
   "metadata": {},
   "source": [
    "# Algorithm\n",
    "1.Define a helper function, process_string, that takes a string as input and returns the final processed string after applying the backspaces.\n",
    "\n",
    "2.Initialize two empty lists, processed_s and processed_t, to store the processed strings for s and t, respectively.\n",
    "\n",
    "3.Iterate through each character in s:\n",
    "\n",
    "a. If the current character is not '#', append it to processed_s.\n",
    "\n",
    "b. If the current character is '#', remove the last character from processed_s if it is not empty.\n",
    "\n",
    "4.Iterate through each character in t:\n",
    "\n",
    "a. If the current character is not '#', append it to processed_t.\n",
    "\n",
    "b. If the current character is '#', remove the last character from processed_t if it is not empty.\n",
    "\n",
    "5.Check if processed_s is equal to processed_t. If they are equal, return True. Otherwise, return False."
   ]
  },
  {
   "cell_type": "code",
   "execution_count": 34,
   "id": "39ab8cfd",
   "metadata": {},
   "outputs": [],
   "source": [
    "def process_string(string):\n",
    "    processed_string = []\n",
    "    for char in string:\n",
    "        if char != '#':\n",
    "            processed_string.append(char)\n",
    "        elif processed_string:\n",
    "            processed_string.pop()\n",
    "    return ''.join(processed_string)\n",
    "\n",
    "def backspace_compare(s, t):\n",
    "    processed_s = process_string(s)\n",
    "    processed_t = process_string(t)\n",
    "    return processed_s == processed_t\n"
   ]
  },
  {
   "cell_type": "code",
   "execution_count": 35,
   "id": "d637f527",
   "metadata": {},
   "outputs": [
    {
     "name": "stdout",
     "output_type": "stream",
     "text": [
      "True\n"
     ]
    }
   ],
   "source": [
    "s = \"ab#c\"\n",
    "t = \"ad#c\"\n",
    "print(backspace_compare(s, t))  "
   ]
  },
  {
   "cell_type": "markdown",
   "id": "fa180440",
   "metadata": {},
   "source": [
    "# Question 8"
   ]
  },
  {
   "cell_type": "markdown",
   "id": "9eda4778",
   "metadata": {},
   "source": [
    "# You are given an array coordinates, coordinates[i] = [x, y], where [x, y] represents the coordinate of a point. Check if these points make a straight line in the XY plane.\n",
    "\n",
    "**Example 1:**\n",
    "\n",
    "\n",
    "**Input:** coordinates = [[1,2],[2,3],[3,4],[4,5],[5,6],[6,7]]\n",
    "\n",
    "**Output:** true"
   ]
  },
  {
   "cell_type": "markdown",
   "id": "ba0ff31d",
   "metadata": {},
   "source": [
    "# Algorithm\n",
    "1.Check the slope between the first two points, (x1, y1) and (x2, y2). Calculate the slope as (y2 - y1) / (x2 - x1).\n",
    "\n",
    "2.Iterate through the remaining points starting from the third point (x3, y3) onwards:\n",
    "\n",
    "a. Calculate the slope between the current point and the first point, (x1, y1), as (y3 - y1) / (x3 - x1).\n",
    "\n",
    "b. If the calculated slope is not equal to the slope calculated in step 1, return False, as it indicates that the points do not lie on a straight line.\n",
    "\n",
    "3.If all the slopes are equal, return True, indicating that the points form a straight line."
   ]
  },
  {
   "cell_type": "code",
   "execution_count": 39,
   "id": "f31eb570",
   "metadata": {},
   "outputs": [],
   "source": [
    "def check_straight_line(coordinates):\n",
    "    x1, y1 = coordinates[0]\n",
    "    x2, y2 = coordinates[1]\n",
    "    slope = (y2 - y1) / (x2 - x1)\n",
    "\n",
    "    for i in range(2, len(coordinates)):\n",
    "        x, y = coordinates[i]\n",
    "        current_slope = (y - y1) / (x - x1)\n",
    "        if current_slope != slope:\n",
    "            return False\n",
    "\n",
    "    return True"
   ]
  },
  {
   "cell_type": "code",
   "execution_count": 40,
   "id": "c959e044",
   "metadata": {},
   "outputs": [
    {
     "name": "stdout",
     "output_type": "stream",
     "text": [
      "True\n"
     ]
    }
   ],
   "source": [
    "coordinates = [[1, 2], [2, 3], [3, 4], [4, 5], [5, 6], [6, 7]]\n",
    "print(check_straight_line(coordinates))  "
   ]
  },
  {
   "cell_type": "code",
   "execution_count": null,
   "id": "040321f2",
   "metadata": {},
   "outputs": [],
   "source": []
  }
 ],
 "metadata": {
  "kernelspec": {
   "display_name": "Python 3 (ipykernel)",
   "language": "python",
   "name": "python3"
  },
  "language_info": {
   "codemirror_mode": {
    "name": "ipython",
    "version": 3
   },
   "file_extension": ".py",
   "mimetype": "text/x-python",
   "name": "python",
   "nbconvert_exporter": "python",
   "pygments_lexer": "ipython3",
   "version": "3.9.7"
  }
 },
 "nbformat": 4,
 "nbformat_minor": 5
}
