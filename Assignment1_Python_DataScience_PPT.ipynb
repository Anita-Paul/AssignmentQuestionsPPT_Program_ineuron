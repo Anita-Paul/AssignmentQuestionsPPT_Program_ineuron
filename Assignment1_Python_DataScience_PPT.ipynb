{
 "cells": [
  {
   "cell_type": "markdown",
   "id": "886a4290",
   "metadata": {},
   "source": [
    "# Write a Python program to reverse a string with using any built-in string reversal functions"
   ]
  },
  {
   "cell_type": "code",
   "execution_count": 2,
   "id": "473ce658",
   "metadata": {},
   "outputs": [],
   "source": [
    "def rev_string (str):\n",
    "    res_string = str[::-1]\n",
    "    return res_string"
   ]
  },
  {
   "cell_type": "code",
   "execution_count": 3,
   "id": "f134ecac",
   "metadata": {},
   "outputs": [
    {
     "name": "stdout",
     "output_type": "stream",
     "text": [
      "gnirtS\n"
     ]
    }
   ],
   "source": [
    "str=\"String\"\n",
    "res_string = rev_string(str)\n",
    "print(res_string)"
   ]
  },
  {
   "cell_type": "markdown",
   "id": "c9a3763f",
   "metadata": {},
   "source": [
    "# 1. Write a Python program to reverse a string without using any built-in string reversal functions"
   ]
  },
  {
   "cell_type": "code",
   "execution_count": 9,
   "id": "0b410e48",
   "metadata": {},
   "outputs": [
    {
     "name": "stdout",
     "output_type": "stream",
     "text": [
      "!dlroW ,olleH\n"
     ]
    }
   ],
   "source": [
    "def reversed_str(string):\n",
    "    chars=list(string)# Convert the string to a list of characters\n",
    "    length=len(chars)# Get the length of the string\n",
    "    \n",
    "    for i in range(length // 2): # Iterate through half of the string length and swap characters\n",
    "        chars[i], chars[length - i - 1] = chars[length - i - 1], chars[i]# Swap characters at positions i and length - i - 1\n",
    "        reversed_string = ''.join(chars)# Convert the list of characters back to a string\n",
    "    \n",
    "    return reversed_string\n",
    "string = \"Hello, World!\"\n",
    "reversed_string = reversed_str(string)\n",
    "print(reversed_string)\n",
    "    "
   ]
  },
  {
   "cell_type": "markdown",
   "id": "346748ba",
   "metadata": {},
   "source": [
    "# 2.Implement a function to check if a given string is a palindrome."
   ]
  },
  {
   "cell_type": "code",
   "execution_count": 10,
   "id": "bf7ad219",
   "metadata": {},
   "outputs": [
    {
     "name": "stdout",
     "output_type": "stream",
     "text": [
      "False\n",
      "True\n"
     ]
    }
   ],
   "source": [
    "def palindrome(str):\n",
    "    str=''.join(c.lower()for c in str if c.isalnum())# Convert the string to lowercase and remove non-alphanumeric characters\n",
    "    return str==str[::-1]# Compare the string with its reversed version\n",
    "string=\"my name is anita paul\"\n",
    "print(palindrome(string))\n",
    "string1=\"mom\"\n",
    "print(palindrome(string1))\n"
   ]
  },
  {
   "cell_type": "markdown",
   "id": "f4c8d413",
   "metadata": {},
   "source": [
    "# 3. Write a program to find the largest element in a given list."
   ]
  },
  {
   "cell_type": "code",
   "execution_count": 11,
   "id": "2a12aec8",
   "metadata": {},
   "outputs": [],
   "source": [
    "def large_num(lists):\n",
    "    if not lists:\n",
    "        return None\n",
    "    largest =lists[0]\n",
    "    for element in lists:\n",
    "        if element > largest:\n",
    "            largest = element\n",
    "    return largest\n",
    "    "
   ]
  },
  {
   "cell_type": "code",
   "execution_count": 14,
   "id": "9c72ec49",
   "metadata": {},
   "outputs": [
    {
     "name": "stdout",
     "output_type": "stream",
     "text": [
      "largest number of my list 5\n"
     ]
    }
   ],
   "source": [
    "my_list=[1,2,3,4,5]\n",
    "print(\"largest number of my list\",large_num(my_list))"
   ]
  },
  {
   "cell_type": "markdown",
   "id": "e423c539",
   "metadata": {},
   "source": [
    "# 4. Implement a function to count the occurrence of each element in a list."
   ]
  },
  {
   "cell_type": "code",
   "execution_count": 15,
   "id": "f7c468e7",
   "metadata": {},
   "outputs": [
    {
     "name": "stdout",
     "output_type": "stream",
     "text": [
      "the occurrence of each element in a list {1: 2, 2: 1, 3: 1, 4: 2, 5: 2, 6: 1}\n"
     ]
    }
   ],
   "source": [
    "def count_list_element(count_list):\n",
    "    count_dict={}\n",
    "    for element in count_list:\n",
    "        if element in count_dict:\n",
    "            count_dict[element] += 1\n",
    "        else:\n",
    "            count_dict[element] =1\n",
    "    return count_dict\n",
    "my_List=[1,1,2,3,4,4,5,5,6]\n",
    "print(\"the occurrence of each element in a list\",count_list_element(my_List))"
   ]
  },
  {
   "cell_type": "markdown",
   "id": "4a4edf47",
   "metadata": {},
   "source": [
    "# 5. Write a Python program to find the second largest number in a list."
   ]
  },
  {
   "cell_type": "code",
   "execution_count": 19,
   "id": "2ed071f1",
   "metadata": {},
   "outputs": [
    {
     "name": "stdout",
     "output_type": "stream",
     "text": [
      "Second largest number: 10\n"
     ]
    }
   ],
   "source": [
    "def second_largest_number(sl_num):\n",
    "    if len(sl_num) < 2:\n",
    "        return None\n",
    "    largest = float('-inf')  # Initialize largest and second largest to negative infinity\n",
    "    second_largest = float('-inf')\n",
    "    for num in sl_num:\n",
    "        if num > largest:\n",
    "            second_largest = largest\n",
    "            largest = num\n",
    "        elif num > second_largest and num != largest:\n",
    "            second_largest = num\n",
    "    if second_largest == float('-inf'):\n",
    "        return None\n",
    "    return second_largest\n",
    "\n",
    "my_2ndlist = [10, 5, 8, 12, 3]\n",
    "print(\"Second largest number:\", second_largest_number(my_2ndlist))\n"
   ]
  },
  {
   "cell_type": "markdown",
   "id": "58bc1d82",
   "metadata": {},
   "source": [
    "# 6. Implement a function to remove duplicate elements from a list."
   ]
  },
  {
   "cell_type": "code",
   "execution_count": 20,
   "id": "534c494e",
   "metadata": {},
   "outputs": [
    {
     "name": "stdout",
     "output_type": "stream",
     "text": [
      "Original list: [1, 2, 3, 4, 2, 3, 5]\n",
      "List with duplicates removed: [1, 2, 3, 4, 5]\n"
     ]
    }
   ],
   "source": [
    "def remove_duplicates(lst):\n",
    "    return list(set(lst))\n",
    "\n",
    "my_list = [1, 2, 3, 4, 2, 3, 5]\n",
    "print(\"Original list:\", my_list)\n",
    "unique_list = remove_duplicates(my_list)\n",
    "print(\"List with duplicates removed:\", unique_list)"
   ]
  },
  {
   "cell_type": "markdown",
   "id": "bd91b0db",
   "metadata": {},
   "source": [
    "# 7. Write a program to calculate the factorial of a given number."
   ]
  },
  {
   "cell_type": "code",
   "execution_count": 28,
   "id": "58af4897",
   "metadata": {},
   "outputs": [
    {
     "name": "stdout",
     "output_type": "stream",
     "text": [
      "Number: 5 \n",
      "Factorial: 120\n"
     ]
    }
   ],
   "source": [
    "def factorial(number):\n",
    "    if number==0:\n",
    "        return 1\n",
    "    else:\n",
    "        return number*factorial(number-1)\n",
    "number=5\n",
    "print(\"Number:\",number,\"\\nFactorial:\",factorial(number))"
   ]
  },
  {
   "cell_type": "markdown",
   "id": "00ace315",
   "metadata": {},
   "source": [
    "# 8. Implement a function to check if a given number is prime."
   ]
  },
  {
   "cell_type": "code",
   "execution_count": 4,
   "id": "873a51c8",
   "metadata": {},
   "outputs": [
    {
     "name": "stdout",
     "output_type": "stream",
     "text": [
      "29 is a prime number\n"
     ]
    }
   ],
   "source": [
    "def is_prime(n):\n",
    "    if n <= 1:\n",
    "        return False\n",
    "    elif n <= 3:\n",
    "        return True\n",
    "    elif n % 2 == 0 or n % 3 == 0:\n",
    "        return False\n",
    "\n",
    "    i = 5\n",
    "    while i * i <= n:\n",
    "        if n % i == 0 or n % (i + 2) == 0:\n",
    "            return False\n",
    "        i += 6\n",
    "\n",
    "    return True\n",
    "\n",
    "num = 29\n",
    "if is_prime(num):\n",
    "    print(num, \"is a prime number\")\n",
    "else:\n",
    "    print(num, \"is not a prime number\")\n"
   ]
  },
  {
   "cell_type": "markdown",
   "id": "8b6ecc17",
   "metadata": {},
   "source": [
    "# 9. Write a Python program to sort a list of integers in ascending order."
   ]
  },
  {
   "cell_type": "code",
   "execution_count": 5,
   "id": "d3fac5cc",
   "metadata": {},
   "outputs": [
    {
     "name": "stdout",
     "output_type": "stream",
     "text": [
      "[1, 2, 3, 5, 8, 9]\n"
     ]
    }
   ],
   "source": [
    "List= [5, 2, 8, 1, 9, 3]\n",
    "List.sort()\n",
    "print(List)"
   ]
  },
  {
   "cell_type": "markdown",
   "id": "076b5f37",
   "metadata": {},
   "source": [
    "# 10. Implement a function to find the sum of all numbers in a list."
   ]
  },
  {
   "cell_type": "code",
   "execution_count": 6,
   "id": "7054cda5",
   "metadata": {},
   "outputs": [
    {
     "name": "stdout",
     "output_type": "stream",
     "text": [
      "Sum: 15\n"
     ]
    }
   ],
   "source": [
    "def calculate_sum(numbers):\n",
    "    total = 0\n",
    "    for num in numbers:\n",
    "        total += num\n",
    "    return total\n",
    "\n",
    "my_list = [1, 2, 3, 4, 5]\n",
    "sum_of_numbers = calculate_sum(my_list)\n",
    "print(\"Sum:\", sum_of_numbers)\n"
   ]
  },
  {
   "cell_type": "markdown",
   "id": "02f7fb9f",
   "metadata": {},
   "source": [
    "# 11. Write a program to find the common elements between two lists."
   ]
  },
  {
   "cell_type": "code",
   "execution_count": 10,
   "id": "ce570390",
   "metadata": {},
   "outputs": [
    {
     "name": "stdout",
     "output_type": "stream",
     "text": [
      "Common Elements: [4, 5]\n"
     ]
    }
   ],
   "source": [
    "def find_common_element_in_two_list(list1, list2):\n",
    "    common_element =list(set(list1) & set(list2)) \n",
    "    return common_element\n",
    "list1 = [1, 2, 3, 4, 5]\n",
    "list2 = [4, 5, 6, 7, 8]\n",
    "common_element = find_common_element_in_two_list(list1, list2)\n",
    "print(\"Common Elements:\", common_element)"
   ]
  },
  {
   "cell_type": "code",
   "execution_count": 13,
   "id": "8da72185",
   "metadata": {},
   "outputs": [
    {
     "name": "stdout",
     "output_type": "stream",
     "text": [
      "Common Elements: [4, 5]\n"
     ]
    }
   ],
   "source": [
    "def find_common_elements_in_list(list1, list2):\n",
    "    set1 = set(list1)\n",
    "    set2 = set(list2)\n",
    "    common_elements = list(set1.intersection(set2))\n",
    "    return common_elements\n",
    "\n",
    "list1 = [1, 2, 3, 4, 5]\n",
    "list2 = [4, 5, 6, 7, 8]\n",
    "common_elements = find_common_elements_in_list(list1, list2)\n",
    "print(\"Common Elements:\", common_elements)\n"
   ]
  },
  {
   "cell_type": "markdown",
   "id": "b2679eb0",
   "metadata": {},
   "source": [
    "# 12. Implement a function to check if a given string is an anagram of another string.\n",
    "an anagram is a word or phrase formed by rearranging the letters of a different word or phrase, typically using all the original letters exactly once."
   ]
  },
  {
   "cell_type": "code",
   "execution_count": 14,
   "id": "e35b574e",
   "metadata": {},
   "outputs": [
    {
     "name": "stdout",
     "output_type": "stream",
     "text": [
      "True\n"
     ]
    }
   ],
   "source": [
    "def is_anagram(str1, str2):\n",
    "    # Convert the strings to lowercase and remove whitespace\n",
    "    str1 = str1.lower().replace(\" \", \"\")\n",
    "    str2 = str2.lower().replace(\" \", \"\")\n",
    "    \n",
    "    # Sort the characters in the strings\n",
    "    sorted_str1 = sorted(str1)\n",
    "    sorted_str2 = sorted(str2)\n",
    "    \n",
    "    # Compare the sorted strings\n",
    "    if sorted_str1 == sorted_str2:\n",
    "        return True\n",
    "    else:\n",
    "        return False\n",
    "\n",
    "string1 = \"listen\"\n",
    "string2 = \"silent\"\n",
    "print(is_anagram(string1, string2)) \n"
   ]
  },
  {
   "cell_type": "markdown",
   "id": "6bf781ab",
   "metadata": {},
   "source": [
    "# 13. Write a Python program to generate all permutations of a given string."
   ]
  },
  {
   "cell_type": "code",
   "execution_count": 16,
   "id": "82a0ab4e",
   "metadata": {},
   "outputs": [
    {
     "name": "stdout",
     "output_type": "stream",
     "text": [
      "['abc', 'acb', 'bac', 'bca', 'cab', 'cba']\n"
     ]
    }
   ],
   "source": [
    "from itertools import permutations\n",
    "\n",
    "def generate_permutations(string):\n",
    "    perms = permutations(string)# Generate all permutations of the string\n",
    "    perm_list = [''.join(perm) for perm in perms] # Convert the permutations to a list of strings\n",
    "    return perm_list\n",
    "\n",
    "string = \"abc\"\n",
    "permutations = generate_permutations(string)\n",
    "print(permutations)"
   ]
  },
  {
   "cell_type": "markdown",
   "id": "571fda06",
   "metadata": {},
   "source": [
    "# 14. Implement a function to calculate the Fibonacci sequence up to a given number of terms."
   ]
  },
  {
   "cell_type": "code",
   "execution_count": 20,
   "id": "56ea8398",
   "metadata": {},
   "outputs": [
    {
     "name": "stdout",
     "output_type": "stream",
     "text": [
      "fibonacci [0, 1, 1, 2, 3, 5, 8, 13, 21, 34]\n"
     ]
    }
   ],
   "source": [
    "def fibonacci (number):\n",
    "    fib_squ = []\n",
    "    a, b = 0 , 1\n",
    "    while len(fib_squ) < number:\n",
    "        fib_squ.append(a)\n",
    "        a, b = b, a+b\n",
    "    return fib_squ\n",
    "number=10\n",
    "print(\"fibonacci\",fibonacci(number))"
   ]
  },
  {
   "cell_type": "markdown",
   "id": "f13f3ebd",
   "metadata": {},
   "source": [
    "# 15. Write a program to find the median of a list of numbers."
   ]
  },
  {
   "cell_type": "code",
   "execution_count": 22,
   "id": "5734ba83",
   "metadata": {},
   "outputs": [
    {
     "name": "stdout",
     "output_type": "stream",
     "text": [
      "median 3.5\n"
     ]
    }
   ],
   "source": [
    "def find_median (numbers):\n",
    "    sorted_numbers = sorted(numbers)\n",
    "    length = len(sorted_numbers)\n",
    "    \n",
    "    if length % 2 == 0:\n",
    "        median = sorted_numbers[length // 2]\n",
    "        \n",
    "    else:\n",
    "        mid_right = length // 2\n",
    "        mid_left = mid_right-1\n",
    "        median = (sorted_numbers[mid_left] + sorted_numbers[mid_right]) / 2\n",
    "    return median\n",
    "numbers = [5, 2, 7, 4, 1, 9, 3]\n",
    "print(\"median\",find_median(numbers))\n"
   ]
  },
  {
   "cell_type": "markdown",
   "id": "b7279bd7",
   "metadata": {},
   "source": [
    "# 16. Implement a function to check if a given list is sorted in non-decreasing order."
   ]
  },
  {
   "cell_type": "code",
   "execution_count": 23,
   "id": "6b4f6e67",
   "metadata": {},
   "outputs": [
    {
     "name": "stdout",
     "output_type": "stream",
     "text": [
      "True\n",
      "False\n"
     ]
    }
   ],
   "source": [
    "def is_sorted(nums):\n",
    "    for i in range(len(nums) - 1):\n",
    "        if nums[i] > nums[i + 1]:\n",
    "            return False\n",
    "    return True\n",
    "\n",
    "nums1 = [1, 2, 3, 4, 5]\n",
    "nums2 = [5, 2, 7, 4, 1]\n",
    "print(is_sorted(nums1)) \n",
    "print(is_sorted(nums2)) \n"
   ]
  },
  {
   "cell_type": "markdown",
   "id": "4333ef42",
   "metadata": {},
   "source": [
    "# 17. Write a Python program to find the intersection of two lists."
   ]
  },
  {
   "cell_type": "code",
   "execution_count": 24,
   "id": "4f0d8bf2",
   "metadata": {},
   "outputs": [
    {
     "name": "stdout",
     "output_type": "stream",
     "text": [
      "Intersection: [4, 5]\n"
     ]
    }
   ],
   "source": [
    "def find_intersection(list1, list2):\n",
    "    set1 = set(list1)\n",
    "    set2 = set(list2)\n",
    "    intersection = list(set1.intersection(set2))\n",
    "    return intersection\n",
    "\n",
    "list1 = [1, 2, 3, 4, 5]\n",
    "list2 = [4, 5, 6, 7, 8]\n",
    "intersection = find_intersection(list1, list2)\n",
    "print(\"Intersection:\", intersection)\n"
   ]
  },
  {
   "cell_type": "markdown",
   "id": "70428f55",
   "metadata": {},
   "source": [
    "# 18. Implement a function to find the maximum subarray sum in a given list."
   ]
  },
  {
   "cell_type": "code",
   "execution_count": 25,
   "id": "eabc7842",
   "metadata": {},
   "outputs": [
    {
     "name": "stdout",
     "output_type": "stream",
     "text": [
      "Maximum subarray sum: 6\n"
     ]
    }
   ],
   "source": [
    "def max_subarray_sum(nums):\n",
    "    max_sum = float('-inf')  # Initialize max_sum to negative infinity\n",
    "    current_sum = 0  # Initialize current_sum to 0\n",
    "\n",
    "    for num in nums:\n",
    "        current_sum += num\n",
    "        if current_sum > max_sum:\n",
    "            max_sum = current_sum\n",
    "        if current_sum < 0:\n",
    "            current_sum = 0\n",
    "\n",
    "    return max_sum\n",
    "\n",
    "nums = [-2, 1, -3, 4, -1, 2, 1, -5, 4]\n",
    "max_sum = max_subarray_sum(nums)\n",
    "print(\"Maximum subarray sum:\", max_sum)"
   ]
  },
  {
   "cell_type": "markdown",
   "id": "993c29d1",
   "metadata": {},
   "source": [
    "# 19. Write a program to remove all vowels from a given string."
   ]
  },
  {
   "cell_type": "code",
   "execution_count": 26,
   "id": "d36aca39",
   "metadata": {},
   "outputs": [
    {
     "name": "stdout",
     "output_type": "stream",
     "text": [
      "String without vowels: Hll, Wrld!\n"
     ]
    }
   ],
   "source": [
    "def remove_vowels(string):\n",
    "    vowels = ['a', 'e', 'i', 'o', 'u']\n",
    "    new_string = ''\n",
    "\n",
    "    for char in string:\n",
    "        if char.lower() not in vowels:\n",
    "            new_string += char\n",
    "\n",
    "    return new_string\n",
    "\n",
    "string = \"Hello, World!\"\n",
    "new_string = remove_vowels(string)\n",
    "print(\"String without vowels:\", new_string)"
   ]
  },
  {
   "cell_type": "markdown",
   "id": "9029a182",
   "metadata": {},
   "source": [
    "# 20. Implement a function to reverse the order of words in a given sentence."
   ]
  },
  {
   "cell_type": "code",
   "execution_count": 28,
   "id": "618b8803",
   "metadata": {},
   "outputs": [
    {
     "name": "stdout",
     "output_type": "stream",
     "text": [
      "Reversed sentence: world! Hello,\n"
     ]
    }
   ],
   "source": [
    "def reverse_sentence(sentence):\n",
    "    words = sentence.split()\n",
    "    reversed_words = words[::-1]\n",
    "    reversed_sentence = ' '.join(reversed_words)\n",
    "    return reversed_sentence\n",
    "\n",
    "sentence = \"Hello, world!\"\n",
    "reversed_sentence = reverse_sentence(sentence)\n",
    "print(\"Reversed sentence:\", reversed_sentence)"
   ]
  },
  {
   "cell_type": "markdown",
   "id": "490524a7",
   "metadata": {},
   "source": [
    "# 21. Write a Python program to check if two strings are anagrams of each other.\n",
    "question : 12"
   ]
  },
  {
   "cell_type": "markdown",
   "id": "75f6235f",
   "metadata": {},
   "source": [
    "# 22. Implement a function to find the first non-repeating character in a string."
   ]
  },
  {
   "cell_type": "code",
   "execution_count": 29,
   "id": "58ca7f88",
   "metadata": {},
   "outputs": [
    {
     "name": "stdout",
     "output_type": "stream",
     "text": [
      "The first non-repeating character is: c\n"
     ]
    }
   ],
   "source": [
    "def find_first_non_repeating_char(string):\n",
    "    # Create a dictionary to store the count of each character\n",
    "    char_count = {}\n",
    "    \n",
    "    # Iterate through the string and update the character count\n",
    "    for char in string:\n",
    "        char_count[char] = char_count.get(char, 0) + 1\n",
    "    \n",
    "    # Iterate through the string again and return the first character with count 1\n",
    "    for char in string:\n",
    "        if char_count[char] == 1:\n",
    "            return char\n",
    "    \n",
    "    # If no non-repeating character is found, return None\n",
    "    return None\n",
    "\n",
    "string = \"abracadabra\"\n",
    "first_non_repeating_char = find_first_non_repeating_char(string)\n",
    "if first_non_repeating_char:\n",
    "    print(\"The first non-repeating character is:\", first_non_repeating_char)\n",
    "else:\n",
    "    print(\"No non-repeating character found.\")\n"
   ]
  },
  {
   "cell_type": "markdown",
   "id": "05f57f40",
   "metadata": {},
   "source": [
    "# 23. Write a program to find the prime factors of a given number."
   ]
  },
  {
   "cell_type": "code",
   "execution_count": 30,
   "id": "dc15ec14",
   "metadata": {},
   "outputs": [
    {
     "name": "stdout",
     "output_type": "stream",
     "text": [
      "Prime factors of 84 are: [2, 2, 3, 7]\n"
     ]
    }
   ],
   "source": [
    "import math\n",
    "\n",
    "def find_prime_factors(number):\n",
    "    prime_factors = []\n",
    "    \n",
    "    # Check for divisibility by 2\n",
    "    while number % 2 == 0:\n",
    "        prime_factors.append(2)\n",
    "        number = number // 2\n",
    "    \n",
    "    # Check for divisibility by odd numbers starting from 3\n",
    "    for i in range(3, int(math.sqrt(number)) + 1, 2):\n",
    "        while number % i == 0:\n",
    "            prime_factors.append(i)\n",
    "            number = number // i\n",
    "    \n",
    "    # If the number itself is a prime number greater than 2\n",
    "    if number > 2:\n",
    "        prime_factors.append(number)\n",
    "    \n",
    "    return prime_factors\n",
    "\n",
    "number = 84\n",
    "prime_factors = find_prime_factors(number)\n",
    "print(\"Prime factors of\", number, \"are:\", prime_factors)\n"
   ]
  },
  {
   "cell_type": "markdown",
   "id": "db3d5df1",
   "metadata": {},
   "source": [
    "# 24. Implement a function to check if a given number is a power of two."
   ]
  },
  {
   "cell_type": "code",
   "execution_count": 32,
   "id": "17d8b69c",
   "metadata": {},
   "outputs": [
    {
     "name": "stdout",
     "output_type": "stream",
     "text": [
      "16 is a power of two: True\n",
      "15 is a power of two: False\n"
     ]
    }
   ],
   "source": [
    "def is_power_of_two(number):\n",
    "    if number <= 0:\n",
    "        return False\n",
    "    return (number & (number - 1)) == 0\n",
    "number = 16\n",
    "result = is_power_of_two(number)\n",
    "print(number, \"is a power of two:\", result)\n",
    "\n",
    "number = 15\n",
    "result = is_power_of_two(number)\n",
    "print(number, \"is a power of two:\", result)\n"
   ]
  },
  {
   "cell_type": "markdown",
   "id": "453a7cba",
   "metadata": {},
   "source": [
    "# 25. Write a Python program to merge two sorted lists into a single sorted list."
   ]
  },
  {
   "cell_type": "code",
   "execution_count": 33,
   "id": "751815cf",
   "metadata": {},
   "outputs": [
    {
     "name": "stdout",
     "output_type": "stream",
     "text": [
      "Merged list: [1, 2, 3, 4, 5, 6, 7, 8]\n"
     ]
    }
   ],
   "source": [
    "def merge_sorted_lists(list1, list2):\n",
    "    merged_list = []\n",
    "    i = 0\n",
    "    j = 0\n",
    "    \n",
    "    while i < len(list1) and j < len(list2):\n",
    "        if list1[i] <= list2[j]:\n",
    "            merged_list.append(list1[i])\n",
    "            i += 1\n",
    "        else:\n",
    "            merged_list.append(list2[j])\n",
    "            j += 1\n",
    "    \n",
    "    # Append remaining elements from list1, if any\n",
    "    while i < len(list1):\n",
    "        merged_list.append(list1[i])\n",
    "        i += 1\n",
    "    \n",
    "    # Append remaining elements from list2, if any\n",
    "    while j < len(list2):\n",
    "        merged_list.append(list2[j])\n",
    "        j += 1\n",
    "    \n",
    "    return merged_list\n",
    "list1 = [1, 3, 5, 7]\n",
    "list2 = [2, 4, 6, 8]\n",
    "merged_list = merge_sorted_lists(list1, list2)\n",
    "print(\"Merged list:\", merged_list)"
   ]
  },
  {
   "cell_type": "markdown",
   "id": "fd36fae5",
   "metadata": {},
   "source": [
    "# 26. Implement a function to find the mode of a list of numbers."
   ]
  },
  {
   "cell_type": "code",
   "execution_count": 34,
   "id": "5b72e981",
   "metadata": {},
   "outputs": [
    {
     "name": "stdout",
     "output_type": "stream",
     "text": [
      "Mode(s): [2]\n"
     ]
    }
   ],
   "source": [
    "def find_mode(numbers):\n",
    "    counts = {}\n",
    "    mode = []\n",
    "    max_count = 0\n",
    "    \n",
    "    # Count the occurrences of each number\n",
    "    for num in numbers:\n",
    "        if num in counts:\n",
    "            counts[num] += 1\n",
    "        else:\n",
    "            counts[num] = 1\n",
    "    \n",
    "    # Find the numbers with the highest count\n",
    "    for num, count in counts.items():\n",
    "        if count > max_count:\n",
    "            mode = [num]\n",
    "            max_count = count\n",
    "        elif count == max_count:\n",
    "            mode.append(num)\n",
    "    \n",
    "    return mode\n",
    "numbers = [1, 2, 3, 2, 4, 5, 2, 6, 2, 4, 7]\n",
    "mode = find_mode(numbers)\n",
    "print(\"Mode(s):\", mode)"
   ]
  },
  {
   "cell_type": "markdown",
   "id": "00dc70de",
   "metadata": {},
   "source": [
    "# 27. Write a program to find the greatest common divisor (GCD) of two numbers."
   ]
  },
  {
   "cell_type": "code",
   "execution_count": 35,
   "id": "bb08964d",
   "metadata": {},
   "outputs": [
    {
     "name": "stdout",
     "output_type": "stream",
     "text": [
      "GCD: 12\n"
     ]
    }
   ],
   "source": [
    "def gcd(a, b):\n",
    "    while b != 0:\n",
    "        a, b = b, a % b\n",
    "    return a\n",
    "num1 = 36\n",
    "num2 = 48\n",
    "result = gcd(num1, num2)\n",
    "print(\"GCD:\", result)"
   ]
  },
  {
   "cell_type": "markdown",
   "id": "f4e98387",
   "metadata": {},
   "source": [
    "# 28. Implement a function to calculate the square root of a given number.\n",
    "To calculate the square root of a number, such as the Babylonian method or the binary search method."
   ]
  },
  {
   "cell_type": "code",
   "execution_count": 36,
   "id": "7b9fae5d",
   "metadata": {},
   "outputs": [
    {
     "name": "stdout",
     "output_type": "stream",
     "text": [
      "Square root: 4.000000000000004\n"
     ]
    }
   ],
   "source": [
    "def sqrt(num):\n",
    "    if num < 0:\n",
    "        raise ValueError(\"Square root is not defined for negative numbers\")\n",
    "    if num == 0:\n",
    "        return 0\n",
    "\n",
    "    # Initial guess for the square root\n",
    "    x = num / 2\n",
    "    while True:\n",
    "        # Calculate a better approximation for the square root\n",
    "        y = (x + num / x) / 2\n",
    "        # Check if the approximation is close enough\n",
    "        if abs(x - y) < 0.0001:\n",
    "            return y\n",
    "        x = y\n",
    "num = 16\n",
    "result = sqrt(num)\n",
    "print(\"Square root:\", result)"
   ]
  },
  {
   "cell_type": "markdown",
   "id": "14e17c4b",
   "metadata": {},
   "source": [
    "# 29. Write a Python program to check if a given string is a valid palindrome ignoring non-alphanumeric characters.\n",
    "\n",
    "The \"re\" module is used to remove non-alphanumeric characters from the string using regular expression re.sub('[^a-zA-Z0-9]', '', s). The resulting string is then converted to lowercase using .lower().\n",
    "\n",
    "Next,to checks if the modified string s is equal to its reversed version s[::-1]. If they are equal, then the original string is a valid palindrome, ignoring non-alphanumeric characters."
   ]
  },
  {
   "cell_type": "code",
   "execution_count": 37,
   "id": "dd8893bf",
   "metadata": {},
   "outputs": [
    {
     "name": "stdout",
     "output_type": "stream",
     "text": [
      "Is valid palindrome: True\n"
     ]
    }
   ],
   "source": [
    "import re\n",
    "\n",
    "def is_valid_palindrome(s):\n",
    "    # Remove non-alphanumeric characters and convert to lowercase\n",
    "    s = re.sub('[^a-zA-Z0-9]', '', s).lower()\n",
    "\n",
    "    # Check if the string is a palindrome\n",
    "    return s == s[::-1]\n",
    "string = \"A man, a plan, a canal: Panama\"\n",
    "result = is_valid_palindrome(string)\n",
    "print(\"Is valid palindrome:\", result)"
   ]
  },
  {
   "cell_type": "markdown",
   "id": "14a6c2cf",
   "metadata": {},
   "source": [
    "# 30. Implement a function to find the minimum element in a rotated sorted list.\n",
    "\n",
    "A modified version of binary search is used to find the minimum element. The algorithm compares the middle element with the rightmost element to determine whether the minimum element is in the left half or the right half. This comparison is done until the left and right indices converge to a single element, which will be the minimum element."
   ]
  },
  {
   "cell_type": "code",
   "execution_count": 38,
   "id": "1f8c0d76",
   "metadata": {},
   "outputs": [
    {
     "name": "stdout",
     "output_type": "stream",
     "text": [
      "Minimum element: 0\n"
     ]
    }
   ],
   "source": [
    "def find_minimum(nums):\n",
    "    left = 0\n",
    "    right = len(nums) - 1\n",
    "\n",
    "    while left < right:\n",
    "        mid = left + (right - left) // 2\n",
    "\n",
    "        # If the middle element is greater than the rightmost element,\n",
    "        # the minimum element is in the right half\n",
    "        if nums[mid] > nums[right]:\n",
    "            left = mid + 1\n",
    "        # If the middle element is less than the rightmost element,\n",
    "        # the minimum element is in the left half or is the middle element itself\n",
    "        else:\n",
    "            right = mid\n",
    "\n",
    "    # The left index will point to the minimum element\n",
    "    return nums[left]\n",
    "nums = [4, 5, 6, 7, 0, 1, 2]\n",
    "min_element = find_minimum(nums)\n",
    "print(\"Minimum element:\", min_element)"
   ]
  },
  {
   "cell_type": "markdown",
   "id": "0ab3e3c2",
   "metadata": {},
   "source": [
    "# 31. Write a program to find the sum of all even numbers in a list.\n",
    "\n",
    "The function \"sum_of_even_numbers\" takes a list nums as input. It initializes a variable sum_even to store the sum of even numbers. Then, it iterates through each element in the list using a for loop. Inside the loop, it checks if the current number is even by using the modulus operator % to check if the number is divisible by 2 with no remainder. If the number is even, it adds it to the sum_even variable. Finally, it returns the sum_even value."
   ]
  },
  {
   "cell_type": "code",
   "execution_count": 39,
   "id": "07dac6cc",
   "metadata": {},
   "outputs": [
    {
     "name": "stdout",
     "output_type": "stream",
     "text": [
      "Sum of even numbers: 30\n"
     ]
    }
   ],
   "source": [
    "def sum_of_even_numbers(nums):\n",
    "    sum_even = 0\n",
    "\n",
    "    for num in nums:\n",
    "        if num % 2 == 0:\n",
    "            sum_even += num\n",
    "\n",
    "    return sum_even\n",
    "nums = [1, 2, 3, 4, 5, 6, 7, 8, 9, 10]\n",
    "sum_even = sum_of_even_numbers(nums)\n",
    "print(\"Sum of even numbers:\", sum_even)"
   ]
  },
  {
   "cell_type": "markdown",
   "id": "f8a4ab50",
   "metadata": {},
   "source": [
    "# 32. Implement a function to calculate the power of a number using recursion.\n",
    "\n",
    "The power function takes two parameters: \"base\" and \"exponent\". It uses recursion to calculate the power of the base raised to the exponent. Here's how the function works:\n",
    "\n",
    "If the \"exponent\" is 0, the function returns 1 because any number raised to the power of 0 is 1.\n",
    "    \n",
    "If the \"exponent\" is negative, the function calculates the reciprocal of the power by dividing 1 by the result of power(base, -exponent).\n",
    "    \n",
    "If the \"exponent\" is positive, the function recursively calls itself with the updated exponent (exponent - 1) and multiplies the base by the result."
   ]
  },
  {
   "cell_type": "code",
   "execution_count": 40,
   "id": "1068f99b",
   "metadata": {},
   "outputs": [
    {
     "name": "stdout",
     "output_type": "stream",
     "text": [
      "Result: 8\n"
     ]
    }
   ],
   "source": [
    "def power(base, exponent):\n",
    "    if exponent == 0:\n",
    "        return 1\n",
    "    elif exponent < 0:\n",
    "        return 1 / power(base, -exponent)\n",
    "    else:\n",
    "        return base * power(base, exponent - 1)\n",
    "base = 2\n",
    "exponent = 3\n",
    "result = power(base, exponent)\n",
    "print(\"Result:\", result)"
   ]
  },
  {
   "cell_type": "markdown",
   "id": "ef2d5a22",
   "metadata": {},
   "source": [
    "# 33. Write a Python program to remove duplicates from a list while preserving the order.\n",
    "\n",
    "The remove_duplicates function takes a list (lst) as input. It initializes an empty set (seen) to keep track of the elements seen so far. The list comprehension iterates over each element (x) in the original list (lst) and only includes it in the new list if it has not been seen before. The seen.add(x) call adds the element x to the set seen to mark it as seen."
   ]
  },
  {
   "cell_type": "code",
   "execution_count": 41,
   "id": "850e591b",
   "metadata": {},
   "outputs": [
    {
     "name": "stdout",
     "output_type": "stream",
     "text": [
      "[1, 2, 3, 4, 5, 6]\n"
     ]
    }
   ],
   "source": [
    "def remove_duplicates(lst):\n",
    "    seen = set()\n",
    "    return [x for x in lst if not (x in seen or seen.add(x))]\n",
    "lst = [1, 2, 3, 2, 4, 1, 5, 4, 6]\n",
    "result = remove_duplicates(lst)\n",
    "print(result)"
   ]
  },
  {
   "cell_type": "markdown",
   "id": "80c30e7e",
   "metadata": {},
   "source": [
    "# 34. Implement a function to find the longest common prefix among a list of strings.\n",
    "\n",
    "The longest_common_prefix function takes a list of strings (strs) as input. It first checks if the list is empty and returns an empty string in that case. It then iterates through the characters of the first string in the list (strs[0]). For each character, it compares it with the corresponding character in the other strings (strs[j][i]). If the character does not match or if the index is out of range for any string, it returns the current common prefix. Otherwise, it appends the character to the common prefix."
   ]
  },
  {
   "cell_type": "code",
   "execution_count": 42,
   "id": "30d6fd52",
   "metadata": {},
   "outputs": [
    {
     "name": "stdout",
     "output_type": "stream",
     "text": [
      "fl\n"
     ]
    }
   ],
   "source": [
    "def longest_common_prefix(strs):\n",
    "    if not strs:\n",
    "        return \"\"\n",
    "    common_prefix = \"\"\n",
    "    for i in range(len(strs[0])):\n",
    "        char = strs[0][i]\n",
    "        for j in range(1, len(strs)):\n",
    "            if i >= len(strs[j]) or strs[j][i] != char:\n",
    "                return common_prefix\n",
    "        common_prefix += char\n",
    "    return common_prefix\n",
    "strings = [\"flower\", \"flow\", \"flight\"]\n",
    "prefix = longest_common_prefix(strings)\n",
    "print(prefix)"
   ]
  },
  {
   "cell_type": "markdown",
   "id": "f77b9cd9",
   "metadata": {},
   "source": [
    "# 35. Write a program to check if a given number is a perfect square.\n",
    "\n",
    "The is_perfect_square function takes a number (num) as input. It calculates the square root of the number using the math.isqrt function. If the square root multiplied by itself is equal to the original number, then the number is a perfect square and the function returns True. Otherwise, it returns False.\n",
    "\n",
    "Note that the math.isqrt function returns the largest integer less than or equal to the square root of the number, ensuring an accurate result for perfect squares."
   ]
  },
  {
   "cell_type": "code",
   "execution_count": 43,
   "id": "9c976d3d",
   "metadata": {},
   "outputs": [
    {
     "name": "stdout",
     "output_type": "stream",
     "text": [
      "16 is a perfect square\n"
     ]
    }
   ],
   "source": [
    "import math\n",
    "\n",
    "def is_perfect_square(num):\n",
    "    sqrt = math.isqrt(num)\n",
    "    return sqrt * sqrt == num\n",
    "num = 16\n",
    "if is_perfect_square(num):\n",
    "    print(num, \"is a perfect square\")\n",
    "else:\n",
    "    print(num, \"is not a perfect square\")"
   ]
  },
  {
   "cell_type": "markdown",
   "id": "4ac127d2",
   "metadata": {},
   "source": [
    "# 36. Implement a function to calculate the product of all elements in a list.\n",
    "\n",
    "The calculate_product function takes a list of numbers (nums) as input. It initializes the product variable to 1. Then, it iterates through each number in the list and multiplies it with the current product. Finally, it returns the calculated product.\n",
    "\n",
    "You can replace the numbers list with any other list of numbers to calculate the product of different elements."
   ]
  },
  {
   "cell_type": "code",
   "execution_count": 44,
   "id": "5c5efb0c",
   "metadata": {},
   "outputs": [
    {
     "name": "stdout",
     "output_type": "stream",
     "text": [
      "Product: 120\n"
     ]
    }
   ],
   "source": [
    "def calculate_product(nums):\n",
    "    product = 1\n",
    "    for num in nums:\n",
    "        product *= num\n",
    "    return product\n",
    "numbers = [2, 3, 4, 5]\n",
    "result = calculate_product(numbers)\n",
    "print(\"Product:\", result)"
   ]
  },
  {
   "cell_type": "markdown",
   "id": "fbac2f3d",
   "metadata": {},
   "source": [
    "# 37. Write a Python program to reverse the order of words in a sentence while preserving the word order."
   ]
  },
  {
   "cell_type": "code",
   "execution_count": 47,
   "id": "97a8f5f4",
   "metadata": {},
   "outputs": [
    {
     "name": "stdout",
     "output_type": "stream",
     "text": [
      "Reversed Sentence: Hello world! You are beautyful\n"
     ]
    }
   ],
   "source": [
    "def reverse_sentence(sentence):\n",
    "    # Split the sentence into individual words\n",
    "    words = sentence.split()\n",
    "\n",
    "    # Reverse the order of words\n",
    "    reversed_words = list(reversed(words))\n",
    "\n",
    "    # Join the reversed words into a sentence\n",
    "    reversed_sentence = ' '.join(reversed_words)\n",
    "\n",
    "    return reversed_sentence\n",
    "\n",
    "input_sentence = \"beautyful are You world! Hello\"\n",
    "reversed_sentence = reverse_sentence(input_sentence)\n",
    "print(\"Reversed Sentence:\", reversed_sentence)"
   ]
  },
  {
   "cell_type": "markdown",
   "id": "7354a60d",
   "metadata": {},
   "source": [
    "# 38. Implement a function to find the missing number in a given list of consecutive numbers.\n",
    "\n",
    "The find_missing_number function takes a list of consecutive numbers as input. It calculates the expected sum of consecutive numbers using the formula (n * (n + 1)) // 2, where n is the length of the list plus 1. It then calculates the actual sum of the given list using the sum() function. Finally, it subtracts the actual sum from the expected sum to find the missing number."
   ]
  },
  {
   "cell_type": "code",
   "execution_count": 48,
   "id": "a35c43dc",
   "metadata": {},
   "outputs": [
    {
     "name": "stdout",
     "output_type": "stream",
     "text": [
      "Missing number: 4\n"
     ]
    }
   ],
   "source": [
    "def find_missing_number(nums):\n",
    "    # Calculate the expected sum of consecutive numbers\n",
    "    n = len(nums) + 1\n",
    "    expected_sum = (n * (n + 1)) // 2\n",
    "    # Calculate the actual sum of the given list\n",
    "    actual_sum = sum(nums)\n",
    "    # Calculate the missing number\n",
    "    missing_number = expected_sum - actual_sum\n",
    "    return missing_number\n",
    "numbers = [1, 2, 3, 5, 6, 7, 8]\n",
    "missing_number = find_missing_number(numbers)\n",
    "print(\"Missing number:\", missing_number)"
   ]
  },
  {
   "cell_type": "markdown",
   "id": "b1fb187b",
   "metadata": {},
   "source": [
    "# 39. Write a program to find the sum of digits of a given number.\n",
    "\n",
    "The sum_of_digits function takes a number as input. It converts the number to a string using the str() function. It then iterates through the digits of the number using a for loop. Inside the loop, it converts each digit back to an integer using the int() function and adds it to the digit_sum variable. Finally, it returns the digit_sum as the result."
   ]
  },
  {
   "cell_type": "code",
   "execution_count": 49,
   "id": "0359e2b0",
   "metadata": {},
   "outputs": [
    {
     "name": "stdout",
     "output_type": "stream",
     "text": [
      "Sum of digits: 15\n"
     ]
    }
   ],
   "source": [
    "def sum_of_digits(number):\n",
    "    # Convert the number to a string\n",
    "    number_str = str(number)\n",
    "\n",
    "    # Initialize the sum\n",
    "    digit_sum = 0\n",
    "\n",
    "    # Iterate through the digits of the number\n",
    "    for digit in number_str:\n",
    "        # Convert each digit back to an integer and add it to the sum\n",
    "          digit_sum += int(digit)\n",
    "    return digit_sum\n",
    "number = 12345\n",
    "digit_sum = sum_of_digits(number)\n",
    "print(\"Sum of digits:\", digit_sum)"
   ]
  },
  {
   "cell_type": "markdown",
   "id": "df7f8647",
   "metadata": {},
   "source": [
    "# 40. Implement a function to check if a given string is a valid palindrome considering case sensitivity.\n",
    "\n",
    "The is_valid_palindrome function takes a string as input. It converts the string to lowercase using the lower() function to make the comparison case-insensitive. It then initializes the start and end pointers to the beginning and end of the string, respectively. It iterates until the middle of the string using a while loop. Inside the loop, it ignores non-alphanumeric characters using another while loop. It then compares the characters at the start and end positions. If they do not match, it returns False indicating that the string is not a valid palindrome. If the loop completes without finding any mismatches, it returns True indicating that the string is a valid palindrome."
   ]
  },
  {
   "cell_type": "code",
   "execution_count": 50,
   "id": "6e8d69bd",
   "metadata": {},
   "outputs": [
    {
     "name": "stdout",
     "output_type": "stream",
     "text": [
      "Is valid palindrome: True\n"
     ]
    }
   ],
   "source": [
    "def is_valid_palindrome(string):\n",
    "    # Convert the string to lowercase\n",
    "    string = string.lower()\n",
    "\n",
    "    # Initialize the start and end pointers\n",
    "    start = 0\n",
    "    end = len(string) - 1\n",
    "\n",
    "    # Iterate until the middle of the string\n",
    "    while start < end:\n",
    "        # Ignore non-alphanumeric characters\n",
    "        while start < end and not string[start].isalnum():\n",
    "            start += 1\n",
    "        while start < end and not string[end].isalnum():\n",
    "            end -= 1\n",
    "\n",
    "        # Compare the characters\n",
    "        if string[start] != string[end]:\n",
    "            return False\n",
    "\n",
    "        # Move the pointers\n",
    "        start += 1\n",
    "        end -= 1\n",
    "\n",
    "    return True\n",
    "string = \"A man, a plan, a canal: Panama\"\n",
    "is_palindrome = is_valid_palindrome(string)\n",
    "print(\"Is valid palindrome:\", is_palindrome)"
   ]
  },
  {
   "cell_type": "markdown",
   "id": "52df55ed",
   "metadata": {},
   "source": [
    "# 41. Write a Python program to find the smallest missing positive integer in a list.\n",
    "\n",
    "The find_smallest_missing_positive function takes a list of integers nums as input. It starts by marking all the non-positive numbers (including zero) as seen by replacing them with n + 1, where n is the length of the list. Then, it marks the presence of positive numbers by negating the value at the corresponding index if the number is within the range 1 to n. Finally, it iterates through the list to find the smallest missing positive integer. If all positive integers from 1 to n are present, it returns n + 1."
   ]
  },
  {
   "cell_type": "code",
   "execution_count": 51,
   "id": "f106b158",
   "metadata": {},
   "outputs": [
    {
     "name": "stdout",
     "output_type": "stream",
     "text": [
      "Smallest missing positive integer: 2\n"
     ]
    }
   ],
   "source": [
    "def find_smallest_missing_positive(nums):\n",
    "    n = len(nums)\n",
    "\n",
    "    # Step 1: Mark all the non-positive numbers as seen\n",
    "    for i in range(n):\n",
    "        if nums[i] <= 0:\n",
    "            nums[i] = n + 1\n",
    "\n",
    "    # Step 2: Mark the presence of positive numbers\n",
    "    for i in range(n):\n",
    "        num = abs(nums[i])\n",
    "        if num <= n:\n",
    "            nums[num - 1] = -abs(nums[num - 1])\n",
    "\n",
    "    # Step 3: Find the smallest missing positive integer\n",
    "    for i in range(n):\n",
    "        if nums[i] > 0:\n",
    "            return i + 1\n",
    "\n",
    "    # If all positive integers from 1 to n are present, return n + 1\n",
    "    return n + 1\n",
    "nums = [3, 4, -1, 1]\n",
    "smallest_missing = find_smallest_missing_positive(nums)\n",
    "print(\"Smallest missing positive integer:\", smallest_missing)"
   ]
  },
  {
   "cell_type": "markdown",
   "id": "9d1cbe52",
   "metadata": {},
   "source": [
    "# 42. Implement a function to find the longest palindrome substring in a given string.\n",
    "\n",
    "The longest_palindrome_substring function takes a string s as input. It uses a helper function expand_around_center to expand around a center character (or two characters for even-length palindromes) and checks if the characters on both sides are the same. It keeps track of the longest palindrome substring found so far by updating the start and end indices. Finally, it returns the substring using slicing based on the start and end indices."
   ]
  },
  {
   "cell_type": "code",
   "execution_count": 52,
   "id": "adc6e10a",
   "metadata": {},
   "outputs": [
    {
     "name": "stdout",
     "output_type": "stream",
     "text": [
      "Longest palindrome substring: aba\n"
     ]
    }
   ],
   "source": [
    "def longest_palindrome_substring(s):\n",
    "    if not s:\n",
    "        return \"\"\n",
    "    \n",
    "    n = len(s)\n",
    "    start = 0\n",
    "    end = 0\n",
    "\n",
    "    # Helper function to expand around a center\n",
    "    def expand_around_center(left, right):\n",
    "        while left >= 0 and right < n and s[left] == s[right]:\n",
    "            left -= 1\n",
    "            right += 1\n",
    "        return right - left - 1\n",
    "    \n",
    "    # Iterate through each character as the center\n",
    "    for i in range(n):\n",
    "        len1 = expand_around_center(i, i)  # Odd-length palindrome\n",
    "        len2 = expand_around_center(i, i+1)  # Even-length palindrome\n",
    "        max_len = max(len1, len2)\n",
    "        \n",
    "        # Update start and end indices if a longer palindrome is found\n",
    "        if max_len > end - start:\n",
    "            start = i - (max_len - 1) // 2\n",
    "            end = i + max_len // 2\n",
    "    \n",
    "    return s[start:end+1]\n",
    "\n",
    "# Example usage\n",
    "s = \"babad\"\n",
    "longest_palindrome = longest_palindrome_substring(s)\n",
    "print(\"Longest palindrome substring:\", longest_palindrome)"
   ]
  },
  {
   "cell_type": "markdown",
   "id": "320bc13a",
   "metadata": {},
   "source": [
    "# 43. Write a program to find the number of occurrences of a given element in a list.\n",
    "\n",
    "The count_occurrences function takes a list lst and an element element as input. It initializes a count variable to keep track of the occurrences. It then iterates through each item in the list and checks if it matches the given element. If a match is found, it increments the count. Finally, it returns the count of occurrences."
   ]
  },
  {
   "cell_type": "code",
   "execution_count": 53,
   "id": "87ab03da",
   "metadata": {},
   "outputs": [
    {
     "name": "stdout",
     "output_type": "stream",
     "text": [
      "Number of occurrences: 3\n"
     ]
    }
   ],
   "source": [
    "def count_occurrences(lst, element):\n",
    "    count = 0\n",
    "    for item in lst:\n",
    "        if item == element:\n",
    "            count += 1\n",
    "    return count\n",
    "my_list = [1, 2, 3, 2, 4, 2, 5]\n",
    "element = 2\n",
    "occurrences = count_occurrences(my_list, element)\n",
    "print(\"Number of occurrences:\", occurrences)"
   ]
  },
  {
   "cell_type": "markdown",
   "id": "7753730e",
   "metadata": {},
   "source": [
    "# 44. Implement a function to check if a given number is a perfect number.\n",
    "\n",
    "The is_perfect_number function takes a number num as input. It first checks if the number is less than or equal to 0. If so, it returns False since perfect numbers are defined as positive integers. It then iterates from 1 to num - 1 and checks if each number is a proper divisor of num. If a proper divisor is found, it adds it to the divisor_sum. Finally, it compares the divisor_sum with the original number to determine if it is a perfect number."
   ]
  },
  {
   "cell_type": "code",
   "execution_count": 54,
   "id": "7f049182",
   "metadata": {},
   "outputs": [
    {
     "name": "stdout",
     "output_type": "stream",
     "text": [
      "Is 28 a perfect number? True\n"
     ]
    }
   ],
   "source": [
    "def is_perfect_number(num):\n",
    "    if num <= 0:\n",
    "        return False\n",
    "\n",
    "    divisor_sum = 0\n",
    "    for i in range(1, num):\n",
    "        if num % i == 0:\n",
    "            divisor_sum += i\n",
    "    return divisor_sum == num\n",
    "number = 28\n",
    "is_perfect = is_perfect_number(number)\n",
    "print(\"Is\", number, \"a perfect number?\", is_perfect)"
   ]
  },
  {
   "cell_type": "markdown",
   "id": "fde5c564",
   "metadata": {},
   "source": [
    "# 45. Write a Python program to remove all duplicates from a string.\n",
    "\n",
    "The remove_duplicates function takes a string string as input. It creates an empty set called unique_chars to store the unique characters encountered. It then iterates through each character in the string and adds it to the set using the add method. Since sets only allow unique elements, duplicates are automatically removed. Finally, it uses the join method to join the characters in the set and form a new string containing only the unique characters."
   ]
  },
  {
   "cell_type": "code",
   "execution_count": 55,
   "id": "695b184f",
   "metadata": {},
   "outputs": [
    {
     "name": "stdout",
     "output_type": "stream",
     "text": [
      "String with duplicates removed: ,d!Wl eHor\n"
     ]
    }
   ],
   "source": [
    "def remove_duplicates(string):\n",
    "    # Create an empty set to store unique characters\n",
    "    unique_chars = set()\n",
    "    # Iterate through each character in the string\n",
    "    for char in string:\n",
    "        # Add the character to the set\n",
    "        unique_chars.add(char)\n",
    "    # Join the characters in the set to form a new string\n",
    "    unique_string = ''.join(unique_chars)\n",
    "    return unique_string\n",
    "string = \"Hello, World!\"\n",
    "result = remove_duplicates(string)\n",
    "print(\"String with duplicates removed:\", result)"
   ]
  },
  {
   "cell_type": "markdown",
   "id": "ec0548be",
   "metadata": {},
   "source": [
    "# 46. Implement a function to find the first missing positive\n",
    "\n",
    "The find_first_missing_positive function takes a list nums as input. It creates a set called positive_nums to store the positive integers encountered in the list. It then starts iterating from 1 and checks if each positive integer exists in the set using the in operator. If a positive integer is not found, it means it is the first missing positive integer. Finally, it returns the first missing positive integer."
   ]
  },
  {
   "cell_type": "code",
   "execution_count": 56,
   "id": "ec7293e0",
   "metadata": {},
   "outputs": [
    {
     "name": "stdout",
     "output_type": "stream",
     "text": [
      "First missing positive integer: 3\n"
     ]
    }
   ],
   "source": [
    "def find_first_missing_positive(nums):\n",
    "    # Create a set to store positive integers\n",
    "    positive_nums = set(nums)\n",
    "\n",
    "    # Iterate through positive integers starting from 1\n",
    "    i = 1\n",
    "    while i in positive_nums:\n",
    "        i += 1\n",
    "\n",
    "    # Return the first missing positive integer\n",
    "    return i\n",
    "nums = [1, 2, 0]\n",
    "result = find_first_missing_positive(nums)\n",
    "print(\"First missing positive integer:\", result)"
   ]
  },
  {
   "cell_type": "code",
   "execution_count": null,
   "id": "3034a87d",
   "metadata": {},
   "outputs": [],
   "source": []
  }
 ],
 "metadata": {
  "kernelspec": {
   "display_name": "Python 3 (ipykernel)",
   "language": "python",
   "name": "python3"
  },
  "language_info": {
   "codemirror_mode": {
    "name": "ipython",
    "version": 3
   },
   "file_extension": ".py",
   "mimetype": "text/x-python",
   "name": "python",
   "nbconvert_exporter": "python",
   "pygments_lexer": "ipython3",
   "version": "3.9.7"
  }
 },
 "nbformat": 4,
 "nbformat_minor": 5
}
