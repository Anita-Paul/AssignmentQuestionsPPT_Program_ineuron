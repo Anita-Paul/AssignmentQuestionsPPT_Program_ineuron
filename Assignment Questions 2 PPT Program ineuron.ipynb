{
 "cells": [
  {
   "cell_type": "markdown",
   "id": "056e82fe",
   "metadata": {},
   "source": [
    "# Question 1"
   ]
  },
  {
   "cell_type": "markdown",
   "id": "f460af25",
   "metadata": {},
   "source": [
    "Given an integer array nums of 2n integers, group these integers into n pairs (a1, b1), (a2, b2),..., (an, bn) such that the sum of min(ai, bi) for all i is maximized. Return the maximized sum."
   ]
  },
  {
   "cell_type": "markdown",
   "id": "5d40fcc7",
   "metadata": {},
   "source": [
    "# Algorithm\n",
    "   1. Sort the given array nums in ascending order.\n",
    "        After sorting nums = [1, 2, 3, 4].\n",
    "\n",
    "   2. Initialize a variable max_sum to store the sum of the minimum values.\n",
    "\n",
    "   3. Iterate over the sorted array by skipping one element at a time.\n",
    "        Start with i = 0 and increment i by 2 in each iteration.\n",
    "        In each iteration, add nums[i] (which represents the minimum value in the pair) to max_sum.\n",
    "\n",
    "   4. Return max_sum as the result."
   ]
  },
  {
   "cell_type": "code",
   "execution_count": 1,
   "id": "bf71e4a1",
   "metadata": {},
   "outputs": [
    {
     "name": "stdout",
     "output_type": "stream",
     "text": [
      "4\n"
     ]
    }
   ],
   "source": [
    "def array_pair_sum(nums):\n",
    "    nums.sort()\n",
    "    max_sum = 0\n",
    "    for i in range(0, len(nums), 2):\n",
    "        max_sum += nums[i]\n",
    "    return max_sum\n",
    "\n",
    "nums = [1, 4, 3, 2]\n",
    "print(array_pair_sum(nums))\n"
   ]
  },
  {
   "cell_type": "markdown",
   "id": "1edd889b",
   "metadata": {},
   "source": [
    "# Question 2"
   ]
  },
  {
   "cell_type": "markdown",
   "id": "bf314b09",
   "metadata": {},
   "source": [
    "# Alice has n candies, where the ith candy is of type candyType[i]. Alice noticed that she started to gain weight, so she visited a doctor. \n",
    "\n",
    "The doctor advised Alice to only eat n / 2 of the candies she has (n is always even). Alice likes her candies very much, and she wants to eat the maximum number of different types of candies while still following the doctor's advice. \n",
    "\n",
    "Given the integer array candyType of length n, return the maximum number of different types of candies she can eat if she only eats n / 2 of them.\n",
    "\n",
    "Example 1:\n",
    "Input: candyType = [1,1,2,2,3,3]\n",
    "Output: 3"
   ]
  },
  {
   "cell_type": "markdown",
   "id": "5fde8677",
   "metadata": {},
   "source": [
    "# Algorithm\n",
    "    1.Initialize a set unique_candies to store the distinct types of candies.\n",
    "    2.Iterate over the candy types in the array candyType.\n",
    "        Add each candy type to the unique_candies set.\n",
    "   3. Calculate the limit of candies Alice can eat: limit = len(candyType) // 2.\n",
    "   4. Return the minimum of the limit limit and the number of unique candies len(unique_candies).\n",
    "        This ensures that if Alice has fewer unique candies than the limit, she can eat all of them. Otherwise, she can only eat the limit number of unique candies."
   ]
  },
  {
   "cell_type": "code",
   "execution_count": 2,
   "id": "8f4e05db",
   "metadata": {},
   "outputs": [
    {
     "name": "stdout",
     "output_type": "stream",
     "text": [
      "3\n"
     ]
    }
   ],
   "source": [
    "def max_candies(candyType):\n",
    "    unique_candies = set(candyType)\n",
    "    limit = len(candyType) // 2\n",
    "    return min(limit, len(unique_candies))\n",
    "\n",
    "candyType = [1, 1, 2, 2, 3, 3]\n",
    "print(max_candies(candyType))"
   ]
  },
  {
   "cell_type": "markdown",
   "id": "f3055eeb",
   "metadata": {},
   "source": [
    "# Question 3"
   ]
  },
  {
   "cell_type": "markdown",
   "id": "364860f6",
   "metadata": {},
   "source": [
    "# We define a harmonious array as an array where the difference between its maximum value and its minimum value is exactly 1.\n",
    "\n",
    "Given an integer array nums, return the length of its longest harmonious subsequence\n",
    "among all its possible subsequences.\n",
    "\n",
    "A subsequence of an array is a sequence that can be derived from the array by deleting some or no elements without changing the order of the remaining elements.\n",
    "\n",
    "Example 1:\n",
    "Input: nums = [1,3,2,2,5,2,3,7]\n",
    "Output: 5"
   ]
  },
  {
   "cell_type": "markdown",
   "id": "5d1334b2",
   "metadata": {},
   "source": [
    "# Algorithm\n",
    "1. Initialize a dictionary counter to keep track of the count of each number in the array.\n",
    "2.  Iterate over the numbers in the array nums and update the count in the counter dictionary.\n",
    "3. Initialize a variable max_length to 0, which will store the maximum length of the harmonious subsequence.\n",
    "4. Iterate over the unique numbers in the array nums (obtained from the keys of the counter dictionary).\n",
    "5. For each unique number num, check if num + 1 exists in the counter dictionary. If it does, calculate the length of the harmonious subsequence starting from num as length = counter[num] + counter[num + 1].\n",
    "6. Update max_length if the calculated length is greater than max_length.\n",
    "7. Return max_length as the result."
   ]
  },
  {
   "cell_type": "code",
   "execution_count": 3,
   "id": "9c8fd2fc",
   "metadata": {},
   "outputs": [
    {
     "name": "stdout",
     "output_type": "stream",
     "text": [
      "5\n"
     ]
    }
   ],
   "source": [
    "from collections import Counter\n",
    "\n",
    "def findLHS(nums):\n",
    "    counter = Counter(nums)\n",
    "    max_length = 0\n",
    "\n",
    "    for num in set(nums):\n",
    "        if num + 1 in counter:\n",
    "            length = counter[num] + counter[num + 1]\n",
    "            max_length = max(max_length, length)\n",
    "\n",
    "    return max_length\n",
    "\n",
    "nums = [1, 3, 2, 2, 5, 2, 3, 7]\n",
    "print(findLHS(nums))\n"
   ]
  },
  {
   "cell_type": "markdown",
   "id": "4ecd4190",
   "metadata": {},
   "source": [
    "# Question 4"
   ]
  },
  {
   "cell_type": "markdown",
   "id": "73a39342",
   "metadata": {},
   "source": [
    "# You have a long flowerbed in which some of the plots are planted, and some are not.\n",
    "However, flowers cannot be planted in adjacent plots.\n",
    "Given an integer array flowerbed containing 0's and 1's, where 0 means empty and 1 means not empty, and an integer n, return true if n new flowers can be planted in the flowerbed without violating the no-adjacent-flowers rule and false otherwise.\n",
    "\n",
    "Example 1:\n",
    "Input: flowerbed = [1,0,0,0,1], n = 1\n",
    "Output: true"
   ]
  },
  {
   "cell_type": "markdown",
   "id": "4743c053",
   "metadata": {},
   "source": [
    "# Algorithm\n",
    "   1. Initialize a variable count to 0, which will store the count of available spots to plant new flowers.\n",
    "\n",
    "   2. Iterate over the flowerbed array.\n",
    "        If the current plot is 0 (empty) and the previous and next plots (if they exist) are also 0, increment count by 1 and set the current plot to 1 to mark it as planted.\n",
    "\n",
    "   3. Check if count is greater than or equal to n.\n",
    "        If count is greater than or equal to n, return True as it means there are enough available spots to plant the new flowers without violating the rule.\n",
    "        Otherwise, return False as there are not enough available spots to plant all n flowers without violating the rule."
   ]
  },
  {
   "cell_type": "code",
   "execution_count": 4,
   "id": "9789d2ed",
   "metadata": {},
   "outputs": [
    {
     "name": "stdout",
     "output_type": "stream",
     "text": [
      "True\n"
     ]
    }
   ],
   "source": [
    "def canPlaceFlowers(flowerbed, n):\n",
    "    count = 0\n",
    "    length = len(flowerbed)\n",
    "    i = 0\n",
    "\n",
    "    while i < length:\n",
    "        if flowerbed[i] == 0 and (i == 0 or flowerbed[i - 1] == 0) and (i == length - 1 or flowerbed[i + 1] == 0):\n",
    "            count += 1\n",
    "            flowerbed[i] = 1\n",
    "        i += 1\n",
    "\n",
    "    return count >= n\n",
    "\n",
    "flowerbed = [1, 0, 0, 0, 1]\n",
    "n = 1\n",
    "print(canPlaceFlowers(flowerbed, n))"
   ]
  },
  {
   "cell_type": "markdown",
   "id": "264f3ee2",
   "metadata": {},
   "source": [
    "# Question 5"
   ]
  },
  {
   "cell_type": "markdown",
   "id": "66e09713",
   "metadata": {},
   "source": [
    "# Given an integer array nums, find three numbers whose product is maximum and return the maximum product.\n",
    "\n",
    "Example 1:\n",
    "Input: nums = [1,2,3]\n",
    "Output: 6"
   ]
  },
  {
   "cell_type": "markdown",
   "id": "bcf0c4f1",
   "metadata": {},
   "source": [
    "# Algorithm \n",
    "    1. Sort the array nums in ascending order.\n",
    "    2.Calculate two possible products:\n",
    "        product1 = nums[0] * nums[1] * nums[-1] (considering the two smallest negative numbers)\n",
    "        product2 = nums[-1] * nums[-2] * nums[-3] (considering the three largest positive numbers)\n",
    "   3. Return the maximum of product1 and product2."
   ]
  },
  {
   "cell_type": "code",
   "execution_count": 5,
   "id": "f22843bf",
   "metadata": {},
   "outputs": [
    {
     "name": "stdout",
     "output_type": "stream",
     "text": [
      "6\n"
     ]
    }
   ],
   "source": [
    "def maximumProduct(nums):\n",
    "    nums.sort()\n",
    "    product1 = nums[0] * nums[1] * nums[-1]\n",
    "    product2 = nums[-1] * nums[-2] * nums[-3]\n",
    "    return max(product1, product2)\n",
    "\n",
    "nums = [1, 2, 3]\n",
    "print(maximumProduct(nums))"
   ]
  },
  {
   "cell_type": "markdown",
   "id": "02107141",
   "metadata": {},
   "source": [
    "# Question 6"
   ]
  },
  {
   "cell_type": "markdown",
   "id": "0da39e20",
   "metadata": {},
   "source": [
    "# Given an array of integers nums which is sorted in ascending order, and an integer target,\n",
    "write a function to search target in nums. If target exists, then return its index. Otherwise,\n",
    "return -1.\n",
    "\n",
    "You must write an algorithm with O(log n) runtime complexity.\n",
    "\n",
    "Input: nums = [-1,0,3,5,9,12], target = 9\n",
    "Output: 4"
   ]
  },
  {
   "cell_type": "markdown",
   "id": "42f3bc76",
   "metadata": {},
   "source": [
    "# Algorithm\n",
    "   1. Initialize two pointers, left and right, representing the start and end indices of the array, respectively. Set left to 0 and right to the last index of the array.\n",
    "\n",
    "   2. While left is less than or equal to right, do the following:\n",
    "        Calculate the middle index as mid = (left + right) // 2.\n",
    "        If nums[mid] is equal to the target, return mid as the index where the target is found.\n",
    "        If nums[mid] is greater than the target, update right to mid - 1 to search in the left half of the array.\n",
    "        If nums[mid] is less than the target, update left to mid + 1 to search in the right half of the array.\n",
    "\n",
    "    3.If the target is not found after the while loop, return -1 to indicate that the target does not exist in the array."
   ]
  },
  {
   "cell_type": "code",
   "execution_count": 6,
   "id": "df154d0a",
   "metadata": {},
   "outputs": [
    {
     "name": "stdout",
     "output_type": "stream",
     "text": [
      "4\n"
     ]
    }
   ],
   "source": [
    "def search(nums, target):\n",
    "    left, right = 0, len(nums) - 1\n",
    "\n",
    "    while left <= right:\n",
    "        mid = (left + right) // 2\n",
    "        if nums[mid] == target:\n",
    "            return mid\n",
    "        elif nums[mid] > target:\n",
    "            right = mid - 1\n",
    "        else:\n",
    "            left = mid + 1\n",
    "\n",
    "    return -1\n",
    "\n",
    "nums = [-1, 0, 3, 5, 9, 12]\n",
    "target = 9\n",
    "print(search(nums, target))"
   ]
  },
  {
   "cell_type": "markdown",
   "id": "72c1c8b1",
   "metadata": {},
   "source": [
    "# Question 7"
   ]
  },
  {
   "cell_type": "markdown",
   "id": "90fe7daa",
   "metadata": {},
   "source": [
    "# An array is monotonic if it is either monotone increasing or monotone decreasing.\n",
    "\n",
    "An array nums is monotone increasing if for all i <= j, nums[i] <= nums[j]. An array nums is\n",
    "monotone decreasing if for all i <= j, nums[i] >= nums[j].\n",
    "\n",
    "Given an integer array nums, return true if the given array is monotonic, or false otherwise.\n",
    "\n",
    "Example 1:\n",
    "Input: nums = [1,2,2,3]\n",
    "Output: true"
   ]
  },
  {
   "cell_type": "markdown",
   "id": "9f090e78",
   "metadata": {},
   "source": [
    "# Algorithm\n",
    "   1. Initialize two variables, isIncreasing and isDecreasing, to track if the array is monotone increasing or monotone decreasing, respectively. Set both variables to True initially.\n",
    "   2. Iterate over the array nums starting from the second element (index 1).\n",
    "        If the current element is smaller than the previous element, set isIncreasing to False.\n",
    "        If the current element is larger than the previous element, set isDecreasing to False.\n",
    "        If both isIncreasing and isDecreasing become False, return False as the array is not monotonic.\n",
    "   3.If the iteration completes without returning False, return True as the array is monotonic."
   ]
  },
  {
   "cell_type": "code",
   "execution_count": 7,
   "id": "07b91140",
   "metadata": {},
   "outputs": [
    {
     "name": "stdout",
     "output_type": "stream",
     "text": [
      "True\n"
     ]
    }
   ],
   "source": [
    "def isMonotonic(nums):\n",
    "    isIncreasing = True\n",
    "    isDecreasing = True\n",
    "\n",
    "    for i in range(1, len(nums)):\n",
    "        if nums[i] < nums[i - 1]:\n",
    "            isIncreasing = False\n",
    "        if nums[i] > nums[i - 1]:\n",
    "            isDecreasing = False\n",
    "        if not isIncreasing and not isDecreasing:\n",
    "            return False\n",
    "\n",
    "    return True\n",
    "\n",
    "nums = [1, 2, 2, 3]\n",
    "print(isMonotonic(nums))"
   ]
  },
  {
   "cell_type": "markdown",
   "id": "f79bad2f",
   "metadata": {},
   "source": [
    "# Question 8"
   ]
  },
  {
   "cell_type": "markdown",
   "id": "7eb6e682",
   "metadata": {},
   "source": [
    "# You are given an integer array nums and an integer k.\n",
    "\n",
    "In one operation, you can choose any index i where 0 <= i < nums.length and change nums[i] to nums[i] + x where x is an integer from the range [-k, k]. You can apply this operation at most once for each index i.\n",
    "\n",
    "The score of nums is the difference between the maximum and minimum elements in nums.\n",
    "\n",
    "Return the minimum score of nums after applying the mentioned operation at most once for each index in it.\n",
    "\n",
    "Example 1:\n",
    "Input: nums = [1], k = 0\n",
    "Output: 0\n"
   ]
  },
  {
   "cell_type": "markdown",
   "id": "f7a78a72",
   "metadata": {},
   "source": [
    "# Algorithm\n",
    "   1. Find the minimum and maximum elements in the array nums and calculate the initial score as score = max(nums) - min(nums).\n",
    "\n",
    "   2. If the difference score is already 0, return 0 as the minimum score.\n",
    "\n",
    "   3. Iterate over the elements in the array nums.\n",
    "        For each element num, calculate the minimum and maximum values that can be obtained by applying the operation at most once for that element as min_val = min(num - k, min(nums)) and max_val = max(num + k, max(nums)).\n",
    "        Calculate the new score as new_score = max_val - min_val.\n",
    "        Update the minimum score if the new score is smaller.\n",
    "\n",
    "   4. Return the minimum score as the result."
   ]
  },
  {
   "cell_type": "code",
   "execution_count": 8,
   "id": "13fec144",
   "metadata": {},
   "outputs": [
    {
     "name": "stdout",
     "output_type": "stream",
     "text": [
      "True\n"
     ]
    }
   ],
   "source": [
    "def isMonotonic(nums):\n",
    "    isIncreasing = True\n",
    "    isDecreasing = True\n",
    "\n",
    "    for i in range(1, len(nums)):\n",
    "        if nums[i] < nums[i - 1]:\n",
    "            isIncreasing = False\n",
    "        if nums[i] > nums[i - 1]:\n",
    "            isDecreasing = False\n",
    "        if not isIncreasing and not isDecreasing:\n",
    "            return False\n",
    "\n",
    "    return True\n",
    "\n",
    "nums = [1, 2, 2, 3]\n",
    "print(isMonotonic(nums))"
   ]
  },
  {
   "cell_type": "code",
   "execution_count": null,
   "id": "42cc3f30",
   "metadata": {},
   "outputs": [],
   "source": []
  },
  {
   "cell_type": "code",
   "execution_count": null,
   "id": "f2164718",
   "metadata": {},
   "outputs": [],
   "source": []
  }
 ],
 "metadata": {
  "kernelspec": {
   "display_name": "Python 3 (ipykernel)",
   "language": "python",
   "name": "python3"
  },
  "language_info": {
   "codemirror_mode": {
    "name": "ipython",
    "version": 3
   },
   "file_extension": ".py",
   "mimetype": "text/x-python",
   "name": "python",
   "nbconvert_exporter": "python",
   "pygments_lexer": "ipython3",
   "version": "3.9.7"
  }
 },
 "nbformat": 4,
 "nbformat_minor": 5
}
