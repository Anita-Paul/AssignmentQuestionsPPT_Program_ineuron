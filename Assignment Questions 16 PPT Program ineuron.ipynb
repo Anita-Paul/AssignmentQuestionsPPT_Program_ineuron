{
 "cells": [
  {
   "cell_type": "markdown",
   "id": "8a7eead9",
   "metadata": {},
   "source": [
    "# Question 1"
   ]
  },
  {
   "cell_type": "markdown",
   "id": "61463d91",
   "metadata": {},
   "source": [
    "# Given an array, for each element find the value of the nearest element to the right which is having a frequency greater than that of the current element. If there does not exist an answer for a position, then make the value ‘-1’.\n",
    "\n",
    "**Examples:**\n",
    "\n",
    "```\n",
    "Input: a[] = [1, 1, 2, 3, 4, 2, 1]\n",
    "Output : [-1, -1, 1, 2, 2, 1, -1]\n",
    "\n",
    "Explanation:\n",
    "Given array a[] = [1, 1, 2, 3, 4, 2, 1]\n",
    "Frequency of each element is: 3, 3, 2, 1, 1, 2, 3\n",
    "\n",
    "Lets calls Next Greater Frequency element as NGF\n",
    "1. For element a[0] = 1 which has a frequency = 3,\n",
    "   As it has frequency of 3 and no other next element\n",
    "   has frequency more than 3 so  '-1'\n",
    "2. For element a[1] = 1 it will be -1 same logic\n",
    "   like a[0]\n",
    "3. For element a[2] = 2 which has frequency = 2,\n",
    "   NGF element is 1 at position = 6  with frequency\n",
    "   of 3 > 2\n",
    "4. For element a[3] = 3 which has frequency = 1,\n",
    "   NGF element is 2 at position = 5 with frequency\n",
    "   of 2 > 1\n",
    "5. For element a[4] = 4 which has frequency = 1,\n",
    "   NGF element is 2 at position = 5 with frequency\n",
    "   of 2 > 1\n",
    "6. For element a[5] = 2 which has frequency = 2,\n",
    "   NGF element is 1 at position = 6 with frequency\n",
    "   of 3 > 2\n",
    "7. For element a[6] = 1 there is no element to its\n",
    "   right, hence -1\n",
    "```\n",
    "\n",
    "```\n",
    "Input : a[] = [1, 1, 1, 2, 2, 2, 2, 11, 3, 3]\n",
    "Output : [2, 2, 2, -1, -1, -1, -1, 3, -1, -1]\n",
    "```\n",
    "\n",
    "</aside>"
   ]
  },
  {
   "cell_type": "markdown",
   "id": "bc7d6a8e",
   "metadata": {},
   "source": [
    "# Algorithm\n",
    "1.Create an empty stack and an empty dictionary (frequency) to store the frequency of each element.\n",
    "    \n",
    "2.Create an empty array (answer) to store the result.\n",
    "    \n",
    "3.Traverse the input array from right to left:\n",
    "\n",
    "Increment the frequency count of the current element in the dictionary.\n",
    "        \n",
    "While the stack is not empty and the frequency of the current element is greater than or equal to the frequency of the element at the top of the stack, pop elements from the stack.\n",
    "        \n",
    "If the stack is empty, append -1 to the answer array.\n",
    "        \n",
    "Otherwise, append the element at the top of the stack to the answer array.\n",
    "        \n",
    "Push the current element onto the stack.\n",
    "    \n",
    "4.Reverse the answer array to match the order of the input array.\n",
    "    \n",
    "5.Return the answer array."
   ]
  },
  {
   "cell_type": "code",
   "execution_count": 1,
   "id": "35eaf193",
   "metadata": {},
   "outputs": [],
   "source": [
    "def findNextGreaterFrequency(arr):\n",
    "    frequency = {}\n",
    "    stack = []\n",
    "    answer = []\n",
    "\n",
    "    # Count the frequency of each element\n",
    "    for num in arr:\n",
    "        frequency[num] = frequency.get(num, 0) + 1\n",
    "\n",
    "    # Find the next greater frequency element\n",
    "    for num in reversed(arr):\n",
    "        while stack and frequency[num] >= frequency[stack[-1]]:\n",
    "            stack.pop()\n",
    "        if not stack:\n",
    "            answer.append(-1)\n",
    "        else:\n",
    "            answer.append(stack[-1])\n",
    "        stack.append(num)\n",
    "\n",
    "    # Reverse the answers array to match the order of the input array\n",
    "    answer.reverse()\n",
    "    return answer"
   ]
  },
  {
   "cell_type": "code",
   "execution_count": 2,
   "id": "eeee5e41",
   "metadata": {},
   "outputs": [
    {
     "name": "stdout",
     "output_type": "stream",
     "text": [
      "[-1, -1, 1, 2, 2, 1, -1]\n",
      "[2, 2, 2, -1, -1, -1, -1, 3, -1, -1]\n"
     ]
    }
   ],
   "source": [
    "arr = [1, 1, 2, 3, 4, 2, 1]\n",
    "print(findNextGreaterFrequency(arr)) \n",
    "\n",
    "arr = [1, 1, 1, 2, 2, 2, 2, 11, 3, 3]\n",
    "print(findNextGreaterFrequency(arr)) "
   ]
  },
  {
   "cell_type": "code",
   "execution_count": null,
   "id": "49d84020",
   "metadata": {},
   "outputs": [],
   "source": [
    "Question 2"
   ]
  },
  {
   "cell_type": "markdown",
   "id": "71697720",
   "metadata": {},
   "source": [
    "# Given a stack of integers, sort it in ascending order using another temporary stack.\n",
    "\n",
    "**Examples:**\n",
    "\n",
    "```\n",
    "Input : [34, 3, 31, 98, 92, 23]\n",
    "Output : [3, 23, 31, 34, 92, 98]\n",
    "\n",
    "Input : [3, 5, 1, 4, 2, 8]\n",
    "Output : [1, 2, 3, 4, 5, 8]"
   ]
  },
  {
   "cell_type": "markdown",
   "id": "243b6d1f",
   "metadata": {},
   "source": [
    "# Algorithm\n",
    "1.Create an empty temporary stack.\n",
    "    \n",
    "2.While the input stack is not empty, do the following:\n",
    "        \n",
    "Pop an element from the input stack and store it in a variable called temp.\n",
    "        \n",
    "While the temporary stack is not empty and the top element of the temporary stack is greater than temp, transfer the top element from the temporary stack back to the input stack.\n",
    "        \n",
    "Push temp onto the temporary stack.\n",
    "    \n",
    "3.The elements in the temporary stack are now sorted in descending order.\n",
    "    \n",
    "4.Transfer the elements from the temporary stack back to the input stack to obtain the sorted stack in ascending order."
   ]
  },
  {
   "cell_type": "raw",
   "id": "45e05005",
   "metadata": {},
   "source": [
    "The time complexity of this algorithm is O(n^2) in the worst case, where n is the number of elements in the input stack. This is because for each element, we may need to transfer all the elements from the temporary stack back to the input stack. The space complexity is O(n) due to the usage of the temporary stack."
   ]
  },
  {
   "cell_type": "code",
   "execution_count": 3,
   "id": "62da7e36",
   "metadata": {},
   "outputs": [
    {
     "name": "stdout",
     "output_type": "stream",
     "text": [
      "[98, 92, 34, 31, 23, 3]\n"
     ]
    }
   ],
   "source": [
    "def sortStack(stack):\n",
    "    tempStack = []\n",
    "\n",
    "    while stack:\n",
    "        # Pop an element from the input stack\n",
    "        temp = stack.pop()\n",
    "\n",
    "        while tempStack and tempStack[-1] > temp:\n",
    "            # Transfer elements from temporary stack back to input stack\n",
    "            stack.append(tempStack.pop())\n",
    "\n",
    "        # Push temp onto the temporary stack\n",
    "        tempStack.append(temp)\n",
    "\n",
    "    # Transfer elements from temporary stack back to input stack\n",
    "    while tempStack:\n",
    "        stack.append(tempStack.pop())\n",
    "\n",
    "    return stack\n",
    "\n",
    "stack = [34, 3, 31, 98, 92, 23]\n",
    "sortedStack = sortStack(stack)\n",
    "print(sortedStack)"
   ]
  },
  {
   "cell_type": "markdown",
   "id": "d85fd1ec",
   "metadata": {},
   "source": [
    "# Question 3"
   ]
  },
  {
   "cell_type": "markdown",
   "id": "b97458ba",
   "metadata": {},
   "source": [
    "# Given a stack with **push()**, **pop()**, and **empty()** operations, The task is to delete the **middle** element ****of it without using any additional data structure.\n",
    "\n",
    "Input  : Stack[] = [1, 2, 3, 4, 5]\n",
    "\n",
    "Output : Stack[] = [1, 2, 4, 5]\n",
    "\n",
    "Input  : Stack[] = [1, 2, 3, 4, 5, 6]\n",
    "\n",
    "Output : Stack[] = [1, 2, 4, 5, 6]\n",
    "\n",
    "</aside>"
   ]
  },
  {
   "cell_type": "markdown",
   "id": "4c7bb2f7",
   "metadata": {},
   "source": [
    "# Algorithm\n",
    "1.Define a recursive function deleteMiddle that takes the stack as input.\n",
    "    \n",
    "2.If the stack is empty or contains only one element, return the stack as is.\n",
    "    \n",
    "3.Pop the top element from the stack.\n",
    "    \n",
    "4.Recursively call deleteMiddle on the remaining elements of the stack.\n",
    "    \n",
    "5.Increment a count variable by 1 for each recursive call.\n",
    "    \n",
    "6.If the count is equal to the middle index of the stack (calculated as the size of the stack divided by 2), do not push the popped element back onto the stack.\n",
    "    \n",
    "7.Otherwise, push the popped element back onto the stack.\n",
    "    \n",
    "8.Return the modified stack."
   ]
  },
  {
   "cell_type": "code",
   "execution_count": 4,
   "id": "c9b06842",
   "metadata": {},
   "outputs": [
    {
     "name": "stdout",
     "output_type": "stream",
     "text": [
      "[1, 2, 3, 5]\n"
     ]
    }
   ],
   "source": [
    "def deleteMiddle(stack, count=0):\n",
    "    if len(stack) == 0 or len(stack) == 1:\n",
    "        return stack\n",
    "\n",
    "    element = stack.pop()\n",
    "\n",
    "    stack = deleteMiddle(stack, count + 1)\n",
    "\n",
    "    middle_index = len(stack) // 2\n",
    "\n",
    "    if count != middle_index:\n",
    "        stack.append(element)\n",
    "\n",
    "    return stack\n",
    "\n",
    "stack = [1, 2, 3, 4, 5]\n",
    "result = deleteMiddle(stack)\n",
    "print(result)"
   ]
  },
  {
   "cell_type": "markdown",
   "id": "2e39b61a",
   "metadata": {},
   "source": [
    "# Question 4"
   ]
  },
  {
   "cell_type": "markdown",
   "id": "657b51b6",
   "metadata": {},
   "source": [
    "# Given a Queue consisting of first **n** natural numbers (in random order). The task is to check whether the given Queue elements can be arranged in increasing order in another Queue using a stack. The operation allowed are:\n",
    "\n",
    "1. Push and pop elements from the stack\n",
    "2. Pop (Or Dequeue) from the given Queue.\n",
    "3. Push (Or Enqueue) in the another Queue.\n",
    "\n",
    "**Examples :**\n",
    "\n",
    "Input : Queue[] = { 5, 1, 2, 3, 4 } \n",
    "\n",
    "Output : Yes \n",
    "\n",
    "Pop the first element of the given Queue \n",
    "\n",
    "i.e 5. Push 5 into the stack. \n",
    "\n",
    "Now, pop all the elements of the given Queue and push them to second Queue. \n",
    "\n",
    "Now, pop element 5 in the stack and push it to the second Queue.   \n",
    "\n",
    "Input : Queue[] = { 5, 1, 2, 6, 3, 4 } \n",
    "\n",
    "Output : No \n",
    "\n",
    "Push 5 to stack. \n",
    "\n",
    "Pop 1, 2 from given Queue and push it to another Queue. \n",
    "\n",
    "Pop 6 from given Queue and push to stack. \n",
    "\n",
    "Pop 3, 4 from given Queue and push to second Queue. \n",
    "\n",
    "Now, from using any of above operation, we cannot push 5 into the second Queue because it is below the 6 in the stack.\n",
    "\n",
    "</aside>"
   ]
  },
  {
   "cell_type": "markdown",
   "id": "ddb2919c",
   "metadata": {},
   "source": [
    "# Algorithm\n",
    "1.Initialize an empty stack and an empty second Queue.\n",
    "    \n",
    "2.Initialize a variable expected to 1, representing the expected next element in the increasing order.\n",
    "\n",
    "3.Iterate through each element in the given Queue.\n",
    "        \n",
    "If the front element of the Queue is equal to the expected value, dequeue it and increment expected.\n",
    "        \n",
    "If the top element of the stack is equal to the expected value, pop it from the stack and increment expected.\n",
    "        \n",
    "If none of the above conditions match, push the front element of the Queue to the stack and dequeue it.\n",
    "    \n",
    "4.After iterating through all the elements in the Queue, while the stack is not empty:\n",
    "        \n",
    "If the top element of the stack is equal to the expected value, pop it from the stack and increment expected.\n",
    "        \n",
    "Otherwise, break out of the loop.\n",
    "    \n",
    "5.If the Queue is empty and the stack is empty, return \"Yes\" indicating that the elements can be arranged in increasing order. Otherwise, return \"No\"."
   ]
  },
  {
   "cell_type": "code",
   "execution_count": 13,
   "id": "70c05d84",
   "metadata": {},
   "outputs": [
    {
     "name": "stdout",
     "output_type": "stream",
     "text": [
      "Yes\n"
     ]
    }
   ],
   "source": [
    "from queue import Queue\n",
    "\n",
    "def checkIncreasingOrder(queue):\n",
    "    stack = []\n",
    "    secondQueue = Queue()\n",
    "    expected = 1\n",
    "\n",
    "    while not queue.empty():\n",
    "        if queue.queue[0] == expected:\n",
    "            queue.get()\n",
    "            expected += 1\n",
    "        elif stack and stack[-1] == expected:\n",
    "            stack.pop()\n",
    "            expected += 1\n",
    "        else:\n",
    "            stack.append(queue.get())\n",
    "\n",
    "    while stack:\n",
    "        if stack[-1] == expected:\n",
    "            stack.pop()\n",
    "            expected += 1\n",
    "        else:\n",
    "            break\n",
    "\n",
    "    return \"Yes\" if queue.empty() and not stack else \"No\"\n",
    "\n",
    "queue = Queue()\n",
    "queue.put(5)\n",
    "queue.put(1)\n",
    "queue.put(2)\n",
    "queue.put(3)\n",
    "queue.put(4)\n",
    "\n",
    "result = checkIncreasingOrder(queue)\n",
    "print(result)"
   ]
  },
  {
   "cell_type": "markdown",
   "id": "798ebc86",
   "metadata": {},
   "source": [
    "# Question 5"
   ]
  },
  {
   "cell_type": "markdown",
   "id": "3a71d047",
   "metadata": {},
   "source": [
    "# Given a number , write a program to reverse this number using stack.\n",
    "\n",
    "**Examples:**\n",
    "\n",
    "```\n",
    "Input : 365\n",
    "Output : 563\n",
    "\n",
    "Input : 6899\n",
    "Output : 9986\n",
    "```\n",
    "\n",
    "</aside>"
   ]
  },
  {
   "cell_type": "markdown",
   "id": "1ef33f30",
   "metadata": {},
   "source": [
    "# Algorithm\n",
    "1.Convert the given number into a string.\n",
    "    \n",
    "2.Initialize an empty stack.\n",
    "    \n",
    "3.Iterate through each digit of the number and push it onto the stack.\n",
    "    \n",
    "4.Pop each digit from the stack and append it to a new string.\n",
    "    \n",
    "5.Convert the reversed string back into an integer and return it as the result."
   ]
  },
  {
   "cell_type": "code",
   "execution_count": 9,
   "id": "e96bd1d4",
   "metadata": {},
   "outputs": [
    {
     "name": "stdout",
     "output_type": "stream",
     "text": [
      "563\n",
      "9986\n"
     ]
    }
   ],
   "source": [
    "def reverseNumber(number):\n",
    "    # Convert number to string\n",
    "    number_str = str(number)\n",
    "    \n",
    "    # Initialize an empty stack\n",
    "    stack = []\n",
    "    \n",
    "    # Push each digit onto the stack\n",
    "    for digit in number_str:\n",
    "        stack.append(digit)\n",
    "    \n",
    "    # Pop each digit from the stack and append it to a new string\n",
    "    reversed_str = \"\"\n",
    "    while stack:\n",
    "        reversed_str += stack.pop()\n",
    "    \n",
    "    # Convert the reversed string back into an integer\n",
    "    reversed_number = int(reversed_str)\n",
    "    \n",
    "    return reversed_number\n",
    "\n",
    "number = 365\n",
    "reversed_number = reverseNumber(number)\n",
    "print(reversed_number)\n",
    "\n",
    "number = 6899\n",
    "reversed_number = reverseNumber(number)\n",
    "print(reversed_number)"
   ]
  },
  {
   "cell_type": "code",
   "execution_count": null,
   "id": "c01ab17e",
   "metadata": {},
   "outputs": [],
   "source": [
    "Question 6"
   ]
  },
  {
   "cell_type": "markdown",
   "id": "d79b9c1b",
   "metadata": {},
   "source": [
    "# Given an integer k and a **[queue](https://www.geeksforgeeks.org/queue-data-structure/)** of integers, The task is to reverse the order of the first **k** elements of the queue, leaving the other elements in the same relative order.\n",
    "\n",
    "Only following standard operations are allowed on queue.\n",
    "\n",
    "- **enqueue(x) :** Add an item x to rear of queue\n",
    "- **dequeue() :** Remove an item from front of queue\n",
    "- **size() :** Returns number of elements in queue.\n",
    "- **front() :** Finds front item.\n",
    "</aside>"
   ]
  },
  {
   "cell_type": "markdown",
   "id": "14a2eb82",
   "metadata": {},
   "source": [
    "# Algorithm\n",
    "1.Create an empty stack.\n",
    "    \n",
    "2.Dequeue the first k elements from the queue and push them onto the stack.\n",
    "    \n",
    "3.Create another empty queue.\n",
    "    \n",
    "4.Pop each element from the stack and enqueue it into the new queue.\n",
    "    \n",
    "5.Enqueue the remaining elements from the original queue into the new queue.\n",
    "    \n",
    "6.Return the new queue as the result."
   ]
  },
  {
   "cell_type": "code",
   "execution_count": 10,
   "id": "032aede2",
   "metadata": {},
   "outputs": [
    {
     "name": "stdout",
     "output_type": "stream",
     "text": [
      "3\n",
      "2\n",
      "1\n",
      "4\n",
      "5\n"
     ]
    }
   ],
   "source": [
    "from queue import Queue\n",
    "\n",
    "\n",
    "def reverseFirstK(queue, k):\n",
    "    if k <= 0 or k > queue.qsize():\n",
    "        return queue\n",
    "    \n",
    "    stack = []\n",
    "    for _ in range(k):\n",
    "        stack.append(queue.get())\n",
    "    \n",
    "    new_queue = Queue()\n",
    "    while stack:\n",
    "        new_queue.put(stack.pop())\n",
    "    \n",
    "    while not queue.empty():\n",
    "        new_queue.put(queue.get())\n",
    "    \n",
    "    return new_queue\n",
    "\n",
    "queue = Queue()\n",
    "queue.put(1)\n",
    "queue.put(2)\n",
    "queue.put(3)\n",
    "queue.put(4)\n",
    "queue.put(5)\n",
    "\n",
    "k = 3\n",
    "reversed_queue = reverseFirstK(queue, k)\n",
    "\n",
    "while not reversed_queue.empty():\n",
    "    print(reversed_queue.get())\n"
   ]
  },
  {
   "cell_type": "markdown",
   "id": "731cfdae",
   "metadata": {},
   "source": [
    "# Question 7"
   ]
  },
  {
   "cell_type": "markdown",
   "id": "fc525d36",
   "metadata": {},
   "source": [
    "# Given a sequence of n strings, the task is to check if any two similar words come together and then destroy each other then print the number of words left in the sequence after this pairwise destruction.\n",
    "\n",
    "**Examples:**\n",
    "\n",
    "Input : ab aa aa bcd ab\n",
    "\n",
    "Output : 3\n",
    "\n",
    "*As aa, aa destroys each other so,*\n",
    "\n",
    "*ab bcd ab is the new sequence.*\n",
    "\n",
    "Input :  tom jerry jerry tom\n",
    "\n",
    "Output : 0\n",
    "\n",
    "*As first both jerry will destroy each other.*\n",
    "\n",
    "*Then sequence will be tom, tom they will also destroy*\n",
    "\n",
    "*each other. So, the final sequence doesn’t contain any*\n",
    "\n",
    "*word.*\n",
    "\n",
    "</aside>"
   ]
  },
  {
   "cell_type": "markdown",
   "id": "3bfa64b4",
   "metadata": {},
   "source": [
    "# Algorithm\n",
    "1.If the stack is empty, push the current word onto the stack.\n",
    "    \n",
    "2.If the current word is the same as the word at the top of the stack, pop the word from the stack.\n",
    "    \n",
    "3.If the current word is different from the word at the top of the stack, push the current word onto the stack.\n",
    "    \n",
    "4.After iterating through all the words, the stack will contain the remaining words that were not destroyed."
   ]
  },
  {
   "cell_type": "code",
   "execution_count": 11,
   "id": "671b34c7",
   "metadata": {},
   "outputs": [
    {
     "name": "stdout",
     "output_type": "stream",
     "text": [
      "3\n"
     ]
    }
   ],
   "source": [
    "def countRemainingWords(words):\n",
    "    stack = []\n",
    "    for word in words:\n",
    "        if not stack or word != stack[-1]:\n",
    "            stack.append(word)\n",
    "        else:\n",
    "            stack.pop()\n",
    "    \n",
    "    return len(stack)\n",
    "\n",
    "sequence = \"ab aa aa bcd ab\"\n",
    "words = sequence.split()\n",
    "result = countRemainingWords(words)\n",
    "print(result)"
   ]
  },
  {
   "cell_type": "markdown",
   "id": "ebe61e59",
   "metadata": {},
   "source": [
    "# Question 8"
   ]
  },
  {
   "cell_type": "markdown",
   "id": "561ea347",
   "metadata": {},
   "source": [
    "# Given an array of integers, the task is to find the maximum absolute difference between the nearest left and the right smaller element of every element in the array.\n",
    "\n",
    "**Note:** If there is no smaller element on right side or left side of any element then we take zero as the smaller element. For example for the leftmost element, the nearest smaller element on the left side is considered as 0. Similarly, for rightmost elements, the smaller element on the right side is considered as 0.\n",
    "\n",
    "**Examples:**\n",
    "\n",
    "```\n",
    "Input : arr[] = {2, 1, 8}\n",
    "Output : 1\n",
    "Left smaller  LS[] {0, 0, 1}\n",
    "Right smaller RS[] {1, 0, 0}\n",
    "Maximum Diff of abs(LS[i] - RS[i]) = 1\n",
    "\n",
    "Input  : arr[] = {2, 4, 8, 7, 7, 9, 3}\n",
    "Output : 4\n",
    "Left smaller   LS[] = {0, 2, 4, 4, 4, 7, 2}\n",
    "Right smaller  RS[] = {0, 3, 7, 3, 3, 3, 0}\n",
    "Maximum Diff of abs(LS[i] - RS[i]) = 7 - 3 = 4\n",
    "\n",
    "Input : arr[] = {5, 1, 9, 2, 5, 1, 7}\n",
    "Output : 1\n",
    "```\n",
    "\n",
    "</aside>"
   ]
  },
  {
   "cell_type": "markdown",
   "id": "47632c57",
   "metadata": {},
   "source": [
    "# Algorithm\n",
    "1.While the left stack is not empty and the top element is greater than the current element, pop elements from the left stack.\n",
    "    \n",
    "2.If the left stack is empty, assign 0 as the nearest left smaller element for the current element. Otherwise, assign the top element of the left stack as the nearest left smaller element.\n",
    "    \n",
    "3.Push the current element onto the left stack.\n",
    "    \n",
    "4.Similarly, while the right stack is not empty and the top element is greater than the current element, pop elements from the right stack.\n",
    "    \n",
    "5.If the right stack is empty, assign 0 as the nearest right smaller element for the current element. Otherwise, assign the top element of the right stack as the nearest right smaller element.\n",
    "    \n",
    "6.Push the current element onto the right stack."
   ]
  },
  {
   "cell_type": "code",
   "execution_count": 12,
   "id": "7b5bff35",
   "metadata": {},
   "outputs": [
    {
     "name": "stdout",
     "output_type": "stream",
     "text": [
      "4\n"
     ]
    }
   ],
   "source": [
    "def maxAbsDifference(arr):\n",
    "    n = len(arr)\n",
    "    left_smaller = [0] * n\n",
    "    right_smaller = [0] * n\n",
    "\n",
    "    # Calculate nearest left smaller element\n",
    "    left_stack = []\n",
    "    for i in range(n):\n",
    "        while left_stack and left_stack[-1] >= arr[i]:\n",
    "            left_stack.pop()\n",
    "        if left_stack:\n",
    "            left_smaller[i] = left_stack[-1]\n",
    "        left_stack.append(arr[i])\n",
    "\n",
    "    # Calculate nearest right smaller element\n",
    "    right_stack = []\n",
    "    for i in range(n - 1, -1, -1):\n",
    "        while right_stack and right_stack[-1] >= arr[i]:\n",
    "            right_stack.pop()\n",
    "        if right_stack:\n",
    "            right_smaller[i] = right_stack[-1]\n",
    "        right_stack.append(arr[i])\n",
    "\n",
    "    max_diff = 0\n",
    "    for i in range(n):\n",
    "        max_diff = max(max_diff, abs(left_smaller[i] - right_smaller[i]))\n",
    "\n",
    "    return max_diff\n",
    "\n",
    "arr = [2, 4, 8, 7, 7, 9, 3]\n",
    "result = maxAbsDifference(arr)\n",
    "print(result)\n"
   ]
  },
  {
   "cell_type": "code",
   "execution_count": null,
   "id": "ec3254ea",
   "metadata": {},
   "outputs": [],
   "source": []
  },
  {
   "cell_type": "code",
   "execution_count": null,
   "id": "6b3d73ea",
   "metadata": {},
   "outputs": [],
   "source": []
  }
 ],
 "metadata": {
  "kernelspec": {
   "display_name": "Python 3 (ipykernel)",
   "language": "python",
   "name": "python3"
  },
  "language_info": {
   "codemirror_mode": {
    "name": "ipython",
    "version": 3
   },
   "file_extension": ".py",
   "mimetype": "text/x-python",
   "name": "python",
   "nbconvert_exporter": "python",
   "pygments_lexer": "ipython3",
   "version": "3.9.7"
  }
 },
 "nbformat": 4,
 "nbformat_minor": 5
}
