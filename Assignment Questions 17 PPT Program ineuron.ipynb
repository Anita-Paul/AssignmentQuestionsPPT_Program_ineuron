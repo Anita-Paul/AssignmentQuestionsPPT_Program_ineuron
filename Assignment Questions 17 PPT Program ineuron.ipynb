{
 "cells": [
  {
   "cell_type": "markdown",
   "id": "3942731a",
   "metadata": {},
   "source": [
    "# Question 1"
   ]
  },
  {
   "cell_type": "markdown",
   "id": "bb0aafcd",
   "metadata": {},
   "source": [
    "# Given a string `s`, *find the first non-repeating character in it and return its index*. If it does not exist, return `-1`.\n",
    "\n",
    "**Example 1:**\n",
    "\n",
    "Input: s = \"leetcode\"\n",
    "Output: 0\n",
    "\n",
    "**Example 2:**\n",
    "\n",
    "Input: s = \"loveleetcode\"\n",
    "Output: 2\n",
    "\n",
    "\n",
    "**Example 3:**\n",
    "\n",
    "Input: s = \"aabb\"\n",
    "Output: -1"
   ]
  },
  {
   "cell_type": "markdown",
   "id": "98ecf1f3",
   "metadata": {},
   "source": [
    "# Algorithm    \n",
    "1.Initialize an empty hashmap to store the frequency of each character.\n",
    "    \n",
    "2.Iterate through each character ch in the string s:\n",
    "        \n",
    "3.If ch is already in the hashmap, increment its frequency by 1.\n",
    "        \n",
    "4.Otherwise, add ch to the hashmap with a frequency of 1.\n",
    "    \n",
    "5.Iterate through the characters in s again:\n",
    "        \n",
    "6.If the frequency of the current character is 1, return its index.\n",
    "    \n",
    "7.If no non-repeating character is found, return -1."
   ]
  },
  {
   "cell_type": "code",
   "execution_count": 2,
   "id": "e18e3bf1",
   "metadata": {},
   "outputs": [
    {
     "name": "stdout",
     "output_type": "stream",
     "text": [
      "0\n"
     ]
    }
   ],
   "source": [
    "def firstUniqChar(s):\n",
    "    freq_map = {}\n",
    "\n",
    "    # Build frequency map\n",
    "    for ch in s:\n",
    "        freq_map[ch] = freq_map.get(ch, 0) + 1\n",
    "\n",
    "    # Find first non-repeating character\n",
    "    for i, ch in enumerate(s):\n",
    "        if freq_map[ch] == 1:\n",
    "            return i\n",
    "\n",
    "    return -1\n",
    "\n",
    "s = \"leetcode\"\n",
    "result = firstUniqChar(s)\n",
    "print(result)"
   ]
  },
  {
   "cell_type": "markdown",
   "id": "45775f56",
   "metadata": {},
   "source": [
    "# Question 2"
   ]
  },
  {
   "cell_type": "markdown",
   "id": "1b7540a7",
   "metadata": {},
   "source": [
    "# Given a **circular integer array** `nums` of length `n`, return *the maximum possible sum of a non-empty **subarray** of* `nums`.\n",
    "\n",
    "A **circular array** means the end of the array connects to the beginning of the array. Formally, the next element of `nums[i]` is `nums[(i + 1) % n]` and the previous element of `nums[i]` is `nums[(i - 1 + n) % n]`.\n",
    "\n",
    "A **subarray** may only include each element of the fixed buffer `nums` at most once. Formally, for a subarray `nums[i], nums[i + 1], ..., nums[j]`, there does not exist `i <= k1`, `k2 <= j` with `k1 % n == k2 % n`.\n",
    "\n",
    "**Example 1:**\n",
    "\n",
    "Input: nums = [1,-2,3,-2]\n",
    "Output: 3\n",
    "Explanation: Subarray [3] has maximum sum 3.\n",
    "\n",
    "**Example 2:**\n",
    "\n",
    "Input: nums = [5,-3,5]\n",
    "Output: 10\n",
    "Explanation: Subarray [5,5] has maximum sum 5 + 5 = 10.\n",
    "\n",
    "**Example 3:**\n",
    "\n",
    "Input: nums = [-3,-2,-3]\n",
    "Output: -2\n",
    "Explanation: Subarray [-2] has maximum sum -2."
   ]
  },
  {
   "cell_type": "markdown",
   "id": "8e2362a4",
   "metadata": {},
   "source": [
    "# Algorithm\n",
    "1.Initialize variables max_sum and min_sum to track the maximum and minimum sum subarrays, respectively.\n",
    "    \n",
    "2.Initialize variables current_max and current_min to track the maximum and minimum sum subarrays ending at the current position.\n",
    "    \n",
    "3.Initialize total_sum as the sum of all elements in the array.\n",
    "    \n",
    "4.Iterate through each element num in the array:\n",
    "\n",
    "Update current_max by taking the maximum of num and current_max + num.\n",
    "        \n",
    "Update current_min by taking the minimum of num and current_min + num.\n",
    "        \n",
    "Update max_sum by taking the maximum of max_sum and current_max.\n",
    "        \n",
    "Update min_sum by taking the minimum of min_sum and current_min.\n",
    "    \n",
    "5.If max_sum is greater than 0, return max_sum. Otherwise, return the maximum of max_sum and total_sum - min_sum."
   ]
  },
  {
   "cell_type": "code",
   "execution_count": 3,
   "id": "d3501991",
   "metadata": {},
   "outputs": [
    {
     "name": "stdout",
     "output_type": "stream",
     "text": [
      "3\n"
     ]
    }
   ],
   "source": [
    "def maxSubarraySumCircular(nums):\n",
    "    max_sum = float('-inf')\n",
    "    min_sum = float('inf')\n",
    "    current_max = 0\n",
    "    current_min = 0\n",
    "    total_sum = 0\n",
    "\n",
    "    for num in nums:\n",
    "        current_max = max(num, current_max + num)\n",
    "        current_min = min(num, current_min + num)\n",
    "        max_sum = max(max_sum, current_max)\n",
    "        min_sum = min(min_sum, current_min)\n",
    "        total_sum += num\n",
    "\n",
    "    if max_sum > 0:\n",
    "        return max_sum\n",
    "    else:\n",
    "        return max(max_sum, total_sum - min_sum)\n",
    "\n",
    "nums = [1, -2, 3, -2]\n",
    "result = maxSubarraySumCircular(nums)\n",
    "print(result)"
   ]
  },
  {
   "cell_type": "markdown",
   "id": "84653436",
   "metadata": {},
   "source": [
    "# Question 3"
   ]
  },
  {
   "cell_type": "markdown",
   "id": "1215d891",
   "metadata": {},
   "source": [
    "# The school cafeteria offers circular and square sandwiches at lunch break, referred to by numbers `0` and `1` respectively. All students stand in a queue. Each student either prefers square or circular sandwiches.\n",
    "\n",
    "The number of sandwiches in the cafeteria is equal to the number of students. The sandwiches are placed in a **stack**. At each step:\n",
    "\n",
    "- If the student at the front of the queue **prefers** the sandwich on the top of the stack, they will **take it** and leave the queue.\n",
    "- Otherwise, they will **leave it** and go to the queue's end.\n",
    "\n",
    "This continues until none of the queue students want to take the top sandwich and are thus unable to eat.\n",
    "\n",
    "You are given two integer arrays `students` and `sandwiches` where `sandwiches[i]` is the type of the `ith` sandwich in the stack (`i = 0` is the top of the stack) and `students[j]` is the preference of the `jth` student in the initial queue (`j = 0` is the front of the queue). Return *the number of students that are unable to eat.*\n",
    "\n",
    "**Example 1:**\n",
    "\n",
    "```\n",
    "Input: students = [1,1,0,0], sandwiches = [0,1,0,1]\n",
    "Output: 0\n",
    "Explanation:\n",
    "- Front student leaves the top sandwich and returns to the end of the line making students = [1,0,0,1].\n",
    "- Front student leaves the top sandwich and returns to the end of the line making students = [0,0,1,1].\n",
    "- Front student takes the top sandwich and leaves the line making students = [0,1,1] and sandwiches = [1,0,1].\n",
    "- Front student leaves the top sandwich and returns to the end of the line making students = [1,1,0].\n",
    "- Front student takes the top sandwich and leaves the line making students = [1,0] and sandwiches = [0,1].\n",
    "- Front student leaves the top sandwich and returns to the end of the line making students = [0,1].\n",
    "- Front student takes the top sandwich and leaves the line making students = [1] and sandwiches = [1].\n",
    "- Front student takes the top sandwich and leaves the line making students = [] and sandwiches = [].\n",
    "Hence all students are able to eat.\n",
    "\n",
    "**Example 2:**\n",
    "\n",
    "Input: students = [1,1,1,0,0,1], sandwiches = [1,0,0,0,1,1]\n",
    "Output: 3"
   ]
  },
  {
   "cell_type": "markdown",
   "id": "abc67b7d",
   "metadata": {},
   "source": [
    "# Algorithm\n",
    "1.Initialize two queues: studentQueue to store the preferences of students and sandwichQueue to store the types of sandwiches.\n",
    "    \n",
    "2.Initialize a counter variable unableToEat to keep track of the number of students unable to eat.\n",
    "    \n",
    "3.Enqueue all elements from the students array into studentQueue.\n",
    "    \n",
    "4.Enqueue all elements from the sandwiches array into sandwichQueue.\n",
    "    \n",
    "5.While both studentQueue and sandwichQueue are not empty:\n",
    "        \n",
    "6.Check if the front student's preference in studentQueue matches the sandwich at the top of sandwichQueue.\n",
    "\n",
    "If they match, remove the student from studentQueue and remove the sandwich from sandwichQueue.\n",
    "            \n",
    "If they don't match, remove the front student from studentQueue and enqueue them at the end.\n",
    "            \n",
    "Increment unableToEat by 1.\n",
    "    \n",
    "7.Return the value of unableToEat."
   ]
  },
  {
   "cell_type": "code",
   "execution_count": 4,
   "id": "937f2ab4",
   "metadata": {},
   "outputs": [
    {
     "name": "stdout",
     "output_type": "stream",
     "text": [
      "4\n"
     ]
    }
   ],
   "source": [
    "from collections import deque\n",
    "\n",
    "def countStudents(students, sandwiches):\n",
    "    studentQueue = deque(students)\n",
    "    sandwichQueue = deque(sandwiches)\n",
    "    unableToEat = 0\n",
    "\n",
    "    while studentQueue and sandwichQueue:\n",
    "        if studentQueue[0] == sandwichQueue[0]:\n",
    "            studentQueue.popleft()\n",
    "            sandwichQueue.popleft()\n",
    "        else:\n",
    "            studentQueue.append(studentQueue.popleft())\n",
    "            unableToEat += 1\n",
    "\n",
    "    return unableToEat\n",
    "\n",
    "\n",
    "# Example usage\n",
    "students = [1, 1, 0, 0]\n",
    "sandwiches = [0, 1, 0, 1]\n",
    "result = countStudents(students, sandwiches)\n",
    "print(result)\n"
   ]
  },
  {
   "cell_type": "markdown",
   "id": "92bfd4a2",
   "metadata": {},
   "source": [
    "# Question 4"
   ]
  },
  {
   "cell_type": "markdown",
   "id": "e0592338",
   "metadata": {},
   "source": [
    "# You have a `RecentCounter` class which counts the number of recent requests within a certain time frame.\n",
    "\n",
    "Implement the `RecentCounter` class:\n",
    "\n",
    "- `RecentCounter()` Initializes the counter with zero recent requests.\n",
    "- `int ping(int t)` Adds a new request at time `t`, where `t` represents some time in milliseconds, and returns the number of requests that has happened in the past `3000` milliseconds (including the new request). Specifically, return the number of requests that have happened in the inclusive range `[t - 3000, t]`.\n",
    "\n",
    "It is **guaranteed** that every call to `ping` uses a strictly larger value of `t` than the previous call.\n",
    "\n",
    "**Example 1:**\n",
    "\n",
    "```\n",
    "Input\n",
    "[\"RecentCounter\", \"ping\", \"ping\", \"ping\", \"ping\"]\n",
    "[[], [1], [100], [3001], [3002]]\n",
    "Output\n",
    "[null, 1, 2, 3, 3]\n",
    "\n",
    "Explanation\n",
    "RecentCounter recentCounter = new RecentCounter();\n",
    "recentCounter.ping(1);     // requests = [1], range is [-2999,1], return 1\n",
    "recentCounter.ping(100);   // requests = [1,100], range is [-2900,100], return 2\n",
    "recentCounter.ping(3001);  // requests = [1,100,3001], range is [1,3001], return 3\n",
    "recentCounter.ping(3002);  // requests = [1,100,3001,3002], range is [2,3002], return 3\n",
    "```\n",
    "\n",
    "</aside>"
   ]
  },
  {
   "cell_type": "markdown",
   "id": "6d4f0875",
   "metadata": {},
   "source": [
    "# Algorithm\n",
    "1.Initialize the RecentCounter class with an empty queue to store the requests.\n",
    "\n",
    "2.Implement the ping method to add new requests and count the number of requests within the last 3000 milliseconds.\n",
    "    \n",
    "3.Add the new request t to the end of the queue.\n",
    "    \n",
    "4.Remove requests from the front of the queue that are earlier than t - 3000 milliseconds (outside the time frame).\n",
    "    \n",
    "5.Return the length of the queue, which represents the number of requests within the time frame."
   ]
  },
  {
   "cell_type": "code",
   "execution_count": 5,
   "id": "4336e01c",
   "metadata": {},
   "outputs": [],
   "source": [
    "from collections import deque\n",
    "\n",
    "class RecentCounter:\n",
    "    def __init__(self):\n",
    "        self.requests = deque()\n",
    "\n",
    "    def ping(self, t: int) -> int:\n",
    "        # Add the new request to the queue\n",
    "        self.requests.append(t)\n",
    "\n",
    "        # Remove requests that are outside the time frame\n",
    "        while self.requests and self.requests[0] < t - 3000:\n",
    "            self.requests.popleft()\n",
    "\n",
    "        # Return the number of requests in the time frame\n",
    "        return len(self.requests)\n"
   ]
  },
  {
   "cell_type": "code",
   "execution_count": 6,
   "id": "0fe9a8eb",
   "metadata": {},
   "outputs": [
    {
     "name": "stdout",
     "output_type": "stream",
     "text": [
      "1\n",
      "2\n",
      "3\n",
      "3\n"
     ]
    }
   ],
   "source": [
    "recentCounter = RecentCounter()\n",
    "print(recentCounter.ping(1))   \n",
    "print(recentCounter.ping(100)) \n",
    "print(recentCounter.ping(3001)) \n",
    "print(recentCounter.ping(3002))"
   ]
  },
  {
   "cell_type": "markdown",
   "id": "2804b8e5",
   "metadata": {},
   "source": [
    "# Question 5"
   ]
  },
  {
   "cell_type": "markdown",
   "id": "872f44da",
   "metadata": {},
   "source": [
    "# There are `n` friends that are playing a game. The friends are sitting in a circle and are numbered from `1` to `n` in **clockwise order**. More formally, moving clockwise from the `ith` friend brings you to the `(i+1)th` friend for `1 <= i < n`, and moving clockwise from the `nth` friend brings you to the `1st` friend.\n",
    "\n",
    "The rules of the game are as follows:\n",
    "\n",
    "1. **Start** at the `1st` friend.\n",
    "2. Count the next `k` friends in the clockwise direction **including** the friend you started at. The counting wraps around the circle and may count some friends more than once.\n",
    "3. The last friend you counted leaves the circle and loses the game.\n",
    "4. If there is still more than one friend in the circle, go back to step `2` **starting** from the friend **immediately clockwise** of the friend who just lost and repeat.\n",
    "5. Else, the last friend in the circle wins the game.\n",
    "\n",
    "Given the number of friends, `n`, and an integer `k`, return *the winner of the game*.\n",
    "\n",
    "**Example 1:**\n",
    "\n",
    "```\n",
    "Input: n = 5, k = 2\n",
    "Output: 3\n",
    "Explanation: Here are the steps of the game:\n",
    "1) Start at friend 1.\n",
    "2) Count 2 friends clockwise, which are friends 1 and 2.\n",
    "3) Friend 2 leaves the circle. Next start is friend 3.\n",
    "4) Count 2 friends clockwise, which are friends 3 and 4.\n",
    "5) Friend 4 leaves the circle. Next start is friend 5.\n",
    "6) Count 2 friends clockwise, which are friends 5 and 1.\n",
    "7) Friend 1 leaves the circle. Next start is friend 3.\n",
    "8) Count 2 friends clockwise, which are friends 3 and 5.\n",
    "9) Friend 5 leaves the circle. Only friend 3 is left, so they are the winner.\n",
    "```\n",
    "\n",
    "**Example 2:**\n",
    "\n",
    "```\n",
    "Input: n = 6, k = 5\n",
    "Output: 1\n",
    "Explanation: The friends leave in this order: 5, 4, 6, 2, 3. The winner is friend 1.\n",
    "```\n",
    "\n",
    "</aside>"
   ]
  },
  {
   "cell_type": "markdown",
   "id": "29cf0770",
   "metadata": {},
   "source": [
    "# Algorithm\n",
    "1Create a circular linked list with n nodes representing the friends.\n",
    "\n",
    "2.Traverse the linked list until there is only one node left.\n",
    "\n",
    "3.At each step, move k-1 steps forward in the linked list, starting from the current friend.\n",
    "\n",
    "4.Remove the friend at the kth position from the current friend.\n",
    "\n",
    "5.Update the next pointers of the previous and current nodes to skip the removed friend.\n",
    "\n",
    "6.Repeat steps 3-5 until there is only one friend left in the linked list.\n",
    "\n",
    "7.Return the friend number of the last remaining node, which is the winner of the game.\n",
    "    \n",
    "The time complexity of this algorithm is O(n * k) since we need to traverse the linked list n times, and at each traversal, we move k-1 steps forward."
   ]
  },
  {
   "cell_type": "code",
   "execution_count": 7,
   "id": "d6d62d09",
   "metadata": {},
   "outputs": [
    {
     "name": "stdout",
     "output_type": "stream",
     "text": [
      "The winner is: 3\n"
     ]
    }
   ],
   "source": [
    "class ListNode:\n",
    "    def __init__(self, val=0, next=None):\n",
    "        self.val = val\n",
    "        self.next = next\n",
    "\n",
    "\n",
    "def findTheWinner(n, k):\n",
    "    # Create circular linked list\n",
    "    head = ListNode(1)\n",
    "    curr = head\n",
    "    for i in range(2, n+1):\n",
    "        curr.next = ListNode(i)\n",
    "        curr = curr.next\n",
    "    curr.next = head\n",
    "\n",
    "    # Traverse the linked list until only one friend is left\n",
    "    while curr.next != curr:\n",
    "        # Move k-1 steps forward\n",
    "        for _ in range(k-1):\n",
    "            curr = curr.next\n",
    "        # Remove the friend at the kth position\n",
    "        curr.next = curr.next.next\n",
    "\n",
    "    return curr.val\n",
    "\n",
    "n = 5\n",
    "k = 2\n",
    "winner = findTheWinner(n, k)\n",
    "print(\"The winner is:\", winner)"
   ]
  },
  {
   "cell_type": "markdown",
   "id": "475dd2a6",
   "metadata": {},
   "source": [
    "# Question 6"
   ]
  },
  {
   "cell_type": "markdown",
   "id": "7519901a",
   "metadata": {},
   "source": [
    "# You are given an integer array `deck`. There is a deck of cards where every card has a unique integer. The integer on the `ith` card is `deck[i]`.\n",
    "\n",
    "You can order the deck in any order you want. Initially, all the cards start face down (unrevealed) in one deck.\n",
    "\n",
    "You will do the following steps repeatedly until all cards are revealed:\n",
    "\n",
    "1. Take the top card of the deck, reveal it, and take it out of the deck.\n",
    "2. If there are still cards in the deck then put the next top card of the deck at the bottom of the deck.\n",
    "3. If there are still unrevealed cards, go back to step 1. Otherwise, stop.\n",
    "\n",
    "Return *an ordering of the deck that would reveal the cards in increasing order*.\n",
    "\n",
    "**Note** that the first entry in the answer is considered to be the top of the deck.\n",
    "\n",
    "**Example 1:**\n",
    "\n",
    "```\n",
    "Input: deck = [17,13,11,2,3,5,7]\n",
    "Output: [2,13,3,11,5,17,7]\n",
    "Explanation:\n",
    "We get the deck in the order [17,13,11,2,3,5,7] (this order does not matter), and reorder it.\n",
    "After reordering, the deck starts as [2,13,3,11,5,17,7], where 2 is the top of the deck.\n",
    "We reveal 2, and move 13 to the bottom.  The deck is now [3,11,5,17,7,13].\n",
    "We reveal 3, and move 11 to the bottom.  The deck is now [5,17,7,13,11].\n",
    "We reveal 5, and move 17 to the bottom.  The deck is now [7,13,11,17].\n",
    "We reveal 7, and move 13 to the bottom.  The deck is now [11,17,13].\n",
    "We reveal 11, and move 17 to the bottom.  The deck is now [13,17].\n",
    "We reveal 13, and move 17 to the bottom.  The deck is now [17].\n",
    "We reveal 17.\n",
    "Since all the cards revealed are in increasing order, the answer is correct.\n",
    "\n",
    "```\n",
    "\n",
    "**Example 2:**\n",
    "\n",
    "```\n",
    "Input: deck = [1,1000]\n",
    "Output: [1,1000]\n",
    "```\n",
    "\n",
    "</aside>"
   ]
  },
  {
   "cell_type": "markdown",
   "id": "67d9a50d",
   "metadata": {},
   "source": [
    "# Algorithm\n",
    "1.create an empty result list to store the revealed cards.\n",
    "\n",
    "2.Next, we will iterate through the sorted deck and perform the following steps:\n",
    "\n",
    "If the result list is not empty, remove the last card from the result list and add it to the beginning.\n",
    "\n",
    "Take the current card from the sorted deck and add it to the beginning of the result list.\n",
    "\n",
    "3.Finally, we will return the result list, which will contain the ordering of the deck that reveals the cards in increasing order."
   ]
  },
  {
   "cell_type": "code",
   "execution_count": 8,
   "id": "7822c07a",
   "metadata": {},
   "outputs": [
    {
     "name": "stdout",
     "output_type": "stream",
     "text": [
      "Ordered deck: [2, 13, 3, 11, 5, 17, 7]\n"
     ]
    }
   ],
   "source": [
    "def deckRevealedIncreasing(deck):\n",
    "    n = len(deck)\n",
    "    deck.sort(reverse=True)  # Sort the deck in descending order\n",
    "    result = []\n",
    "\n",
    "    for card in deck:\n",
    "        if result:\n",
    "            result.insert(0, result.pop())  # Move the last card to the beginning\n",
    "        result.insert(0, card)  # Add the current card to the beginning\n",
    "\n",
    "    return result\n",
    "\n",
    "deck = [17, 13, 11, 2, 3, 5, 7]\n",
    "ordered_deck = deckRevealedIncreasing(deck)\n",
    "print(\"Ordered deck:\", ordered_deck)"
   ]
  },
  {
   "cell_type": "markdown",
   "id": "a0530d96",
   "metadata": {},
   "source": [
    "# Question 7"
   ]
  },
  {
   "cell_type": "markdown",
   "id": "512485c7",
   "metadata": {},
   "source": [
    "# Design a queue that supports `push` and `pop` operations in the front, middle, and back.\n",
    "\n",
    "Implement the `FrontMiddleBack` class:\n",
    "\n",
    "- `FrontMiddleBack()` Initializes the queue.\n",
    "- `void pushFront(int val)` Adds `val` to the **front** of the queue.\n",
    "- `void pushMiddle(int val)` Adds `val` to the **middle** of the queue.\n",
    "- `void pushBack(int val)` Adds `val` to the **back** of the queue.\n",
    "- `int popFront()` Removes the **front** element of the queue and returns it. If the queue is empty, return `1`.\n",
    "- `int popMiddle()` Removes the **middle** element of the queue and returns it. If the queue is empty, return `1`.\n",
    "- `int popBack()` Removes the **back** element of the queue and returns it. If the queue is empty, return `1`.\n",
    "\n",
    "**Notice** that when there are **two** middle position choices, the operation is performed on the **frontmost** middle position choice. For example:\n",
    "\n",
    "- Pushing `6` into the middle of `[1, 2, 3, 4, 5]` results in `[1, 2, 6, 3, 4, 5]`.\n",
    "- Popping the middle from `[1, 2, 3, 4, 5, 6]` returns `3` and results in `[1, 2, 4, 5, 6]`.\n",
    "\n",
    "**Example 1:**\n",
    "\n",
    "```\n",
    "Input:\n",
    "[\"FrontMiddleBackQueue\", \"pushFront\", \"pushBack\", \"pushMiddle\", \"pushMiddle\", \"popFront\", \"popMiddle\", \"popMiddle\", \"popBack\", \"popFront\"]\n",
    "[[], [1], [2], [3], [4], [], [], [], [], []]\n",
    "Output:\n",
    "[null, null, null, null, null, 1, 3, 4, 2, -1]\n",
    "\n",
    "Explanation:\n",
    "FrontMiddleBackQueue q = new FrontMiddleBackQueue();\n",
    "q.pushFront(1);   // [1]\n",
    "q.pushBack(2);    // [1,2]\n",
    "q.pushMiddle(3);  // [1,3, 2]\n",
    "q.pushMiddle(4);  // [1,4, 3, 2]\n",
    "q.popFront();     // return 1 -> [4, 3, 2]\n",
    "q.popMiddle();    // return 3 -> [4, 2]\n",
    "q.popMiddle();    // return 4 -> [2]\n",
    "q.popBack();      // return 2 -> []\n",
    "q.popFront();     // return -1 -> [] (The queue is empty)\n",
    "```"
   ]
  },
  {
   "cell_type": "markdown",
   "id": "229e4da5",
   "metadata": {},
   "source": [
    "# Algorithm\n",
    "1.Initialize two deques, front and back, to store the elements before and after the middle position, respectively.\n",
    "\n",
    "2.Implement the pushFront(val) method:\n",
    "\n",
    "Append the element val to the left side of the front deque.\n",
    "    \n",
    "Balance the deque sizes by calling the _balance() helper method.\n",
    "\n",
    "3.Implement the pushMiddle(val) method:\n",
    "\n",
    "Check if the size of the front deque is greater than the size of the back deque. If true, move the last element from front to the left side of back.\n",
    "    \n",
    "Append the element val to the right side of the front deque.\n",
    "    \n",
    "Balance the deque sizes by calling the _balance() helper method.\n",
    "\n",
    "4.Implement the pushBack(val) method:\n",
    "\n",
    "Append the element val to the right side of the back deque.\n",
    "    \n",
    "Balance the deque sizes by calling the _balance() helper method.\n",
    "\n",
    "5.Implement the popFront() method:\n",
    "Check if the front deque is not empty. If true, remove and return the leftmost element from front.\n",
    "    \n",
    "If the front deque is empty, check if the back deque is not empty. If true, remove and return the leftmost element from back.\n",
    "    \n",
    "If both deques are empty, return -1 to indicate that the queue is empty.\n",
    "\n",
    "6.Implement the popMiddle() method:\n",
    "\n",
    "Check if the front deque is not empty. If true, remove and return the rightmost element from front.\n",
    "    \n",
    "If the front deque is empty, check if the back deque is not empty. If true, remove and return the leftmost element from back.\n",
    "    \n",
    "If both deques are empty, return -1 to indicate that the queue is empty.\n",
    "\n",
    "7.Implement the popBack() method:\n",
    "\n",
    "Check if the back deque is not empty. If true, remove and return the rightmost element from back.\n",
    "    \n",
    "If the back deque is empty, check if the front deque is not empty. If true, remove and return the rightmost element from front.\n",
    "    \n",
    "If both deques are empty, return -1 to indicate that the queue is empty.\n",
    "\n",
    "8.Implement the _balance() helper method:\n",
    "\n",
    "Check if the size of the front deque is greater than the size of the back deque plus 1. If true, move the last element from front to the left side of back.\n",
    "    \n",
    "Check if the size of the back deque is greater than the size of the front deque. If true, move the leftmost element from back to the right side of front."
   ]
  },
  {
   "cell_type": "code",
   "execution_count": 9,
   "id": "e0454ce2",
   "metadata": {},
   "outputs": [],
   "source": [
    "from collections import deque\n",
    "\n",
    "class FrontMiddleBackQueue:\n",
    "    def __init__(self):\n",
    "        self.front = deque()  # Deque for elements before the middle\n",
    "        self.back = deque()  # Deque for elements after the middle\n",
    "\n",
    "    def pushFront(self, val: int) -> None:\n",
    "        self.front.appendleft(val)\n",
    "        self._balance()  # Balance the deque sizes\n",
    "\n",
    "    def pushMiddle(self, val: int) -> None:\n",
    "        if len(self.front) > len(self.back):\n",
    "            self.back.appendleft(self.front.pop())\n",
    "        self.front.append(val)\n",
    "        self._balance()  # Balance the deque sizes\n",
    "\n",
    "    def pushBack(self, val: int) -> None:\n",
    "        self.back.append(val)\n",
    "        self._balance()  # Balance the deque sizes\n",
    "\n",
    "    def popFront(self) -> int:\n",
    "        if self.front:\n",
    "            return self.front.popleft()\n",
    "        elif self.back:\n",
    "            return self.back.popleft()\n",
    "        else:\n",
    "            return -1  # Queue is empty\n",
    "\n",
    "    def popMiddle(self) -> int:\n",
    "        if self.front:\n",
    "            return self.front.pop()\n",
    "        elif self.back:\n",
    "            return self.back.popleft()\n",
    "        else:\n",
    "            return -1  # Queue is empty\n",
    "\n",
    "    def popBack(self) -> int:\n",
    "        if self.back:\n",
    "            return self.back.pop()\n",
    "        elif self.front:\n",
    "            return self.front.pop()\n",
    "        else:\n",
    "            return -1  # Queue is empty\n",
    "\n",
    "    def _balance(self):\n",
    "        if len(self.front) > len(self.back) + 1:\n",
    "            self.back.appendleft(self.front.pop())\n",
    "        elif len(self.back) > len(self.front):\n",
    "            self.front.append(self.back.popleft())\n"
   ]
  },
  {
   "cell_type": "code",
   "execution_count": 11,
   "id": "ac12eaa8",
   "metadata": {},
   "outputs": [
    {
     "data": {
      "text/plain": [
       "[[], [1], [2], [3], [4], [], [], [], [], []]"
      ]
     },
     "execution_count": 11,
     "metadata": {},
     "output_type": "execute_result"
    }
   ],
   "source": [
    "Input:[\"FrontMiddleBackQueue\", \"pushFront\", \"pushBack\", \"pushMiddle\", \"pushMiddle\", \"popFront\", \"popMiddle\", \"popMiddle\", \"popBack\", \"popFront\"]\n",
    "[[], [1], [2], [3], [4], [], [], [], [], []]\n"
   ]
  },
  {
   "cell_type": "code",
   "execution_count": null,
   "id": "78f200fb",
   "metadata": {},
   "outputs": [],
   "source": []
  },
  {
   "cell_type": "markdown",
   "id": "4dc39c55",
   "metadata": {},
   "source": [
    "# **Question 8**\n",
    "\n",
    "For a stream of integers, implement a data structure that checks if the last `k` integers parsed in the stream are **equal** to `value`.\n",
    "\n",
    "Implement the **DataStream** class:\n",
    "\n",
    "- `DataStream(int value, int k)` Initializes the object with an empty integer stream and the two integers `value` and `k`.\n",
    "- `boolean consec(int num)` Adds `num` to the stream of integers. Returns `true` if the last `k` integers are equal to `value`, and `false` otherwise. If there are less than `k` integers, the condition does not hold true, so returns `false`.\n",
    "\n",
    "**Example 1:**\n",
    "\n",
    "Input\n",
    "[\"DataStream\", \"consec\", \"consec\", \"consec\", \"consec\"]\n",
    "[[4, 3], [4], [4], [4], [3]]\n",
    "Output\n",
    "[null, false, false, true, false]\n",
    "\n",
    "Explanation\n",
    "DataStream dataStream = new DataStream(4, 3); //value = 4, k = 3\n",
    "dataStream.consec(4); // Only 1 integer is parsed, so returns False.\n",
    "dataStream.consec(4); // Only 2 integers are parsed.\n",
    "                      // Since 2 is less than k, returns False.\n",
    "dataStream.consec(4); // The 3 integers parsed are all equal to value, so returns True.\n",
    "dataStream.consec(3); // The last k integers parsed in the stream are [4,4,3].\n",
    "                      // Since 3 is not equal to value, it returns False."
   ]
  },
  {
   "cell_type": "markdown",
   "id": "f4f3b57e",
   "metadata": {},
   "source": [
    "# Algorithm\n",
    "1.Initialize the circular buffer buffer of size k and set the count of parsed integers to 0.\n",
    "\n",
    "2.Initialize the value and k variables with the provided values.\n",
    "\n",
    "3.Implement the consec method:\n",
    "        \n",
    "Increment the count of parsed integers by 1.\n",
    "        \n",
    "Calculate the index in the circular buffer where the current integer should be stored using the formula: (count - 1) % k.\n",
    "        \n",
    "Store the current integer in the calculated index of the circular buffer.\n",
    "        \n",
    "If the count is less than k, return false since there are fewer than k integers in the stream, and the condition cannot hold true.\n",
    "        \n",
    "4.Check if all integers in the circular buffer are equal to the given value:\n",
    "            \n",
    "5.Iterate through the circular buffer.\n",
    "            \n",
    "6.If any integer is not equal to the given value, return false.\n",
    "        \n",
    "7.If all integers in the circular buffer are equal to the given value, return true."
   ]
  },
  {
   "cell_type": "code",
   "execution_count": 12,
   "id": "9a17bfaf",
   "metadata": {},
   "outputs": [],
   "source": [
    "class DataStream:\n",
    "    def __init__(self, value, k):\n",
    "        self.buffer = [None] * k\n",
    "        self.count = 0\n",
    "        self.value = value\n",
    "        self.k = k\n",
    "\n",
    "    def consec(self, num):\n",
    "        self.count += 1\n",
    "        index = (self.count - 1) % self.k\n",
    "        self.buffer[index] = num\n",
    "\n",
    "        if self.count < self.k:\n",
    "            return False\n",
    "\n",
    "        for i in range(self.k):\n",
    "            if self.buffer[i] != self.value:\n",
    "                return False\n",
    "\n",
    "        return True\n"
   ]
  },
  {
   "cell_type": "code",
   "execution_count": 13,
   "id": "bad96995",
   "metadata": {},
   "outputs": [
    {
     "name": "stdout",
     "output_type": "stream",
     "text": [
      "False\n",
      "False\n",
      "True\n",
      "False\n"
     ]
    }
   ],
   "source": [
    "dataStream = DataStream(4, 3)\n",
    "print(dataStream.consec(4))  \n",
    "print(dataStream.consec(4))  \n",
    "print(dataStream.consec(4)) \n",
    "print(dataStream.consec(3)) "
   ]
  },
  {
   "cell_type": "code",
   "execution_count": null,
   "id": "d8fd40d0",
   "metadata": {},
   "outputs": [],
   "source": []
  }
 ],
 "metadata": {
  "kernelspec": {
   "display_name": "Python 3 (ipykernel)",
   "language": "python",
   "name": "python3"
  },
  "language_info": {
   "codemirror_mode": {
    "name": "ipython",
    "version": 3
   },
   "file_extension": ".py",
   "mimetype": "text/x-python",
   "name": "python",
   "nbconvert_exporter": "python",
   "pygments_lexer": "ipython3",
   "version": "3.9.7"
  }
 },
 "nbformat": 4,
 "nbformat_minor": 5
}
