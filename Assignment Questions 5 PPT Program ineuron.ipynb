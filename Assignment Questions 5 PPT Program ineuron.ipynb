{
 "cells": [
  {
   "cell_type": "markdown",
   "id": "8de5fac4",
   "metadata": {},
   "source": [
    "# Question 1"
   ]
  },
  {
   "cell_type": "markdown",
   "id": "d1b01f87",
   "metadata": {},
   "source": [
    "# Convert 1D Array Into 2D Array\n",
    "You are given a 0-indexed 1-dimensional (1D) integer array original, and two integers, m and n. You are tasked with creating a 2-dimensional (2D) array with  m rows and n columns using all the elements from original.\n",
    "The elements from indices 0 to n - 1 (inclusive) of original should form the first row of the constructed 2D array, the elements from indices n to 2 * n - 1 (inclusive) should form the second row of the constructed 2D array, and so on.\n",
    "Return an m x n 2D array constructed according to the above procedure, or an empty 2D array if it is impossible.\n",
    "**Input:** original = [1,2,3,4], m = 2, n = 2\n",
    "\n",
    "**Output:** [[1,2],[3,4]]"
   ]
  },
  {
   "cell_type": "markdown",
   "id": "ef336f9a",
   "metadata": {},
   "source": [
    "# Algorithm\n",
    "    1.Check if the length of the original array is equal to m * n. If not, return an empty 2D array since it is impossible to construct the desired array.\n",
    "    2.Create an empty 2D array with m rows and n columns.\n",
    "    3.Initialize a variable index to 0 to keep track of the current index in the original array.\n",
    "    4.Iterate over the rows from 0 to m - 1.\n",
    "        Inside the row loop, create a new row and append it to the 2D array.\n",
    "        Iterate over the columns from 0 to n - 1.\n",
    "            Inside the column loop, assign the element at the current index in the original array to the corresponding position in the 2D array.\n",
    "            Increment the index by 1.\n",
    "    5.Return the constructed 2D array."
   ]
  },
  {
   "cell_type": "code",
   "execution_count": 1,
   "id": "636994d3",
   "metadata": {},
   "outputs": [],
   "source": [
    "def construct2DArray(original, m, n):\n",
    "    if len(original) != m * n:\n",
    "        return []  \n",
    "    result = []\n",
    "    index = 0   \n",
    "    for i in range(m):\n",
    "        row = []\n",
    "        for j in range(n):\n",
    "            row.append(original[index])\n",
    "            index += 1\n",
    "        result.append(row)  \n",
    "    return result"
   ]
  },
  {
   "cell_type": "code",
   "execution_count": 2,
   "id": "a94f789f",
   "metadata": {},
   "outputs": [
    {
     "name": "stdout",
     "output_type": "stream",
     "text": [
      "[[1, 2], [3, 4]]\n"
     ]
    }
   ],
   "source": [
    "original = [1, 2, 3, 4]\n",
    "m = 2\n",
    "n = 2\n",
    "print(construct2DArray(original, m, n))"
   ]
  },
  {
   "cell_type": "markdown",
   "id": "e25a0b63",
   "metadata": {},
   "source": [
    "# Question 2"
   ]
  },
  {
   "cell_type": "markdown",
   "id": "1835adaf",
   "metadata": {},
   "source": [
    "# You have n coins and you want to build a staircase with these coins. The staircase consists of k rows where the ith row has exactly i coins. The last row of the staircase may be incomplete.\n",
    "Given the integer n, return the number of complete rows of the staircase you will build.\n",
    "**Input:** n = 5\n",
    "Output: 2"
   ]
  },
  {
   "cell_type": "markdown",
   "id": "4366df1f",
   "metadata": {},
   "source": [
    "# Algorithm\n",
    "    1.Initialize a variable rowCount to 0 to keep track of the number of complete rows.\n",
    "    2.Initialize a variable coinCount to 0 to keep track of the total number of coins.\n",
    "    3.Initialize a variable row to 1 to represent the current row.\n",
    "    4.While coinCount is less than or equal to n:\n",
    "        Increment rowCount by 1.\n",
    "        Increment coinCount by the number of coins required for the current row, row*(row+1)/2.\n",
    "        Increment row by 1.\n",
    "    5.If coinCount is greater than n, decrement rowCount by 1 since the last row is incomplete.\n",
    "    6.Return rowCount."
   ]
  },
  {
   "cell_type": "code",
   "execution_count": 4,
   "id": "14ce7098",
   "metadata": {},
   "outputs": [],
   "source": [
    "def arrangeCoins(n):\n",
    "    rowCount = 0\n",
    "    coinCount = 0\n",
    "    row = 1    \n",
    "    while coinCount <= n:\n",
    "        rowCount += 1\n",
    "        coinCount += row * (row + 1) // 2\n",
    "        row += 1   \n",
    "    if coinCount > n:\n",
    "        rowCount -= 1    \n",
    "    return rowCount"
   ]
  },
  {
   "cell_type": "code",
   "execution_count": 5,
   "id": "90ff15a0",
   "metadata": {},
   "outputs": [
    {
     "name": "stdout",
     "output_type": "stream",
     "text": [
      "2\n"
     ]
    }
   ],
   "source": [
    "n = 5\n",
    "print(arrangeCoins(n))"
   ]
  },
  {
   "cell_type": "markdown",
   "id": "0ca90dbe",
   "metadata": {},
   "source": [
    "# Question 3"
   ]
  },
  {
   "cell_type": "markdown",
   "id": "9c0b5625",
   "metadata": {},
   "source": [
    "# Given an integer array nums sorted in non-decreasing order, return an array of the squares of each number sorted in non-decreasing order.\n",
    "**Example 1:**\n",
    "\n",
    "**Input:** nums = [-4,-1,0,3,10]\n",
    "Output: [0,1,9,16,100]"
   ]
  },
  {
   "cell_type": "markdown",
   "id": "8925d6ca",
   "metadata": {},
   "source": [
    "# Algorithm\n",
    "    1.Create an empty array called result to store the squares of the numbers.\n",
    "    2.Iterate over the elements in the nums array.\n",
    "    3.For each element, square it and append the square to the result array.\n",
    "    4.Sort the result array in non-decreasing order.\n",
    "    5.Return the result array."
   ]
  },
  {
   "cell_type": "code",
   "execution_count": 6,
   "id": "9e62d5e4",
   "metadata": {},
   "outputs": [],
   "source": [
    "def sortedSquares(nums):\n",
    "    result = []\n",
    "    for num in nums:\n",
    "        result.append(num * num) \n",
    "    result.sort()  \n",
    "    return result"
   ]
  },
  {
   "cell_type": "code",
   "execution_count": 7,
   "id": "a32c9449",
   "metadata": {},
   "outputs": [
    {
     "name": "stdout",
     "output_type": "stream",
     "text": [
      "[0, 1, 9, 16, 100]\n"
     ]
    }
   ],
   "source": [
    "nums = [-4, -1, 0, 3, 10]\n",
    "print(sortedSquares(nums))"
   ]
  },
  {
   "cell_type": "markdown",
   "id": "93b054c2",
   "metadata": {},
   "source": [
    "# Question 4"
   ]
  },
  {
   "cell_type": "markdown",
   "id": "553db427",
   "metadata": {},
   "source": [
    "# Given two 0-indexed integer arrays nums1 and nums2, return a list answer of size 2 where:\n",
    "answer[0] is a list of all distinct integers in nums1 which are not present in nums2.\n",
    "answer[1] is a list of all distinct integers in nums2 which are not present in nums1.\n",
    "**Note** that the integers in the lists may be returned in **any** order.\n",
    "Example 1:\n",
    "Input: nums1 = [1,2,3], nums2 = [2,4,6]\n",
    "Output: [[1,3],[4,6]]"
   ]
  },
  {
   "cell_type": "markdown",
   "id": "9b6e7b4d",
   "metadata": {},
   "source": [
    "# Algorithm\n",
    "    1.Create two sets, set1 and set2, to store the distinct integers from nums1 and nums2 respectively.\n",
    "    2.Iterate over the elements in nums1 and add each element to set1.\n",
    "    3.Iterate over the elements in nums2 and add each element to set2.\n",
    "    4.Create two empty lists, answer1 and answer2, to store the distinct integers that are not present in the other array.\n",
    "    5.Iterate over the elements in nums1 and check if each element is not present in set2. If true, append the element to answer1.\n",
    "    6.Iterate over the elements in nums2 and check if each element is not present in set1. If true, append the element to answer2.\n",
    "    7.Return a list answer containing answer1 and answer2."
   ]
  },
  {
   "cell_type": "code",
   "execution_count": 10,
   "id": "d3089a26",
   "metadata": {},
   "outputs": [],
   "source": [
    "def findDisappearedNumbers(nums1, nums2):\n",
    "    set1 = set(nums1)\n",
    "    set2 = set(nums2)\n",
    "    answer1 = [num for num in nums1 if num not in set2]\n",
    "    answer2 = [num for num in nums2 if num not in set1] \n",
    "    answer = [answer1, answer2]   \n",
    "    return answer"
   ]
  },
  {
   "cell_type": "code",
   "execution_count": 11,
   "id": "8c3297d0",
   "metadata": {},
   "outputs": [
    {
     "name": "stdout",
     "output_type": "stream",
     "text": [
      "[[1, 3], [4, 6]]\n"
     ]
    }
   ],
   "source": [
    "nums1 = [1, 2, 3]\n",
    "nums2 = [2, 4, 6]\n",
    "print(findDisappearedNumbers(nums1, nums2))"
   ]
  },
  {
   "cell_type": "markdown",
   "id": "82dd3e8f",
   "metadata": {},
   "source": [
    "# Question 5"
   ]
  },
  {
   "cell_type": "markdown",
   "id": "08bc7b31",
   "metadata": {},
   "source": [
    "# Given two integer arrays arr1 and arr2, and the integer d, return the distance value between the two arrays.\n",
    "The distance value is defined as the number of elements arr1[i] such that there is not any element arr2[j] where |arr1[i]-arr2[j]| <= d.\n",
    "Example 1:\n",
    "Input: arr1 = [4,5,8], arr2 = [10,9,1,8], d = 2\n",
    "Output: 2"
   ]
  },
  {
   "cell_type": "markdown",
   "id": "72fe4d22",
   "metadata": {},
   "source": [
    "# Algorithm\n",
    "    1.Initialize a variable distance to 0 to keep track of the distance value.\n",
    "    2.Iterate over the elements in arr1.\n",
    "    3.For each element num in arr1, iterate over the elements in arr2.\n",
    "    4.For each element num2 in arr2, check if the absolute difference between num and num2 is greater than d.\n",
    "        If true, increment distance by 1 and break out of the inner loop since we have found a valid element in arr1.\n",
    "    5.Return the final distance value."
   ]
  },
  {
   "cell_type": "code",
   "execution_count": 14,
   "id": "e6096ddb",
   "metadata": {},
   "outputs": [],
   "source": [
    "def findTheDistanceValue(arr1, arr2, d):\n",
    "    distance = 0  \n",
    "    for num in arr1:\n",
    "        for num2 in arr2:\n",
    "            if abs(num - num2) <= d:\n",
    "                break\n",
    "        else:\n",
    "            distance += 1\n",
    "    return distance"
   ]
  },
  {
   "cell_type": "code",
   "execution_count": 15,
   "id": "74f028b6",
   "metadata": {},
   "outputs": [
    {
     "name": "stdout",
     "output_type": "stream",
     "text": [
      "2\n"
     ]
    }
   ],
   "source": [
    "arr1 = [4, 5, 8]\n",
    "arr2 = [10, 9, 1, 8]\n",
    "d = 2\n",
    "print(findTheDistanceValue(arr1, arr2, d))"
   ]
  },
  {
   "cell_type": "markdown",
   "id": "4d1a980e",
   "metadata": {},
   "source": [
    "# Question 6"
   ]
  },
  {
   "cell_type": "markdown",
   "id": "8da000cc",
   "metadata": {},
   "source": [
    "# Given an integer array nums of length n where all the integers of nums are in the range [1, n] and each integer appears once or twice, return an array of all the integers that appears twice.\n",
    "You must write an algorithm that runs in O(n) time and uses only constant extra space.\n",
    "Example 1:\n",
    "Input: nums = [4,3,2,7,8,2,3,1]\n",
    "**Output:** [2,3]"
   ]
  },
  {
   "cell_type": "markdown",
   "id": "9795a4c3",
   "metadata": {},
   "source": [
    "# Algorithm\n",
    "    1.Initialize an empty list called result to store the integers that appear twice.\n",
    "    2.Iterate over the elements in nums.\n",
    "    3.For each element num, calculate the absolute value of num and subtract 1 to get the corresponding index in the array.\n",
    "    4.Check the value at the calculated index in the array.\n",
    "        If the value is positive, negate it to mark the presence of the integer.\n",
    "        If the value is negative, append the absolute value of num to the result list since it appears twice.\n",
    "    5.Return the result list."
   ]
  },
  {
   "cell_type": "code",
   "execution_count": 18,
   "id": "0c62d52e",
   "metadata": {},
   "outputs": [],
   "source": [
    "def findDuplicates(nums):\n",
    "    result = []  \n",
    "    for num in nums:\n",
    "        index = abs(num) - 1\n",
    "        if nums[index] > 0:\n",
    "            nums[index] = -nums[index]\n",
    "        else:\n",
    "            result.append(abs(num))  \n",
    "    return result"
   ]
  },
  {
   "cell_type": "code",
   "execution_count": 19,
   "id": "96e97c53",
   "metadata": {},
   "outputs": [
    {
     "name": "stdout",
     "output_type": "stream",
     "text": [
      "[2, 3]\n"
     ]
    }
   ],
   "source": [
    "nums = [4, 3, 2, 7, 8, 2, 3, 1]\n",
    "print(findDuplicates(nums))"
   ]
  },
  {
   "cell_type": "markdown",
   "id": "e65ad4bb",
   "metadata": {},
   "source": [
    "# Question 7"
   ]
  },
  {
   "cell_type": "markdown",
   "id": "b7f76755",
   "metadata": {},
   "source": [
    "# Suppose an array of length n sorted in ascending order is **rotated** between 1 and n times. For example, the array nums = [0,1,2,4,5,6,7] might become:\n",
    "\n",
    "- [4,5,6,7,0,1,2] if it was rotated 4 times.\n",
    "- [0,1,2,4,5,6,7] if it was rotated 7 times.\n",
    "Notice that **rotating** an array [a[0], a[1], a[2], ..., a[n-1]] 1 time results in the array [a[n-1], a[0], a[1], a[2], ..., a[n-2]].\n",
    "\n",
    "Given the sorted rotated array nums of **unique** elements, return *the minimum element of this array*.\n",
    "\n",
    "You must write an algorithm that runs in O(log n) time.\n",
    "\n",
    "**Example 1:**\n",
    "\n",
    "**Input:** nums = [3,4,5,1,2]\n",
    "\n",
    "**Output:** 1"
   ]
  },
  {
   "cell_type": "markdown",
   "id": "97341df6",
   "metadata": {},
   "source": [
    "# Algorithm\n",
    "    1.Initialize two pointers, left and right, to the start and end indices of the array respectively.\n",
    "    2.While left is less than right:\n",
    "        Calculate the middle index as mid = left + (right - left) // 2.\n",
    "        Compare the middle element nums[mid] with the first and last elements of the array:\n",
    "            If nums[mid] > nums[right], the minimum element is in the right part of the array, so update left = mid + 1.\n",
    "            If nums[mid] < nums[right], the minimum element is in the left part of the array (including the middle element), so update right = mid.\n",
    "    3.At the end of the loop, left will be pointing to the minimum element in the array.\n",
    "    4.Return nums[left] as the minimum element."
   ]
  },
  {
   "cell_type": "code",
   "execution_count": 22,
   "id": "10c2fe53",
   "metadata": {},
   "outputs": [],
   "source": [
    "def findMin(nums):\n",
    "    left = 0\n",
    "    right = len(nums) - 1\n",
    "    while left < right:\n",
    "        mid = left + (right - left) // 2\n",
    "        if nums[mid] > nums[right]:\n",
    "            left = mid + 1\n",
    "        else:\n",
    "            right = mid\n",
    "    \n",
    "    return nums[left]"
   ]
  },
  {
   "cell_type": "code",
   "execution_count": 23,
   "id": "997786c4",
   "metadata": {},
   "outputs": [
    {
     "name": "stdout",
     "output_type": "stream",
     "text": [
      "1\n"
     ]
    }
   ],
   "source": [
    "nums = [3, 4, 5, 1, 2]\n",
    "print(findMin(nums))"
   ]
  },
  {
   "cell_type": "markdown",
   "id": "3c065858",
   "metadata": {},
   "source": [
    "# Question 8"
   ]
  },
  {
   "cell_type": "markdown",
   "id": "ced82314",
   "metadata": {},
   "source": [
    "# An integer array original is transformed into a doubled array changed by appending twice the value of every element in original, and then randomly shuffling the resulting array.\n",
    "Given an array changed, return original *if* changed *is a **doubled** array. If* changed *is not a **doubled** array, return an empty array. The elements in* original *may be returned in **any** order*.\n",
    "**Example 1:**\n",
    "Input: changed = [1,3,4,2,6,8]\n",
    "Output: [1,3,4]"
   ]
  },
  {
   "cell_type": "markdown",
   "id": "d9c112ff",
   "metadata": {},
   "source": [
    "# Algorithm\n",
    "    1.Sort the changed array in ascending order.\n",
    "    2.Create a dictionary called count to store the count of each element in the changed array.\n",
    "    3.Iterate over the elements in the changed array.\n",
    "    4.For each element num in the changed array, do the following:\n",
    "        Check if 2 * num is not in the count dictionary or if its count has reached zero. If true, return an empty array since changed is not a doubled array.\n",
    "        Otherwise, decrement the count of 2 * num in the count dictionary.\n",
    "    5.Create an empty list called original to store the original array.\n",
    "    6.Iterate over the elements in the changed array.\n",
    "    7.For each element num in the changed array, do the following:\n",
    "        Check if num is not in the count dictionary or if its count has reached zero. If true, continue to the next iteration.\n",
    "        Otherwise, append num to the original array and decrement the count of num in the count dictionary.\n",
    "    8.Return the original array."
   ]
  },
  {
   "cell_type": "code",
   "execution_count": 38,
   "id": "ab21d580",
   "metadata": {},
   "outputs": [],
   "source": [
    "def findOriginalArray(changed):\n",
    "    sorted_changed = sorted(changed)\n",
    "    count = {}\n",
    "    for num in changed:\n",
    "        count[num] = count.get(num, 0) + 1\n",
    "    original = []\n",
    "    for num in sorted_changed:\n",
    "        if num not in count or count[num] == 0:\n",
    "            continue \n",
    "        if 2 * num not in count or count[2 * num] == 0:\n",
    "            return []\n",
    "        original.append(num)\n",
    "        count[num] -= 1\n",
    "        count[2 * num] -= 1 \n",
    "    return original"
   ]
  },
  {
   "cell_type": "code",
   "execution_count": 39,
   "id": "4edc7495",
   "metadata": {},
   "outputs": [
    {
     "name": "stdout",
     "output_type": "stream",
     "text": [
      "[1, 3, 4]\n"
     ]
    }
   ],
   "source": [
    "changed = [1, 3, 4, 2, 6, 8]\n",
    "print(findOriginalArray(changed))"
   ]
  },
  {
   "cell_type": "code",
   "execution_count": null,
   "id": "4bbafded",
   "metadata": {},
   "outputs": [],
   "source": []
  }
 ],
 "metadata": {
  "kernelspec": {
   "display_name": "Python 3 (ipykernel)",
   "language": "python",
   "name": "python3"
  },
  "language_info": {
   "codemirror_mode": {
    "name": "ipython",
    "version": 3
   },
   "file_extension": ".py",
   "mimetype": "text/x-python",
   "name": "python",
   "nbconvert_exporter": "python",
   "pygments_lexer": "ipython3",
   "version": "3.9.7"
  }
 },
 "nbformat": 4,
 "nbformat_minor": 5
}
