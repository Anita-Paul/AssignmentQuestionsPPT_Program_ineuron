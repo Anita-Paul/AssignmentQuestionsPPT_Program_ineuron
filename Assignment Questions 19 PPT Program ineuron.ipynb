{
 "cells": [
  {
   "cell_type": "markdown",
   "id": "283a860c",
   "metadata": {},
   "source": [
    "# Question 1"
   ]
  },
  {
   "cell_type": "markdown",
   "id": "ceddff93",
   "metadata": {},
   "source": [
    "# 1. **Merge k Sorted Lists**\n",
    "\n",
    "You are given an array of `k` linked-lists `lists`, each linked-list is sorted in ascending order.\n",
    "\n",
    "*Merge all the linked-lists into one sorted linked-list and return it.*\n",
    "\n",
    "**Example 1:**\n",
    "    \n",
    "Input: lists = [[1,4,5],[1,3,4],[2,6]]\n",
    "Output: [1,1,2,3,4,4,5,6]\n",
    "Explanation: The linked-lists are:\n",
    "[\n",
    "  1->4->5,\n",
    "  1->3->4,\n",
    "  2->6\n",
    "]\n",
    "merging them into one sorted list:\n",
    "1->1->2->3->4->4->5->6\n",
    "\n",
    "**Example 2:**\n",
    "    \n",
    "Input: lists = []\n",
    "Output: []\n",
    "\n",
    "\n",
    "**Example 3:**\n",
    "\n",
    "Input: lists = [[]]\n",
    "Output: []\n",
    "\n",
    "**Constraints:**\n",
    "\n",
    "- `k == lists.length`\n",
    "- `0 <= k <= 10000`\n",
    "- `0 <= lists[i].length <= 500`\n",
    "- `-10000 <= lists[i][j] <= 10000`\n",
    "- `lists[i]` is sorted in **ascending order**.\n",
    "- The sum of `lists[i].length` will not exceed `10000`."
   ]
  },
  {
   "cell_type": "markdown",
   "id": "ccc2f08e",
   "metadata": {},
   "source": [
    "# Algorithm\n",
    "1.If the lists array is empty, return an empty list.\n",
    "\n",
    "2.While the length of the lists array is greater than 1, do the following:\n",
    "\n",
    "a. Create an empty array new_lists to store the merged lists.\n",
    "\n",
    "b. Iterate through the lists array with a step size of 2, merging each pair of lists.\n",
    "Get the first list l1 from the current position.\n",
    "Get the second list l2 from the next position if it exists, otherwise set l2 to None.\n",
    "Merge l1 and l2 by repeatedly comparing the values of the nodes and creating a new merged list.\n",
    "Append the merged list to the new_lists array.\n",
    "\n",
    "c. Set the lists array to new_lists.\n",
    "\n",
    "3.Return the first list in the lists array."
   ]
  },
  {
   "cell_type": "code",
   "execution_count": 1,
   "id": "8c6b19c0",
   "metadata": {},
   "outputs": [],
   "source": [
    "class ListNode:\n",
    "    def __init__(self, val=0, next=None):\n",
    "        self.val = val\n",
    "        self.next = next\n",
    "\n",
    "def mergeTwoLists(l1, l2):\n",
    "    dummy = ListNode()\n",
    "    current = dummy\n",
    "\n",
    "    while l1 and l2:\n",
    "        if l1.val < l2.val:\n",
    "            current.next = l1\n",
    "            l1 = l1.next\n",
    "        else:\n",
    "            current.next = l2\n",
    "            l2 = l2.next\n",
    "\n",
    "        current = current.next\n",
    "\n",
    "    if l1:\n",
    "        current.next = l1\n",
    "    elif l2:\n",
    "        current.next = l2\n",
    "\n",
    "    return dummy.next\n",
    "\n",
    "def mergeKLists(lists):\n",
    "    if not lists:\n",
    "        return None\n",
    "\n",
    "    while len(lists) > 1:\n",
    "        new_lists = []\n",
    "\n",
    "        for i in range(0, len(lists), 2):\n",
    "            l1 = lists[i]\n",
    "            l2 = lists[i + 1] if i + 1 < len(lists) else None\n",
    "            merged = mergeTwoLists(l1, l2)\n",
    "            new_lists.append(merged)\n",
    "\n",
    "        lists = new_lists\n",
    "\n",
    "    return lists[0]\n"
   ]
  },
  {
   "cell_type": "code",
   "execution_count": 2,
   "id": "775a602b",
   "metadata": {},
   "outputs": [
    {
     "name": "stdout",
     "output_type": "stream",
     "text": [
      "1 -> 1 -> 2 -> 3 -> 4 -> 4 -> 5 -> 6 -> None\n",
      "None\n",
      "[]\n"
     ]
    }
   ],
   "source": [
    "l1 = ListNode(1, ListNode(4, ListNode(5)))\n",
    "l2 = ListNode(1, ListNode(3, ListNode(4)))\n",
    "l3 = ListNode(2, ListNode(6))\n",
    "lists1 = [l1, l2, l3]\n",
    "result1 = mergeKLists(lists1)\n",
    "\n",
    "while result1:\n",
    "    print(result1.val, end=\" -> \")\n",
    "    result1 = result1.next\n",
    "print(\"None\")\n",
    "\n",
    "lists2 = []\n",
    "result2 = mergeKLists(lists2)\n",
    "print(result2)\n",
    "\n",
    "lists3 = [[]]\n",
    "result3 = mergeKLists(lists3)\n",
    "print(result3)"
   ]
  },
  {
   "cell_type": "markdown",
   "id": "72143912",
   "metadata": {},
   "source": [
    "# Question 2"
   ]
  },
  {
   "cell_type": "markdown",
   "id": "3c131e37",
   "metadata": {},
   "source": [
    "# 2. **Count of Smaller Numbers After Self**\n",
    "\n",
    "Given an integer array `nums`, return *an integer array* `counts` *where* `counts[i]` *is the number of smaller elements to the right of* `nums[i]`.\n",
    "\n",
    "**Example 1:**\n",
    "\n",
    "Input: nums = [5,2,6,1]\n",
    "Output: [2,1,1,0]\n",
    "Explanation:\n",
    "To the right of 5 there are2 smaller elements (2 and 1).\n",
    "To the right of 2 there is only1 smaller element (1).\n",
    "To the right of 6 there is1 smaller element (1).\n",
    "To the right of 1 there is0 smaller element.\n",
    "\n",
    "**Example 2:**\n",
    "\n",
    "Input: nums = [-1]\n",
    "Output: [0]\n",
    "\n",
    "\n",
    "**Example 3:**\n",
    "\n",
    "Input: nums = [-1,-1]\n",
    "Output: [0,0]\n",
    "\n",
    "**Constraints:**\n",
    "\n",
    "- `1 <= nums.length <= 100000`\n",
    "- `-10000 <= nums[i] <= 10000`"
   ]
  },
  {
   "cell_type": "markdown",
   "id": "c269e784",
   "metadata": {},
   "source": [
    "# Algorithm\n",
    "1.Define a helper function mergeAndCount(nums, left, mid, right, counts) that merges two sorted subarrays of nums and counts the number of inversions. The function takes the starting indices left, mid, and right of the subarrays, as well as the counts array to store the inversion counts.\n",
    "\n",
    "2.Initialize a variable inversions to store the total number of inversions.\n",
    "\n",
    "3.Divide the problem into two halves by finding the middle index mid.\n",
    "\n",
    "4.Recursively call mergeAndCount on the left and right halves.\n",
    "\n",
    "5.Merge the two sorted halves while counting the inversions:\n",
    "\n",
    "a. Create temporary arrays leftArr and rightArr to store the elements of the left and right subarrays.\n",
    "\n",
    "b. Iterate through the merged subarray from left to right:\n",
    "\n",
    "If all elements from the left subarray have been merged, copy the remaining elements from the right subarray to the merged subarray.\n",
    "    \n",
    "If all elements from the right subarray have been merged, copy the remaining elements from the left subarray to the merged subarray.\n",
    "    \n",
    "If the current element from the left subarray is smaller than or equal to the current element from the right subarray, copy it to the merged subarray and increment the inversion count for the current element by the number of elements remaining in the right subarray.\n",
    "    \n",
    "Otherwise, copy the current element from the right subarray to the merged subarray.\n",
    "\n",
    "6.Return the total number of inversions.\n",
    "\n",
    "7.Define the main function countSmaller(nums) that handles the edge cases and calls the mergeAndCount function:\n",
    "\n",
    "a. If the nums array is empty, return an empty array.\n",
    "\n",
    "b. Create an array counts of the same length as nums to store the inversion counts.\n",
    "\n",
    "c. Call the mergeAndCount function with the indices of the entire array (left = 0, right = len(nums) - 1).\n",
    "\n",
    "d. Return the counts array."
   ]
  },
  {
   "cell_type": "code",
   "execution_count": 3,
   "id": "4e7b438a",
   "metadata": {},
   "outputs": [],
   "source": [
    "def mergeAndCount(nums, left, mid, right, counts):\n",
    "    leftArr = nums[left:mid+1]\n",
    "    rightArr = nums[mid+1:right+1]\n",
    "\n",
    "    inversions = 0\n",
    "    i = j = 0\n",
    "    k = left\n",
    "\n",
    "    while i < len(leftArr) and j < len(rightArr):\n",
    "        if leftArr[i] <= rightArr[j]:\n",
    "            nums[k] = leftArr[i]\n",
    "            counts[k] += inversions\n",
    "            i += 1\n",
    "        else:\n",
    "            nums[k] = rightArr[j]\n",
    "            j += 1\n",
    "            inversions += 1\n",
    "        k += 1\n",
    "\n",
    "    while i < len(leftArr):\n",
    "        nums[k] = leftArr[i]\n",
    "        counts[k] += inversions\n",
    "        i += 1\n",
    "        k += 1\n",
    "\n",
    "    while j < len(rightArr):\n",
    "        nums[k] = rightArr[j]\n",
    "        j += 1\n",
    "        k += 1\n",
    "\n",
    "    return inversions\n",
    "\n",
    "def mergeSortAndCount(nums, left, right, counts):\n",
    "    inversions = 0\n",
    "\n",
    "    if left < right:\n",
    "        mid = (left + right) // 2\n",
    "\n",
    "        inversions += mergeSortAndCount(nums, left, mid, counts)\n",
    "        inversions += mergeSortAndCount(nums, mid + 1, right, counts)\n",
    "        inversions += mergeAndCount(nums, left, mid, right, counts)\n",
    "\n",
    "    return inversions\n",
    "\n",
    "def countSmaller(nums):\n",
    "    if not nums:\n",
    "        return []\n",
    "\n",
    "    n = len(nums)\n",
    "    counts = [0] * n\n",
    "\n",
    "    mergeSortAndCount(nums, 0, n - 1, counts)\n",
    "\n",
    "    return counts\n"
   ]
  },
  {
   "cell_type": "code",
   "execution_count": 4,
   "id": "67e65bb9",
   "metadata": {},
   "outputs": [
    {
     "name": "stdout",
     "output_type": "stream",
     "text": [
      "[0, 2, 1, 1]\n",
      "[0]\n",
      "[0, 0]\n"
     ]
    }
   ],
   "source": [
    "\n",
    "nums1 = [5, 2, 6, 1]\n",
    "result1 = countSmaller(nums1)\n",
    "\n",
    "print(result1)\n",
    "\n",
    "nums2 = [-1]\n",
    "result2 = countSmaller(nums2)\n",
    "\n",
    "print(result2)\n",
    "\n",
    "nums3 = [-1, -1]\n",
    "result3 = countSmaller(nums3)\n",
    "\n",
    "print(result3)"
   ]
  },
  {
   "cell_type": "markdown",
   "id": "9356cf5c",
   "metadata": {},
   "source": [
    "# Question 3"
   ]
  },
  {
   "cell_type": "markdown",
   "id": "f61a794f",
   "metadata": {},
   "source": [
    "# 3. **Sort an Array**\n",
    "\n",
    "Given an array of integers `nums`, sort the array in ascending order and return it.\n",
    "\n",
    "You must solve the problem **without using any built-in** functions in `O(nlog(n))` time complexity and with the smallest space complexity possible.\n",
    "\n",
    "**Example 1:**\n",
    "\n",
    "Input: nums = [5,2,3,1]\n",
    "Output: [1,2,3,5]\n",
    "Explanation: After sorting the array, the positions of some numbers are not changed (for example, 2 and 3), while the positions of other numbers are changed (for example, 1 and 5).\n",
    "\n",
    "\n",
    "**Example 2:**\n",
    "\n",
    "Input: nums = [5,1,1,2,0,0]\n",
    "Output: [0,0,1,1,2,5]\n",
    "Explanation: Note that the values of nums are not necessairly unique.\n",
    "\n",
    "**Constraints:**\n",
    "\n",
    "- `1 <= nums.length <= 5 * 10000`\n",
    "- `-5 * 104 <= nums[i] <= 5 * 10000`"
   ]
  },
  {
   "cell_type": "markdown",
   "id": "e0a186ae",
   "metadata": {},
   "source": [
    "# Algorithm\n",
    "1.Define a helper function partition(nums, low, high) that takes the array nums and partitions it into two parts based on a pivot element. This function returns the index of the pivot element after partitioning.\n",
    "\n",
    "a. Choose a pivot element, which can be the last element nums[high] in the subarray.\n",
    "\n",
    "b. Initialize a variable i to low - 1 to keep track of the position of the smaller element.\n",
    "\n",
    "c. Iterate from index low to high - 1 using a variable j:\n",
    "\n",
    "If nums[j] is less than or equal to the pivot, swap nums[j] with nums[i+1] and increment i by 1.\n",
    "\n",
    "d. Finally, swap nums[high] with nums[i+1] to place the pivot element in its correct position.\n",
    "\n",
    "e. Return the index i+1 as the partition point.\n",
    "\n",
    "2.Define the main function quickSort(nums, low, high) that implements the QuickSort algorithm recursively.\n",
    "\n",
    "a. If low is less than high, do the following:\n",
    "\n",
    "b.Call the partition function to get the partition point pivotIndex.\n",
    "\n",
    "c.Recursively call quickSort on the left subarray from low to pivotIndex-1.\n",
    "\n",
    "d.Recursively call quickSort on the right subarray from pivotIndex+1 to high.\n",
    "\n",
    "3.In the main function sortArray(nums), initialize low as 0 and high as len(nums) - 1. Then call the quickSort function with these initial values.\n",
    "\n",
    "4.Return the sorted array nums."
   ]
  },
  {
   "cell_type": "code",
   "execution_count": 5,
   "id": "f6124cab",
   "metadata": {},
   "outputs": [],
   "source": [
    "def partition(nums, low, high):\n",
    "    pivot = nums[high]\n",
    "    i = low - 1\n",
    "\n",
    "    for j in range(low, high):\n",
    "        if nums[j] <= pivot:\n",
    "            i += 1\n",
    "            nums[i], nums[j] = nums[j], nums[i]\n",
    "\n",
    "    nums[i+1], nums[high] = nums[high], nums[i+1]\n",
    "    return i+1\n",
    "\n",
    "\n",
    "def quickSort(nums, low, high):\n",
    "    if low < high:\n",
    "        pivotIndex = partition(nums, low, high)\n",
    "        quickSort(nums, low, pivotIndex-1)\n",
    "        quickSort(nums, pivotIndex+1, high)\n",
    "\n",
    "\n",
    "def sortArray(nums):\n",
    "    low = 0\n",
    "    high = len(nums) - 1\n",
    "    quickSort(nums, low, high)\n",
    "    return nums\n"
   ]
  },
  {
   "cell_type": "code",
   "execution_count": 6,
   "id": "a50811d8",
   "metadata": {},
   "outputs": [
    {
     "name": "stdout",
     "output_type": "stream",
     "text": [
      "[1, 2, 3, 5]\n",
      "[0, 0, 1, 1, 2, 5]\n"
     ]
    }
   ],
   "source": [
    "nums1 = [5, 2, 3, 1]\n",
    "result1 = sortArray(nums1)\n",
    "\n",
    "print(result1)\n",
    "\n",
    "nums2 = [5, 1, 1, 2, 0, 0]\n",
    "result2 = sortArray(nums2)\n",
    "\n",
    "print(result2)"
   ]
  },
  {
   "cell_type": "markdown",
   "id": "2553b254",
   "metadata": {},
   "source": [
    "# Question 4"
   ]
  },
  {
   "cell_type": "markdown",
   "id": "cb1f8a16",
   "metadata": {},
   "source": [
    "# 4. **Move all zeroes to end of array**\n",
    "\n",
    "Given an array of random numbers, Push all the zero’s of a given array to the end of the array. For example, if the given arrays is {1, 9, 8, 4, 0, 0, 2, 7, 0, 6, 0}, it should be changed to {1, 9, 8, 4, 2, 7, 6, 0, 0, 0, 0}. The order of all other elements should be same. Expected time complexity is O(n) and extra space is O(1).\n",
    "\n",
    "**Example:**\n",
    "\n",
    "Input :  arr[] = {1, 2, 0, 4, 3, 0, 5, 0};\n",
    "Output : arr[] = {1, 2, 4, 3, 5, 0, 0, 0};\n",
    "\n",
    "Input : arr[]  = {1, 2, 0, 0, 0, 3, 6};\n",
    "Output : arr[] = {1, 2, 3, 6, 0, 0, 0};"
   ]
  },
  {
   "cell_type": "markdown",
   "id": "c889a4aa",
   "metadata": {},
   "source": [
    "# Algorithm\n",
    "1.Initialize two pointers, left and right, pointing to the start of the array.\n",
    "\n",
    "2.Iterate through the array using the right pointer:\n",
    "\n",
    "a. If nums[right] is not equal to zero, swap nums[left] with nums[right] and increment both left and right pointers.\n",
    "\n",
    "b. If nums[right] is equal to zero, only increment the right pointer.\n",
    "\n",
    "3.After iterating through the array, all non-zero elements will be at the beginning, and the zeroes will be at the end of the array.\n",
    "\n",
    "4.Fill the remaining positions from left to the end of the array with zeroes.\n",
    "\n",
    "5.Return the modified array."
   ]
  },
  {
   "cell_type": "code",
   "execution_count": 7,
   "id": "0cb39752",
   "metadata": {},
   "outputs": [],
   "source": [
    "def moveZeroes(nums):\n",
    "    left = 0\n",
    "    right = 0\n",
    "\n",
    "    while right < len(nums):\n",
    "        if nums[right] != 0:\n",
    "            nums[left], nums[right] = nums[right], nums[left]\n",
    "            left += 1\n",
    "        right += 1\n",
    "\n",
    "    while left < len(nums):\n",
    "        nums[left] = 0\n",
    "        left += 1\n",
    "\n",
    "    return nums\n"
   ]
  },
  {
   "cell_type": "code",
   "execution_count": 8,
   "id": "2bfa75a2",
   "metadata": {},
   "outputs": [
    {
     "name": "stdout",
     "output_type": "stream",
     "text": [
      "[1, 2, 4, 3, 5, 0, 0, 0]\n",
      "[1, 2, 3, 6, 0, 0, 0]\n"
     ]
    }
   ],
   "source": [
    "nums1 = [1, 2, 0, 4, 3, 0, 5, 0]\n",
    "result1 = moveZeroes(nums1)\n",
    "print(result1)\n",
    "\n",
    "nums2 = [1, 2, 0, 0, 0, 3, 6]\n",
    "result2 = moveZeroes(nums2)\n",
    "print(result2)"
   ]
  },
  {
   "cell_type": "markdown",
   "id": "76ae8f65",
   "metadata": {},
   "source": [
    "# Question 5"
   ]
  },
  {
   "cell_type": "markdown",
   "id": "bc383a29",
   "metadata": {},
   "source": [
    "# 5. **Rearrange array in alternating positive & negative items with O(1) extra space**\n",
    "\n",
    "Given an **array of positive** and **negative numbers**, arrange them in an **alternate** fashion such that every positive number is followed by a negative and vice-versa maintaining the **order of appearance**. The number of positive and negative numbers need not be equal. If there are more positive numbers they appear at the end of the array. If there are more negative numbers, they too appear at the end of the array.\n",
    "\n",
    "**Examples:**\n",
    "\n",
    "> Input:  arr[] = {1, 2, 3, -4, -1, 4}\n",
    "Output: arr[] = {-4, 1, -1, 2, 3, 4}\n",
    "\n",
    "Input:  arr[] = {-5, -2, 5, 2, 4, 7, 1, 8, 0, -8}\n",
    "Output: arr[] = {-5, 5, -2, 2, -8, 4, 7, 1, 8, 0}"
   ]
  },
  {
   "cell_type": "markdown",
   "id": "eb63f473",
   "metadata": {},
   "source": [
    "# Algorithm\n",
    "1.Initialize two pointers, left and right, pointing to the start and end of the array, respectively.\n",
    "\n",
    "2.Iterate through the array using the left pointer:\n",
    "\n",
    "a. If nums[left] is positive, increment the left pointer.\n",
    "\n",
    "b. If nums[left] is negative, swap nums[left] with nums[right] and decrement the right pointer.\n",
    "\n",
    "3.After iterating through the array, all positive numbers will be at the beginning and all negative numbers will be at the end of the array, but they may not be in the desired alternating order.\n",
    "\n",
    "4.Iterate through the array again, starting from the left pointer:\n",
    "\n",
    "a. If nums[left] is positive and the next element (nums[left+1]) is also positive, shift all elements from left+1 to right-1 one position to the right.\n",
    "\n",
    "b. If nums[left] is negative and the next element (nums[left+1]) is also negative, shift all elements from left+1 to right-1 one position to the right.\n",
    "\n",
    "5.Repeat step 4 until the array is rearranged in the desired alternating order.\n",
    "\n",
    "6.Return the modified array."
   ]
  },
  {
   "cell_type": "code",
   "execution_count": 9,
   "id": "cceebf0d",
   "metadata": {},
   "outputs": [
    {
     "name": "stdout",
     "output_type": "stream",
     "text": [
      "[1, 1, 1, 1, 1, -4]\n",
      "[0, 8, 8, 8, 8, 8, 8, -2, -5, -8]\n"
     ]
    }
   ],
   "source": [
    "def rearrangeArray(nums):\n",
    "    left = 0\n",
    "    right = len(nums) - 1\n",
    "\n",
    "    while left < right:\n",
    "        if nums[left] > 0:\n",
    "            left += 1\n",
    "        elif nums[right] < 0:\n",
    "            right -= 1\n",
    "        else:\n",
    "            nums[left], nums[right] = nums[right], nums[left]\n",
    "            left += 1\n",
    "            right -= 1\n",
    "\n",
    "    left = 0\n",
    "    while left < len(nums) - 1:\n",
    "        if nums[left] > 0 and nums[left + 1] > 0:\n",
    "            shiftRight(nums, left + 1, right)\n",
    "        elif nums[left] < 0 and nums[left + 1] < 0:\n",
    "            shiftRight(nums, left + 1, right)\n",
    "        left += 1\n",
    "\n",
    "    return nums\n",
    "\n",
    "def shiftRight(nums, start, end):\n",
    "    for i in range(end, start - 1, -1):\n",
    "        nums[i] = nums[i - 1]\n",
    "\n",
    "nums1 = [1, 2, 3, -4, -1, 4]\n",
    "result1 = rearrangeArray(nums1)\n",
    "print(result1)\n",
    "\n",
    "nums2 = [-5, -2, 5, 2, 4, 7, 1, 8, 0, -8]\n",
    "result2 = rearrangeArray(nums2)\n",
    "print(result2)"
   ]
  },
  {
   "cell_type": "markdown",
   "id": "c9cd1e81",
   "metadata": {},
   "source": [
    "# Question 6"
   ]
  },
  {
   "cell_type": "markdown",
   "id": "c4b4aaa8",
   "metadata": {},
   "source": [
    "# **6. Merge two sorted arrays**\n",
    "\n",
    "Given two sorted arrays, the task is to merge them in a sorted manner.\n",
    "\n",
    "**Examples:**\n",
    "\n",
    "> Input: arr1[] = { 1, 3, 4, 5}, arr2[] = {2, 4, 6, 8} \n",
    "Output: arr3[] = {1, 2, 3, 4, 4, 5, 6, 8}\n",
    "\n",
    "Input: arr1[] = { 5, 8, 9}, arr2[] = {4, 7, 8}\n",
    "Output: arr3[] = {4, 5, 7, 8, 8, 9}"
   ]
  },
  {
   "cell_type": "markdown",
   "id": "42bbf20c",
   "metadata": {},
   "source": [
    "# Algorithm\n",
    "1.Create an empty list, result, to store the merged array.\n",
    "\n",
    "2.Initialize two pointers, i and j, to the starting indices of arr1 and arr2, respectively.\n",
    "\n",
    "3.Compare the elements at arr1[i] and arr2[j]:\n",
    "        \n",
    "4.If arr1[i] is less than or equal to arr2[j], add arr1[i] to result and increment i by 1.\n",
    "        \n",
    "5.Otherwise, add arr2[j] to result and increment j by 1.\n",
    "\n",
    "6.Repeat step 3 until either i reaches the end of arr1 or j reaches the end of arr2.\n",
    "\n",
    "7.If there are remaining elements in arr1 or arr2, append them to the end of result.\n",
    "\n",
    "8.Return result."
   ]
  },
  {
   "cell_type": "code",
   "execution_count": 13,
   "id": "7a4cad04",
   "metadata": {},
   "outputs": [
    {
     "name": "stdout",
     "output_type": "stream",
     "text": [
      "[1, 2, 3, 4, 4, 5, 6, 8]\n",
      "[4, 5, 7, 8, 8, 9]\n"
     ]
    }
   ],
   "source": [
    "def mergeSortedArrays(arr1, arr2):\n",
    "    result = []\n",
    "    i = 0\n",
    "    j = 0\n",
    "    \n",
    "    while i < len(arr1) and j < len(arr2):\n",
    "        if arr1[i] <= arr2[j]:\n",
    "            result.append(arr1[i])\n",
    "            i += 1\n",
    "        else:\n",
    "            result.append(arr2[j])\n",
    "            j += 1\n",
    "    \n",
    "    while i < len(arr1):\n",
    "        result.append(arr1[i])\n",
    "        i += 1\n",
    "    \n",
    "    while j < len(arr2):\n",
    "        result.append(arr2[j])\n",
    "        j += 1\n",
    "    \n",
    "    return result\n",
    "\n",
    "arr1 = [1, 3, 4, 5]\n",
    "arr2 = [2, 4, 6, 8]\n",
    "result1 = mergeSortedArrays(arr1, arr2)\n",
    "print(result1)\n",
    "\n",
    "arr3 = [5, 8, 9]\n",
    "arr4 = [4, 7, 8]\n",
    "result2 = mergeSortedArrays(arr3, arr4)\n",
    "print(result2)"
   ]
  },
  {
   "cell_type": "code",
   "execution_count": null,
   "id": "dfbb0dbf",
   "metadata": {},
   "outputs": [],
   "source": [
    "Question 7"
   ]
  },
  {
   "cell_type": "markdown",
   "id": "7617b6e7",
   "metadata": {},
   "source": [
    "# 7. **Intersection of Two Arrays**\n",
    "\n",
    "Given two integer arrays `nums1` and `nums2`, return *an array of their intersection*. Each element in the result must be **unique** and you may return the result in **any order**.\n",
    "\n",
    "**Example 1:**\n",
    "\n",
    "Input: nums1 = [1,2,2,1], nums2 = [2,2]\n",
    "Output: [2]\n",
    "\n",
    "\n",
    "**Example 2:**\n",
    "    \n",
    "Input: nums1 = [4,9,5], nums2 = [9,4,9,8,4]\n",
    "Output: [9,4]\n",
    "Explanation: [4,9] is also accepted.\n",
    "\n",
    "**Constraints:**\n",
    "\n",
    "- `1 <= nums1.length, nums2.length <= 1000`\n",
    "- `0 <= nums1[i], nums2[i] <= 1000`"
   ]
  },
  {
   "cell_type": "markdown",
   "id": "9521b7a2",
   "metadata": {},
   "source": [
    "# Algorithm\n",
    "1.Create an empty set, set1, to store the unique elements from nums1.\n",
    "\n",
    "2.Iterate through each element, num, in nums1:\n",
    "        \n",
    "3.Add num to set1.\n",
    "\n",
    "4.Create an empty list, result, to store the intersection of the arrays.\n",
    "\n",
    "5.Iterate through each element, num, in nums2:\n",
    "        \n",
    "6.If num is in set1 and not already in result, add num to result.\n",
    "\n",
    "7.Return result."
   ]
  },
  {
   "cell_type": "code",
   "execution_count": 11,
   "id": "7ac088ed",
   "metadata": {},
   "outputs": [
    {
     "name": "stdout",
     "output_type": "stream",
     "text": [
      "[2]\n",
      "[9, 4]\n"
     ]
    }
   ],
   "source": [
    "def intersection(nums1, nums2):\n",
    "    set1 = set(nums1)\n",
    "    result = []\n",
    "    \n",
    "    for num in nums2:\n",
    "        if num in set1 and num not in result:\n",
    "            result.append(num)\n",
    "    \n",
    "    return result\n",
    "\n",
    "nums1 = [1, 2, 2, 1]\n",
    "nums2 = [2, 2]\n",
    "result1 = intersection(nums1, nums2)\n",
    "print(result1)\n",
    "\n",
    "nums3 = [4, 9, 5]\n",
    "nums4 = [9, 4, 9, 8, 4]\n",
    "result2 = intersection(nums3, nums4)\n",
    "print(result2)"
   ]
  },
  {
   "cell_type": "markdown",
   "id": "7ae48c61",
   "metadata": {},
   "source": [
    "# Question 8"
   ]
  },
  {
   "cell_type": "markdown",
   "id": "1e15251e",
   "metadata": {},
   "source": [
    "# 8. **Intersection of Two Arrays II**\n",
    "\n",
    "Given two integer arrays `nums1` and `nums2`, return *an array of their intersection*. Each element in the result must appear as many times as it shows in both arrays and you may return the result in **any order**.\n",
    "\n",
    "**Example 1:**\n",
    "\n",
    "Input: nums1 = [1,2,2,1], nums2 = [2,2]\n",
    "Output: [2,2]\n",
    "\n",
    "**Example 2:**\n",
    "    \n",
    "Input: nums1 = [4,9,5], nums2 = [9,4,9,8,4]\n",
    "Output: [4,9]\n",
    "Explanation: [9,4] is also accepted.\n",
    "\n",
    "**Constraints:**\n",
    "\n",
    "- `1 <= nums1.length, nums2.length <= 1000`\n",
    "- `0 <= nums1[i], nums2[i] <= 1000`"
   ]
  },
  {
   "cell_type": "markdown",
   "id": "33b4688c",
   "metadata": {},
   "source": [
    "# Algorithm\n",
    "1.Create an empty dictionary, freq1, to store the frequency of elements in nums1.\n",
    "\n",
    "2.Iterate through each element, num, in nums1:\n",
    "        \n",
    "3.If num is already a key in freq1, increment its value by 1.\n",
    "        \n",
    "4.Otherwise, add num as a key to freq1 with a value of 1.\n",
    "\n",
    "5.Create an empty list, result, to store the intersection of the arrays.\n",
    "\n",
    "6.Iterate through each element, num, in nums2:\n",
    "        \n",
    "7.If num is a key in freq1 and its value is greater than 0, add num to result and decrement its value in freq1 by 1.\n",
    "\n",
    "8.Return result."
   ]
  },
  {
   "cell_type": "code",
   "execution_count": 12,
   "id": "ea1c822f",
   "metadata": {},
   "outputs": [
    {
     "name": "stdout",
     "output_type": "stream",
     "text": [
      "[2, 2]\n",
      "[9, 4]\n"
     ]
    }
   ],
   "source": [
    "def intersect(nums1, nums2):\n",
    "    freq1 = {}\n",
    "    \n",
    "    for num in nums1:\n",
    "        if num in freq1:\n",
    "            freq1[num] += 1\n",
    "        else:\n",
    "            freq1[num] = 1\n",
    "    \n",
    "    result = []\n",
    "    \n",
    "    for num in nums2:\n",
    "        if num in freq1 and freq1[num] > 0:\n",
    "            result.append(num)\n",
    "            freq1[num] -= 1\n",
    "    \n",
    "    return result\n",
    "\n",
    "nums1 = [1, 2, 2, 1]\n",
    "nums2 = [2, 2]\n",
    "result1 = intersect(nums1, nums2)\n",
    "print(result1)\n",
    "\n",
    "nums3 = [4, 9, 5]\n",
    "nums4 = [9, 4, 9, 8, 4]\n",
    "result2 = intersect(nums3, nums4)\n",
    "print(result2)"
   ]
  },
  {
   "cell_type": "code",
   "execution_count": null,
   "id": "79c5646f",
   "metadata": {},
   "outputs": [],
   "source": []
  }
 ],
 "metadata": {
  "kernelspec": {
   "display_name": "Python 3 (ipykernel)",
   "language": "python",
   "name": "python3"
  },
  "language_info": {
   "codemirror_mode": {
    "name": "ipython",
    "version": 3
   },
   "file_extension": ".py",
   "mimetype": "text/x-python",
   "name": "python",
   "nbconvert_exporter": "python",
   "pygments_lexer": "ipython3",
   "version": "3.9.7"
  }
 },
 "nbformat": 4,
 "nbformat_minor": 5
}
