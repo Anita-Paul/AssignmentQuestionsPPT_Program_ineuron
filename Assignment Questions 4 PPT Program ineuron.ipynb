{
 "cells": [
  {
   "cell_type": "markdown",
   "id": "9294d27a",
   "metadata": {},
   "source": [
    "# Question 1"
   ]
  },
  {
   "cell_type": "markdown",
   "id": "723f0064",
   "metadata": {},
   "source": [
    "# Given three integer arrays arr1, arr2 and arr3 sorted in strictly increasing order, return a sorted array of only the integers that appeared in all three arrays.\n",
    "Example 1:\n",
    "Input: arr1 = [1,2,3,4,5], arr2 = [1,2,5,7,9], arr3 = [1,3,4,5,8]\n",
    "\n",
    "Output: [1,5]"
   ]
  },
  {
   "cell_type": "markdown",
   "id": "716d558b",
   "metadata": {},
   "source": [
    "# Algorithm\n",
    "   1. Initialize three pointers, p1, p2, and p3, to track the current positions in arr1, arr2, and arr3, respectively. Set them to 0 initially.\n",
    "   2. Initialize an empty list, result, to store the common integers.\n",
    "   3. While p1, p2, and p3 are within the bounds of their respective arrays:\n",
    "        If arr1[p1], arr2[p2], and arr3[p3] are equal, add the integer to result, and increment all pointers (p1, p2, p3) by 1.\n",
    "        If arr1[p1] is smaller than either arr2[p2] or arr3[p3], increment p1 by 1.\n",
    "        If arr2[p2] is smaller than either arr1[p1] or arr3[p3], increment p2 by 1.\n",
    "        If arr3[p3] is smaller than either arr1[p1] or arr2[p2], increment p3 by 1.\n",
    "   4. Return result, which will contain the sorted integers that appeared in all three arrays."
   ]
  },
  {
   "cell_type": "code",
   "execution_count": 1,
   "id": "d4552631",
   "metadata": {},
   "outputs": [],
   "source": [
    "def commonElements(arr1, arr2, arr3):\n",
    "    p1, p2, p3 = 0, 0, 0\n",
    "    result = []\n",
    "\n",
    "    while p1 < len(arr1) and p2 < len(arr2) and p3 < len(arr3):\n",
    "        if arr1[p1] == arr2[p2] == arr3[p3]:\n",
    "            result.append(arr1[p1])\n",
    "            p1 += 1\n",
    "            p2 += 1\n",
    "            p3 += 1\n",
    "        elif arr1[p1] < arr2[p2] or arr1[p1] < arr3[p3]:\n",
    "            p1 += 1\n",
    "        elif arr2[p2] < arr1[p1] or arr2[p2] < arr3[p3]:\n",
    "            p2 += 1\n",
    "        else:\n",
    "            p3 += 1\n",
    "\n",
    "    return result"
   ]
  },
  {
   "cell_type": "code",
   "execution_count": 2,
   "id": "39275992",
   "metadata": {},
   "outputs": [
    {
     "name": "stdout",
     "output_type": "stream",
     "text": [
      "[1, 5]\n"
     ]
    }
   ],
   "source": [
    "arr1 = [1, 2, 3, 4, 5]\n",
    "arr2 = [1, 2, 5, 7, 9]\n",
    "arr3 = [1, 3, 4, 5, 8]\n",
    "\n",
    "print(commonElements(arr1, arr2, arr3))"
   ]
  },
  {
   "cell_type": "markdown",
   "id": "c1a68360",
   "metadata": {},
   "source": [
    "# Question 2"
   ]
  },
  {
   "cell_type": "markdown",
   "id": "ce4c8b7d",
   "metadata": {},
   "source": [
    "# Given two 0-indexed integer arrays nums1 and nums2, return *a list* answer *of size* 2 *where:* answer[0] *is a list of all **distinct** integers in* nums1 *which are **not** present in* nums2*.*\n",
    "Note that the integers in the lists may be returned in any order.\n",
    "Example 1:\n",
    "**Input:** nums1 = [1,2,3], nums2 = [2,4,6]\n",
    "Output: [[1,3],[4,6]]"
   ]
  },
  {
   "cell_type": "markdown",
   "id": "3fbc2d51",
   "metadata": {},
   "source": [
    "# Algorithm\n",
    "    1.Convert nums1 and nums2 into sets to remove duplicates.\n",
    "    2. Initialize an empty list, result, to store the distinct integers.\n",
    "    3. Iterate over each element in nums1 and check if it exists in the set of nums2. If it doesn't, add it to result.\n",
    "    4. Iterate over each element in nums2 and check if it exists in the set of nums1. If it doesn't, add it to result.\n",
    "    5. Return result as a list of two lists, where the first list contains the distinct integers from nums1 not present in nums2, and the second list contains the distinct integers from nums2 not present in nums1."
   ]
  },
  {
   "cell_type": "code",
   "execution_count": 3,
   "id": "27a2bb9b",
   "metadata": {},
   "outputs": [],
   "source": [
    "def distinctIntegers(nums1, nums2):\n",
    "    set_nums1 = set(nums1)\n",
    "    set_nums2 = set(nums2)\n",
    "    result = []\n",
    "    distinct_nums1 = [num for num in nums1 if num not in set_nums2]\n",
    "    distinct_nums2 = [num for num in nums2 if num not in set_nums1]\n",
    "    result.append(distinct_nums1)\n",
    "    result.append(distinct_nums2)\n",
    "    return result"
   ]
  },
  {
   "cell_type": "code",
   "execution_count": 4,
   "id": "a5c12a76",
   "metadata": {},
   "outputs": [
    {
     "name": "stdout",
     "output_type": "stream",
     "text": [
      "[[1, 3], [4, 6]]\n"
     ]
    }
   ],
   "source": [
    "nums1 = [1, 2, 3]\n",
    "nums2 = [2, 4, 6]\n",
    "print(distinctIntegers(nums1, nums2))"
   ]
  },
  {
   "cell_type": "markdown",
   "id": "f1b98caf",
   "metadata": {},
   "source": [
    "# Question 3"
   ]
  },
  {
   "cell_type": "markdown",
   "id": "57c4cca8",
   "metadata": {},
   "source": [
    "# Given a 2D integer array matrix, return the transpose of matrix.\n",
    "The transpose of a matrix is the matrix flipped over its main diagonal, switching the matrix's row and column indices.\n",
    "Example 1:\n",
    "Input: matrix = [[1,2,3],[4,5,6],[7,8,9]]\n",
    "Output: [[1,4,7],[2,5,8],[3,6,9]]"
   ]
  },
  {
   "cell_type": "markdown",
   "id": "b0f51e3a",
   "metadata": {},
   "source": [
    "# Algorithm\n",
    "    1. Initialize an empty 2D list, transpose, to store the transposed matrix.\n",
    "    2. Iterate over the columns of the matrix using a nested loop.\n",
    "        For each column, iterate over the rows.\n",
    "        Append the element at the current row and column to the transpose list at the corresponding column and row.\n",
    "    3. Return the transpose list."
   ]
  },
  {
   "cell_type": "code",
   "execution_count": 6,
   "id": "e8388892",
   "metadata": {},
   "outputs": [],
   "source": [
    "def transposeMatrix(matrix):\n",
    "    transpose = []\n",
    "    rows = len(matrix)\n",
    "    columns = len(matrix[0])\n",
    "    for col in range(columns):\n",
    "        transposed_row = []\n",
    "        for row in range(rows):\n",
    "            transposed_row.append(matrix[row][col])\n",
    "        transpose.append(transposed_row)\n",
    "\n",
    "    return transpose"
   ]
  },
  {
   "cell_type": "code",
   "execution_count": 7,
   "id": "6d93475b",
   "metadata": {},
   "outputs": [
    {
     "name": "stdout",
     "output_type": "stream",
     "text": [
      "[[1, 4, 7], [2, 5, 8], [3, 6, 9]]\n"
     ]
    }
   ],
   "source": [
    "matrix = [[1, 2, 3], [4, 5, 6], [7, 8, 9]]\n",
    "print(transposeMatrix(matrix))"
   ]
  },
  {
   "cell_type": "markdown",
   "id": "58619e0b",
   "metadata": {},
   "source": [
    "# Question 4"
   ]
  },
  {
   "cell_type": "markdown",
   "id": "580a1c79",
   "metadata": {},
   "source": [
    "# Given an integer array nums of 2n integers, group these integers into n pairs (a1, b1), (a2, b2), ..., (an, bn) such that the sum of min(ai, bi) for all i is maximized. Return the maximized sum.\n",
    "Example 1:\n",
    "Input: nums = [1,4,3,2]\n",
    "Output: 4"
   ]
  },
  {
   "cell_type": "markdown",
   "id": "eb15d741",
   "metadata": {},
   "source": [
    "# Algorithm\n",
    "   1. Sort the given array nums in ascending order.\n",
    "   2. Initialize a variable max_sum to keep track of the maximized sum.\n",
    "   3. Iterate over the sorted array nums by incrementing the index by 2 in each iteration.\n",
    "        Add the minimum value between nums[i] and nums[i+1] to max_sum.\n",
    "   4. Return max_sum."
   ]
  },
  {
   "cell_type": "code",
   "execution_count": 8,
   "id": "1a7c836d",
   "metadata": {},
   "outputs": [],
   "source": [
    "def arrayPairSum(nums):\n",
    "    nums.sort()\n",
    "    max_sum = 0\n",
    "    for i in range(0, len(nums), 2):\n",
    "        max_sum += min(nums[i], nums[i+1])\n",
    "    return max_sum"
   ]
  },
  {
   "cell_type": "code",
   "execution_count": 9,
   "id": "f8344a07",
   "metadata": {},
   "outputs": [
    {
     "name": "stdout",
     "output_type": "stream",
     "text": [
      "4\n"
     ]
    }
   ],
   "source": [
    "nums = [1, 4, 3, 2]\n",
    "print(arrayPairSum(nums))"
   ]
  },
  {
   "cell_type": "markdown",
   "id": "70c5ef87",
   "metadata": {},
   "source": [
    "# Question 5"
   ]
  },
  {
   "cell_type": "markdown",
   "id": "51a6d909",
   "metadata": {},
   "source": [
    "# You have n coins and you want to build a staircase with these coins. The staircase consists of k rows where the ith row has exactly i coins. The last row of the staircase may be incomplete.\n",
    "Given the integer n, return the number of complete rows of the staircase you will build.\n",
    "1\n",
    "1 1\n",
    "1 1 *\n",
    "\n",
    "**Example 1:**\n",
    "\n",
    "**Input:** n = 5\n",
    "output : 2\n",
    "Explanation: Because the 3rd row is incomplete, we return 2."
   ]
  },
  {
   "cell_type": "markdown",
   "id": "fa4ef4b8",
   "metadata": {},
   "source": [
    "# Algorithm\n",
    "   1. Initialize the variables left and right to 1 and n respectively. These variables define the search range.\n",
    "   2. While left is less than or equal to right, perform the following steps:\n",
    "        Calculate the midpoint using mid = left + (right - left) // 2.\n",
    "        Calculate the sum of the arithmetic series up to mid using the formula sum = (mid * (mid + 1)) // 2.\n",
    "        If sum is less than or equal to n, update left to mid + 1.\n",
    "        Otherwise, update right to mid - 1.\n",
    "   3. Return left - 1."
   ]
  },
  {
   "cell_type": "code",
   "execution_count": 10,
   "id": "714b24c1",
   "metadata": {},
   "outputs": [],
   "source": [
    "def arrangeCoins(n):\n",
    "    left = 1\n",
    "    right = n\n",
    "\n",
    "    while left <= right:\n",
    "        mid = left + (right - left) // 2\n",
    "        curr_sum = (mid * (mid + 1)) // 2\n",
    "\n",
    "        if curr_sum <= n:\n",
    "            left = mid + 1\n",
    "        else:\n",
    "            right = mid - 1\n",
    "\n",
    "    return left - 1"
   ]
  },
  {
   "cell_type": "code",
   "execution_count": 11,
   "id": "c6155225",
   "metadata": {},
   "outputs": [
    {
     "name": "stdout",
     "output_type": "stream",
     "text": [
      "2\n"
     ]
    }
   ],
   "source": [
    "n = 5\n",
    "print(arrangeCoins(n))"
   ]
  },
  {
   "cell_type": "markdown",
   "id": "ee0ed19d",
   "metadata": {},
   "source": [
    "# Question 6"
   ]
  },
  {
   "cell_type": "markdown",
   "id": "f8bfd5fc",
   "metadata": {},
   "source": [
    "# Given an integer array nums sorted in non-decreasing order, return an array of the squares of each number sorted in non-decreasing order.\n",
    "**Example 1:**\n",
    "Input: nums = [-4,-1,0,3,10]\n",
    "Output: [0,1,9,16,100]"
   ]
  },
  {
   "cell_type": "markdown",
   "id": "6f975db9",
   "metadata": {},
   "source": [
    "# Algorithm\n",
    "   1. Initialize an empty list, result, to store the squared values.\n",
    "   2. Use two pointers, left and right, initially pointing to the start and end of the nums array.\n",
    "   3. Iterate from right to left, comparing the absolute values of nums[left] and nums[right].\n",
    "        If the absolute value of nums[left] is greater than or equal to the absolute value of nums[right], append the square of nums[left] to result and move the left pointer one step to the right.\n",
    "        Otherwise, append the square of nums[right] to result and move the right pointer one step to the left.\n",
    "   4. Reverse the result list to obtain the non-decreasing order of squared values.\n",
    "   5. Return result."
   ]
  },
  {
   "cell_type": "code",
   "execution_count": 12,
   "id": "46fed865",
   "metadata": {},
   "outputs": [],
   "source": [
    "def sortedSquares(nums):\n",
    "    result = []\n",
    "    left = 0\n",
    "    right = len(nums) - 1\n",
    "\n",
    "    while left <= right:\n",
    "        if abs(nums[left]) >= abs(nums[right]):\n",
    "            result.append(nums[left] ** 2)\n",
    "            left += 1\n",
    "        else:\n",
    "            result.append(nums[right] ** 2)\n",
    "            right -= 1\n",
    "\n",
    "    return result[::-1]"
   ]
  },
  {
   "cell_type": "code",
   "execution_count": 13,
   "id": "3c32c983",
   "metadata": {},
   "outputs": [
    {
     "name": "stdout",
     "output_type": "stream",
     "text": [
      "[0, 1, 9, 16, 100]\n"
     ]
    }
   ],
   "source": [
    "nums = [-4, -1, 0, 3, 10]\n",
    "print(sortedSquares(nums))"
   ]
  },
  {
   "cell_type": "markdown",
   "id": "d0b0f1ea",
   "metadata": {},
   "source": [
    "# Question 7"
   ]
  },
  {
   "cell_type": "markdown",
   "id": "0ddd76bf",
   "metadata": {},
   "source": [
    "# You are given an m x n matrix M initialized with all 0's and an array of operations ops, where ops[i] = [ai, bi] means M[x][y] should be incremented by one for all 0 <= x < ai and 0 <= y < bi.\n",
    "\n",
    "\n",
    "Count and return *the number of maximum integers in the matrix after performing all the operations*\n",
    "\n",
    "**Example 1:**\n",
    "\n",
    "**Input:** m = 3, n = 3, ops = [[2,2],[3,3]]\n",
    "\n",
    "**Output:** 4\n",
    "\n",
    "**Explanation:** The maximum integer in M is 2, and there are four of it in M. So return 4."
   ]
  },
  {
   "cell_type": "markdown",
   "id": "c04515ef",
   "metadata": {},
   "source": [
    "# Algorithm\n",
    "    1.Initialize max_row and max_col variables with m and n respectively. These variables represent the maximum row and column indices affected by the operations.\n",
    "    2.Iterate through each operation [ai, bi] in the ops array.\n",
    "        Update max_row as the minimum value between max_row and ai.\n",
    "        Update max_col as the minimum value between max_col and bi.\n",
    "    3.Return the product of max_row and max_col, which represents the number of maximum integers in the matrix."
   ]
  },
  {
   "cell_type": "code",
   "execution_count": 14,
   "id": "b12a8f3a",
   "metadata": {},
   "outputs": [],
   "source": [
    "def maxCount(m, n, ops):\n",
    "    max_row = m\n",
    "    max_col = n\n",
    "\n",
    "    for op in ops:\n",
    "        max_row = min(max_row, op[0])\n",
    "        max_col = min(max_col, op[1])\n",
    "    return max_row * max_col"
   ]
  },
  {
   "cell_type": "code",
   "execution_count": 15,
   "id": "e1f61cba",
   "metadata": {},
   "outputs": [
    {
     "name": "stdout",
     "output_type": "stream",
     "text": [
      "4\n"
     ]
    }
   ],
   "source": [
    "m = 3\n",
    "n = 3\n",
    "ops = [[2, 2], [3, 3]]\n",
    "print(maxCount(m, n, ops))"
   ]
  },
  {
   "cell_type": "markdown",
   "id": "878d7b29",
   "metadata": {},
   "source": [
    "# Question 8"
   ]
  },
  {
   "cell_type": "markdown",
   "id": "b1d17944",
   "metadata": {},
   "source": [
    "# Given the array nums consisting of 2n elements in the form [x1,x2,...,xn,y1,y2,...,yn].\n",
    "Return the array in the form [x1,y1,x2,y2,...,xn,yn].\n",
    "example 1:\n",
    "Input: nums = [2,5,1,3,4,7], n = 3\n",
    "Output: [2,3,5,4,1,7]\n",
    "Explanation: Since x1=2, x2=5, x3=1, y1=3, y2=4, y3=7 then the answer is [2,3,5,4,1,7]."
   ]
  },
  {
   "cell_type": "markdown",
   "id": "35bb2818",
   "metadata": {},
   "source": [
    "# Algorithm\n",
    "    1.Split the array nums into two halves: the first n elements represent the x values, and the remaining n elements represent the y values.\n",
    "    2.Initialize an empty list, result, to store the rearranged array.\n",
    "    3.Iterate over the range from 0 to n and for each index i, do the following:\n",
    "        Append the i-th x value to result.\n",
    "        Append the i-th y value to result.\n",
    "    4.Return result."
   ]
  },
  {
   "cell_type": "code",
   "execution_count": 17,
   "id": "e909ff35",
   "metadata": {},
   "outputs": [],
   "source": [
    "def shuffle(nums, n):\n",
    "    result = []\n",
    "    for i in range(n):\n",
    "        result.append(nums[i])\n",
    "        result.append(nums[i + n])\n",
    "    return result"
   ]
  },
  {
   "cell_type": "code",
   "execution_count": 18,
   "id": "8fb5bef2",
   "metadata": {},
   "outputs": [
    {
     "name": "stdout",
     "output_type": "stream",
     "text": [
      "[2, 3, 5, 4, 1, 7]\n"
     ]
    }
   ],
   "source": [
    "nums = [2, 5, 1, 3, 4, 7]\n",
    "n = 3\n",
    "print(shuffle(nums, n))"
   ]
  },
  {
   "cell_type": "code",
   "execution_count": null,
   "id": "cc57d4b2",
   "metadata": {},
   "outputs": [],
   "source": []
  }
 ],
 "metadata": {
  "kernelspec": {
   "display_name": "Python 3 (ipykernel)",
   "language": "python",
   "name": "python3"
  },
  "language_info": {
   "codemirror_mode": {
    "name": "ipython",
    "version": 3
   },
   "file_extension": ".py",
   "mimetype": "text/x-python",
   "name": "python",
   "nbconvert_exporter": "python",
   "pygments_lexer": "ipython3",
   "version": "3.9.7"
  }
 },
 "nbformat": 4,
 "nbformat_minor": 5
}
