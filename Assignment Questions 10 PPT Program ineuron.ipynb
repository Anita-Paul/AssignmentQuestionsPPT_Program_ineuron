{
 "cells": [
  {
   "cell_type": "markdown",
   "id": "fb647b76",
   "metadata": {},
   "source": [
    "# Question 1"
   ]
  },
  {
   "cell_type": "markdown",
   "id": "3350e5d1",
   "metadata": {},
   "source": [
    "# Given an integer `n`, return *`true` if it is a power of three. Otherwise, return `false`*.\n",
    "\n",
    "An integer `n` is a power of three, if there exists an integer `x` such that `n == 3x`.\n",
    "\n",
    "**Example 1:**\n",
    "Input: n = 27\n",
    "Output: true\n",
    "Explanation: 27 = 33\n",
    "**Example 2:**\n",
    "Input: n = 0\n",
    "Output: false\n",
    "Explanation: There is no x where 3x = 0.\n",
    "**Example 3:**\n",
    "Input: n = -1\n",
    "Output: false\n",
    "Explanation: There is no x where 3x = (-1)."
   ]
  },
  {
   "cell_type": "markdown",
   "id": "e967f79f",
   "metadata": {},
   "source": [
    "# Algorithm\n",
    "1.If the given number n is less than or equal to 0, return False because negative numbers and zero cannot be powers of three.\n",
    "    \n",
    "2.Calculate the logarithm of n with base 3 using the math.log() function and store it in a variable log_val.\n",
    "    \n",
    "3.Check if the log_val is an integer. You can do this by comparing log_val with its integer representation, int(log_val). If they are equal, return True; otherwise, return False."
   ]
  },
  {
   "cell_type": "code",
   "execution_count": 5,
   "id": "0c9be156",
   "metadata": {},
   "outputs": [
    {
     "name": "stdout",
     "output_type": "stream",
     "text": [
      "True\n",
      "False\n",
      "False\n"
     ]
    }
   ],
   "source": [
    "import math\n",
    "\n",
    "def is_power_of_three(n):\n",
    "    if n <= 0:\n",
    "        return False\n",
    "    \n",
    "    log_val = math.log(n, 3)\n",
    "    return log_val == int(log_val)\n",
    "print(is_power_of_three(27))  \n",
    "print(is_power_of_three(0))   \n",
    "print(is_power_of_three(-1))  "
   ]
  },
  {
   "cell_type": "markdown",
   "id": "6a88211e",
   "metadata": {},
   "source": [
    "# Question 2"
   ]
  },
  {
   "cell_type": "markdown",
   "id": "6a4cbf56",
   "metadata": {},
   "source": [
    "# You have a list `arr` of all integers in the range `[1, n]` sorted in a strictly increasing order. Apply the following algorithm on `arr`:\n",
    "\n",
    "- Starting from left to right, remove the first number and every other number afterward until you reach the end of the list.\n",
    "- Repeat the previous step again, but this time from right to left, remove the rightmost number and every other number from the remaining numbers.\n",
    "- Keep repeating the steps again, alternating left to right and right to left, until a single number remains.\n",
    "\n",
    "Given the integer `n`, return *the last number that remains in* `arr`.\n",
    "**Example 1:**\n",
    "Input: n = 9\n",
    "Output: 6\n",
    "Explanation:\n",
    "arr = [1, 2,3, 4,5, 6,7, 8,9]\n",
    "arr = [2,4, 6,8]\n",
    "arr = [2, 6]\n",
    "arr = [6]\n",
    "**Example 2:**\n",
    "Input: n = 1\n",
    "Output: 1"
   ]
  },
  {
   "cell_type": "markdown",
   "id": "7562e759",
   "metadata": {},
   "source": [
    "# Algorithm\n",
    "1.Initialize a list arr with integers from 1 to n.\n",
    "\n",
    "2.Initialize a boolean variable left_to_right as True.\n",
    "\n",
    "3.While the length of arr is greater than 1, perform the following steps:\n",
    "\n",
    "4.If left_to_right is True, remove every second element starting from the first element.\n",
    "\n",
    "5.If left_to_right is False, remove every second element starting from the last element.\n",
    "\n",
    "6.Toggle the value of left_to_right.\n",
    "\n",
    "7.Return the remaining element in arr."
   ]
  },
  {
   "cell_type": "code",
   "execution_count": 17,
   "id": "c34352ae",
   "metadata": {},
   "outputs": [
    {
     "name": "stdout",
     "output_type": "stream",
     "text": [
      "6\n",
      "1\n"
     ]
    }
   ],
   "source": [
    "def last_remaining(n):\n",
    "    arr = list(range(1, n + 1))\n",
    "    left_to_right = True\n",
    "\n",
    "    while len(arr) > 1:\n",
    "        if left_to_right:\n",
    "            arr = arr[1::2]\n",
    "        else:\n",
    "            arr = arr[-2::-2][::-1]\n",
    "        left_to_right = not left_to_right\n",
    "\n",
    "    return arr[0]\n",
    "print(last_remaining(9)) \n",
    "print(last_remaining(1))  "
   ]
  },
  {
   "cell_type": "markdown",
   "id": "4fc159b5",
   "metadata": {},
   "source": [
    "# Question 3"
   ]
  },
  {
   "cell_type": "markdown",
   "id": "148e211d",
   "metadata": {},
   "source": [
    "# Given a set represented as a string, write a recursive code to print all subsets of it. The subsets can be printed in any order.\n",
    "\n",
    "**Example 1:**\n",
    "\n",
    "Input :  set = “abc”\n",
    "\n",
    "Output : { “”, “a”, “b”, “c”, “ab”, “ac”, “bc”, “abc”}\n",
    "\n",
    "**Example 2:**\n",
    "\n",
    "Input : set = “abcd”\n",
    "\n",
    "Output : { “”, “a” ,”ab” ,”abc” ,”abcd”, “abd” ,”ac” ,”acd”, “ad” ,”b”, “bc” ,”bcd” ,”bd” ,”c” ,”cd” ,”d” }"
   ]
  },
  {
   "cell_type": "markdown",
   "id": "24ed6cb3",
   "metadata": {},
   "source": [
    "# Algorithm\n",
    "1.Define a recursive function backtrack(start, subset):\n",
    "\n",
    "2.Append subset to the result list.\n",
    "\n",
    "3.Iterate i over the range start to the length of the set:\n",
    "\n",
    "4.Call backtrack(i + 1, subset + s[i]) recursively, where s is the input string.\n",
    "\n",
    "5.Initialize an empty list result to store the subsets.\n",
    "\n",
    "6.Call the backtrack function with arguments start = 0 and subset = ''.\n",
    "\n",
    "7.Return the result list.\n",
    "\n",
    "8.Test the function with the given examples by calling subsets(\"abc\") and subsets(\"abcd\")"
   ]
  },
  {
   "cell_type": "code",
   "execution_count": 21,
   "id": "2a188f23",
   "metadata": {},
   "outputs": [
    {
     "name": "stdout",
     "output_type": "stream",
     "text": [
      "['', 'a', 'ab', 'abc', 'ac', 'b', 'bc', 'c']\n",
      "['', 'a', 'ab', 'abc', 'abcd', 'abd', 'ac', 'acd', 'ad', 'b', 'bc', 'bcd', 'bd', 'c', 'cd', 'd']\n"
     ]
    }
   ],
   "source": [
    "def subsets(s):\n",
    "    def backtrack(start, subset):\n",
    "        result.append(subset)\n",
    "        for i in range(start, len(s)):\n",
    "            backtrack(i + 1, subset + s[i])\n",
    "\n",
    "    result = []\n",
    "    backtrack(0, '')\n",
    "    return result\n",
    "\n",
    "# Test the function with the given examples\n",
    "print(subsets(\"abc\"))  # Output: [\"\", \"a\", \"b\", \"c\", \"ab\", \"ac\", \"bc\", \"abc\"]\n",
    "print(subsets(\"abcd\"))  # Output: [\"\", \"a\", \"ab\", \"abc\", \"abcd\", \"abd\", \"ac\", \"acd\", \"ad\", \"b\", \"bc\", \"bcd\", \"bd\", \"c\", \"cd\", \"d\"]\n"
   ]
  },
  {
   "cell_type": "markdown",
   "id": "f3368ee5",
   "metadata": {},
   "source": [
    "# Question 4"
   ]
  },
  {
   "cell_type": "markdown",
   "id": "8c80b399",
   "metadata": {},
   "source": [
    "# Given a string calculate length of the string using recursion.\n",
    "\n",
    "**Examples:**\n",
    "Input : str = \"abcd\"\n",
    "Output :4\n",
    "\n",
    "Input : str = \"GEEKSFORGEEKS\"\n",
    "Output :13"
   ]
  },
  {
   "cell_type": "markdown",
   "id": "e154b5f2",
   "metadata": {},
   "source": [
    "# Algorithm\n",
    "1.Define a recursive function calculateLength(str):\n",
    "\n",
    "2.If the string str is empty, return 0.\n",
    "        \n",
    "3.Otherwise, return 1 + calculateLength(str[1:]), where str[1:] represents the substring of str excluding the first character.\n",
    "\n",
    "4.Call the calculateLength function with the input string.\n",
    "\n",
    "5.The returned value from the function will be the length of the string."
   ]
  },
  {
   "cell_type": "code",
   "execution_count": 25,
   "id": "a40f2541",
   "metadata": {},
   "outputs": [
    {
     "name": "stdout",
     "output_type": "stream",
     "text": [
      "4\n",
      "13\n"
     ]
    }
   ],
   "source": [
    "def calculateLength(str):\n",
    "    if str == \"\":\n",
    "        return 0\n",
    "    else:\n",
    "        return 1 + calculateLength(str[1:])\n",
    "\n",
    "# Test the function\n",
    "print(calculateLength(\"abcd\"))  # Output: 4\n",
    "print(calculateLength(\"GEEKSFORGEEKS\"))  # Output: 13"
   ]
  },
  {
   "cell_type": "markdown",
   "id": "12e13bb5",
   "metadata": {},
   "source": [
    "# Question 5"
   ]
  },
  {
   "cell_type": "markdown",
   "id": "8e6209c8",
   "metadata": {},
   "source": [
    "# We are given a string S, we need to find count of all contiguous substrings starting and ending with same character.\n",
    "\n",
    "**Examples :**\n",
    "Input  : S = \"abcab\"\n",
    "Output : 7\n",
    "There are 15 substrings of \"abcab\"\n",
    "a, ab, abc, abca, abcab, b, bc, bca\n",
    "bcab, c, ca, cab, a, ab, b\n",
    "Out of the above substrings, there\n",
    "are 7 substrings : a, abca, b, bcab,\n",
    "c, a and b.\n",
    "Input  : S = \"aba\"\n",
    "Output : 4\n",
    "The substrings are a, b, a and aba"
   ]
  },
  {
   "cell_type": "markdown",
   "id": "797783b5",
   "metadata": {},
   "source": [
    "# Algorithm\n",
    "1.Initialize a variable count to 0, which will store the count of valid substrings.\n",
    "\n",
    "2.Iterate over each character in the given string S:\n",
    "        \n",
    "3.For each character at index i, increment the count by 1.\n",
    "        \n",
    "4.Check for contiguous substrings starting from index i:\n",
    "            \n",
    "5.Start a nested loop to iterate over the characters from index i+1 to the end of the string.\n",
    "            \n",
    "6.For each index j in the nested loop, check if the character at index j is equal to the character at index i.\n",
    "            \n",
    "7.If the characters are equal, increment the count by 1.\n",
    "\n",
    "8.After the loops, the variable count will contain the count of all contiguous substrings starting and ending with the same character."
   ]
  },
  {
   "cell_type": "code",
   "execution_count": 29,
   "id": "717cdc09",
   "metadata": {},
   "outputs": [
    {
     "name": "stdout",
     "output_type": "stream",
     "text": [
      "7\n",
      "4\n"
     ]
    }
   ],
   "source": [
    "def countContiguousSubstrings(S):\n",
    "    count = 0\n",
    "    for i in range(len(S)):\n",
    "        count += 1\n",
    "        for j in range(i + 1, len(S)):\n",
    "            if S[j] == S[i]:\n",
    "                count += 1\n",
    "    return count\n",
    "\n",
    "# Test the function\n",
    "print(countContiguousSubstrings(\"abcab\"))  # Output: 7\n",
    "print(countContiguousSubstrings(\"aba\"))  # Output: 4\n"
   ]
  },
  {
   "cell_type": "markdown",
   "id": "f8d7e2a2",
   "metadata": {},
   "source": [
    "# Question 6"
   ]
  },
  {
   "cell_type": "markdown",
   "id": "227375ce",
   "metadata": {},
   "source": [
    "# The [tower of Hanoi](https://en.wikipedia.org/wiki/Tower_of_Hanoi) is a famous puzzle where we have three rods \n",
    "and **N** disks. The objective of the puzzle is to move the entire stack to another rod. \n",
    "You are given the number of discs **N**. Initially, these discs are in the rod 1. \n",
    "You need to print all the steps of discs movement so that all the discs reach the 3rd rod. \n",
    "Also, you need to find the total moves.**Note:** The discs are arranged such that the **top disc is numbered 1** and the **bottom-most disc is numbered N**. \n",
    "Also, all the discs have **different sizes** and a bigger disc **cannot** be put on the top of a smaller disc. \n",
    "Refer the provided link to get a better clarity about the puzzle.\n",
    "**Example 1:**\n",
    "Input:\n",
    "N = 2\n",
    "Output:\n",
    "move disk 1 from rod 1 to rod 2\n",
    "move disk 2 from rod 1 to rod 3\n",
    "move disk 1 from rod 2 to rod 3\n",
    "3\n",
    "Explanation:For N=2 , steps will be\n",
    "as follows in the example and total\n",
    "3 steps will be taken.\n",
    "**Example 2:**\n",
    "Input:\n",
    "N = 3\n",
    "Output:\n",
    "move disk 1 from rod 1 to rod 3\n",
    "move disk 2 from rod 1 to rod 2\n",
    "move disk 1 from rod 3 to rod 2\n",
    "move disk 3 from rod 1 to rod 3\n",
    "move disk 1 from rod 2 to rod 1\n",
    "move disk 2 from rod 2 to rod 3\n",
    "move disk 1 from rod 1 to rod 3\n",
    "7\n",
    "Explanation:For N=3 , steps will be\n",
    "as follows in the example and total\n",
    "7 steps will be taken.\n"
   ]
  },
  {
   "cell_type": "markdown",
   "id": "7c5bd88e",
   "metadata": {},
   "source": [
    "# Algorithm\n",
    "1.Define a function towerOfHanoi that takes four parameters: N (number of discs), source (source rod), destination (destination rod), and auxiliary (auxiliary rod).\n",
    "\n",
    "2.Check the base case:\n",
    "\n",
    "3.If N == 1, move the disc from the source rod to the destination rod, and print the step.\n",
    "\n",
    "4.Recursively solve the Tower of Hanoi problem for N-1 discs:\n",
    "        \n",
    "5.Move N-1 discs from the source rod to the auxiliary rod using the destination rod as the auxiliary rod.\n",
    "\n",
    "6.Move the Nth disc from the source rod to the destination rod, and print the step.\n",
    "\n",
    "7.Recursively solve the Tower of Hanoi problem for N-1 discs:\n",
    "        \n",
    "8.Move N-1 discs from the auxiliary rod to the destination rod using the source rod as the auxiliary rod.\n",
    "\n",
    "9.The function towerOfHanoi will call itself recursively with updated parameters until the base case is reached.\n",
    "\n",
    "10.Print the total moves as the count of steps performed."
   ]
  },
  {
   "cell_type": "code",
   "execution_count": 32,
   "id": "b0600d82",
   "metadata": {},
   "outputs": [
    {
     "name": "stdout",
     "output_type": "stream",
     "text": [
      "move disk 1 from rod 1 to rod 2\n",
      "move disk 2 from rod 1 to rod 3\n",
      "move disk 1 from rod 2 to rod 3\n",
      "Total moves: 3\n",
      "move disk 1 from rod 1 to rod 3\n",
      "move disk 2 from rod 1 to rod 2\n",
      "move disk 1 from rod 3 to rod 2\n",
      "move disk 3 from rod 1 to rod 3\n",
      "move disk 1 from rod 2 to rod 1\n",
      "move disk 2 from rod 2 to rod 3\n",
      "move disk 1 from rod 1 to rod 3\n",
      "Total moves: 7\n"
     ]
    }
   ],
   "source": [
    "def towerOfHanoi(N, source, destination, auxiliary):\n",
    "    if N == 1:\n",
    "        print(\"move disk 1 from rod\", source, \"to rod\", destination)\n",
    "        return 1\n",
    "    \n",
    "    moves = towerOfHanoi(N - 1, source, auxiliary, destination)\n",
    "    print(\"move disk\", N, \"from rod\", source, \"to rod\", destination)\n",
    "    moves += 1\n",
    "    moves += towerOfHanoi(N - 1, auxiliary, destination, source)\n",
    "    \n",
    "    return moves\n",
    "\n",
    "# Test the function\n",
    "N = 2\n",
    "total_moves = towerOfHanoi(N, 1, 3, 2)\n",
    "print(\"Total moves:\", total_moves)\n",
    "\n",
    "N = 3\n",
    "total_moves = towerOfHanoi(N, 1, 3, 2)\n",
    "print(\"Total moves:\", total_moves)\n"
   ]
  },
  {
   "cell_type": "markdown",
   "id": "9288f000",
   "metadata": {},
   "source": [
    "# Question 7"
   ]
  },
  {
   "cell_type": "markdown",
   "id": "65afa0f1",
   "metadata": {},
   "source": [
    "# Given a string **str**, the task is to print all the permutations of **str**. \n",
    "A **permutation** is an arrangement of all or part of a set of objects, with regard to the order of the arrangement. \n",
    "For instance, the words ‘bat’ and ‘tab’ represents two distinct permutation (or arrangements) of a similar three letter word.\n",
    "Examples:\n",
    "Input: str = “cd”\n",
    "**Output:** cd dc\n",
    "**Input:** str = “abb”\n",
    "**Output:** abb abb bab bba bab bba"
   ]
  },
  {
   "cell_type": "markdown",
   "id": "a0b8f5d3",
   "metadata": {},
   "source": [
    "# Algorithm    \n",
    "1.Define a recursive function permute that takes three parameters: str (the input string), l (the left index of the substring), and r (the right index of the substring).\n",
    "\n",
    "2.Check the base case:\n",
    "        \n",
    "3.If l == r, it means we have reached the end of the substring, so print the string.\n",
    "\n",
    "4.For each character at index i in the substring (i ranging from l to r):\n",
    "       \n",
    "5.Swap the characters at indices l and i.\n",
    "        \n",
    "6.Recursively call permute with l+1 as the new left index.\n",
    "\n",
    "7.Undo the swap to restore the original string."
   ]
  },
  {
   "cell_type": "code",
   "execution_count": 36,
   "id": "bda97878",
   "metadata": {},
   "outputs": [
    {
     "name": "stdout",
     "output_type": "stream",
     "text": [
      "cd\n",
      "dc\n",
      "abb\n",
      "abb\n",
      "bab\n",
      "bba\n",
      "bba\n",
      "bab\n"
     ]
    }
   ],
   "source": [
    "def permute(str, l, r):\n",
    "    if l == r:\n",
    "        print(''.join(str))\n",
    "    else:\n",
    "        for i in range(l, r+1):\n",
    "            str[l], str[i] = str[i], str[l]\n",
    "            permute(str, l+1, r)\n",
    "            str[l], str[i] = str[i], str[l]  # Undo the swap\n",
    "\n",
    "# Test the function\n",
    "str = \"cd\"\n",
    "permute(list(str), 0, len(str)-1)\n",
    "\n",
    "str = \"abb\"\n",
    "permute(list(str), 0, len(str)-1)"
   ]
  },
  {
   "cell_type": "markdown",
   "id": "116cdeeb",
   "metadata": {},
   "source": [
    "# Question 8"
   ]
  },
  {
   "cell_type": "markdown",
   "id": "3eeb614b",
   "metadata": {},
   "source": [
    "# Given a string, count total number of consonants in it. A consonant is an English alphabet character that is not vowel (a, e, i, o and u). Examples of constants are b, c, d, f, and g.\n",
    "\n",
    "**Examples :**\n",
    "Input : abc de\n",
    "Output : 3\n",
    "There are three consonants b, c and d.\n",
    "\n",
    "Input : geeksforgeeks portal\n",
    "Output : 12"
   ]
  },
  {
   "cell_type": "markdown",
   "id": "2e4b8bca",
   "metadata": {},
   "source": [
    "# Algorithm\n",
    "1.Initialize a variable count to 0 to keep track of the number of consonants.\n",
    "\n",
    "2.Convert the input string to lowercase to handle both uppercase and lowercase consonants uniformly.\n",
    "\n",
    "3.Iterate through each character ch in the string:\n",
    "\n",
    "4.Check if ch is an alphabet and not a vowel (i.e., it is not one of 'a', 'e', 'i', 'o', 'u').\n",
    "    \n",
    "5.If the above condition is true, increment count by 1.\n",
    "\n",
    "6.Return the value of count as the total number of consonants in the string"
   ]
  },
  {
   "cell_type": "code",
   "execution_count": 41,
   "id": "415dfddc",
   "metadata": {},
   "outputs": [
    {
     "name": "stdout",
     "output_type": "stream",
     "text": [
      "3\n",
      "12\n"
     ]
    }
   ],
   "source": [
    "def count_consonants(s):\n",
    "    vowels = ['a', 'e', 'i', 'o', 'u']\n",
    "    count = 0\n",
    "    for ch in s.lower():\n",
    "        if ch.isalpha() and ch not in vowels:\n",
    "            count += 1\n",
    "    return count\n",
    "\n",
    "# Test the function\n",
    "s = \"abc de\"\n",
    "print(count_consonants(s))  # Output: 3\n",
    "\n",
    "s = \"geeksforgeeks portal\"\n",
    "print(count_consonants(s))  # Output: 12\n"
   ]
  },
  {
   "cell_type": "markdown",
   "id": "66738416",
   "metadata": {},
   "source": [
    "# "
   ]
  },
  {
   "cell_type": "code",
   "execution_count": null,
   "id": "696b74a6",
   "metadata": {},
   "outputs": [],
   "source": []
  }
 ],
 "metadata": {
  "kernelspec": {
   "display_name": "Python 3 (ipykernel)",
   "language": "python",
   "name": "python3"
  },
  "language_info": {
   "codemirror_mode": {
    "name": "ipython",
    "version": 3
   },
   "file_extension": ".py",
   "mimetype": "text/x-python",
   "name": "python",
   "nbconvert_exporter": "python",
   "pygments_lexer": "ipython3",
   "version": "3.9.7"
  }
 },
 "nbformat": 4,
 "nbformat_minor": 5
}
