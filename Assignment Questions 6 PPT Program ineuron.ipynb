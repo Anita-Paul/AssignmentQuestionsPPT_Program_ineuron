{
 "cells": [
  {
   "cell_type": "markdown",
   "id": "a8815481",
   "metadata": {},
   "source": [
    "# Question 1"
   ]
  },
  {
   "cell_type": "markdown",
   "id": "233344c6",
   "metadata": {},
   "source": [
    "# A permutation perm of n + 1 integers of all the integers in the range [0, n] can be represented as a string s of length n where:\n",
    "s[i] == 'I' if perm[i] < perm[i + 1], and\n",
    "s[i] == 'D' if perm[i] > perm[i + 1].\n",
    "Given a string s, reconstruct the permutation perm and return it. If there are multiple valid permutations perm, return any of them.\n",
    "Example 1:\n",
    "Input: s = \"IDID\"\n",
    "Output:[0,4,1,3,2]"
   ]
  },
  {
   "cell_type": "markdown",
   "id": "a166218b",
   "metadata": {},
   "source": [
    "# Algorithm\n",
    "1.Initialize an empty list perm to store the reconstructed permutation.\n",
    "2.Initialize a variable n to the length of s.\n",
    "3.Initialize two variables low and high to 0 and n respectively.\n",
    "4.Iterate over each character ch in the string s.\n",
    "    If ch is 'I':\n",
    "        Append low to perm.\n",
    "        Increment low by 1.\n",
    "    If ch is 'D':\n",
    "        Append high to perm.\n",
    "        Decrement high by 1.\n",
    "5.Append either low or high to perm. Both values will be equal at this point.\n",
    "6.Return the reconstructed permutation perm."
   ]
  },
  {
   "cell_type": "code",
   "execution_count": 4,
   "id": "e6bda820",
   "metadata": {},
   "outputs": [],
   "source": [
    "def reconstructPermutation(s):\n",
    "    n = len(s)\n",
    "    perm = []\n",
    "    low, high = 0, n\n",
    "    for ch in s:\n",
    "        if ch == 'I':\n",
    "            perm.append(low)\n",
    "            low += 1\n",
    "        elif ch == 'D':\n",
    "            perm.append(high)\n",
    "            high -= 1  \n",
    "    perm.append(low)  # or perm.append(high)\n",
    "    return perm"
   ]
  },
  {
   "cell_type": "code",
   "execution_count": 5,
   "id": "75855432",
   "metadata": {},
   "outputs": [
    {
     "name": "stdout",
     "output_type": "stream",
     "text": [
      "[0, 4, 1, 3, 2]\n"
     ]
    }
   ],
   "source": [
    "s = \"IDID\"\n",
    "reconstructed_permutation = reconstructPermutation(s)\n",
    "print(reconstructed_permutation)"
   ]
  },
  {
   "cell_type": "markdown",
   "id": "a9c3d88a",
   "metadata": {},
   "source": [
    "# Question 2"
   ]
  },
  {
   "cell_type": "markdown",
   "id": "030eec3d",
   "metadata": {},
   "source": [
    "# You are given an m x n integer matrix matrix with the following two properties:\n",
    "Each row is sorted in non-decreasing order.\n",
    "The first integer of each row is greater than the last integer of the previous row.\n",
    "Given an integer target, return true if target is in matrix or false otherwise.\n",
    "You must write a solution in O(log(m * n)) time complexity.\n",
    "Input: matrix = [[1,3,5,7],[10,11,16,20],[23,30,34,60]], target = 3\n",
    "Output: true"
   ]
  },
  {
   "cell_type": "markdown",
   "id": "cb37be64",
   "metadata": {},
   "source": [
    "# Algorithm\n",
    "   1. Initialize variables m and n to the number of rows and columns in the matrix, respectively.\n",
    "    2.Initialize variables left and right to 0 and m * n - 1 respectively, representing the left and right boundaries of the search range.\n",
    "    3.Perform binary search while left is less than or equal to right:\n",
    "    4.Calculate the middle index mid as (left + right) // 2.\n",
    "    5.Convert the middle index mid back to matrix indices using division and modulo operations:\n",
    "    6.Calculate the row index row as mid // n.\n",
    "    7.Calculate the column index col as mid % n.\n",
    "    8.Compare the matrix value at matrix[row][col] with the target:\n",
    "            If matrix[row][col] is equal to the target, return True.\n",
    "            If matrix[row][col] is less than the target, update left to mid + 1.\n",
    "            If matrix[row][col] is greater than the target, update right to mid - 1.\n",
    "    9.If the target is not found during the binary search, return False."
   ]
  },
  {
   "cell_type": "code",
   "execution_count": 9,
   "id": "b73e4d12",
   "metadata": {},
   "outputs": [],
   "source": [
    "def searchMatrix(matrix, target):\n",
    "    m, n = len(matrix), len(matrix[0])\n",
    "    left, right = 0, m * n - 1\n",
    "\n",
    "    while left <= right:\n",
    "        mid = (left + right) // 2\n",
    "        row = mid // n\n",
    "        col = mid % n\n",
    "        if matrix[row][col] == target:\n",
    "            return True\n",
    "        elif matrix[row][col] < target:\n",
    "            left = mid + 1\n",
    "        else:\n",
    "            right = mid - 1\n",
    "    \n",
    "    return False"
   ]
  },
  {
   "cell_type": "code",
   "execution_count": 10,
   "id": "b244faf4",
   "metadata": {},
   "outputs": [
    {
     "name": "stdout",
     "output_type": "stream",
     "text": [
      "True\n"
     ]
    }
   ],
   "source": [
    "matrix = [[1, 3, 5, 7], [10, 11, 16, 20], [23, 30, 34, 60]]\n",
    "target = 3\n",
    "result = searchMatrix(matrix, target)\n",
    "print(result)"
   ]
  },
  {
   "cell_type": "markdown",
   "id": "8ff21f9d",
   "metadata": {},
   "source": [
    "# Question 3"
   ]
  },
  {
   "cell_type": "markdown",
   "id": "84e10fbf",
   "metadata": {},
   "source": [
    "# Given an array of integers arr, return true if and only if it is a valid mountain array.\n",
    "Recall that arr is a mountain array if and only if:\n",
    "arr.length >= 3\n",
    "There exists some i with 0 < i < arr.length - 1 such that:\n",
    "arr[0] < arr[1] < ... < arr[i - 1] < arr[i]\n",
    "arr[i] > arr[i + 1] > ... > arr[arr.length - 1]\n",
    "Example 1:\n",
    "Input: arr = [2,1]\n",
    "Output: false"
   ]
  },
  {
   "cell_type": "markdown",
   "id": "dbeee7c2",
   "metadata": {},
   "source": [
    "# Algorithm\n",
    "1.Check if the length of arr is less than 3. If so, return False.\n",
    "2.Initialize a variable i to 0.\n",
    "3.Iterate while i is less than n - 1 and arr[i] < arr[i + 1]. This step checks for the increasing part of the array.\n",
    "    If the condition is not met, break the loop.\n",
    "    Increment i by 1 in each iteration.\n",
    "4.Check if i is either 0 or n - 1. If so, return False since there is no peak in the array.\n",
    "5.Iterate while i is less than n - 1 and arr[i] > arr[i + 1]. This step checks for the decreasing part of the array.\n",
    "    If the condition is not met, break the loop.\n",
    "    Increment i by 1 in each iteration.\n",
    "6.Check if i is equal to n - 1. If so, return True since the array is a valid mountain array.\n",
    "7.Otherwise, return False."
   ]
  },
  {
   "cell_type": "code",
   "execution_count": 14,
   "id": "4b9d483c",
   "metadata": {},
   "outputs": [],
   "source": [
    "def validMountainArray(arr):\n",
    "    n = len(arr)\n",
    "    \n",
    "    if n < 3:\n",
    "        return False\n",
    "    \n",
    "    i = 0\n",
    "    while i < n - 1 and arr[i] < arr[i + 1]:\n",
    "        i += 1\n",
    "    \n",
    "    if i == 0 or i == n - 1:\n",
    "        return False\n",
    "    \n",
    "    while i < n - 1 and arr[i] > arr[i + 1]:\n",
    "        i += 1\n",
    "    \n",
    "    return i == n - 1"
   ]
  },
  {
   "cell_type": "code",
   "execution_count": 15,
   "id": "845dacb5",
   "metadata": {},
   "outputs": [
    {
     "name": "stdout",
     "output_type": "stream",
     "text": [
      "False\n"
     ]
    }
   ],
   "source": [
    "arr = [2, 1]\n",
    "result = validMountainArray(arr)\n",
    "print(result)"
   ]
  },
  {
   "cell_type": "markdown",
   "id": "01111f89",
   "metadata": {},
   "source": [
    "# Question 4"
   ]
  },
  {
   "cell_type": "markdown",
   "id": "60f858ca",
   "metadata": {},
   "source": [
    "# Given a binary array nums, return *the maximum length of a contiguous subarray with an equal number of* 0 *and* 1.\n",
    "Example 1:\n",
    "Input: nums = [0,1]\n",
    "Output: 2\n",
    "Explanation:\n",
    "[0, 1] is the longest contiguous subarray with an equal number of 0 and 1."
   ]
  },
  {
   "cell_type": "markdown",
   "id": "c982e671",
   "metadata": {},
   "source": [
    "# Algorithm\n",
    "1.Initialize a variable max_length to 0 and a variable count to 0.\n",
    "2.Create an empty hashmap diff_count with an initial key-value pair of (0, -1). This hashmap will store the cumulative difference between the number of 0s and 1s encountered at each index.\n",
    "3.Iterate over the elements num and their indices i in the nums array.\n",
    "    If num is 0, increment count by 1.\n",
    "    If num is 1, decrement count by 1.\n",
    "    If count is not present as a key in the diff_count hashmap, add it with the value i.\n",
    "    If count is already present as a key in the diff_count hashmap, calculate the length of the subarray from the previous occurrence of count to the current index i. Update max_length if this length is greater than the current max_length.\n",
    "4.Return max_length."
   ]
  },
  {
   "cell_type": "code",
   "execution_count": 17,
   "id": "91818641",
   "metadata": {},
   "outputs": [],
   "source": [
    "def findMaxLength(nums):\n",
    "    max_length = 0\n",
    "    count = 0\n",
    "    diff_count = {0: -1}\n",
    "\n",
    "    for i, num in enumerate(nums):\n",
    "        count += 1 if num == 0 else -1\n",
    "\n",
    "        if count not in diff_count:\n",
    "            diff_count[count] = i\n",
    "        else:\n",
    "            length = i - diff_count[count]\n",
    "            max_length = max(max_length, length)\n",
    "\n",
    "    return max_length"
   ]
  },
  {
   "cell_type": "code",
   "execution_count": 18,
   "id": "018203d4",
   "metadata": {},
   "outputs": [
    {
     "name": "stdout",
     "output_type": "stream",
     "text": [
      "2\n"
     ]
    }
   ],
   "source": [
    "nums = [0, 1]\n",
    "result = findMaxLength(nums)\n",
    "print(result)"
   ]
  },
  {
   "cell_type": "markdown",
   "id": "92c69516",
   "metadata": {},
   "source": [
    "# Question 5"
   ]
  },
  {
   "cell_type": "markdown",
   "id": "60247a67",
   "metadata": {},
   "source": [
    "# The product sum of two equal-length arrays a and b is equal to the sum of a[i] * b[i] for all 0 <= i < a.length (**0-indexed**).\n",
    "- For example, if a = [1,2,3,4] and b = [5,2,3,1], the **product sum** would be 1*5 + 2*2 + 3*3 + 4*1 = 22.\n",
    "Given two arrays nums1 and nums2 of length n, return *the **minimum product sum** if you are allowed to **rearrange** the **order of the elements in* nums1.\n",
    "**Example 1:**\n",
    "**Input: nums1 = [5,3,4,2], nums2 = [4,2,2,5]\n",
    "**Output: 40\n",
    "**Explanation:**\n",
    "We can rearrange nums1 to become [3,5,4,2]. The product sum of [3,5,4,2] and [4,2,2,5] is 3*4 + 5*2 + 4*2 + 2*5 = 40."
   ]
  },
  {
   "cell_type": "markdown",
   "id": "e250f0a4",
   "metadata": {},
   "source": [
    "# Algorithm\n",
    "1.Sort nums1 in non-decreasing order.\n",
    "2.Sort nums2 in non-increasing order.\n",
    "3.Initialize a variable min_product_sum to 0.\n",
    "4.Iterate over the elements num1 and num2 in nums1 and nums2 respectively.\n",
    "    Multiply num1 with num2.\n",
    "    Add the product to min_product_sum.\n",
    "5.Return min_product_sum"
   ]
  },
  {
   "cell_type": "code",
   "execution_count": 19,
   "id": "527aeec1",
   "metadata": {},
   "outputs": [],
   "source": [
    "def minProductSum(nums1, nums2):\n",
    "    nums1.sort()\n",
    "    nums2.sort(reverse=True)\n",
    "    \n",
    "    min_product_sum = 0\n",
    "    for num1, num2 in zip(nums1, nums2):\n",
    "        min_product_sum += num1 * num2\n",
    "    \n",
    "    return min_product_sum"
   ]
  },
  {
   "cell_type": "code",
   "execution_count": 20,
   "id": "40480dc5",
   "metadata": {},
   "outputs": [
    {
     "name": "stdout",
     "output_type": "stream",
     "text": [
      "40\n"
     ]
    }
   ],
   "source": [
    "nums1 = [5, 3, 4, 2]\n",
    "nums2 = [4, 2, 2, 5]\n",
    "result = minProductSum(nums1, nums2)\n",
    "print(result)"
   ]
  },
  {
   "cell_type": "markdown",
   "id": "2e5ce920",
   "metadata": {},
   "source": [
    "# Question 6"
   ]
  },
  {
   "cell_type": "markdown",
   "id": "89c3e3f0",
   "metadata": {},
   "source": [
    "# An integer array original is transformed into a **doubled** array changed by appending **twice the value** of every element in original, and then randomly **shuffling** the resulting array.\n",
    "Given an array changed, return original *if* changed *is a **doubled** array. If* changed *is not a **doubled** array, return an empty array. The elements in* original *may be returned in **any** order*.\n",
    "Example 1:\n",
    "Input: changed = [1,3,4,2,6,8]\n",
    "Output:[1,3,4]\n",
    "Explanation: One possible original array could be [1,3,4]:\n",
    "- Twice the value of 1 is 1 * 2 = 2.\n",
    "- Twice the value of 3 is 3 * 2 = 6.\n",
    "- Twice the value of 4 is 4 * 2 = 8.\n",
    "Other original arrays could be [4,3,1] or [3,1,4]."
   ]
  },
  {
   "cell_type": "markdown",
   "id": "22a3a278",
   "metadata": {},
   "source": [
    "# Algorithm\n",
    "1.Create a copy of the changed array and sort it in non-decreasing order. Let's call it sorted_changed.\n",
    "2.Create an empty dictionary called count.\n",
    "3.Iterate over each element num in sorted_changed.\n",
    "        If num is not in the count dictionary, add it with a value of 1.\n",
    "        If num is already in the count dictionary, increment its value by 1.\n",
    "4.Iterate over each element num in sorted_changed again.\n",
    "        If num is positive and num * 2 is in the count dictionary and its value is greater than 0, decrement its value by 1.\n",
    "        Otherwise, return an empty array.\n",
    "5.Create an empty list called original.\n",
    "6.Iterate over each element num in changed.\n",
    "        If num is in the count dictionary and its value is greater than 0, append num to original and decrement its value by 1.\n",
    "        If num is not in the count dictionary or its value is 0, return an empty array.\n",
    "7.Return the original list."
   ]
  },
  {
   "cell_type": "code",
   "execution_count": 30,
   "id": "041116ff",
   "metadata": {},
   "outputs": [],
   "source": [
    "def findOriginalArray(changed):\n",
    "    sorted_changed = sorted(changed)\n",
    "    count = {}\n",
    "    \n",
    "    for num in sorted_changed:\n",
    "        if num not in count:\n",
    "            count[num] = 1\n",
    "        else:\n",
    "            count[num] += 1\n",
    "    \n",
    "    original = []\n",
    "    for num in sorted_changed:\n",
    "        if num % 2 == 0 and count.get(num // 2, 0) > 0 and count.get(num, 0) > 0:\n",
    "            original.append(num // 2)\n",
    "            count[num // 2] -= 1\n",
    "            count[num] -= 1\n",
    "    \n",
    "    if len(original) != len(changed) // 2:\n",
    "        return []\n",
    "    \n",
    "    return original"
   ]
  },
  {
   "cell_type": "code",
   "execution_count": 31,
   "id": "501c852a",
   "metadata": {},
   "outputs": [
    {
     "name": "stdout",
     "output_type": "stream",
     "text": [
      "[1, 3, 4]\n"
     ]
    }
   ],
   "source": [
    "changed = [1, 3, 4, 2, 6, 8]\n",
    "result = findOriginalArray(changed)\n",
    "print(result)"
   ]
  },
  {
   "cell_type": "markdown",
   "id": "eee66331",
   "metadata": {},
   "source": [
    "# Question 7"
   ]
  },
  {
   "cell_type": "markdown",
   "id": "62088e88",
   "metadata": {},
   "source": [
    "# Given a positive integer n, generate an n x n matrix filled with elements from 1 to n2 in spiral order.\n",
    "Example 1:\n",
    "Input: n = 3\n",
    "Output: [[1,2,3],[8,9,4],[7,6,5]]"
   ]
  },
  {
   "cell_type": "markdown",
   "id": "86a0bdd7",
   "metadata": {},
   "source": [
    "# Algorithm\n",
    "  1.Create an empty matrix of size n x n filled with zeros.\n",
    "  2.Initialize variables:\n",
    "        num as 1, which represents the current number to be filled in the matrix.\n",
    "        row_start as 0, which represents the starting row index.\n",
    "        row_end as n - 1, which represents the ending row index.\n",
    "        col_start as 0, which represents the starting column index.\n",
    "        col_end as n - 1, which represents the ending column index.\n",
    "   3.Use a while loop with the condition num <= n * n.\n",
    "    4.Fill the top row from col_start to col_end with the numbers num to num + (col_end - col_start).\n",
    "        Increment num by col_end - col_start + 1.\n",
    "        Increment row_start by 1 to move to the next row.\n",
    "    5.Fill the right column from row_start to row_end with the numbers num to num + (row_end - row_start).\n",
    "        Increment num by row_end - row_start + 1.\n",
    "        Decrement col_end by 1 to move to the previous column.\n",
    "    6.Fill the bottom row from col_end to col_start with the numbers num to num - (col_end - col_start).\n",
    "        Increment num by col_start - col_end - 1.\n",
    "        Decrement row_end by 1 to move to the previous row.\n",
    "   7.Fill the left column from row_end to row_start with the numbers num to num - (row_end - row_start).\n",
    "        Increment num by row_start - row_end - 1.\n",
    "        Increment col_start by 1 to move to the next column.\n",
    "    8.After the while loop ends, return the generated matrix."
   ]
  },
  {
   "cell_type": "code",
   "execution_count": 32,
   "id": "96e4ead6",
   "metadata": {},
   "outputs": [],
   "source": [
    "def generateMatrix(n):\n",
    "    matrix = [[0] * n for _ in range(n)]\n",
    "    num = 1\n",
    "    row_start, row_end = 0, n - 1\n",
    "    col_start, col_end = 0, n - 1\n",
    "    \n",
    "    while num <= n * n:\n",
    "        for i in range(col_start, col_end + 1):\n",
    "            matrix[row_start][i] = num\n",
    "            num += 1\n",
    "        row_start += 1\n",
    "        \n",
    "        for i in range(row_start, row_end + 1):\n",
    "            matrix[i][col_end] = num\n",
    "            num += 1\n",
    "        col_end -= 1\n",
    "        \n",
    "        for i in range(col_end, col_start - 1, -1):\n",
    "            matrix[row_end][i] = num\n",
    "            num += 1\n",
    "        row_end -= 1\n",
    "        \n",
    "        for i in range(row_end, row_start - 1, -1):\n",
    "            matrix[i][col_start] = num\n",
    "            num += 1\n",
    "        col_start += 1\n",
    "    \n",
    "    return matrix"
   ]
  },
  {
   "cell_type": "code",
   "execution_count": 33,
   "id": "f3e64e98",
   "metadata": {},
   "outputs": [
    {
     "name": "stdout",
     "output_type": "stream",
     "text": [
      "[[1, 2, 3], [8, 9, 4], [7, 6, 5]]\n"
     ]
    }
   ],
   "source": [
    "n = 3\n",
    "result = generateMatrix(n)\n",
    "print(result)"
   ]
  },
  {
   "cell_type": "markdown",
   "id": "83003781",
   "metadata": {},
   "source": [
    "# Question 8"
   ]
  },
  {
   "cell_type": "markdown",
   "id": "fae0ef0a",
   "metadata": {},
   "source": [
    "# Given two [sparse matrices](https://en.wikipedia.org/wiki/Sparse_matrix) mat1 of size m x k and mat2 of size k x n, return the result of mat1 x mat2. You may assume that multiplication is always possible.\n",
    "Example 1:\n",
    "Input: mat1 = [[1,0,0],[-1,0,3]], mat2 = [[7,0,0],[0,0,0],[0,0,1]]\n",
    "Output:[[7,0,0],[-7,0,3]]"
   ]
  },
  {
   "cell_type": "markdown",
   "id": "d8a2ef56",
   "metadata": {},
   "source": [
    "# Algorithm\n",
    "1.Initialize variables m, k, and n to store the dimensions of the matrices.\n",
    "    m represents the number of rows in mat1.\n",
    "    k represents the number of columns in mat1 and the number of rows in mat2.\n",
    "    n represents the number of columns in mat2.\n",
    "2.Create an empty result matrix result of size m x n filled with zeros.\n",
    "3.Iterate over the rows of mat1 using index i:\n",
    "    Iterate over the columns of mat2 using index j:\n",
    "        Initialize a variable dot_product to store the dot product of the current row from mat1 and column from mat2.\n",
    "        Iterate over the range k and calculate the dot product:\n",
    "            Increment dot_product by mat1[i][p] * mat2[p][j].\n",
    "        Assign the calculated dot_product to result[i][j].\n",
    "4.Return the resulting matrix result."
   ]
  },
  {
   "cell_type": "code",
   "execution_count": 34,
   "id": "5fd82e61",
   "metadata": {},
   "outputs": [],
   "source": [
    "def multiply(mat1, mat2):\n",
    "    m = len(mat1)\n",
    "    k = len(mat1[0])\n",
    "    n = len(mat2[0])\n",
    "    result = [[0] * n for _ in range(m)]\n",
    "    \n",
    "    for i in range(m):\n",
    "        for j in range(n):\n",
    "            dot_product = 0\n",
    "            for p in range(k):\n",
    "                dot_product += mat1[i][p] * mat2[p][j]\n",
    "            result[i][j] = dot_product\n",
    "    \n",
    "    return result"
   ]
  },
  {
   "cell_type": "code",
   "execution_count": 35,
   "id": "39db2d70",
   "metadata": {},
   "outputs": [
    {
     "name": "stdout",
     "output_type": "stream",
     "text": [
      "[[7, 0, 0], [-7, 0, 3]]\n"
     ]
    }
   ],
   "source": [
    "mat1 = [[1, 0, 0], [-1, 0, 3]]\n",
    "mat2 = [[7, 0, 0], [0, 0, 0], [0, 0, 1]]\n",
    "result = multiply(mat1, mat2)\n",
    "print(result)"
   ]
  },
  {
   "cell_type": "code",
   "execution_count": null,
   "id": "9a59bcc7",
   "metadata": {},
   "outputs": [],
   "source": []
  },
  {
   "cell_type": "code",
   "execution_count": null,
   "id": "b9904635",
   "metadata": {},
   "outputs": [],
   "source": []
  }
 ],
 "metadata": {
  "kernelspec": {
   "display_name": "Python 3 (ipykernel)",
   "language": "python",
   "name": "python3"
  },
  "language_info": {
   "codemirror_mode": {
    "name": "ipython",
    "version": 3
   },
   "file_extension": ".py",
   "mimetype": "text/x-python",
   "name": "python",
   "nbconvert_exporter": "python",
   "pygments_lexer": "ipython3",
   "version": "3.9.7"
  }
 },
 "nbformat": 4,
 "nbformat_minor": 5
}
