{
 "cells": [
  {
   "cell_type": "markdown",
   "id": "f7c2d8b0",
   "metadata": {},
   "source": [
    "# Given a non-negative integer x, return the square root of x rounded down to the nearest integer. The returned integer should be non-negative as well. You must not use any built-in exponent function or operator. \n",
    "\n",
    " Example 1:\n",
    "Input: x = 4 Output: 2 Explanation: The square root of 4 is 2, so we return 2.\n",
    "\n",
    "Example 2:\n",
    "Input: x = 8 Output: 2 Explanation: The square root of 8 is 2.82842..., and since we round it down to the nearest integer, 2 is returned.\n",
    "\n",
    "Constraints:\n",
    "0 <= x <= 2^31 - 1\n"
   ]
  },
  {
   "cell_type": "markdown",
   "id": "de13d1b0",
   "metadata": {},
   "source": [
    "# Algorithm\n",
    "1.Initialize two variables, left and right, to define the search range. Set left to 0 and right to x.\n",
    "\n",
    "2.While left is less than or equal to right, do the following:\n",
    "\n",
    "a. Compute the middle element mid as the average of left and right (integer division: mid = (left + right) // 2).\n",
    "\n",
    "b. Check if the square of mid is greater than x. If it is, update right to mid - 1. Otherwise, update left to mid + 1.\n",
    "\n",
    "3.After the binary search loop, right will be the largest integer whose square is less than or equal to x. Therefore, return right as the square root of x rounded down to the nearest integer."
   ]
  },
  {
   "cell_type": "code",
   "execution_count": 3,
   "id": "98d48353",
   "metadata": {},
   "outputs": [
    {
     "name": "stdout",
     "output_type": "stream",
     "text": [
      "2\n",
      "2\n"
     ]
    }
   ],
   "source": [
    "def mySqrt(x):\n",
    "    left = 0\n",
    "    right = x\n",
    "\n",
    "    while left <= right:\n",
    "        mid = (left + right) // 2\n",
    "        if mid * mid > x:\n",
    "            right = mid - 1\n",
    "        else:\n",
    "            left = mid + 1\n",
    "\n",
    "    return right\n",
    "print(mySqrt(4))    \n",
    "print(mySqrt(8))    \n"
   ]
  },
  {
   "cell_type": "markdown",
   "id": "a294e090",
   "metadata": {},
   "source": [
    "# You are given two non-empty linked lists representing two non-negative integers. The digits are stored in reverse order, and each of their nodes contains a single digit. Add the two numbers and return the sum as a linked list.\n",
    "\n",
    "You may assume the two numbers do not contain any leading zero, except the number 0 itself.\n",
    "\n",
    "Example 1:\n",
    "\n",
    "Input: l1 = [2,4,3], l2 = [5,6,4] Output: [7,0,8] Explanation: 342 + 465 = 807.\n",
    "\n",
    "Example 2:\n",
    "\n",
    "Input: l1 = [0], l2 = [0] Output: [0]\n",
    "\n",
    "Example 3:\n",
    "\n",
    "Input: l1 = [9,9,9,9,9,9,9], l2 = [9,9,9,9] Output: [8,9,9,9,0,0,0,1]\n",
    "\n",
    " \n",
    "\n",
    "Constraints:\n",
    "\n",
    "The number of nodes in each linked list is in the range [1, 100].\n",
    "0 <= Node.val <= 9 It is guaranteed that the list represents a number that does not have leading zeros.\n",
    "\n",
    "\n"
   ]
  },
  {
   "cell_type": "markdown",
   "id": "7017803b",
   "metadata": {},
   "source": [
    "# Algorithm\n",
    "1.Initialize a variable dummyHead as a new ListNode with value 0, which will serve as the head of the resulting linked list.\n",
    "\n",
    "2.Initialize variables p and q as pointers to the head nodes of l1 and l2 respectively.\n",
    "\n",
    "3.Initialize a variable carry to 0 to keep track of the carry.\n",
    "\n",
    "4.Initialize a variable current to the dummyHead node, which will be used to build the result linked list.\n",
    "\n",
    "5.Iterate through the lists while p or q is not None or there is a carry:\n",
    "\n",
    "a. Initialize variables x and y to 0, which will store the values of the current digits from l1 and l2 respectively. If p or q is not None, assign their values to x and y respectively.\n",
    "\n",
    "b. Compute the sum sumVal of x, y, and carry.\n",
    "\n",
    "c. Update the carry by computing sumVal // 10 (integer division).\n",
    "\n",
    "d. Create a new node with the value sumVal % 10 and set it as the next node of current.\n",
    "\n",
    "e. Move current to the next node.\n",
    "\n",
    "f. If p is not None, move p to the next node.\n",
    "\n",
    "g. If q is not None, move q to the next node.\n",
    "\n",
    "6.After the iteration, if carry is greater than 0, create a new node with the value carry and set it as the next node of current.\n",
    "\n",
    "7.Return the next node of dummyHead, which will be the head of the resulting linked list."
   ]
  },
  {
   "cell_type": "code",
   "execution_count": 12,
   "id": "03b1107e",
   "metadata": {},
   "outputs": [
    {
     "name": "stdout",
     "output_type": "stream",
     "text": [
      "7 0 8 0 8 9 9 9 0 0 0 1 "
     ]
    }
   ],
   "source": [
    "class ListNode:\n",
    "    def __init__(self, val=0, next=None):\n",
    "        self.val = val\n",
    "        self.next = next\n",
    "\n",
    "def addTwoNumbers(l1, l2):\n",
    "    dummyHead = ListNode(0)\n",
    "    p = l1\n",
    "    q = l2\n",
    "    carry = 0\n",
    "    current = dummyHead\n",
    "\n",
    "    while p is not None or q is not None or carry > 0:\n",
    "        x = p.val if p is not None else 0\n",
    "        y = q.val if q is not None else 0\n",
    "        sumVal = x + y + carry\n",
    "        carry = sumVal // 10\n",
    "        current.next = ListNode(sumVal % 10)\n",
    "        current = current.next\n",
    "\n",
    "        if p is not None:\n",
    "            p = p.next\n",
    "        if q is not None:\n",
    "            q = q.next\n",
    "\n",
    "    return dummyHead.next\n",
    "\n",
    "l1 = ListNode(2, ListNode(4, ListNode(3)))\n",
    "l2 = ListNode(5, ListNode(6, ListNode(4)))\n",
    "result = addTwoNumbers(l1, l2)\n",
    "while result is not None:\n",
    "    print(result.val, end=\" \")\n",
    "    result = result.next\n",
    "\n",
    "l1 = ListNode(0)\n",
    "l2 = ListNode(0)\n",
    "result = addTwoNumbers(l1, l2)\n",
    "while result is not None:\n",
    "    print(result.val, end=\" \" )\n",
    "    result = result.next\n",
    "\n",
    "l1 = ListNode(9, ListNode(9, ListNode(9, ListNode(9, ListNode(9, ListNode(9, ListNode(9)))))))\n",
    "l2 = ListNode(9, ListNode(9, ListNode(9, ListNode(9))))\n",
    "result = addTwoNumbers(l1, l2)\n",
    "while result is not None:\n",
    "    print(result.val, end=\" \")\n",
    "    result = result.next"
   ]
  },
  {
   "cell_type": "code",
   "execution_count": null,
   "id": "e522bea5",
   "metadata": {},
   "outputs": [],
   "source": []
  }
 ],
 "metadata": {
  "kernelspec": {
   "display_name": "Python 3 (ipykernel)",
   "language": "python",
   "name": "python3"
  },
  "language_info": {
   "codemirror_mode": {
    "name": "ipython",
    "version": 3
   },
   "file_extension": ".py",
   "mimetype": "text/x-python",
   "name": "python",
   "nbconvert_exporter": "python",
   "pygments_lexer": "ipython3",
   "version": "3.9.7"
  }
 },
 "nbformat": 4,
 "nbformat_minor": 5
}
